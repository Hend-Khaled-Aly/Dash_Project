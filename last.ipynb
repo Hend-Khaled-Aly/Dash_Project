{
 "cells": [
  {
   "cell_type": "code",
   "execution_count": 36,
   "id": "4cbad762",
   "metadata": {},
   "outputs": [],
   "source": [
    "import pandas as pd\n",
    "import numpy as np\n",
    "import matplotlib.pyplot as plt\n",
    "import dash\n",
    "from dash import dcc, html, Input, Output, ctx\n",
    "import plotly.express as px\n",
    "import seaborn as sns\n",
    "import plotly.graph_objects as go\n",
    "from plotly.subplots import make_subplots\n",
    "import dash_bootstrap_components as dbc\n",
    "from sklearn.preprocessing import LabelEncoder\n",
    "from sklearn.preprocessing import OneHotEncoder, StandardScaler\n",
    "from sklearn.compose import ColumnTransformer\n",
    "from sklearn.pipeline import Pipeline\n",
    "from sklearn.ensemble import RandomForestClassifier\n",
    "from xgboost import XGBClassifier\n",
    "from tensorflow.keras.models import Sequential\n",
    "from tensorflow.keras.layers import Dense, Dropout\n",
    "from tensorflow.keras.utils import to_categorical\n",
    "from jupyter_dash import JupyterDash\n",
    "import joblib\n",
    "from dash import dcc, html, Input, Output, State, callback, ctx\n",
    "import plotly.express as px\n",
    "import pandas as pd\n",
    "import os\n",
    "from sklearn.metrics import accuracy_score, classification_report, confusion_matrix"
   ]
  },
  {
   "cell_type": "markdown",
   "id": "a3f0c55e",
   "metadata": {},
   "source": [
    "## Data Loading and Exploration"
   ]
  },
  {
   "cell_type": "code",
   "execution_count": 2,
   "id": "e5013607",
   "metadata": {},
   "outputs": [],
   "source": [
    "df = pd.read_csv(\"dataset.csv\")\n",
    "test_df = pd.read_csv(\"test.csv\", on_bad_lines='skip')\n",
    "val_df = pd.read_csv(\"val.csv\", on_bad_lines='skip')"
   ]
  },
  {
   "cell_type": "code",
   "execution_count": 3,
   "id": "b6caa397",
   "metadata": {},
   "outputs": [
    {
     "name": "stdout",
     "output_type": "stream",
     "text": [
      "Training Data:\n"
     ]
    },
    {
     "data": {
      "text/html": [
       "<div>\n",
       "<style scoped>\n",
       "    .dataframe tbody tr th:only-of-type {\n",
       "        vertical-align: middle;\n",
       "    }\n",
       "\n",
       "    .dataframe tbody tr th {\n",
       "        vertical-align: top;\n",
       "    }\n",
       "\n",
       "    .dataframe thead th {\n",
       "        text-align: right;\n",
       "    }\n",
       "</style>\n",
       "<table border=\"1\" class=\"dataframe\">\n",
       "  <thead>\n",
       "    <tr style=\"text-align: right;\">\n",
       "      <th></th>\n",
       "      <th>User_ID</th>\n",
       "      <th>Age</th>\n",
       "      <th>Gender</th>\n",
       "      <th>Platform</th>\n",
       "      <th>Daily_Usage_Time (minutes)</th>\n",
       "      <th>Posts_Per_Day</th>\n",
       "      <th>Likes_Received_Per_Day</th>\n",
       "      <th>Comments_Received_Per_Day</th>\n",
       "      <th>Messages_Sent_Per_Day</th>\n",
       "      <th>Dominant_Emotion</th>\n",
       "    </tr>\n",
       "  </thead>\n",
       "  <tbody>\n",
       "    <tr>\n",
       "      <th>0</th>\n",
       "      <td>1.0</td>\n",
       "      <td>25.0</td>\n",
       "      <td>Female</td>\n",
       "      <td>Instagram</td>\n",
       "      <td>120.0</td>\n",
       "      <td>3.0</td>\n",
       "      <td>45.0</td>\n",
       "      <td>10.0</td>\n",
       "      <td>12.0</td>\n",
       "      <td>Happiness</td>\n",
       "    </tr>\n",
       "    <tr>\n",
       "      <th>1</th>\n",
       "      <td>2.0</td>\n",
       "      <td>30.0</td>\n",
       "      <td>Male</td>\n",
       "      <td>Twitter</td>\n",
       "      <td>90.0</td>\n",
       "      <td>5.0</td>\n",
       "      <td>20.0</td>\n",
       "      <td>25.0</td>\n",
       "      <td>30.0</td>\n",
       "      <td>Anger</td>\n",
       "    </tr>\n",
       "    <tr>\n",
       "      <th>2</th>\n",
       "      <td>3.0</td>\n",
       "      <td>22.0</td>\n",
       "      <td>Non-binary</td>\n",
       "      <td>Facebook</td>\n",
       "      <td>60.0</td>\n",
       "      <td>2.0</td>\n",
       "      <td>15.0</td>\n",
       "      <td>5.0</td>\n",
       "      <td>20.0</td>\n",
       "      <td>Neutral</td>\n",
       "    </tr>\n",
       "    <tr>\n",
       "      <th>3</th>\n",
       "      <td>4.0</td>\n",
       "      <td>28.0</td>\n",
       "      <td>Female</td>\n",
       "      <td>Instagram</td>\n",
       "      <td>200.0</td>\n",
       "      <td>8.0</td>\n",
       "      <td>100.0</td>\n",
       "      <td>30.0</td>\n",
       "      <td>50.0</td>\n",
       "      <td>Anxiety</td>\n",
       "    </tr>\n",
       "    <tr>\n",
       "      <th>4</th>\n",
       "      <td>5.0</td>\n",
       "      <td>33.0</td>\n",
       "      <td>Male</td>\n",
       "      <td>LinkedIn</td>\n",
       "      <td>45.0</td>\n",
       "      <td>1.0</td>\n",
       "      <td>5.0</td>\n",
       "      <td>2.0</td>\n",
       "      <td>10.0</td>\n",
       "      <td>Boredom</td>\n",
       "    </tr>\n",
       "  </tbody>\n",
       "</table>\n",
       "</div>"
      ],
      "text/plain": [
       "   User_ID   Age      Gender   Platform  Daily_Usage_Time (minutes)  \\\n",
       "0      1.0  25.0      Female  Instagram                       120.0   \n",
       "1      2.0  30.0        Male    Twitter                        90.0   \n",
       "2      3.0  22.0  Non-binary   Facebook                        60.0   \n",
       "3      4.0  28.0      Female  Instagram                       200.0   \n",
       "4      5.0  33.0        Male   LinkedIn                        45.0   \n",
       "\n",
       "   Posts_Per_Day  Likes_Received_Per_Day  Comments_Received_Per_Day  \\\n",
       "0            3.0                    45.0                       10.0   \n",
       "1            5.0                    20.0                       25.0   \n",
       "2            2.0                    15.0                        5.0   \n",
       "3            8.0                   100.0                       30.0   \n",
       "4            1.0                     5.0                        2.0   \n",
       "\n",
       "   Messages_Sent_Per_Day Dominant_Emotion  \n",
       "0                   12.0        Happiness  \n",
       "1                   30.0            Anger  \n",
       "2                   20.0          Neutral  \n",
       "3                   50.0          Anxiety  \n",
       "4                   10.0          Boredom  "
      ]
     },
     "metadata": {},
     "output_type": "display_data"
    },
    {
     "name": "stdout",
     "output_type": "stream",
     "text": [
      "----------------------------------------------------------------------\n",
      "Testing Data:\n"
     ]
    },
    {
     "data": {
      "text/html": [
       "<div>\n",
       "<style scoped>\n",
       "    .dataframe tbody tr th:only-of-type {\n",
       "        vertical-align: middle;\n",
       "    }\n",
       "\n",
       "    .dataframe tbody tr th {\n",
       "        vertical-align: top;\n",
       "    }\n",
       "\n",
       "    .dataframe thead th {\n",
       "        text-align: right;\n",
       "    }\n",
       "</style>\n",
       "<table border=\"1\" class=\"dataframe\">\n",
       "  <thead>\n",
       "    <tr style=\"text-align: right;\">\n",
       "      <th></th>\n",
       "      <th>User_ID</th>\n",
       "      <th>Age</th>\n",
       "      <th>Gender</th>\n",
       "      <th>Platform</th>\n",
       "      <th>Daily_Usage_Time (minutes)</th>\n",
       "      <th>Posts_Per_Day</th>\n",
       "      <th>Likes_Received_Per_Day</th>\n",
       "      <th>Comments_Received_Per_Day</th>\n",
       "      <th>Messages_Sent_Per_Day</th>\n",
       "      <th>Dominant_Emotion</th>\n",
       "    </tr>\n",
       "  </thead>\n",
       "  <tbody>\n",
       "    <tr>\n",
       "      <th>0</th>\n",
       "      <td>500.0</td>\n",
       "      <td>27.0</td>\n",
       "      <td>Female</td>\n",
       "      <td>Snapchat</td>\n",
       "      <td>120.0</td>\n",
       "      <td>4.0</td>\n",
       "      <td>40.0</td>\n",
       "      <td>18.0</td>\n",
       "      <td>22.0</td>\n",
       "      <td>Neutral</td>\n",
       "    </tr>\n",
       "    <tr>\n",
       "      <th>1</th>\n",
       "      <td>488.0</td>\n",
       "      <td>21.0</td>\n",
       "      <td>Non-binary</td>\n",
       "      <td>Snapchat</td>\n",
       "      <td>60.0</td>\n",
       "      <td>1.0</td>\n",
       "      <td>18.0</td>\n",
       "      <td>7.0</td>\n",
       "      <td>12.0</td>\n",
       "      <td>Neutral</td>\n",
       "    </tr>\n",
       "    <tr>\n",
       "      <th>2</th>\n",
       "      <td>776.0</td>\n",
       "      <td>28.0</td>\n",
       "      <td>Non-binary</td>\n",
       "      <td>Snapchat</td>\n",
       "      <td>115.0</td>\n",
       "      <td>3.0</td>\n",
       "      <td>38.0</td>\n",
       "      <td>18.0</td>\n",
       "      <td>27.0</td>\n",
       "      <td>Anxiety</td>\n",
       "    </tr>\n",
       "    <tr>\n",
       "      <th>3</th>\n",
       "      <td>869.0</td>\n",
       "      <td>27.0</td>\n",
       "      <td>Male</td>\n",
       "      <td>Telegram</td>\n",
       "      <td>105.0</td>\n",
       "      <td>3.0</td>\n",
       "      <td>48.0</td>\n",
       "      <td>20.0</td>\n",
       "      <td>28.0</td>\n",
       "      <td>Anxiety</td>\n",
       "    </tr>\n",
       "    <tr>\n",
       "      <th>4</th>\n",
       "      <td>573.0</td>\n",
       "      <td>21.0</td>\n",
       "      <td>Non-binary</td>\n",
       "      <td>Facebook</td>\n",
       "      <td>55.0</td>\n",
       "      <td>3.0</td>\n",
       "      <td>17.0</td>\n",
       "      <td>7.0</td>\n",
       "      <td>12.0</td>\n",
       "      <td>Neutral</td>\n",
       "    </tr>\n",
       "  </tbody>\n",
       "</table>\n",
       "</div>"
      ],
      "text/plain": [
       "   User_ID   Age      Gender  Platform  Daily_Usage_Time (minutes)  \\\n",
       "0    500.0  27.0      Female  Snapchat                       120.0   \n",
       "1    488.0  21.0  Non-binary  Snapchat                        60.0   \n",
       "2    776.0  28.0  Non-binary  Snapchat                       115.0   \n",
       "3    869.0  27.0        Male  Telegram                       105.0   \n",
       "4    573.0  21.0  Non-binary  Facebook                        55.0   \n",
       "\n",
       "   Posts_Per_Day  Likes_Received_Per_Day  Comments_Received_Per_Day  \\\n",
       "0            4.0                    40.0                       18.0   \n",
       "1            1.0                    18.0                        7.0   \n",
       "2            3.0                    38.0                       18.0   \n",
       "3            3.0                    48.0                       20.0   \n",
       "4            3.0                    17.0                        7.0   \n",
       "\n",
       "   Messages_Sent_Per_Day Dominant_Emotion  \n",
       "0                   22.0          Neutral  \n",
       "1                   12.0          Neutral  \n",
       "2                   27.0          Anxiety  \n",
       "3                   28.0          Anxiety  \n",
       "4                   12.0          Neutral  "
      ]
     },
     "metadata": {},
     "output_type": "display_data"
    },
    {
     "name": "stdout",
     "output_type": "stream",
     "text": [
      "----------------------------------------------------------------------\n",
      "Validation Data:\n"
     ]
    },
    {
     "data": {
      "text/html": [
       "<div>\n",
       "<style scoped>\n",
       "    .dataframe tbody tr th:only-of-type {\n",
       "        vertical-align: middle;\n",
       "    }\n",
       "\n",
       "    .dataframe tbody tr th {\n",
       "        vertical-align: top;\n",
       "    }\n",
       "\n",
       "    .dataframe thead th {\n",
       "        text-align: right;\n",
       "    }\n",
       "</style>\n",
       "<table border=\"1\" class=\"dataframe\">\n",
       "  <thead>\n",
       "    <tr style=\"text-align: right;\">\n",
       "      <th></th>\n",
       "      <th>User_ID</th>\n",
       "      <th>Age</th>\n",
       "      <th>Gender</th>\n",
       "      <th>Platform</th>\n",
       "      <th>Daily_Usage_Time (minutes)</th>\n",
       "      <th>Posts_Per_Day</th>\n",
       "      <th>Likes_Received_Per_Day</th>\n",
       "      <th>Comments_Received_Per_Day</th>\n",
       "      <th>Messages_Sent_Per_Day</th>\n",
       "      <th>Dominant_Emotion</th>\n",
       "    </tr>\n",
       "  </thead>\n",
       "  <tbody>\n",
       "    <tr>\n",
       "      <th>0</th>\n",
       "      <td>10.0</td>\n",
       "      <td>31.0</td>\n",
       "      <td>Male</td>\n",
       "      <td>Instagram</td>\n",
       "      <td>170.0</td>\n",
       "      <td>5.0</td>\n",
       "      <td>80.0</td>\n",
       "      <td>20.0</td>\n",
       "      <td>35.0</td>\n",
       "      <td>Happiness</td>\n",
       "    </tr>\n",
       "    <tr>\n",
       "      <th>1</th>\n",
       "      <td>877.0</td>\n",
       "      <td>32.0</td>\n",
       "      <td>Female</td>\n",
       "      <td>Instagram</td>\n",
       "      <td>155.0</td>\n",
       "      <td>6.0</td>\n",
       "      <td>75.0</td>\n",
       "      <td>25.0</td>\n",
       "      <td>38.0</td>\n",
       "      <td>Happiness</td>\n",
       "    </tr>\n",
       "    <tr>\n",
       "      <th>2</th>\n",
       "      <td>230.0</td>\n",
       "      <td>26.0</td>\n",
       "      <td>Non-binary</td>\n",
       "      <td>Facebook</td>\n",
       "      <td>45.0</td>\n",
       "      <td>1.0</td>\n",
       "      <td>8.0</td>\n",
       "      <td>4.0</td>\n",
       "      <td>12.0</td>\n",
       "      <td>Sadness</td>\n",
       "    </tr>\n",
       "    <tr>\n",
       "      <th>3</th>\n",
       "      <td>876.0</td>\n",
       "      <td>28.0</td>\n",
       "      <td>Non-binary</td>\n",
       "      <td>Snapchat</td>\n",
       "      <td>115.0</td>\n",
       "      <td>3.0</td>\n",
       "      <td>38.0</td>\n",
       "      <td>18.0</td>\n",
       "      <td>27.0</td>\n",
       "      <td>Anxiety</td>\n",
       "    </tr>\n",
       "    <tr>\n",
       "      <th>4</th>\n",
       "      <td>376.0</td>\n",
       "      <td>28.0</td>\n",
       "      <td>Non-binary</td>\n",
       "      <td>Snapchat</td>\n",
       "      <td>115.0</td>\n",
       "      <td>3.0</td>\n",
       "      <td>38.0</td>\n",
       "      <td>18.0</td>\n",
       "      <td>27.0</td>\n",
       "      <td>Anxiety</td>\n",
       "    </tr>\n",
       "  </tbody>\n",
       "</table>\n",
       "</div>"
      ],
      "text/plain": [
       "   User_ID   Age      Gender   Platform  Daily_Usage_Time (minutes)  \\\n",
       "0     10.0  31.0        Male  Instagram                       170.0   \n",
       "1    877.0  32.0      Female  Instagram                       155.0   \n",
       "2    230.0  26.0  Non-binary   Facebook                        45.0   \n",
       "3    876.0  28.0  Non-binary   Snapchat                       115.0   \n",
       "4    376.0  28.0  Non-binary   Snapchat                       115.0   \n",
       "\n",
       "   Posts_Per_Day  Likes_Received_Per_Day  Comments_Received_Per_Day  \\\n",
       "0            5.0                    80.0                       20.0   \n",
       "1            6.0                    75.0                       25.0   \n",
       "2            1.0                     8.0                        4.0   \n",
       "3            3.0                    38.0                       18.0   \n",
       "4            3.0                    38.0                       18.0   \n",
       "\n",
       "   Messages_Sent_Per_Day Dominant_Emotion  \n",
       "0                   35.0        Happiness  \n",
       "1                   38.0        Happiness  \n",
       "2                   12.0          Sadness  \n",
       "3                   27.0          Anxiety  \n",
       "4                   27.0          Anxiety  "
      ]
     },
     "metadata": {},
     "output_type": "display_data"
    }
   ],
   "source": [
    "# viwing the traing data, test data and validation data\n",
    "print(\"Training Data:\")\n",
    "display(df.head())\n",
    "print(\"----------------------------------------------------------------------\")\n",
    "print(\"Testing Data:\")\n",
    "display(test_df.head())\n",
    "print(\"----------------------------------------------------------------------\")\n",
    "print(\"Validation Data:\")\n",
    "display(val_df.head())"
   ]
  },
  {
   "cell_type": "code",
   "execution_count": 4,
   "id": "1d3d5137",
   "metadata": {},
   "outputs": [
    {
     "name": "stdout",
     "output_type": "stream",
     "text": [
      "There are 1000 rows and 10 columns in the training data.\n",
      "There are 103 rows and 10 columns in the testing data.\n",
      "There are 148 rows and 10 columns in the validation data.\n"
     ]
    }
   ],
   "source": [
    "print(f\"There are {df.shape[0]} rows and {df.shape[1]} columns in the training data.\")\n",
    "print(f\"There are {test_df.shape[0]} rows and {test_df.shape[1]} columns in the testing data.\")\n",
    "print(f\"There are {val_df.shape[0]} rows and {val_df.shape[1]} columns in the validation data.\")"
   ]
  },
  {
   "cell_type": "code",
   "execution_count": 5,
   "id": "3d4f3b60",
   "metadata": {},
   "outputs": [
    {
     "name": "stdout",
     "output_type": "stream",
     "text": [
      "Training Data Info:\n",
      "<class 'pandas.core.frame.DataFrame'>\n",
      "RangeIndex: 1000 entries, 0 to 999\n",
      "Data columns (total 10 columns):\n",
      " #   Column                      Non-Null Count  Dtype  \n",
      "---  ------                      --------------  -----  \n",
      " 0   User_ID                     1000 non-null   float64\n",
      " 1   Age                         1000 non-null   float64\n",
      " 2   Gender                      1000 non-null   object \n",
      " 3   Platform                    1000 non-null   object \n",
      " 4   Daily_Usage_Time (minutes)  1000 non-null   float64\n",
      " 5   Posts_Per_Day               1000 non-null   float64\n",
      " 6   Likes_Received_Per_Day      1000 non-null   float64\n",
      " 7   Comments_Received_Per_Day   1000 non-null   float64\n",
      " 8   Messages_Sent_Per_Day       1000 non-null   float64\n",
      " 9   Dominant_Emotion            1000 non-null   object \n",
      "dtypes: float64(7), object(3)\n",
      "memory usage: 78.3+ KB\n"
     ]
    }
   ],
   "source": [
    "# training data info\n",
    "print(\"Training Data Info:\")\n",
    "df.info()"
   ]
  },
  {
   "cell_type": "code",
   "execution_count": 6,
   "id": "37ecc2cf",
   "metadata": {},
   "outputs": [
    {
     "name": "stdout",
     "output_type": "stream",
     "text": [
      "Testing Data Info:\n",
      "<class 'pandas.core.frame.DataFrame'>\n",
      "RangeIndex: 103 entries, 0 to 102\n",
      "Data columns (total 10 columns):\n",
      " #   Column                      Non-Null Count  Dtype  \n",
      "---  ------                      --------------  -----  \n",
      " 0   User_ID                     103 non-null    float64\n",
      " 1   Age                         103 non-null    float64\n",
      " 2   Gender                      103 non-null    object \n",
      " 3   Platform                    103 non-null    object \n",
      " 4   Daily_Usage_Time (minutes)  103 non-null    float64\n",
      " 5   Posts_Per_Day               103 non-null    float64\n",
      " 6   Likes_Received_Per_Day      103 non-null    float64\n",
      " 7   Comments_Received_Per_Day   103 non-null    float64\n",
      " 8   Messages_Sent_Per_Day       103 non-null    float64\n",
      " 9   Dominant_Emotion            103 non-null    object \n",
      "dtypes: float64(7), object(3)\n",
      "memory usage: 8.2+ KB\n"
     ]
    }
   ],
   "source": [
    "# testing data info\n",
    "print(\"Testing Data Info:\")\n",
    "test_df.info()"
   ]
  },
  {
   "cell_type": "code",
   "execution_count": 7,
   "id": "0a1b0e9b",
   "metadata": {},
   "outputs": [
    {
     "name": "stdout",
     "output_type": "stream",
     "text": [
      "Validation Data Info:\n",
      "<class 'pandas.core.frame.DataFrame'>\n",
      "RangeIndex: 148 entries, 0 to 147\n",
      "Data columns (total 10 columns):\n",
      " #   Column                      Non-Null Count  Dtype  \n",
      "---  ------                      --------------  -----  \n",
      " 0   User_ID                     148 non-null    float64\n",
      " 1   Age                         148 non-null    float64\n",
      " 2   Gender                      148 non-null    object \n",
      " 3   Platform                    148 non-null    object \n",
      " 4   Daily_Usage_Time (minutes)  148 non-null    float64\n",
      " 5   Posts_Per_Day               148 non-null    float64\n",
      " 6   Likes_Received_Per_Day      148 non-null    float64\n",
      " 7   Comments_Received_Per_Day   148 non-null    float64\n",
      " 8   Messages_Sent_Per_Day       148 non-null    float64\n",
      " 9   Dominant_Emotion            148 non-null    object \n",
      "dtypes: float64(7), object(3)\n",
      "memory usage: 11.7+ KB\n"
     ]
    }
   ],
   "source": [
    "# validation data info\n",
    "print(\"Validation Data Info:\")\n",
    "val_df.info()"
   ]
  },
  {
   "cell_type": "code",
   "execution_count": 8,
   "id": "e77159f4",
   "metadata": {},
   "outputs": [
    {
     "name": "stdout",
     "output_type": "stream",
     "text": [
      "Training Data:\n"
     ]
    },
    {
     "data": {
      "text/plain": [
       "User_ID                       0\n",
       "Age                           0\n",
       "Gender                        0\n",
       "Platform                      0\n",
       "Daily_Usage_Time (minutes)    0\n",
       "Posts_Per_Day                 0\n",
       "Likes_Received_Per_Day        0\n",
       "Comments_Received_Per_Day     0\n",
       "Messages_Sent_Per_Day         0\n",
       "Dominant_Emotion              0\n",
       "dtype: int64"
      ]
     },
     "metadata": {},
     "output_type": "display_data"
    },
    {
     "name": "stdout",
     "output_type": "stream",
     "text": [
      "----------------------------------------------------------------------\n",
      "Testing Data:\n"
     ]
    },
    {
     "data": {
      "text/plain": [
       "User_ID                       0\n",
       "Age                           0\n",
       "Gender                        0\n",
       "Platform                      0\n",
       "Daily_Usage_Time (minutes)    0\n",
       "Posts_Per_Day                 0\n",
       "Likes_Received_Per_Day        0\n",
       "Comments_Received_Per_Day     0\n",
       "Messages_Sent_Per_Day         0\n",
       "Dominant_Emotion              0\n",
       "dtype: int64"
      ]
     },
     "metadata": {},
     "output_type": "display_data"
    },
    {
     "name": "stdout",
     "output_type": "stream",
     "text": [
      "----------------------------------------------------------------------\n",
      "Validation Data:\n"
     ]
    },
    {
     "data": {
      "text/plain": [
       "User_ID                       0\n",
       "Age                           0\n",
       "Gender                        0\n",
       "Platform                      0\n",
       "Daily_Usage_Time (minutes)    0\n",
       "Posts_Per_Day                 0\n",
       "Likes_Received_Per_Day        0\n",
       "Comments_Received_Per_Day     0\n",
       "Messages_Sent_Per_Day         0\n",
       "Dominant_Emotion              0\n",
       "dtype: int64"
      ]
     },
     "metadata": {},
     "output_type": "display_data"
    }
   ],
   "source": [
    "# checking for null values\n",
    "print(\"Training Data:\")\n",
    "display(df.isnull().sum())\n",
    "print(\"----------------------------------------------------------------------\")\n",
    "print(\"Testing Data:\")\n",
    "display(test_df.isnull().sum())\n",
    "print(\"----------------------------------------------------------------------\")\n",
    "print(\"Validation Data:\")\n",
    "display(val_df.isnull().sum())"
   ]
  },
  {
   "cell_type": "code",
   "execution_count": 9,
   "id": "b7c2bf0b",
   "metadata": {},
   "outputs": [
    {
     "data": {
      "text/plain": [
       "Index(['User_ID', 'Age', 'Gender', 'Platform', 'Daily_Usage_Time (minutes)',\n",
       "       'Posts_Per_Day', 'Likes_Received_Per_Day', 'Comments_Received_Per_Day',\n",
       "       'Messages_Sent_Per_Day', 'Dominant_Emotion'],\n",
       "      dtype='object')"
      ]
     },
     "execution_count": 9,
     "metadata": {},
     "output_type": "execute_result"
    }
   ],
   "source": [
    "# list of coloums in the training data\n",
    "df.columns "
   ]
  },
  {
   "cell_type": "code",
   "execution_count": 10,
   "id": "d43b9aa9",
   "metadata": {},
   "outputs": [
    {
     "data": {
      "text/html": [
       "<div>\n",
       "<style scoped>\n",
       "    .dataframe tbody tr th:only-of-type {\n",
       "        vertical-align: middle;\n",
       "    }\n",
       "\n",
       "    .dataframe tbody tr th {\n",
       "        vertical-align: top;\n",
       "    }\n",
       "\n",
       "    .dataframe thead th {\n",
       "        text-align: right;\n",
       "    }\n",
       "</style>\n",
       "<table border=\"1\" class=\"dataframe\">\n",
       "  <thead>\n",
       "    <tr style=\"text-align: right;\">\n",
       "      <th></th>\n",
       "      <th>User_ID</th>\n",
       "      <th>Age</th>\n",
       "      <th>Daily_Usage_Time (minutes)</th>\n",
       "      <th>Posts_Per_Day</th>\n",
       "      <th>Likes_Received_Per_Day</th>\n",
       "      <th>Comments_Received_Per_Day</th>\n",
       "      <th>Messages_Sent_Per_Day</th>\n",
       "    </tr>\n",
       "  </thead>\n",
       "  <tbody>\n",
       "    <tr>\n",
       "      <th>count</th>\n",
       "      <td>1000.000000</td>\n",
       "      <td>1000.000000</td>\n",
       "      <td>1000.000000</td>\n",
       "      <td>1000.000000</td>\n",
       "      <td>1000.000000</td>\n",
       "      <td>1000.000000</td>\n",
       "      <td>1000.000000</td>\n",
       "    </tr>\n",
       "    <tr>\n",
       "      <th>mean</th>\n",
       "      <td>500.500000</td>\n",
       "      <td>27.510000</td>\n",
       "      <td>95.950000</td>\n",
       "      <td>3.321000</td>\n",
       "      <td>39.898000</td>\n",
       "      <td>15.611000</td>\n",
       "      <td>22.560000</td>\n",
       "    </tr>\n",
       "    <tr>\n",
       "      <th>std</th>\n",
       "      <td>288.819436</td>\n",
       "      <td>3.930057</td>\n",
       "      <td>38.850442</td>\n",
       "      <td>1.914582</td>\n",
       "      <td>26.393867</td>\n",
       "      <td>8.819493</td>\n",
       "      <td>8.516274</td>\n",
       "    </tr>\n",
       "    <tr>\n",
       "      <th>min</th>\n",
       "      <td>1.000000</td>\n",
       "      <td>21.000000</td>\n",
       "      <td>40.000000</td>\n",
       "      <td>1.000000</td>\n",
       "      <td>5.000000</td>\n",
       "      <td>2.000000</td>\n",
       "      <td>8.000000</td>\n",
       "    </tr>\n",
       "    <tr>\n",
       "      <th>25%</th>\n",
       "      <td>250.750000</td>\n",
       "      <td>24.000000</td>\n",
       "      <td>65.000000</td>\n",
       "      <td>2.000000</td>\n",
       "      <td>20.000000</td>\n",
       "      <td>8.000000</td>\n",
       "      <td>17.750000</td>\n",
       "    </tr>\n",
       "    <tr>\n",
       "      <th>50%</th>\n",
       "      <td>500.500000</td>\n",
       "      <td>27.500000</td>\n",
       "      <td>85.000000</td>\n",
       "      <td>3.000000</td>\n",
       "      <td>33.000000</td>\n",
       "      <td>14.000000</td>\n",
       "      <td>22.000000</td>\n",
       "    </tr>\n",
       "    <tr>\n",
       "      <th>75%</th>\n",
       "      <td>750.250000</td>\n",
       "      <td>30.250000</td>\n",
       "      <td>120.000000</td>\n",
       "      <td>4.000000</td>\n",
       "      <td>55.000000</td>\n",
       "      <td>22.000000</td>\n",
       "      <td>28.000000</td>\n",
       "    </tr>\n",
       "    <tr>\n",
       "      <th>max</th>\n",
       "      <td>1000.000000</td>\n",
       "      <td>35.000000</td>\n",
       "      <td>200.000000</td>\n",
       "      <td>8.000000</td>\n",
       "      <td>110.000000</td>\n",
       "      <td>40.000000</td>\n",
       "      <td>50.000000</td>\n",
       "    </tr>\n",
       "  </tbody>\n",
       "</table>\n",
       "</div>"
      ],
      "text/plain": [
       "           User_ID          Age  Daily_Usage_Time (minutes)  Posts_Per_Day  \\\n",
       "count  1000.000000  1000.000000                 1000.000000    1000.000000   \n",
       "mean    500.500000    27.510000                   95.950000       3.321000   \n",
       "std     288.819436     3.930057                   38.850442       1.914582   \n",
       "min       1.000000    21.000000                   40.000000       1.000000   \n",
       "25%     250.750000    24.000000                   65.000000       2.000000   \n",
       "50%     500.500000    27.500000                   85.000000       3.000000   \n",
       "75%     750.250000    30.250000                  120.000000       4.000000   \n",
       "max    1000.000000    35.000000                  200.000000       8.000000   \n",
       "\n",
       "       Likes_Received_Per_Day  Comments_Received_Per_Day  \\\n",
       "count             1000.000000                1000.000000   \n",
       "mean                39.898000                  15.611000   \n",
       "std                 26.393867                   8.819493   \n",
       "min                  5.000000                   2.000000   \n",
       "25%                 20.000000                   8.000000   \n",
       "50%                 33.000000                  14.000000   \n",
       "75%                 55.000000                  22.000000   \n",
       "max                110.000000                  40.000000   \n",
       "\n",
       "       Messages_Sent_Per_Day  \n",
       "count            1000.000000  \n",
       "mean               22.560000  \n",
       "std                 8.516274  \n",
       "min                 8.000000  \n",
       "25%                17.750000  \n",
       "50%                22.000000  \n",
       "75%                28.000000  \n",
       "max                50.000000  "
      ]
     },
     "execution_count": 10,
     "metadata": {},
     "output_type": "execute_result"
    }
   ],
   "source": [
    "#Describe the training data\n",
    "df.describe()"
   ]
  },
  {
   "cell_type": "markdown",
   "id": "446887e4",
   "metadata": {},
   "source": [
    "Age Distribution"
   ]
  },
  {
   "cell_type": "code",
   "execution_count": 11,
   "id": "62034357",
   "metadata": {},
   "outputs": [
    {
     "data": {
      "text/plain": [
       "0"
      ]
     },
     "execution_count": 11,
     "metadata": {},
     "output_type": "execute_result"
    }
   ],
   "source": [
    "df['Age'].isnull().sum()"
   ]
  },
  {
   "cell_type": "code",
   "execution_count": 12,
   "id": "5be3178e",
   "metadata": {},
   "outputs": [
    {
     "data": {
      "text/plain": [
       "array([25., 30., 22., 28., 33., 21., 27., 24., 29., 31., 23., 26., 34.,\n",
       "       35., 32.])"
      ]
     },
     "execution_count": 12,
     "metadata": {},
     "output_type": "execute_result"
    }
   ],
   "source": [
    "df['Age'].unique()"
   ]
  },
  {
   "cell_type": "code",
   "execution_count": 13,
   "id": "1e70a8e6",
   "metadata": {},
   "outputs": [
    {
     "data": {
      "application/vnd.plotly.v1+json": {
       "config": {
        "plotlyServerURL": "https://plot.ly"
       },
       "data": [
        {
         "alignmentgroup": "True",
         "bingroup": "x",
         "hovertemplate": "Age=%{x}<br>count=%{y}<extra></extra>",
         "legendgroup": "",
         "marker": {
          "color": "#636efa",
          "pattern": {
           "shape": ""
          }
         },
         "name": "",
         "offsetgroup": "",
         "orientation": "v",
         "showlegend": false,
         "type": "histogram",
         "x": [
          25,
          30,
          22,
          28,
          33,
          21,
          27,
          24,
          29,
          31,
          23,
          26,
          34,
          22,
          28,
          21,
          35,
          27,
          23,
          32,
          26,
          24,
          29,
          33,
          22,
          31,
          27,
          25,
          30,
          26,
          34,
          28,
          23,
          21,
          29,
          24,
          33,
          27,
          22,
          28,
          31,
          25,
          29,
          23,
          35,
          30,
          21,
          26,
          32,
          28,
          27,
          24,
          29,
          33,
          31,
          22,
          25,
          29,
          28,
          27,
          30,
          23,
          34,
          26,
          25,
          29,
          28,
          31,
          27,
          22,
          24,
          35,
          21,
          29,
          25,
          28,
          32,
          26,
          33,
          27,
          31,
          24,
          34,
          22,
          29,
          28,
          31,
          21,
          25,
          30,
          27,
          32,
          24,
          29,
          26,
          33,
          22,
          35,
          28,
          27,
          25,
          30,
          22,
          28,
          33,
          21,
          27,
          24,
          29,
          31,
          23,
          26,
          34,
          22,
          28,
          21,
          35,
          27,
          23,
          32,
          26,
          24,
          29,
          33,
          22,
          31,
          27,
          25,
          30,
          26,
          34,
          28,
          23,
          21,
          29,
          24,
          33,
          27,
          22,
          28,
          31,
          25,
          29,
          23,
          35,
          30,
          21,
          26,
          32,
          28,
          27,
          24,
          29,
          33,
          31,
          22,
          25,
          29,
          28,
          27,
          30,
          23,
          34,
          26,
          25,
          29,
          28,
          31,
          27,
          22,
          24,
          35,
          21,
          29,
          25,
          28,
          32,
          26,
          33,
          27,
          31,
          24,
          34,
          22,
          29,
          28,
          31,
          21,
          25,
          30,
          27,
          32,
          24,
          29,
          26,
          33,
          22,
          35,
          28,
          27,
          25,
          30,
          22,
          28,
          33,
          21,
          27,
          24,
          29,
          31,
          23,
          26,
          34,
          22,
          28,
          21,
          35,
          27,
          23,
          32,
          26,
          24,
          29,
          33,
          22,
          31,
          27,
          25,
          30,
          26,
          34,
          28,
          23,
          21,
          29,
          24,
          33,
          27,
          22,
          28,
          31,
          25,
          29,
          23,
          35,
          30,
          21,
          26,
          32,
          28,
          27,
          24,
          29,
          33,
          31,
          22,
          25,
          29,
          28,
          27,
          30,
          23,
          34,
          26,
          25,
          29,
          28,
          31,
          27,
          22,
          24,
          35,
          21,
          29,
          25,
          28,
          32,
          26,
          33,
          27,
          31,
          24,
          34,
          22,
          29,
          28,
          31,
          21,
          25,
          30,
          27,
          32,
          24,
          29,
          26,
          33,
          22,
          35,
          28,
          27,
          25,
          30,
          22,
          28,
          33,
          21,
          27,
          24,
          29,
          31,
          23,
          26,
          34,
          22,
          28,
          21,
          35,
          27,
          23,
          32,
          26,
          24,
          29,
          33,
          22,
          31,
          27,
          25,
          30,
          26,
          34,
          28,
          23,
          21,
          29,
          24,
          33,
          27,
          22,
          28,
          31,
          25,
          29,
          23,
          35,
          30,
          21,
          26,
          32,
          28,
          27,
          24,
          29,
          33,
          31,
          22,
          25,
          29,
          28,
          27,
          30,
          23,
          34,
          26,
          25,
          29,
          28,
          31,
          27,
          22,
          24,
          35,
          21,
          29,
          25,
          28,
          32,
          26,
          33,
          27,
          31,
          24,
          34,
          22,
          29,
          28,
          31,
          21,
          25,
          30,
          27,
          32,
          24,
          29,
          26,
          33,
          22,
          35,
          28,
          27,
          25,
          30,
          22,
          28,
          33,
          21,
          27,
          24,
          29,
          31,
          23,
          26,
          34,
          22,
          28,
          21,
          35,
          27,
          23,
          32,
          26,
          24,
          29,
          33,
          22,
          31,
          27,
          25,
          30,
          26,
          34,
          28,
          23,
          21,
          29,
          24,
          33,
          27,
          22,
          28,
          31,
          25,
          29,
          23,
          35,
          30,
          21,
          26,
          32,
          28,
          27,
          24,
          29,
          33,
          31,
          22,
          25,
          29,
          28,
          27,
          30,
          23,
          34,
          26,
          25,
          29,
          28,
          31,
          27,
          22,
          24,
          35,
          21,
          29,
          25,
          28,
          32,
          26,
          33,
          27,
          31,
          24,
          34,
          22,
          29,
          28,
          31,
          21,
          25,
          30,
          27,
          32,
          24,
          29,
          26,
          33,
          22,
          35,
          28,
          27,
          25,
          30,
          22,
          28,
          33,
          21,
          27,
          24,
          29,
          31,
          23,
          26,
          34,
          22,
          28,
          21,
          35,
          27,
          23,
          32,
          26,
          24,
          29,
          33,
          22,
          31,
          27,
          25,
          30,
          26,
          34,
          28,
          23,
          21,
          29,
          24,
          33,
          27,
          22,
          28,
          31,
          25,
          29,
          23,
          35,
          30,
          21,
          26,
          32,
          28,
          27,
          24,
          29,
          33,
          31,
          22,
          25,
          29,
          28,
          27,
          30,
          23,
          34,
          26,
          25,
          29,
          28,
          31,
          27,
          22,
          24,
          35,
          21,
          29,
          25,
          28,
          32,
          26,
          33,
          27,
          31,
          24,
          34,
          22,
          29,
          28,
          31,
          21,
          25,
          30,
          27,
          32,
          24,
          29,
          26,
          33,
          22,
          35,
          28,
          27,
          25,
          30,
          22,
          28,
          33,
          21,
          27,
          24,
          29,
          31,
          23,
          26,
          34,
          22,
          28,
          21,
          35,
          27,
          23,
          32,
          26,
          24,
          29,
          33,
          22,
          31,
          27,
          25,
          30,
          26,
          34,
          28,
          23,
          21,
          29,
          24,
          33,
          27,
          22,
          28,
          31,
          25,
          29,
          23,
          35,
          30,
          21,
          26,
          32,
          28,
          27,
          24,
          29,
          33,
          31,
          22,
          25,
          29,
          28,
          27,
          30,
          23,
          34,
          26,
          25,
          29,
          28,
          31,
          27,
          22,
          24,
          35,
          21,
          29,
          25,
          28,
          32,
          26,
          33,
          27,
          31,
          24,
          34,
          22,
          29,
          28,
          31,
          21,
          25,
          30,
          27,
          32,
          24,
          29,
          26,
          33,
          22,
          35,
          28,
          27,
          25,
          30,
          22,
          28,
          33,
          21,
          27,
          24,
          29,
          31,
          23,
          26,
          34,
          22,
          28,
          21,
          35,
          27,
          23,
          32,
          26,
          24,
          29,
          33,
          22,
          31,
          27,
          25,
          30,
          26,
          34,
          28,
          23,
          21,
          29,
          24,
          33,
          27,
          22,
          28,
          31,
          25,
          29,
          23,
          35,
          30,
          21,
          26,
          32,
          28,
          27,
          24,
          29,
          33,
          31,
          22,
          25,
          29,
          28,
          27,
          30,
          23,
          34,
          26,
          25,
          29,
          28,
          31,
          27,
          22,
          24,
          35,
          21,
          29,
          25,
          28,
          32,
          26,
          33,
          27,
          31,
          24,
          34,
          22,
          29,
          28,
          31,
          21,
          25,
          30,
          27,
          32,
          24,
          29,
          26,
          33,
          22,
          35,
          28,
          27,
          25,
          30,
          22,
          28,
          33,
          21,
          27,
          24,
          29,
          31,
          23,
          26,
          34,
          22,
          28,
          21,
          35,
          27,
          23,
          32,
          26,
          24,
          29,
          33,
          22,
          31,
          27,
          25,
          30,
          26,
          34,
          28,
          23,
          21,
          29,
          24,
          33,
          27,
          22,
          28,
          31,
          25,
          29,
          23,
          35,
          30,
          21,
          26,
          32,
          28,
          27,
          24,
          29,
          33,
          31,
          22,
          25,
          29,
          28,
          27,
          30,
          23,
          34,
          26,
          25,
          29,
          28,
          31,
          27,
          22,
          24,
          35,
          21,
          29,
          25,
          28,
          32,
          26,
          33,
          27,
          31,
          24,
          34,
          22,
          29,
          28,
          31,
          21,
          25,
          30,
          27,
          32,
          24,
          29,
          26,
          33,
          22,
          35,
          28,
          27,
          25,
          30,
          22,
          28,
          33,
          21,
          27,
          24,
          29,
          31,
          23,
          26,
          34,
          22,
          28,
          21,
          35,
          27,
          23,
          32,
          26,
          24,
          29,
          33,
          22,
          31,
          27,
          25,
          30,
          26,
          34,
          28,
          23,
          21,
          29,
          24,
          33,
          27,
          22,
          28,
          31,
          25,
          29,
          23,
          35,
          30,
          21,
          26,
          32,
          28,
          27,
          24,
          29,
          33,
          31,
          22,
          25,
          29,
          28,
          27,
          30,
          23,
          34,
          26,
          25,
          29,
          28,
          31,
          27,
          22,
          24,
          35,
          21,
          29,
          25,
          28,
          32,
          26,
          33,
          27,
          31,
          24,
          34,
          22,
          29,
          28,
          31,
          21,
          25,
          30,
          27,
          32,
          24,
          29,
          26,
          33,
          22,
          35,
          28,
          27
         ],
         "xaxis": "x",
         "yaxis": "y"
        }
       ],
       "layout": {
        "barmode": "relative",
        "legend": {
         "tracegroupgap": 0
        },
        "template": {
         "data": {
          "bar": [
           {
            "error_x": {
             "color": "#2a3f5f"
            },
            "error_y": {
             "color": "#2a3f5f"
            },
            "marker": {
             "line": {
              "color": "#E5ECF6",
              "width": 0.5
             },
             "pattern": {
              "fillmode": "overlay",
              "size": 10,
              "solidity": 0.2
             }
            },
            "type": "bar"
           }
          ],
          "barpolar": [
           {
            "marker": {
             "line": {
              "color": "#E5ECF6",
              "width": 0.5
             },
             "pattern": {
              "fillmode": "overlay",
              "size": 10,
              "solidity": 0.2
             }
            },
            "type": "barpolar"
           }
          ],
          "carpet": [
           {
            "aaxis": {
             "endlinecolor": "#2a3f5f",
             "gridcolor": "white",
             "linecolor": "white",
             "minorgridcolor": "white",
             "startlinecolor": "#2a3f5f"
            },
            "baxis": {
             "endlinecolor": "#2a3f5f",
             "gridcolor": "white",
             "linecolor": "white",
             "minorgridcolor": "white",
             "startlinecolor": "#2a3f5f"
            },
            "type": "carpet"
           }
          ],
          "choropleth": [
           {
            "colorbar": {
             "outlinewidth": 0,
             "ticks": ""
            },
            "type": "choropleth"
           }
          ],
          "contour": [
           {
            "colorbar": {
             "outlinewidth": 0,
             "ticks": ""
            },
            "colorscale": [
             [
              0,
              "#0d0887"
             ],
             [
              0.1111111111111111,
              "#46039f"
             ],
             [
              0.2222222222222222,
              "#7201a8"
             ],
             [
              0.3333333333333333,
              "#9c179e"
             ],
             [
              0.4444444444444444,
              "#bd3786"
             ],
             [
              0.5555555555555556,
              "#d8576b"
             ],
             [
              0.6666666666666666,
              "#ed7953"
             ],
             [
              0.7777777777777778,
              "#fb9f3a"
             ],
             [
              0.8888888888888888,
              "#fdca26"
             ],
             [
              1,
              "#f0f921"
             ]
            ],
            "type": "contour"
           }
          ],
          "contourcarpet": [
           {
            "colorbar": {
             "outlinewidth": 0,
             "ticks": ""
            },
            "type": "contourcarpet"
           }
          ],
          "heatmap": [
           {
            "colorbar": {
             "outlinewidth": 0,
             "ticks": ""
            },
            "colorscale": [
             [
              0,
              "#0d0887"
             ],
             [
              0.1111111111111111,
              "#46039f"
             ],
             [
              0.2222222222222222,
              "#7201a8"
             ],
             [
              0.3333333333333333,
              "#9c179e"
             ],
             [
              0.4444444444444444,
              "#bd3786"
             ],
             [
              0.5555555555555556,
              "#d8576b"
             ],
             [
              0.6666666666666666,
              "#ed7953"
             ],
             [
              0.7777777777777778,
              "#fb9f3a"
             ],
             [
              0.8888888888888888,
              "#fdca26"
             ],
             [
              1,
              "#f0f921"
             ]
            ],
            "type": "heatmap"
           }
          ],
          "heatmapgl": [
           {
            "colorbar": {
             "outlinewidth": 0,
             "ticks": ""
            },
            "colorscale": [
             [
              0,
              "#0d0887"
             ],
             [
              0.1111111111111111,
              "#46039f"
             ],
             [
              0.2222222222222222,
              "#7201a8"
             ],
             [
              0.3333333333333333,
              "#9c179e"
             ],
             [
              0.4444444444444444,
              "#bd3786"
             ],
             [
              0.5555555555555556,
              "#d8576b"
             ],
             [
              0.6666666666666666,
              "#ed7953"
             ],
             [
              0.7777777777777778,
              "#fb9f3a"
             ],
             [
              0.8888888888888888,
              "#fdca26"
             ],
             [
              1,
              "#f0f921"
             ]
            ],
            "type": "heatmapgl"
           }
          ],
          "histogram": [
           {
            "marker": {
             "pattern": {
              "fillmode": "overlay",
              "size": 10,
              "solidity": 0.2
             }
            },
            "type": "histogram"
           }
          ],
          "histogram2d": [
           {
            "colorbar": {
             "outlinewidth": 0,
             "ticks": ""
            },
            "colorscale": [
             [
              0,
              "#0d0887"
             ],
             [
              0.1111111111111111,
              "#46039f"
             ],
             [
              0.2222222222222222,
              "#7201a8"
             ],
             [
              0.3333333333333333,
              "#9c179e"
             ],
             [
              0.4444444444444444,
              "#bd3786"
             ],
             [
              0.5555555555555556,
              "#d8576b"
             ],
             [
              0.6666666666666666,
              "#ed7953"
             ],
             [
              0.7777777777777778,
              "#fb9f3a"
             ],
             [
              0.8888888888888888,
              "#fdca26"
             ],
             [
              1,
              "#f0f921"
             ]
            ],
            "type": "histogram2d"
           }
          ],
          "histogram2dcontour": [
           {
            "colorbar": {
             "outlinewidth": 0,
             "ticks": ""
            },
            "colorscale": [
             [
              0,
              "#0d0887"
             ],
             [
              0.1111111111111111,
              "#46039f"
             ],
             [
              0.2222222222222222,
              "#7201a8"
             ],
             [
              0.3333333333333333,
              "#9c179e"
             ],
             [
              0.4444444444444444,
              "#bd3786"
             ],
             [
              0.5555555555555556,
              "#d8576b"
             ],
             [
              0.6666666666666666,
              "#ed7953"
             ],
             [
              0.7777777777777778,
              "#fb9f3a"
             ],
             [
              0.8888888888888888,
              "#fdca26"
             ],
             [
              1,
              "#f0f921"
             ]
            ],
            "type": "histogram2dcontour"
           }
          ],
          "mesh3d": [
           {
            "colorbar": {
             "outlinewidth": 0,
             "ticks": ""
            },
            "type": "mesh3d"
           }
          ],
          "parcoords": [
           {
            "line": {
             "colorbar": {
              "outlinewidth": 0,
              "ticks": ""
             }
            },
            "type": "parcoords"
           }
          ],
          "pie": [
           {
            "automargin": true,
            "type": "pie"
           }
          ],
          "scatter": [
           {
            "fillpattern": {
             "fillmode": "overlay",
             "size": 10,
             "solidity": 0.2
            },
            "type": "scatter"
           }
          ],
          "scatter3d": [
           {
            "line": {
             "colorbar": {
              "outlinewidth": 0,
              "ticks": ""
             }
            },
            "marker": {
             "colorbar": {
              "outlinewidth": 0,
              "ticks": ""
             }
            },
            "type": "scatter3d"
           }
          ],
          "scattercarpet": [
           {
            "marker": {
             "colorbar": {
              "outlinewidth": 0,
              "ticks": ""
             }
            },
            "type": "scattercarpet"
           }
          ],
          "scattergeo": [
           {
            "marker": {
             "colorbar": {
              "outlinewidth": 0,
              "ticks": ""
             }
            },
            "type": "scattergeo"
           }
          ],
          "scattergl": [
           {
            "marker": {
             "colorbar": {
              "outlinewidth": 0,
              "ticks": ""
             }
            },
            "type": "scattergl"
           }
          ],
          "scattermapbox": [
           {
            "marker": {
             "colorbar": {
              "outlinewidth": 0,
              "ticks": ""
             }
            },
            "type": "scattermapbox"
           }
          ],
          "scatterpolar": [
           {
            "marker": {
             "colorbar": {
              "outlinewidth": 0,
              "ticks": ""
             }
            },
            "type": "scatterpolar"
           }
          ],
          "scatterpolargl": [
           {
            "marker": {
             "colorbar": {
              "outlinewidth": 0,
              "ticks": ""
             }
            },
            "type": "scatterpolargl"
           }
          ],
          "scatterternary": [
           {
            "marker": {
             "colorbar": {
              "outlinewidth": 0,
              "ticks": ""
             }
            },
            "type": "scatterternary"
           }
          ],
          "surface": [
           {
            "colorbar": {
             "outlinewidth": 0,
             "ticks": ""
            },
            "colorscale": [
             [
              0,
              "#0d0887"
             ],
             [
              0.1111111111111111,
              "#46039f"
             ],
             [
              0.2222222222222222,
              "#7201a8"
             ],
             [
              0.3333333333333333,
              "#9c179e"
             ],
             [
              0.4444444444444444,
              "#bd3786"
             ],
             [
              0.5555555555555556,
              "#d8576b"
             ],
             [
              0.6666666666666666,
              "#ed7953"
             ],
             [
              0.7777777777777778,
              "#fb9f3a"
             ],
             [
              0.8888888888888888,
              "#fdca26"
             ],
             [
              1,
              "#f0f921"
             ]
            ],
            "type": "surface"
           }
          ],
          "table": [
           {
            "cells": {
             "fill": {
              "color": "#EBF0F8"
             },
             "line": {
              "color": "white"
             }
            },
            "header": {
             "fill": {
              "color": "#C8D4E3"
             },
             "line": {
              "color": "white"
             }
            },
            "type": "table"
           }
          ]
         },
         "layout": {
          "annotationdefaults": {
           "arrowcolor": "#2a3f5f",
           "arrowhead": 0,
           "arrowwidth": 1
          },
          "autotypenumbers": "strict",
          "coloraxis": {
           "colorbar": {
            "outlinewidth": 0,
            "ticks": ""
           }
          },
          "colorscale": {
           "diverging": [
            [
             0,
             "#8e0152"
            ],
            [
             0.1,
             "#c51b7d"
            ],
            [
             0.2,
             "#de77ae"
            ],
            [
             0.3,
             "#f1b6da"
            ],
            [
             0.4,
             "#fde0ef"
            ],
            [
             0.5,
             "#f7f7f7"
            ],
            [
             0.6,
             "#e6f5d0"
            ],
            [
             0.7,
             "#b8e186"
            ],
            [
             0.8,
             "#7fbc41"
            ],
            [
             0.9,
             "#4d9221"
            ],
            [
             1,
             "#276419"
            ]
           ],
           "sequential": [
            [
             0,
             "#0d0887"
            ],
            [
             0.1111111111111111,
             "#46039f"
            ],
            [
             0.2222222222222222,
             "#7201a8"
            ],
            [
             0.3333333333333333,
             "#9c179e"
            ],
            [
             0.4444444444444444,
             "#bd3786"
            ],
            [
             0.5555555555555556,
             "#d8576b"
            ],
            [
             0.6666666666666666,
             "#ed7953"
            ],
            [
             0.7777777777777778,
             "#fb9f3a"
            ],
            [
             0.8888888888888888,
             "#fdca26"
            ],
            [
             1,
             "#f0f921"
            ]
           ],
           "sequentialminus": [
            [
             0,
             "#0d0887"
            ],
            [
             0.1111111111111111,
             "#46039f"
            ],
            [
             0.2222222222222222,
             "#7201a8"
            ],
            [
             0.3333333333333333,
             "#9c179e"
            ],
            [
             0.4444444444444444,
             "#bd3786"
            ],
            [
             0.5555555555555556,
             "#d8576b"
            ],
            [
             0.6666666666666666,
             "#ed7953"
            ],
            [
             0.7777777777777778,
             "#fb9f3a"
            ],
            [
             0.8888888888888888,
             "#fdca26"
            ],
            [
             1,
             "#f0f921"
            ]
           ]
          },
          "colorway": [
           "#636efa",
           "#EF553B",
           "#00cc96",
           "#ab63fa",
           "#FFA15A",
           "#19d3f3",
           "#FF6692",
           "#B6E880",
           "#FF97FF",
           "#FECB52"
          ],
          "font": {
           "color": "#2a3f5f"
          },
          "geo": {
           "bgcolor": "white",
           "lakecolor": "white",
           "landcolor": "#E5ECF6",
           "showlakes": true,
           "showland": true,
           "subunitcolor": "white"
          },
          "hoverlabel": {
           "align": "left"
          },
          "hovermode": "closest",
          "mapbox": {
           "style": "light"
          },
          "paper_bgcolor": "white",
          "plot_bgcolor": "#E5ECF6",
          "polar": {
           "angularaxis": {
            "gridcolor": "white",
            "linecolor": "white",
            "ticks": ""
           },
           "bgcolor": "#E5ECF6",
           "radialaxis": {
            "gridcolor": "white",
            "linecolor": "white",
            "ticks": ""
           }
          },
          "scene": {
           "xaxis": {
            "backgroundcolor": "#E5ECF6",
            "gridcolor": "white",
            "gridwidth": 2,
            "linecolor": "white",
            "showbackground": true,
            "ticks": "",
            "zerolinecolor": "white"
           },
           "yaxis": {
            "backgroundcolor": "#E5ECF6",
            "gridcolor": "white",
            "gridwidth": 2,
            "linecolor": "white",
            "showbackground": true,
            "ticks": "",
            "zerolinecolor": "white"
           },
           "zaxis": {
            "backgroundcolor": "#E5ECF6",
            "gridcolor": "white",
            "gridwidth": 2,
            "linecolor": "white",
            "showbackground": true,
            "ticks": "",
            "zerolinecolor": "white"
           }
          },
          "shapedefaults": {
           "line": {
            "color": "#2a3f5f"
           }
          },
          "ternary": {
           "aaxis": {
            "gridcolor": "white",
            "linecolor": "white",
            "ticks": ""
           },
           "baxis": {
            "gridcolor": "white",
            "linecolor": "white",
            "ticks": ""
           },
           "bgcolor": "#E5ECF6",
           "caxis": {
            "gridcolor": "white",
            "linecolor": "white",
            "ticks": ""
           }
          },
          "title": {
           "x": 0.05
          },
          "xaxis": {
           "automargin": true,
           "gridcolor": "white",
           "linecolor": "white",
           "ticks": "",
           "title": {
            "standoff": 15
           },
           "zerolinecolor": "white",
           "zerolinewidth": 2
          },
          "yaxis": {
           "automargin": true,
           "gridcolor": "white",
           "linecolor": "white",
           "ticks": "",
           "title": {
            "standoff": 15
           },
           "zerolinecolor": "white",
           "zerolinewidth": 2
          }
         }
        },
        "title": {
         "text": "Age Distribution"
        },
        "xaxis": {
         "anchor": "y",
         "domain": [
          0,
          1
         ],
         "title": {
          "text": "Age"
         }
        },
        "yaxis": {
         "anchor": "x",
         "domain": [
          0,
          1
         ],
         "title": {
          "text": "count"
         }
        }
       }
      }
     },
     "metadata": {},
     "output_type": "display_data"
    }
   ],
   "source": [
    "plt = px.histogram(df, x='Age', title='Age Distribution')\n",
    "plt.show()"
   ]
  },
  {
   "cell_type": "markdown",
   "id": "4b65881d",
   "metadata": {},
   "source": [
    "Gender Distribution"
   ]
  },
  {
   "cell_type": "code",
   "execution_count": 14,
   "id": "2b2ba57c",
   "metadata": {},
   "outputs": [
    {
     "data": {
      "text/plain": [
       "Gender\n",
       "Female        370\n",
       "Male          360\n",
       "Non-binary    270\n",
       "Name: count, dtype: int64"
      ]
     },
     "execution_count": 14,
     "metadata": {},
     "output_type": "execute_result"
    }
   ],
   "source": [
    "df['Gender'].value_counts()"
   ]
  },
  {
   "cell_type": "code",
   "execution_count": 15,
   "id": "72e7b5f0",
   "metadata": {},
   "outputs": [
    {
     "data": {
      "application/vnd.plotly.v1+json": {
       "config": {
        "plotlyServerURL": "https://plot.ly"
       },
       "data": [
        {
         "alignmentgroup": "True",
         "bingroup": "x",
         "hovertemplate": "Gender=%{x}<br>count=%{y}<extra></extra>",
         "legendgroup": "",
         "marker": {
          "color": "#636efa",
          "pattern": {
           "shape": ""
          }
         },
         "name": "",
         "offsetgroup": "",
         "orientation": "v",
         "showlegend": false,
         "type": "histogram",
         "x": [
          "Female",
          "Male",
          "Non-binary",
          "Female",
          "Male",
          "Male",
          "Female",
          "Non-binary",
          "Female",
          "Male",
          "Female",
          "Non-binary",
          "Male",
          "Female",
          "Male",
          "Non-binary",
          "Female",
          "Male",
          "Non-binary",
          "Female",
          "Male",
          "Female",
          "Male",
          "Non-binary",
          "Female",
          "Male",
          "Non-binary",
          "Female",
          "Male",
          "Non-binary",
          "Female",
          "Male",
          "Non-binary",
          "Female",
          "Male",
          "Non-binary",
          "Female",
          "Male",
          "Female",
          "Non-binary",
          "Male",
          "Female",
          "Male",
          "Non-binary",
          "Female",
          "Male",
          "Female",
          "Non-binary",
          "Male",
          "Female",
          "Male",
          "Female",
          "Non-binary",
          "Female",
          "Male",
          "Female",
          "Male",
          "Non-binary",
          "Female",
          "Male",
          "Female",
          "Male",
          "Non-binary",
          "Female",
          "Male",
          "Non-binary",
          "Male",
          "Female",
          "Male",
          "Non-binary",
          "Female",
          "Male",
          "Non-binary",
          "Female",
          "Male",
          "Non-binary",
          "Female",
          "Male",
          "Non-binary",
          "Female",
          "Male",
          "Non-binary",
          "Female",
          "Male",
          "Non-binary",
          "Female",
          "Male",
          "Non-binary",
          "Female",
          "Male",
          "Non-binary",
          "Female",
          "Male",
          "Female",
          "Male",
          "Non-binary",
          "Female",
          "Male",
          "Non-binary",
          "Female",
          "Female",
          "Male",
          "Non-binary",
          "Female",
          "Male",
          "Male",
          "Female",
          "Non-binary",
          "Female",
          "Male",
          "Female",
          "Non-binary",
          "Male",
          "Female",
          "Male",
          "Non-binary",
          "Female",
          "Male",
          "Non-binary",
          "Female",
          "Male",
          "Female",
          "Male",
          "Non-binary",
          "Female",
          "Male",
          "Non-binary",
          "Female",
          "Male",
          "Non-binary",
          "Female",
          "Male",
          "Non-binary",
          "Female",
          "Male",
          "Non-binary",
          "Female",
          "Male",
          "Female",
          "Non-binary",
          "Male",
          "Female",
          "Male",
          "Non-binary",
          "Female",
          "Male",
          "Female",
          "Non-binary",
          "Male",
          "Female",
          "Male",
          "Female",
          "Non-binary",
          "Female",
          "Male",
          "Female",
          "Male",
          "Non-binary",
          "Female",
          "Male",
          "Female",
          "Male",
          "Non-binary",
          "Female",
          "Male",
          "Non-binary",
          "Male",
          "Female",
          "Male",
          "Non-binary",
          "Female",
          "Male",
          "Non-binary",
          "Female",
          "Male",
          "Non-binary",
          "Female",
          "Male",
          "Non-binary",
          "Female",
          "Male",
          "Non-binary",
          "Female",
          "Male",
          "Non-binary",
          "Female",
          "Male",
          "Non-binary",
          "Female",
          "Male",
          "Non-binary",
          "Female",
          "Male",
          "Female",
          "Male",
          "Non-binary",
          "Female",
          "Male",
          "Non-binary",
          "Female",
          "Female",
          "Male",
          "Non-binary",
          "Female",
          "Male",
          "Male",
          "Female",
          "Non-binary",
          "Female",
          "Male",
          "Female",
          "Non-binary",
          "Male",
          "Female",
          "Male",
          "Non-binary",
          "Female",
          "Male",
          "Non-binary",
          "Female",
          "Male",
          "Female",
          "Male",
          "Non-binary",
          "Female",
          "Male",
          "Non-binary",
          "Female",
          "Male",
          "Non-binary",
          "Female",
          "Male",
          "Non-binary",
          "Female",
          "Male",
          "Non-binary",
          "Female",
          "Male",
          "Female",
          "Non-binary",
          "Male",
          "Female",
          "Male",
          "Non-binary",
          "Female",
          "Male",
          "Female",
          "Non-binary",
          "Male",
          "Female",
          "Male",
          "Female",
          "Non-binary",
          "Female",
          "Male",
          "Female",
          "Male",
          "Non-binary",
          "Female",
          "Male",
          "Female",
          "Male",
          "Non-binary",
          "Female",
          "Male",
          "Non-binary",
          "Male",
          "Female",
          "Male",
          "Non-binary",
          "Female",
          "Male",
          "Non-binary",
          "Female",
          "Male",
          "Non-binary",
          "Female",
          "Male",
          "Non-binary",
          "Female",
          "Male",
          "Non-binary",
          "Female",
          "Male",
          "Non-binary",
          "Female",
          "Male",
          "Non-binary",
          "Female",
          "Male",
          "Non-binary",
          "Female",
          "Male",
          "Female",
          "Male",
          "Non-binary",
          "Female",
          "Male",
          "Non-binary",
          "Female",
          "Female",
          "Male",
          "Non-binary",
          "Female",
          "Male",
          "Male",
          "Female",
          "Non-binary",
          "Female",
          "Male",
          "Female",
          "Non-binary",
          "Male",
          "Female",
          "Male",
          "Non-binary",
          "Female",
          "Male",
          "Non-binary",
          "Female",
          "Male",
          "Female",
          "Male",
          "Non-binary",
          "Female",
          "Male",
          "Non-binary",
          "Female",
          "Male",
          "Non-binary",
          "Female",
          "Male",
          "Non-binary",
          "Female",
          "Male",
          "Non-binary",
          "Female",
          "Male",
          "Female",
          "Non-binary",
          "Male",
          "Female",
          "Male",
          "Non-binary",
          "Female",
          "Male",
          "Female",
          "Non-binary",
          "Male",
          "Female",
          "Male",
          "Female",
          "Non-binary",
          "Female",
          "Male",
          "Female",
          "Male",
          "Non-binary",
          "Female",
          "Male",
          "Female",
          "Male",
          "Non-binary",
          "Female",
          "Male",
          "Non-binary",
          "Male",
          "Female",
          "Male",
          "Non-binary",
          "Female",
          "Male",
          "Non-binary",
          "Female",
          "Male",
          "Non-binary",
          "Female",
          "Male",
          "Non-binary",
          "Female",
          "Male",
          "Non-binary",
          "Female",
          "Male",
          "Non-binary",
          "Female",
          "Male",
          "Non-binary",
          "Female",
          "Male",
          "Non-binary",
          "Female",
          "Male",
          "Female",
          "Male",
          "Non-binary",
          "Female",
          "Male",
          "Non-binary",
          "Female",
          "Female",
          "Male",
          "Non-binary",
          "Female",
          "Male",
          "Male",
          "Female",
          "Non-binary",
          "Female",
          "Male",
          "Female",
          "Non-binary",
          "Male",
          "Female",
          "Male",
          "Non-binary",
          "Female",
          "Male",
          "Non-binary",
          "Female",
          "Male",
          "Female",
          "Male",
          "Non-binary",
          "Female",
          "Male",
          "Non-binary",
          "Female",
          "Male",
          "Non-binary",
          "Female",
          "Male",
          "Non-binary",
          "Female",
          "Male",
          "Non-binary",
          "Female",
          "Male",
          "Female",
          "Non-binary",
          "Male",
          "Female",
          "Male",
          "Non-binary",
          "Female",
          "Male",
          "Female",
          "Non-binary",
          "Male",
          "Female",
          "Male",
          "Female",
          "Non-binary",
          "Female",
          "Male",
          "Female",
          "Male",
          "Non-binary",
          "Female",
          "Male",
          "Female",
          "Male",
          "Non-binary",
          "Female",
          "Male",
          "Non-binary",
          "Male",
          "Female",
          "Male",
          "Non-binary",
          "Female",
          "Male",
          "Non-binary",
          "Female",
          "Male",
          "Non-binary",
          "Female",
          "Male",
          "Non-binary",
          "Female",
          "Male",
          "Non-binary",
          "Female",
          "Male",
          "Non-binary",
          "Female",
          "Male",
          "Non-binary",
          "Female",
          "Male",
          "Non-binary",
          "Female",
          "Male",
          "Female",
          "Male",
          "Non-binary",
          "Female",
          "Male",
          "Non-binary",
          "Female",
          "Female",
          "Male",
          "Non-binary",
          "Female",
          "Male",
          "Male",
          "Female",
          "Non-binary",
          "Female",
          "Male",
          "Female",
          "Non-binary",
          "Male",
          "Female",
          "Male",
          "Non-binary",
          "Female",
          "Male",
          "Non-binary",
          "Female",
          "Male",
          "Female",
          "Male",
          "Non-binary",
          "Female",
          "Male",
          "Non-binary",
          "Female",
          "Male",
          "Non-binary",
          "Female",
          "Male",
          "Non-binary",
          "Female",
          "Male",
          "Non-binary",
          "Female",
          "Male",
          "Female",
          "Non-binary",
          "Male",
          "Female",
          "Male",
          "Non-binary",
          "Female",
          "Male",
          "Female",
          "Non-binary",
          "Male",
          "Female",
          "Male",
          "Female",
          "Non-binary",
          "Female",
          "Male",
          "Female",
          "Male",
          "Non-binary",
          "Female",
          "Male",
          "Female",
          "Male",
          "Non-binary",
          "Female",
          "Male",
          "Non-binary",
          "Male",
          "Female",
          "Male",
          "Non-binary",
          "Female",
          "Male",
          "Non-binary",
          "Female",
          "Male",
          "Non-binary",
          "Female",
          "Male",
          "Non-binary",
          "Female",
          "Male",
          "Non-binary",
          "Female",
          "Male",
          "Non-binary",
          "Female",
          "Male",
          "Non-binary",
          "Female",
          "Male",
          "Non-binary",
          "Female",
          "Male",
          "Female",
          "Male",
          "Non-binary",
          "Female",
          "Male",
          "Non-binary",
          "Female",
          "Female",
          "Male",
          "Non-binary",
          "Female",
          "Male",
          "Male",
          "Female",
          "Non-binary",
          "Female",
          "Male",
          "Female",
          "Non-binary",
          "Male",
          "Female",
          "Male",
          "Non-binary",
          "Female",
          "Male",
          "Non-binary",
          "Female",
          "Male",
          "Female",
          "Male",
          "Non-binary",
          "Female",
          "Male",
          "Non-binary",
          "Female",
          "Male",
          "Non-binary",
          "Female",
          "Male",
          "Non-binary",
          "Female",
          "Male",
          "Non-binary",
          "Female",
          "Male",
          "Female",
          "Non-binary",
          "Male",
          "Female",
          "Male",
          "Non-binary",
          "Female",
          "Male",
          "Female",
          "Non-binary",
          "Male",
          "Female",
          "Male",
          "Female",
          "Non-binary",
          "Female",
          "Male",
          "Female",
          "Male",
          "Non-binary",
          "Female",
          "Male",
          "Female",
          "Male",
          "Non-binary",
          "Female",
          "Male",
          "Non-binary",
          "Male",
          "Female",
          "Male",
          "Non-binary",
          "Female",
          "Male",
          "Non-binary",
          "Female",
          "Male",
          "Non-binary",
          "Female",
          "Male",
          "Non-binary",
          "Female",
          "Male",
          "Non-binary",
          "Female",
          "Male",
          "Non-binary",
          "Female",
          "Male",
          "Non-binary",
          "Female",
          "Male",
          "Non-binary",
          "Female",
          "Male",
          "Female",
          "Male",
          "Non-binary",
          "Female",
          "Male",
          "Non-binary",
          "Female",
          "Female",
          "Male",
          "Non-binary",
          "Female",
          "Male",
          "Male",
          "Female",
          "Non-binary",
          "Female",
          "Male",
          "Female",
          "Non-binary",
          "Male",
          "Female",
          "Male",
          "Non-binary",
          "Female",
          "Male",
          "Non-binary",
          "Female",
          "Male",
          "Female",
          "Male",
          "Non-binary",
          "Female",
          "Male",
          "Non-binary",
          "Female",
          "Male",
          "Non-binary",
          "Female",
          "Male",
          "Non-binary",
          "Female",
          "Male",
          "Non-binary",
          "Female",
          "Male",
          "Female",
          "Non-binary",
          "Male",
          "Female",
          "Male",
          "Non-binary",
          "Female",
          "Male",
          "Female",
          "Non-binary",
          "Male",
          "Female",
          "Male",
          "Female",
          "Non-binary",
          "Female",
          "Male",
          "Female",
          "Male",
          "Non-binary",
          "Female",
          "Male",
          "Female",
          "Male",
          "Non-binary",
          "Female",
          "Male",
          "Non-binary",
          "Male",
          "Female",
          "Male",
          "Non-binary",
          "Female",
          "Male",
          "Non-binary",
          "Female",
          "Male",
          "Non-binary",
          "Female",
          "Male",
          "Non-binary",
          "Female",
          "Male",
          "Non-binary",
          "Female",
          "Male",
          "Non-binary",
          "Female",
          "Male",
          "Non-binary",
          "Female",
          "Male",
          "Non-binary",
          "Female",
          "Male",
          "Female",
          "Male",
          "Non-binary",
          "Female",
          "Male",
          "Non-binary",
          "Female",
          "Female",
          "Male",
          "Non-binary",
          "Female",
          "Male",
          "Male",
          "Female",
          "Non-binary",
          "Female",
          "Male",
          "Female",
          "Non-binary",
          "Male",
          "Female",
          "Male",
          "Non-binary",
          "Female",
          "Male",
          "Non-binary",
          "Female",
          "Male",
          "Female",
          "Male",
          "Non-binary",
          "Female",
          "Male",
          "Non-binary",
          "Female",
          "Male",
          "Non-binary",
          "Female",
          "Male",
          "Non-binary",
          "Female",
          "Male",
          "Non-binary",
          "Female",
          "Male",
          "Female",
          "Non-binary",
          "Male",
          "Female",
          "Male",
          "Non-binary",
          "Female",
          "Male",
          "Female",
          "Non-binary",
          "Male",
          "Female",
          "Male",
          "Female",
          "Non-binary",
          "Female",
          "Male",
          "Female",
          "Male",
          "Non-binary",
          "Female",
          "Male",
          "Female",
          "Male",
          "Non-binary",
          "Female",
          "Male",
          "Non-binary",
          "Male",
          "Female",
          "Male",
          "Non-binary",
          "Female",
          "Male",
          "Non-binary",
          "Female",
          "Male",
          "Non-binary",
          "Female",
          "Male",
          "Non-binary",
          "Female",
          "Male",
          "Non-binary",
          "Female",
          "Male",
          "Non-binary",
          "Female",
          "Male",
          "Non-binary",
          "Female",
          "Male",
          "Non-binary",
          "Female",
          "Male",
          "Female",
          "Male",
          "Non-binary",
          "Female",
          "Male",
          "Non-binary",
          "Female",
          "Female",
          "Male",
          "Non-binary",
          "Female",
          "Male",
          "Male",
          "Female",
          "Non-binary",
          "Female",
          "Male",
          "Female",
          "Non-binary",
          "Male",
          "Female",
          "Male",
          "Non-binary",
          "Female",
          "Male",
          "Non-binary",
          "Female",
          "Male",
          "Female",
          "Male",
          "Non-binary",
          "Female",
          "Male",
          "Non-binary",
          "Female",
          "Male",
          "Non-binary",
          "Female",
          "Male",
          "Non-binary",
          "Female",
          "Male",
          "Non-binary",
          "Female",
          "Male",
          "Female",
          "Non-binary",
          "Male",
          "Female",
          "Male",
          "Non-binary",
          "Female",
          "Male",
          "Female",
          "Non-binary",
          "Male",
          "Female",
          "Male",
          "Female",
          "Non-binary",
          "Female",
          "Male",
          "Female",
          "Male",
          "Non-binary",
          "Female",
          "Male",
          "Female",
          "Male",
          "Non-binary",
          "Female",
          "Male",
          "Non-binary",
          "Male",
          "Female",
          "Male",
          "Non-binary",
          "Female",
          "Male",
          "Non-binary",
          "Female",
          "Male",
          "Non-binary",
          "Female",
          "Male",
          "Non-binary",
          "Female",
          "Male",
          "Non-binary",
          "Female",
          "Male",
          "Non-binary",
          "Female",
          "Male",
          "Non-binary",
          "Female",
          "Male",
          "Non-binary",
          "Female",
          "Male",
          "Female",
          "Male",
          "Non-binary",
          "Female",
          "Male",
          "Non-binary",
          "Female"
         ],
         "xaxis": "x",
         "yaxis": "y"
        }
       ],
       "layout": {
        "barmode": "relative",
        "legend": {
         "tracegroupgap": 0
        },
        "template": {
         "data": {
          "bar": [
           {
            "error_x": {
             "color": "#2a3f5f"
            },
            "error_y": {
             "color": "#2a3f5f"
            },
            "marker": {
             "line": {
              "color": "#E5ECF6",
              "width": 0.5
             },
             "pattern": {
              "fillmode": "overlay",
              "size": 10,
              "solidity": 0.2
             }
            },
            "type": "bar"
           }
          ],
          "barpolar": [
           {
            "marker": {
             "line": {
              "color": "#E5ECF6",
              "width": 0.5
             },
             "pattern": {
              "fillmode": "overlay",
              "size": 10,
              "solidity": 0.2
             }
            },
            "type": "barpolar"
           }
          ],
          "carpet": [
           {
            "aaxis": {
             "endlinecolor": "#2a3f5f",
             "gridcolor": "white",
             "linecolor": "white",
             "minorgridcolor": "white",
             "startlinecolor": "#2a3f5f"
            },
            "baxis": {
             "endlinecolor": "#2a3f5f",
             "gridcolor": "white",
             "linecolor": "white",
             "minorgridcolor": "white",
             "startlinecolor": "#2a3f5f"
            },
            "type": "carpet"
           }
          ],
          "choropleth": [
           {
            "colorbar": {
             "outlinewidth": 0,
             "ticks": ""
            },
            "type": "choropleth"
           }
          ],
          "contour": [
           {
            "colorbar": {
             "outlinewidth": 0,
             "ticks": ""
            },
            "colorscale": [
             [
              0,
              "#0d0887"
             ],
             [
              0.1111111111111111,
              "#46039f"
             ],
             [
              0.2222222222222222,
              "#7201a8"
             ],
             [
              0.3333333333333333,
              "#9c179e"
             ],
             [
              0.4444444444444444,
              "#bd3786"
             ],
             [
              0.5555555555555556,
              "#d8576b"
             ],
             [
              0.6666666666666666,
              "#ed7953"
             ],
             [
              0.7777777777777778,
              "#fb9f3a"
             ],
             [
              0.8888888888888888,
              "#fdca26"
             ],
             [
              1,
              "#f0f921"
             ]
            ],
            "type": "contour"
           }
          ],
          "contourcarpet": [
           {
            "colorbar": {
             "outlinewidth": 0,
             "ticks": ""
            },
            "type": "contourcarpet"
           }
          ],
          "heatmap": [
           {
            "colorbar": {
             "outlinewidth": 0,
             "ticks": ""
            },
            "colorscale": [
             [
              0,
              "#0d0887"
             ],
             [
              0.1111111111111111,
              "#46039f"
             ],
             [
              0.2222222222222222,
              "#7201a8"
             ],
             [
              0.3333333333333333,
              "#9c179e"
             ],
             [
              0.4444444444444444,
              "#bd3786"
             ],
             [
              0.5555555555555556,
              "#d8576b"
             ],
             [
              0.6666666666666666,
              "#ed7953"
             ],
             [
              0.7777777777777778,
              "#fb9f3a"
             ],
             [
              0.8888888888888888,
              "#fdca26"
             ],
             [
              1,
              "#f0f921"
             ]
            ],
            "type": "heatmap"
           }
          ],
          "heatmapgl": [
           {
            "colorbar": {
             "outlinewidth": 0,
             "ticks": ""
            },
            "colorscale": [
             [
              0,
              "#0d0887"
             ],
             [
              0.1111111111111111,
              "#46039f"
             ],
             [
              0.2222222222222222,
              "#7201a8"
             ],
             [
              0.3333333333333333,
              "#9c179e"
             ],
             [
              0.4444444444444444,
              "#bd3786"
             ],
             [
              0.5555555555555556,
              "#d8576b"
             ],
             [
              0.6666666666666666,
              "#ed7953"
             ],
             [
              0.7777777777777778,
              "#fb9f3a"
             ],
             [
              0.8888888888888888,
              "#fdca26"
             ],
             [
              1,
              "#f0f921"
             ]
            ],
            "type": "heatmapgl"
           }
          ],
          "histogram": [
           {
            "marker": {
             "pattern": {
              "fillmode": "overlay",
              "size": 10,
              "solidity": 0.2
             }
            },
            "type": "histogram"
           }
          ],
          "histogram2d": [
           {
            "colorbar": {
             "outlinewidth": 0,
             "ticks": ""
            },
            "colorscale": [
             [
              0,
              "#0d0887"
             ],
             [
              0.1111111111111111,
              "#46039f"
             ],
             [
              0.2222222222222222,
              "#7201a8"
             ],
             [
              0.3333333333333333,
              "#9c179e"
             ],
             [
              0.4444444444444444,
              "#bd3786"
             ],
             [
              0.5555555555555556,
              "#d8576b"
             ],
             [
              0.6666666666666666,
              "#ed7953"
             ],
             [
              0.7777777777777778,
              "#fb9f3a"
             ],
             [
              0.8888888888888888,
              "#fdca26"
             ],
             [
              1,
              "#f0f921"
             ]
            ],
            "type": "histogram2d"
           }
          ],
          "histogram2dcontour": [
           {
            "colorbar": {
             "outlinewidth": 0,
             "ticks": ""
            },
            "colorscale": [
             [
              0,
              "#0d0887"
             ],
             [
              0.1111111111111111,
              "#46039f"
             ],
             [
              0.2222222222222222,
              "#7201a8"
             ],
             [
              0.3333333333333333,
              "#9c179e"
             ],
             [
              0.4444444444444444,
              "#bd3786"
             ],
             [
              0.5555555555555556,
              "#d8576b"
             ],
             [
              0.6666666666666666,
              "#ed7953"
             ],
             [
              0.7777777777777778,
              "#fb9f3a"
             ],
             [
              0.8888888888888888,
              "#fdca26"
             ],
             [
              1,
              "#f0f921"
             ]
            ],
            "type": "histogram2dcontour"
           }
          ],
          "mesh3d": [
           {
            "colorbar": {
             "outlinewidth": 0,
             "ticks": ""
            },
            "type": "mesh3d"
           }
          ],
          "parcoords": [
           {
            "line": {
             "colorbar": {
              "outlinewidth": 0,
              "ticks": ""
             }
            },
            "type": "parcoords"
           }
          ],
          "pie": [
           {
            "automargin": true,
            "type": "pie"
           }
          ],
          "scatter": [
           {
            "fillpattern": {
             "fillmode": "overlay",
             "size": 10,
             "solidity": 0.2
            },
            "type": "scatter"
           }
          ],
          "scatter3d": [
           {
            "line": {
             "colorbar": {
              "outlinewidth": 0,
              "ticks": ""
             }
            },
            "marker": {
             "colorbar": {
              "outlinewidth": 0,
              "ticks": ""
             }
            },
            "type": "scatter3d"
           }
          ],
          "scattercarpet": [
           {
            "marker": {
             "colorbar": {
              "outlinewidth": 0,
              "ticks": ""
             }
            },
            "type": "scattercarpet"
           }
          ],
          "scattergeo": [
           {
            "marker": {
             "colorbar": {
              "outlinewidth": 0,
              "ticks": ""
             }
            },
            "type": "scattergeo"
           }
          ],
          "scattergl": [
           {
            "marker": {
             "colorbar": {
              "outlinewidth": 0,
              "ticks": ""
             }
            },
            "type": "scattergl"
           }
          ],
          "scattermapbox": [
           {
            "marker": {
             "colorbar": {
              "outlinewidth": 0,
              "ticks": ""
             }
            },
            "type": "scattermapbox"
           }
          ],
          "scatterpolar": [
           {
            "marker": {
             "colorbar": {
              "outlinewidth": 0,
              "ticks": ""
             }
            },
            "type": "scatterpolar"
           }
          ],
          "scatterpolargl": [
           {
            "marker": {
             "colorbar": {
              "outlinewidth": 0,
              "ticks": ""
             }
            },
            "type": "scatterpolargl"
           }
          ],
          "scatterternary": [
           {
            "marker": {
             "colorbar": {
              "outlinewidth": 0,
              "ticks": ""
             }
            },
            "type": "scatterternary"
           }
          ],
          "surface": [
           {
            "colorbar": {
             "outlinewidth": 0,
             "ticks": ""
            },
            "colorscale": [
             [
              0,
              "#0d0887"
             ],
             [
              0.1111111111111111,
              "#46039f"
             ],
             [
              0.2222222222222222,
              "#7201a8"
             ],
             [
              0.3333333333333333,
              "#9c179e"
             ],
             [
              0.4444444444444444,
              "#bd3786"
             ],
             [
              0.5555555555555556,
              "#d8576b"
             ],
             [
              0.6666666666666666,
              "#ed7953"
             ],
             [
              0.7777777777777778,
              "#fb9f3a"
             ],
             [
              0.8888888888888888,
              "#fdca26"
             ],
             [
              1,
              "#f0f921"
             ]
            ],
            "type": "surface"
           }
          ],
          "table": [
           {
            "cells": {
             "fill": {
              "color": "#EBF0F8"
             },
             "line": {
              "color": "white"
             }
            },
            "header": {
             "fill": {
              "color": "#C8D4E3"
             },
             "line": {
              "color": "white"
             }
            },
            "type": "table"
           }
          ]
         },
         "layout": {
          "annotationdefaults": {
           "arrowcolor": "#2a3f5f",
           "arrowhead": 0,
           "arrowwidth": 1
          },
          "autotypenumbers": "strict",
          "coloraxis": {
           "colorbar": {
            "outlinewidth": 0,
            "ticks": ""
           }
          },
          "colorscale": {
           "diverging": [
            [
             0,
             "#8e0152"
            ],
            [
             0.1,
             "#c51b7d"
            ],
            [
             0.2,
             "#de77ae"
            ],
            [
             0.3,
             "#f1b6da"
            ],
            [
             0.4,
             "#fde0ef"
            ],
            [
             0.5,
             "#f7f7f7"
            ],
            [
             0.6,
             "#e6f5d0"
            ],
            [
             0.7,
             "#b8e186"
            ],
            [
             0.8,
             "#7fbc41"
            ],
            [
             0.9,
             "#4d9221"
            ],
            [
             1,
             "#276419"
            ]
           ],
           "sequential": [
            [
             0,
             "#0d0887"
            ],
            [
             0.1111111111111111,
             "#46039f"
            ],
            [
             0.2222222222222222,
             "#7201a8"
            ],
            [
             0.3333333333333333,
             "#9c179e"
            ],
            [
             0.4444444444444444,
             "#bd3786"
            ],
            [
             0.5555555555555556,
             "#d8576b"
            ],
            [
             0.6666666666666666,
             "#ed7953"
            ],
            [
             0.7777777777777778,
             "#fb9f3a"
            ],
            [
             0.8888888888888888,
             "#fdca26"
            ],
            [
             1,
             "#f0f921"
            ]
           ],
           "sequentialminus": [
            [
             0,
             "#0d0887"
            ],
            [
             0.1111111111111111,
             "#46039f"
            ],
            [
             0.2222222222222222,
             "#7201a8"
            ],
            [
             0.3333333333333333,
             "#9c179e"
            ],
            [
             0.4444444444444444,
             "#bd3786"
            ],
            [
             0.5555555555555556,
             "#d8576b"
            ],
            [
             0.6666666666666666,
             "#ed7953"
            ],
            [
             0.7777777777777778,
             "#fb9f3a"
            ],
            [
             0.8888888888888888,
             "#fdca26"
            ],
            [
             1,
             "#f0f921"
            ]
           ]
          },
          "colorway": [
           "#636efa",
           "#EF553B",
           "#00cc96",
           "#ab63fa",
           "#FFA15A",
           "#19d3f3",
           "#FF6692",
           "#B6E880",
           "#FF97FF",
           "#FECB52"
          ],
          "font": {
           "color": "#2a3f5f"
          },
          "geo": {
           "bgcolor": "white",
           "lakecolor": "white",
           "landcolor": "#E5ECF6",
           "showlakes": true,
           "showland": true,
           "subunitcolor": "white"
          },
          "hoverlabel": {
           "align": "left"
          },
          "hovermode": "closest",
          "mapbox": {
           "style": "light"
          },
          "paper_bgcolor": "white",
          "plot_bgcolor": "#E5ECF6",
          "polar": {
           "angularaxis": {
            "gridcolor": "white",
            "linecolor": "white",
            "ticks": ""
           },
           "bgcolor": "#E5ECF6",
           "radialaxis": {
            "gridcolor": "white",
            "linecolor": "white",
            "ticks": ""
           }
          },
          "scene": {
           "xaxis": {
            "backgroundcolor": "#E5ECF6",
            "gridcolor": "white",
            "gridwidth": 2,
            "linecolor": "white",
            "showbackground": true,
            "ticks": "",
            "zerolinecolor": "white"
           },
           "yaxis": {
            "backgroundcolor": "#E5ECF6",
            "gridcolor": "white",
            "gridwidth": 2,
            "linecolor": "white",
            "showbackground": true,
            "ticks": "",
            "zerolinecolor": "white"
           },
           "zaxis": {
            "backgroundcolor": "#E5ECF6",
            "gridcolor": "white",
            "gridwidth": 2,
            "linecolor": "white",
            "showbackground": true,
            "ticks": "",
            "zerolinecolor": "white"
           }
          },
          "shapedefaults": {
           "line": {
            "color": "#2a3f5f"
           }
          },
          "ternary": {
           "aaxis": {
            "gridcolor": "white",
            "linecolor": "white",
            "ticks": ""
           },
           "baxis": {
            "gridcolor": "white",
            "linecolor": "white",
            "ticks": ""
           },
           "bgcolor": "#E5ECF6",
           "caxis": {
            "gridcolor": "white",
            "linecolor": "white",
            "ticks": ""
           }
          },
          "title": {
           "x": 0.05
          },
          "xaxis": {
           "automargin": true,
           "gridcolor": "white",
           "linecolor": "white",
           "ticks": "",
           "title": {
            "standoff": 15
           },
           "zerolinecolor": "white",
           "zerolinewidth": 2
          },
          "yaxis": {
           "automargin": true,
           "gridcolor": "white",
           "linecolor": "white",
           "ticks": "",
           "title": {
            "standoff": 15
           },
           "zerolinecolor": "white",
           "zerolinewidth": 2
          }
         }
        },
        "title": {
         "text": "Gender Distribution"
        },
        "xaxis": {
         "anchor": "y",
         "domain": [
          0,
          1
         ],
         "title": {
          "text": "Gender"
         }
        },
        "yaxis": {
         "anchor": "x",
         "domain": [
          0,
          1
         ],
         "title": {
          "text": "count"
         }
        }
       }
      }
     },
     "metadata": {},
     "output_type": "display_data"
    }
   ],
   "source": [
    "plt = px.histogram(df, x='Gender', title='Gender Distribution')\n",
    "plt.show()"
   ]
  },
  {
   "cell_type": "markdown",
   "id": "ecfbff59",
   "metadata": {},
   "source": [
    "Platform Distribution"
   ]
  },
  {
   "cell_type": "code",
   "execution_count": 16,
   "id": "6b9c89e6",
   "metadata": {},
   "outputs": [
    {
     "data": {
      "text/plain": [
       "Platform\n",
       "Instagram    250\n",
       "Twitter      200\n",
       "Facebook     190\n",
       "LinkedIn     120\n",
       "Whatsapp      80\n",
       "Telegram      80\n",
       "Snapchat      80\n",
       "Name: count, dtype: int64"
      ]
     },
     "execution_count": 16,
     "metadata": {},
     "output_type": "execute_result"
    }
   ],
   "source": [
    "df['Platform'].value_counts()"
   ]
  },
  {
   "cell_type": "code",
   "execution_count": 17,
   "id": "c77cf7ae",
   "metadata": {},
   "outputs": [
    {
     "data": {
      "application/vnd.plotly.v1+json": {
       "config": {
        "plotlyServerURL": "https://plot.ly"
       },
       "data": [
        {
         "alignmentgroup": "True",
         "bingroup": "x",
         "hovertemplate": "Platform=%{x}<br>count=%{y}<extra></extra>",
         "legendgroup": "",
         "marker": {
          "color": "#636efa",
          "pattern": {
           "shape": ""
          }
         },
         "name": "",
         "offsetgroup": "",
         "orientation": "v",
         "showlegend": false,
         "type": "histogram",
         "x": [
          "Instagram",
          "Twitter",
          "Facebook",
          "Instagram",
          "LinkedIn",
          "Instagram",
          "Twitter",
          "Facebook",
          "LinkedIn",
          "Instagram",
          "Twitter",
          "Facebook",
          "LinkedIn",
          "Instagram",
          "Twitter",
          "Facebook",
          "Instagram",
          "Twitter",
          "LinkedIn",
          "Instagram",
          "Facebook",
          "Twitter",
          "LinkedIn",
          "Instagram",
          "Twitter",
          "Facebook",
          "LinkedIn",
          "Instagram",
          "Twitter",
          "Facebook",
          "LinkedIn",
          "Instagram",
          "Twitter",
          "Instagram",
          "Facebook",
          "LinkedIn",
          "Instagram",
          "Twitter",
          "Instagram",
          "Facebook",
          "LinkedIn",
          "Instagram",
          "Twitter",
          "Facebook",
          "LinkedIn",
          "Instagram",
          "Twitter",
          "Facebook",
          "Instagram",
          "LinkedIn",
          "Instagram",
          "Twitter",
          "Facebook",
          "Instagram",
          "LinkedIn",
          "Whatsapp",
          "Telegram",
          "Snapchat",
          "Twitter",
          "Facebook",
          "Instagram",
          "Whatsapp",
          "Telegram",
          "Snapchat",
          "Twitter",
          "Facebook",
          "Instagram",
          "Whatsapp",
          "Telegram",
          "Snapchat",
          "Instagram",
          "Twitter",
          "Facebook",
          "Whatsapp",
          "Telegram",
          "Snapchat",
          "Instagram",
          "Twitter",
          "Facebook",
          "Whatsapp",
          "Telegram",
          "Snapchat",
          "Instagram",
          "Twitter",
          "Facebook",
          "Whatsapp",
          "Telegram",
          "Snapchat",
          "Instagram",
          "Twitter",
          "Facebook",
          "Whatsapp",
          "Telegram",
          "Snapchat",
          "Instagram",
          "Twitter",
          "Facebook",
          "Whatsapp",
          "Telegram",
          "Snapchat",
          "Instagram",
          "Twitter",
          "Facebook",
          "Instagram",
          "LinkedIn",
          "Instagram",
          "Twitter",
          "Facebook",
          "LinkedIn",
          "Instagram",
          "Twitter",
          "Facebook",
          "LinkedIn",
          "Instagram",
          "Twitter",
          "Facebook",
          "Instagram",
          "Twitter",
          "LinkedIn",
          "Instagram",
          "Facebook",
          "Twitter",
          "LinkedIn",
          "Instagram",
          "Twitter",
          "Facebook",
          "LinkedIn",
          "Instagram",
          "Twitter",
          "Facebook",
          "LinkedIn",
          "Instagram",
          "Twitter",
          "Instagram",
          "Facebook",
          "LinkedIn",
          "Instagram",
          "Twitter",
          "Instagram",
          "Facebook",
          "LinkedIn",
          "Instagram",
          "Twitter",
          "Facebook",
          "LinkedIn",
          "Instagram",
          "Twitter",
          "Facebook",
          "Instagram",
          "LinkedIn",
          "Instagram",
          "Twitter",
          "Facebook",
          "Instagram",
          "LinkedIn",
          "Whatsapp",
          "Telegram",
          "Snapchat",
          "Twitter",
          "Facebook",
          "Instagram",
          "Whatsapp",
          "Telegram",
          "Snapchat",
          "Twitter",
          "Facebook",
          "Instagram",
          "Whatsapp",
          "Telegram",
          "Snapchat",
          "Instagram",
          "Twitter",
          "Facebook",
          "Whatsapp",
          "Telegram",
          "Snapchat",
          "Instagram",
          "Twitter",
          "Facebook",
          "Whatsapp",
          "Telegram",
          "Snapchat",
          "Instagram",
          "Twitter",
          "Facebook",
          "Whatsapp",
          "Telegram",
          "Snapchat",
          "Instagram",
          "Twitter",
          "Facebook",
          "Whatsapp",
          "Telegram",
          "Snapchat",
          "Instagram",
          "Twitter",
          "Facebook",
          "Whatsapp",
          "Telegram",
          "Snapchat",
          "Instagram",
          "Twitter",
          "Facebook",
          "Instagram",
          "LinkedIn",
          "Instagram",
          "Twitter",
          "Facebook",
          "LinkedIn",
          "Instagram",
          "Twitter",
          "Facebook",
          "LinkedIn",
          "Instagram",
          "Twitter",
          "Facebook",
          "Instagram",
          "Twitter",
          "LinkedIn",
          "Instagram",
          "Facebook",
          "Twitter",
          "LinkedIn",
          "Instagram",
          "Twitter",
          "Facebook",
          "LinkedIn",
          "Instagram",
          "Twitter",
          "Facebook",
          "LinkedIn",
          "Instagram",
          "Twitter",
          "Instagram",
          "Facebook",
          "LinkedIn",
          "Instagram",
          "Twitter",
          "Instagram",
          "Facebook",
          "LinkedIn",
          "Instagram",
          "Twitter",
          "Facebook",
          "LinkedIn",
          "Instagram",
          "Twitter",
          "Facebook",
          "Instagram",
          "LinkedIn",
          "Instagram",
          "Twitter",
          "Facebook",
          "Instagram",
          "LinkedIn",
          "Whatsapp",
          "Telegram",
          "Snapchat",
          "Twitter",
          "Facebook",
          "Instagram",
          "Whatsapp",
          "Telegram",
          "Snapchat",
          "Twitter",
          "Facebook",
          "Instagram",
          "Whatsapp",
          "Telegram",
          "Snapchat",
          "Instagram",
          "Twitter",
          "Facebook",
          "Whatsapp",
          "Telegram",
          "Snapchat",
          "Instagram",
          "Twitter",
          "Facebook",
          "Whatsapp",
          "Telegram",
          "Snapchat",
          "Instagram",
          "Twitter",
          "Facebook",
          "Whatsapp",
          "Telegram",
          "Snapchat",
          "Instagram",
          "Twitter",
          "Facebook",
          "Whatsapp",
          "Telegram",
          "Snapchat",
          "Instagram",
          "Twitter",
          "Facebook",
          "Whatsapp",
          "Telegram",
          "Snapchat",
          "Instagram",
          "Twitter",
          "Facebook",
          "Instagram",
          "LinkedIn",
          "Instagram",
          "Twitter",
          "Facebook",
          "LinkedIn",
          "Instagram",
          "Twitter",
          "Facebook",
          "LinkedIn",
          "Instagram",
          "Twitter",
          "Facebook",
          "Instagram",
          "Twitter",
          "LinkedIn",
          "Instagram",
          "Facebook",
          "Twitter",
          "LinkedIn",
          "Instagram",
          "Twitter",
          "Facebook",
          "LinkedIn",
          "Instagram",
          "Twitter",
          "Facebook",
          "LinkedIn",
          "Instagram",
          "Twitter",
          "Instagram",
          "Facebook",
          "LinkedIn",
          "Instagram",
          "Twitter",
          "Instagram",
          "Facebook",
          "LinkedIn",
          "Instagram",
          "Twitter",
          "Facebook",
          "LinkedIn",
          "Instagram",
          "Twitter",
          "Facebook",
          "Instagram",
          "LinkedIn",
          "Instagram",
          "Twitter",
          "Facebook",
          "Instagram",
          "LinkedIn",
          "Whatsapp",
          "Telegram",
          "Snapchat",
          "Twitter",
          "Facebook",
          "Instagram",
          "Whatsapp",
          "Telegram",
          "Snapchat",
          "Twitter",
          "Facebook",
          "Instagram",
          "Whatsapp",
          "Telegram",
          "Snapchat",
          "Instagram",
          "Twitter",
          "Facebook",
          "Whatsapp",
          "Telegram",
          "Snapchat",
          "Instagram",
          "Twitter",
          "Facebook",
          "Whatsapp",
          "Telegram",
          "Snapchat",
          "Instagram",
          "Twitter",
          "Facebook",
          "Whatsapp",
          "Telegram",
          "Snapchat",
          "Instagram",
          "Twitter",
          "Facebook",
          "Whatsapp",
          "Telegram",
          "Snapchat",
          "Instagram",
          "Twitter",
          "Facebook",
          "Whatsapp",
          "Telegram",
          "Snapchat",
          "Instagram",
          "Twitter",
          "Facebook",
          "Instagram",
          "LinkedIn",
          "Instagram",
          "Twitter",
          "Facebook",
          "LinkedIn",
          "Instagram",
          "Twitter",
          "Facebook",
          "LinkedIn",
          "Instagram",
          "Twitter",
          "Facebook",
          "Instagram",
          "Twitter",
          "LinkedIn",
          "Instagram",
          "Facebook",
          "Twitter",
          "LinkedIn",
          "Instagram",
          "Twitter",
          "Facebook",
          "LinkedIn",
          "Instagram",
          "Twitter",
          "Facebook",
          "LinkedIn",
          "Instagram",
          "Twitter",
          "Instagram",
          "Facebook",
          "LinkedIn",
          "Instagram",
          "Twitter",
          "Instagram",
          "Facebook",
          "LinkedIn",
          "Instagram",
          "Twitter",
          "Facebook",
          "LinkedIn",
          "Instagram",
          "Twitter",
          "Facebook",
          "Instagram",
          "LinkedIn",
          "Instagram",
          "Twitter",
          "Facebook",
          "Instagram",
          "LinkedIn",
          "Whatsapp",
          "Telegram",
          "Snapchat",
          "Twitter",
          "Facebook",
          "Instagram",
          "Whatsapp",
          "Telegram",
          "Snapchat",
          "Twitter",
          "Facebook",
          "Instagram",
          "Whatsapp",
          "Telegram",
          "Snapchat",
          "Instagram",
          "Twitter",
          "Facebook",
          "Whatsapp",
          "Telegram",
          "Snapchat",
          "Instagram",
          "Twitter",
          "Facebook",
          "Whatsapp",
          "Telegram",
          "Snapchat",
          "Instagram",
          "Twitter",
          "Facebook",
          "Whatsapp",
          "Telegram",
          "Snapchat",
          "Instagram",
          "Twitter",
          "Facebook",
          "Whatsapp",
          "Telegram",
          "Snapchat",
          "Instagram",
          "Twitter",
          "Facebook",
          "Whatsapp",
          "Telegram",
          "Snapchat",
          "Instagram",
          "Twitter",
          "Facebook",
          "Instagram",
          "LinkedIn",
          "Instagram",
          "Twitter",
          "Facebook",
          "LinkedIn",
          "Instagram",
          "Twitter",
          "Facebook",
          "LinkedIn",
          "Instagram",
          "Twitter",
          "Facebook",
          "Instagram",
          "Twitter",
          "LinkedIn",
          "Instagram",
          "Facebook",
          "Twitter",
          "LinkedIn",
          "Instagram",
          "Twitter",
          "Facebook",
          "LinkedIn",
          "Instagram",
          "Twitter",
          "Facebook",
          "LinkedIn",
          "Instagram",
          "Twitter",
          "Instagram",
          "Facebook",
          "LinkedIn",
          "Instagram",
          "Twitter",
          "Instagram",
          "Facebook",
          "LinkedIn",
          "Instagram",
          "Twitter",
          "Facebook",
          "LinkedIn",
          "Instagram",
          "Twitter",
          "Facebook",
          "Instagram",
          "LinkedIn",
          "Instagram",
          "Twitter",
          "Facebook",
          "Instagram",
          "LinkedIn",
          "Whatsapp",
          "Telegram",
          "Snapchat",
          "Twitter",
          "Facebook",
          "Instagram",
          "Whatsapp",
          "Telegram",
          "Snapchat",
          "Twitter",
          "Facebook",
          "Instagram",
          "Whatsapp",
          "Telegram",
          "Snapchat",
          "Instagram",
          "Twitter",
          "Facebook",
          "Whatsapp",
          "Telegram",
          "Snapchat",
          "Instagram",
          "Twitter",
          "Facebook",
          "Whatsapp",
          "Telegram",
          "Snapchat",
          "Instagram",
          "Twitter",
          "Facebook",
          "Whatsapp",
          "Telegram",
          "Snapchat",
          "Instagram",
          "Twitter",
          "Facebook",
          "Whatsapp",
          "Telegram",
          "Snapchat",
          "Instagram",
          "Twitter",
          "Facebook",
          "Whatsapp",
          "Telegram",
          "Snapchat",
          "Instagram",
          "Twitter",
          "Facebook",
          "Instagram",
          "LinkedIn",
          "Instagram",
          "Twitter",
          "Facebook",
          "LinkedIn",
          "Instagram",
          "Twitter",
          "Facebook",
          "LinkedIn",
          "Instagram",
          "Twitter",
          "Facebook",
          "Instagram",
          "Twitter",
          "LinkedIn",
          "Instagram",
          "Facebook",
          "Twitter",
          "LinkedIn",
          "Instagram",
          "Twitter",
          "Facebook",
          "LinkedIn",
          "Instagram",
          "Twitter",
          "Facebook",
          "LinkedIn",
          "Instagram",
          "Twitter",
          "Instagram",
          "Facebook",
          "LinkedIn",
          "Instagram",
          "Twitter",
          "Instagram",
          "Facebook",
          "LinkedIn",
          "Instagram",
          "Twitter",
          "Facebook",
          "LinkedIn",
          "Instagram",
          "Twitter",
          "Facebook",
          "Instagram",
          "LinkedIn",
          "Instagram",
          "Twitter",
          "Facebook",
          "Instagram",
          "LinkedIn",
          "Whatsapp",
          "Telegram",
          "Snapchat",
          "Twitter",
          "Facebook",
          "Instagram",
          "Whatsapp",
          "Telegram",
          "Snapchat",
          "Twitter",
          "Facebook",
          "Instagram",
          "Whatsapp",
          "Telegram",
          "Snapchat",
          "Instagram",
          "Twitter",
          "Facebook",
          "Whatsapp",
          "Telegram",
          "Snapchat",
          "Instagram",
          "Twitter",
          "Facebook",
          "Whatsapp",
          "Telegram",
          "Snapchat",
          "Instagram",
          "Twitter",
          "Facebook",
          "Whatsapp",
          "Telegram",
          "Snapchat",
          "Instagram",
          "Twitter",
          "Facebook",
          "Whatsapp",
          "Telegram",
          "Snapchat",
          "Instagram",
          "Twitter",
          "Facebook",
          "Whatsapp",
          "Telegram",
          "Snapchat",
          "Instagram",
          "Twitter",
          "Facebook",
          "Instagram",
          "LinkedIn",
          "Instagram",
          "Twitter",
          "Facebook",
          "LinkedIn",
          "Instagram",
          "Twitter",
          "Facebook",
          "LinkedIn",
          "Instagram",
          "Twitter",
          "Facebook",
          "Instagram",
          "Twitter",
          "LinkedIn",
          "Instagram",
          "Facebook",
          "Twitter",
          "LinkedIn",
          "Instagram",
          "Twitter",
          "Facebook",
          "LinkedIn",
          "Instagram",
          "Twitter",
          "Facebook",
          "LinkedIn",
          "Instagram",
          "Twitter",
          "Instagram",
          "Facebook",
          "LinkedIn",
          "Instagram",
          "Twitter",
          "Instagram",
          "Facebook",
          "LinkedIn",
          "Instagram",
          "Twitter",
          "Facebook",
          "LinkedIn",
          "Instagram",
          "Twitter",
          "Facebook",
          "Instagram",
          "LinkedIn",
          "Instagram",
          "Twitter",
          "Facebook",
          "Instagram",
          "LinkedIn",
          "Whatsapp",
          "Telegram",
          "Snapchat",
          "Twitter",
          "Facebook",
          "Instagram",
          "Whatsapp",
          "Telegram",
          "Snapchat",
          "Twitter",
          "Facebook",
          "Instagram",
          "Whatsapp",
          "Telegram",
          "Snapchat",
          "Instagram",
          "Twitter",
          "Facebook",
          "Whatsapp",
          "Telegram",
          "Snapchat",
          "Instagram",
          "Twitter",
          "Facebook",
          "Whatsapp",
          "Telegram",
          "Snapchat",
          "Instagram",
          "Twitter",
          "Facebook",
          "Whatsapp",
          "Telegram",
          "Snapchat",
          "Instagram",
          "Twitter",
          "Facebook",
          "Whatsapp",
          "Telegram",
          "Snapchat",
          "Instagram",
          "Twitter",
          "Facebook",
          "Whatsapp",
          "Telegram",
          "Snapchat",
          "Instagram",
          "Twitter",
          "Facebook",
          "Instagram",
          "LinkedIn",
          "Instagram",
          "Twitter",
          "Facebook",
          "LinkedIn",
          "Instagram",
          "Twitter",
          "Facebook",
          "LinkedIn",
          "Instagram",
          "Twitter",
          "Facebook",
          "Instagram",
          "Twitter",
          "LinkedIn",
          "Instagram",
          "Facebook",
          "Twitter",
          "LinkedIn",
          "Instagram",
          "Twitter",
          "Facebook",
          "LinkedIn",
          "Instagram",
          "Twitter",
          "Facebook",
          "LinkedIn",
          "Instagram",
          "Twitter",
          "Instagram",
          "Facebook",
          "LinkedIn",
          "Instagram",
          "Twitter",
          "Instagram",
          "Facebook",
          "LinkedIn",
          "Instagram",
          "Twitter",
          "Facebook",
          "LinkedIn",
          "Instagram",
          "Twitter",
          "Facebook",
          "Instagram",
          "LinkedIn",
          "Instagram",
          "Twitter",
          "Facebook",
          "Instagram",
          "LinkedIn",
          "Whatsapp",
          "Telegram",
          "Snapchat",
          "Twitter",
          "Facebook",
          "Instagram",
          "Whatsapp",
          "Telegram",
          "Snapchat",
          "Twitter",
          "Facebook",
          "Instagram",
          "Whatsapp",
          "Telegram",
          "Snapchat",
          "Instagram",
          "Twitter",
          "Facebook",
          "Whatsapp",
          "Telegram",
          "Snapchat",
          "Instagram",
          "Twitter",
          "Facebook",
          "Whatsapp",
          "Telegram",
          "Snapchat",
          "Instagram",
          "Twitter",
          "Facebook",
          "Whatsapp",
          "Telegram",
          "Snapchat",
          "Instagram",
          "Twitter",
          "Facebook",
          "Whatsapp",
          "Telegram",
          "Snapchat",
          "Instagram",
          "Twitter",
          "Facebook",
          "Whatsapp",
          "Telegram",
          "Snapchat",
          "Instagram",
          "Twitter",
          "Facebook",
          "Instagram",
          "LinkedIn",
          "Instagram",
          "Twitter",
          "Facebook",
          "LinkedIn",
          "Instagram",
          "Twitter",
          "Facebook",
          "LinkedIn",
          "Instagram",
          "Twitter",
          "Facebook",
          "Instagram",
          "Twitter",
          "LinkedIn",
          "Instagram",
          "Facebook",
          "Twitter",
          "LinkedIn",
          "Instagram",
          "Twitter",
          "Facebook",
          "LinkedIn",
          "Instagram",
          "Twitter",
          "Facebook",
          "LinkedIn",
          "Instagram",
          "Twitter",
          "Instagram",
          "Facebook",
          "LinkedIn",
          "Instagram",
          "Twitter",
          "Instagram",
          "Facebook",
          "LinkedIn",
          "Instagram",
          "Twitter",
          "Facebook",
          "LinkedIn",
          "Instagram",
          "Twitter",
          "Facebook",
          "Instagram",
          "LinkedIn",
          "Instagram",
          "Twitter",
          "Facebook",
          "Instagram",
          "LinkedIn",
          "Whatsapp",
          "Telegram",
          "Snapchat",
          "Twitter",
          "Facebook",
          "Instagram",
          "Whatsapp",
          "Telegram",
          "Snapchat",
          "Twitter",
          "Facebook",
          "Instagram",
          "Whatsapp",
          "Telegram",
          "Snapchat",
          "Instagram",
          "Twitter",
          "Facebook",
          "Whatsapp",
          "Telegram",
          "Snapchat",
          "Instagram",
          "Twitter",
          "Facebook",
          "Whatsapp",
          "Telegram",
          "Snapchat",
          "Instagram",
          "Twitter",
          "Facebook",
          "Whatsapp",
          "Telegram",
          "Snapchat",
          "Instagram",
          "Twitter",
          "Facebook",
          "Whatsapp",
          "Telegram",
          "Snapchat",
          "Instagram",
          "Twitter",
          "Facebook",
          "Whatsapp",
          "Telegram",
          "Snapchat"
         ],
         "xaxis": "x",
         "yaxis": "y"
        }
       ],
       "layout": {
        "barmode": "relative",
        "legend": {
         "tracegroupgap": 0
        },
        "template": {
         "data": {
          "bar": [
           {
            "error_x": {
             "color": "#2a3f5f"
            },
            "error_y": {
             "color": "#2a3f5f"
            },
            "marker": {
             "line": {
              "color": "#E5ECF6",
              "width": 0.5
             },
             "pattern": {
              "fillmode": "overlay",
              "size": 10,
              "solidity": 0.2
             }
            },
            "type": "bar"
           }
          ],
          "barpolar": [
           {
            "marker": {
             "line": {
              "color": "#E5ECF6",
              "width": 0.5
             },
             "pattern": {
              "fillmode": "overlay",
              "size": 10,
              "solidity": 0.2
             }
            },
            "type": "barpolar"
           }
          ],
          "carpet": [
           {
            "aaxis": {
             "endlinecolor": "#2a3f5f",
             "gridcolor": "white",
             "linecolor": "white",
             "minorgridcolor": "white",
             "startlinecolor": "#2a3f5f"
            },
            "baxis": {
             "endlinecolor": "#2a3f5f",
             "gridcolor": "white",
             "linecolor": "white",
             "minorgridcolor": "white",
             "startlinecolor": "#2a3f5f"
            },
            "type": "carpet"
           }
          ],
          "choropleth": [
           {
            "colorbar": {
             "outlinewidth": 0,
             "ticks": ""
            },
            "type": "choropleth"
           }
          ],
          "contour": [
           {
            "colorbar": {
             "outlinewidth": 0,
             "ticks": ""
            },
            "colorscale": [
             [
              0,
              "#0d0887"
             ],
             [
              0.1111111111111111,
              "#46039f"
             ],
             [
              0.2222222222222222,
              "#7201a8"
             ],
             [
              0.3333333333333333,
              "#9c179e"
             ],
             [
              0.4444444444444444,
              "#bd3786"
             ],
             [
              0.5555555555555556,
              "#d8576b"
             ],
             [
              0.6666666666666666,
              "#ed7953"
             ],
             [
              0.7777777777777778,
              "#fb9f3a"
             ],
             [
              0.8888888888888888,
              "#fdca26"
             ],
             [
              1,
              "#f0f921"
             ]
            ],
            "type": "contour"
           }
          ],
          "contourcarpet": [
           {
            "colorbar": {
             "outlinewidth": 0,
             "ticks": ""
            },
            "type": "contourcarpet"
           }
          ],
          "heatmap": [
           {
            "colorbar": {
             "outlinewidth": 0,
             "ticks": ""
            },
            "colorscale": [
             [
              0,
              "#0d0887"
             ],
             [
              0.1111111111111111,
              "#46039f"
             ],
             [
              0.2222222222222222,
              "#7201a8"
             ],
             [
              0.3333333333333333,
              "#9c179e"
             ],
             [
              0.4444444444444444,
              "#bd3786"
             ],
             [
              0.5555555555555556,
              "#d8576b"
             ],
             [
              0.6666666666666666,
              "#ed7953"
             ],
             [
              0.7777777777777778,
              "#fb9f3a"
             ],
             [
              0.8888888888888888,
              "#fdca26"
             ],
             [
              1,
              "#f0f921"
             ]
            ],
            "type": "heatmap"
           }
          ],
          "heatmapgl": [
           {
            "colorbar": {
             "outlinewidth": 0,
             "ticks": ""
            },
            "colorscale": [
             [
              0,
              "#0d0887"
             ],
             [
              0.1111111111111111,
              "#46039f"
             ],
             [
              0.2222222222222222,
              "#7201a8"
             ],
             [
              0.3333333333333333,
              "#9c179e"
             ],
             [
              0.4444444444444444,
              "#bd3786"
             ],
             [
              0.5555555555555556,
              "#d8576b"
             ],
             [
              0.6666666666666666,
              "#ed7953"
             ],
             [
              0.7777777777777778,
              "#fb9f3a"
             ],
             [
              0.8888888888888888,
              "#fdca26"
             ],
             [
              1,
              "#f0f921"
             ]
            ],
            "type": "heatmapgl"
           }
          ],
          "histogram": [
           {
            "marker": {
             "pattern": {
              "fillmode": "overlay",
              "size": 10,
              "solidity": 0.2
             }
            },
            "type": "histogram"
           }
          ],
          "histogram2d": [
           {
            "colorbar": {
             "outlinewidth": 0,
             "ticks": ""
            },
            "colorscale": [
             [
              0,
              "#0d0887"
             ],
             [
              0.1111111111111111,
              "#46039f"
             ],
             [
              0.2222222222222222,
              "#7201a8"
             ],
             [
              0.3333333333333333,
              "#9c179e"
             ],
             [
              0.4444444444444444,
              "#bd3786"
             ],
             [
              0.5555555555555556,
              "#d8576b"
             ],
             [
              0.6666666666666666,
              "#ed7953"
             ],
             [
              0.7777777777777778,
              "#fb9f3a"
             ],
             [
              0.8888888888888888,
              "#fdca26"
             ],
             [
              1,
              "#f0f921"
             ]
            ],
            "type": "histogram2d"
           }
          ],
          "histogram2dcontour": [
           {
            "colorbar": {
             "outlinewidth": 0,
             "ticks": ""
            },
            "colorscale": [
             [
              0,
              "#0d0887"
             ],
             [
              0.1111111111111111,
              "#46039f"
             ],
             [
              0.2222222222222222,
              "#7201a8"
             ],
             [
              0.3333333333333333,
              "#9c179e"
             ],
             [
              0.4444444444444444,
              "#bd3786"
             ],
             [
              0.5555555555555556,
              "#d8576b"
             ],
             [
              0.6666666666666666,
              "#ed7953"
             ],
             [
              0.7777777777777778,
              "#fb9f3a"
             ],
             [
              0.8888888888888888,
              "#fdca26"
             ],
             [
              1,
              "#f0f921"
             ]
            ],
            "type": "histogram2dcontour"
           }
          ],
          "mesh3d": [
           {
            "colorbar": {
             "outlinewidth": 0,
             "ticks": ""
            },
            "type": "mesh3d"
           }
          ],
          "parcoords": [
           {
            "line": {
             "colorbar": {
              "outlinewidth": 0,
              "ticks": ""
             }
            },
            "type": "parcoords"
           }
          ],
          "pie": [
           {
            "automargin": true,
            "type": "pie"
           }
          ],
          "scatter": [
           {
            "fillpattern": {
             "fillmode": "overlay",
             "size": 10,
             "solidity": 0.2
            },
            "type": "scatter"
           }
          ],
          "scatter3d": [
           {
            "line": {
             "colorbar": {
              "outlinewidth": 0,
              "ticks": ""
             }
            },
            "marker": {
             "colorbar": {
              "outlinewidth": 0,
              "ticks": ""
             }
            },
            "type": "scatter3d"
           }
          ],
          "scattercarpet": [
           {
            "marker": {
             "colorbar": {
              "outlinewidth": 0,
              "ticks": ""
             }
            },
            "type": "scattercarpet"
           }
          ],
          "scattergeo": [
           {
            "marker": {
             "colorbar": {
              "outlinewidth": 0,
              "ticks": ""
             }
            },
            "type": "scattergeo"
           }
          ],
          "scattergl": [
           {
            "marker": {
             "colorbar": {
              "outlinewidth": 0,
              "ticks": ""
             }
            },
            "type": "scattergl"
           }
          ],
          "scattermapbox": [
           {
            "marker": {
             "colorbar": {
              "outlinewidth": 0,
              "ticks": ""
             }
            },
            "type": "scattermapbox"
           }
          ],
          "scatterpolar": [
           {
            "marker": {
             "colorbar": {
              "outlinewidth": 0,
              "ticks": ""
             }
            },
            "type": "scatterpolar"
           }
          ],
          "scatterpolargl": [
           {
            "marker": {
             "colorbar": {
              "outlinewidth": 0,
              "ticks": ""
             }
            },
            "type": "scatterpolargl"
           }
          ],
          "scatterternary": [
           {
            "marker": {
             "colorbar": {
              "outlinewidth": 0,
              "ticks": ""
             }
            },
            "type": "scatterternary"
           }
          ],
          "surface": [
           {
            "colorbar": {
             "outlinewidth": 0,
             "ticks": ""
            },
            "colorscale": [
             [
              0,
              "#0d0887"
             ],
             [
              0.1111111111111111,
              "#46039f"
             ],
             [
              0.2222222222222222,
              "#7201a8"
             ],
             [
              0.3333333333333333,
              "#9c179e"
             ],
             [
              0.4444444444444444,
              "#bd3786"
             ],
             [
              0.5555555555555556,
              "#d8576b"
             ],
             [
              0.6666666666666666,
              "#ed7953"
             ],
             [
              0.7777777777777778,
              "#fb9f3a"
             ],
             [
              0.8888888888888888,
              "#fdca26"
             ],
             [
              1,
              "#f0f921"
             ]
            ],
            "type": "surface"
           }
          ],
          "table": [
           {
            "cells": {
             "fill": {
              "color": "#EBF0F8"
             },
             "line": {
              "color": "white"
             }
            },
            "header": {
             "fill": {
              "color": "#C8D4E3"
             },
             "line": {
              "color": "white"
             }
            },
            "type": "table"
           }
          ]
         },
         "layout": {
          "annotationdefaults": {
           "arrowcolor": "#2a3f5f",
           "arrowhead": 0,
           "arrowwidth": 1
          },
          "autotypenumbers": "strict",
          "coloraxis": {
           "colorbar": {
            "outlinewidth": 0,
            "ticks": ""
           }
          },
          "colorscale": {
           "diverging": [
            [
             0,
             "#8e0152"
            ],
            [
             0.1,
             "#c51b7d"
            ],
            [
             0.2,
             "#de77ae"
            ],
            [
             0.3,
             "#f1b6da"
            ],
            [
             0.4,
             "#fde0ef"
            ],
            [
             0.5,
             "#f7f7f7"
            ],
            [
             0.6,
             "#e6f5d0"
            ],
            [
             0.7,
             "#b8e186"
            ],
            [
             0.8,
             "#7fbc41"
            ],
            [
             0.9,
             "#4d9221"
            ],
            [
             1,
             "#276419"
            ]
           ],
           "sequential": [
            [
             0,
             "#0d0887"
            ],
            [
             0.1111111111111111,
             "#46039f"
            ],
            [
             0.2222222222222222,
             "#7201a8"
            ],
            [
             0.3333333333333333,
             "#9c179e"
            ],
            [
             0.4444444444444444,
             "#bd3786"
            ],
            [
             0.5555555555555556,
             "#d8576b"
            ],
            [
             0.6666666666666666,
             "#ed7953"
            ],
            [
             0.7777777777777778,
             "#fb9f3a"
            ],
            [
             0.8888888888888888,
             "#fdca26"
            ],
            [
             1,
             "#f0f921"
            ]
           ],
           "sequentialminus": [
            [
             0,
             "#0d0887"
            ],
            [
             0.1111111111111111,
             "#46039f"
            ],
            [
             0.2222222222222222,
             "#7201a8"
            ],
            [
             0.3333333333333333,
             "#9c179e"
            ],
            [
             0.4444444444444444,
             "#bd3786"
            ],
            [
             0.5555555555555556,
             "#d8576b"
            ],
            [
             0.6666666666666666,
             "#ed7953"
            ],
            [
             0.7777777777777778,
             "#fb9f3a"
            ],
            [
             0.8888888888888888,
             "#fdca26"
            ],
            [
             1,
             "#f0f921"
            ]
           ]
          },
          "colorway": [
           "#636efa",
           "#EF553B",
           "#00cc96",
           "#ab63fa",
           "#FFA15A",
           "#19d3f3",
           "#FF6692",
           "#B6E880",
           "#FF97FF",
           "#FECB52"
          ],
          "font": {
           "color": "#2a3f5f"
          },
          "geo": {
           "bgcolor": "white",
           "lakecolor": "white",
           "landcolor": "#E5ECF6",
           "showlakes": true,
           "showland": true,
           "subunitcolor": "white"
          },
          "hoverlabel": {
           "align": "left"
          },
          "hovermode": "closest",
          "mapbox": {
           "style": "light"
          },
          "paper_bgcolor": "white",
          "plot_bgcolor": "#E5ECF6",
          "polar": {
           "angularaxis": {
            "gridcolor": "white",
            "linecolor": "white",
            "ticks": ""
           },
           "bgcolor": "#E5ECF6",
           "radialaxis": {
            "gridcolor": "white",
            "linecolor": "white",
            "ticks": ""
           }
          },
          "scene": {
           "xaxis": {
            "backgroundcolor": "#E5ECF6",
            "gridcolor": "white",
            "gridwidth": 2,
            "linecolor": "white",
            "showbackground": true,
            "ticks": "",
            "zerolinecolor": "white"
           },
           "yaxis": {
            "backgroundcolor": "#E5ECF6",
            "gridcolor": "white",
            "gridwidth": 2,
            "linecolor": "white",
            "showbackground": true,
            "ticks": "",
            "zerolinecolor": "white"
           },
           "zaxis": {
            "backgroundcolor": "#E5ECF6",
            "gridcolor": "white",
            "gridwidth": 2,
            "linecolor": "white",
            "showbackground": true,
            "ticks": "",
            "zerolinecolor": "white"
           }
          },
          "shapedefaults": {
           "line": {
            "color": "#2a3f5f"
           }
          },
          "ternary": {
           "aaxis": {
            "gridcolor": "white",
            "linecolor": "white",
            "ticks": ""
           },
           "baxis": {
            "gridcolor": "white",
            "linecolor": "white",
            "ticks": ""
           },
           "bgcolor": "#E5ECF6",
           "caxis": {
            "gridcolor": "white",
            "linecolor": "white",
            "ticks": ""
           }
          },
          "title": {
           "x": 0.05
          },
          "xaxis": {
           "automargin": true,
           "gridcolor": "white",
           "linecolor": "white",
           "ticks": "",
           "title": {
            "standoff": 15
           },
           "zerolinecolor": "white",
           "zerolinewidth": 2
          },
          "yaxis": {
           "automargin": true,
           "gridcolor": "white",
           "linecolor": "white",
           "ticks": "",
           "title": {
            "standoff": 15
           },
           "zerolinecolor": "white",
           "zerolinewidth": 2
          }
         }
        },
        "title": {
         "text": "Platform Distribution"
        },
        "xaxis": {
         "anchor": "y",
         "domain": [
          0,
          1
         ],
         "title": {
          "text": "Platform"
         }
        },
        "yaxis": {
         "anchor": "x",
         "domain": [
          0,
          1
         ],
         "title": {
          "text": "count"
         }
        }
       }
      }
     },
     "metadata": {},
     "output_type": "display_data"
    }
   ],
   "source": [
    "plt = px.histogram(df, x='Platform', title='Platform Distribution')\n",
    "plt.show()"
   ]
  },
  {
   "cell_type": "markdown",
   "id": "dadb3ca6",
   "metadata": {},
   "source": [
    "Emotion Distribution"
   ]
  },
  {
   "cell_type": "code",
   "execution_count": 18,
   "id": "3a7b89fd",
   "metadata": {},
   "outputs": [
    {
     "data": {
      "text/plain": [
       "Dominant_Emotion\n",
       "Happiness    200\n",
       "Neutral      200\n",
       "Anxiety      170\n",
       "Sadness      160\n",
       "Boredom      140\n",
       "Anger        130\n",
       "Name: count, dtype: int64"
      ]
     },
     "execution_count": 18,
     "metadata": {},
     "output_type": "execute_result"
    }
   ],
   "source": [
    "df['Dominant_Emotion'].value_counts()"
   ]
  },
  {
   "cell_type": "code",
   "execution_count": 19,
   "id": "31e0c114",
   "metadata": {},
   "outputs": [
    {
     "data": {
      "application/vnd.plotly.v1+json": {
       "config": {
        "plotlyServerURL": "https://plot.ly"
       },
       "data": [
        {
         "domain": {
          "x": [
           0,
           1
          ],
          "y": [
           0,
           1
          ]
         },
         "hovertemplate": "Dominant_Emotion=%{label}<extra></extra>",
         "labels": [
          "Happiness",
          "Anger",
          "Neutral",
          "Anxiety",
          "Boredom",
          "Happiness",
          "Anger",
          "Sadness",
          "Neutral",
          "Happiness",
          "Anxiety",
          "Sadness",
          "Boredom",
          "Happiness",
          "Anger",
          "Neutral",
          "Anxiety",
          "Sadness",
          "Neutral",
          "Happiness",
          "Anxiety",
          "Anger",
          "Boredom",
          "Happiness",
          "Sadness",
          "Neutral",
          "Anxiety",
          "Happiness",
          "Anger",
          "Sadness",
          "Boredom",
          "Happiness",
          "Neutral",
          "Sadness",
          "Anxiety",
          "Boredom",
          "Happiness",
          "Anger",
          "Neutral",
          "Anxiety",
          "Sadness",
          "Happiness",
          "Anger",
          "Neutral",
          "Boredom",
          "Happiness",
          "Sadness",
          "Anxiety",
          "Neutral",
          "Boredom",
          "Happiness",
          "Anger",
          "Neutral",
          "Sadness",
          "Anxiety",
          "Anxiety",
          "Boredom",
          "Sadness",
          "Happiness",
          "Boredom",
          "Happiness",
          "Anger",
          "Neutral",
          "Anxiety",
          "Sadness",
          "Boredom",
          "Happiness",
          "Neutral",
          "Anxiety",
          "Sadness",
          "Happiness",
          "Boredom",
          "Neutral",
          "Anger",
          "Neutral",
          "Anxiety",
          "Happiness",
          "Sadness",
          "Anxiety",
          "Neutral",
          "Sadness",
          "Happiness",
          "Anger",
          "Neutral",
          "Boredom",
          "Anxiety",
          "Sadness",
          "Neutral",
          "Happiness",
          "Anxiety",
          "Boredom",
          "Anger",
          "Neutral",
          "Sadness",
          "Anxiety",
          "Boredom",
          "Neutral",
          "Happiness",
          "Anger",
          "Neutral",
          "Happiness",
          "Anger",
          "Neutral",
          "Anxiety",
          "Boredom",
          "Happiness",
          "Anger",
          "Sadness",
          "Neutral",
          "Happiness",
          "Anxiety",
          "Sadness",
          "Boredom",
          "Happiness",
          "Anger",
          "Neutral",
          "Anxiety",
          "Sadness",
          "Neutral",
          "Happiness",
          "Anxiety",
          "Anger",
          "Boredom",
          "Happiness",
          "Sadness",
          "Neutral",
          "Anxiety",
          "Happiness",
          "Anger",
          "Sadness",
          "Boredom",
          "Happiness",
          "Neutral",
          "Sadness",
          "Anxiety",
          "Boredom",
          "Happiness",
          "Anger",
          "Neutral",
          "Anxiety",
          "Sadness",
          "Happiness",
          "Anger",
          "Neutral",
          "Boredom",
          "Happiness",
          "Sadness",
          "Anxiety",
          "Neutral",
          "Boredom",
          "Happiness",
          "Anger",
          "Neutral",
          "Sadness",
          "Anxiety",
          "Anxiety",
          "Boredom",
          "Sadness",
          "Happiness",
          "Boredom",
          "Happiness",
          "Anger",
          "Neutral",
          "Anxiety",
          "Sadness",
          "Boredom",
          "Happiness",
          "Neutral",
          "Anxiety",
          "Sadness",
          "Happiness",
          "Boredom",
          "Neutral",
          "Anger",
          "Neutral",
          "Anxiety",
          "Happiness",
          "Sadness",
          "Anxiety",
          "Neutral",
          "Sadness",
          "Happiness",
          "Anger",
          "Neutral",
          "Boredom",
          "Anxiety",
          "Sadness",
          "Neutral",
          "Happiness",
          "Anxiety",
          "Boredom",
          "Anger",
          "Neutral",
          "Sadness",
          "Anxiety",
          "Boredom",
          "Neutral",
          "Happiness",
          "Anger",
          "Neutral",
          "Happiness",
          "Anger",
          "Neutral",
          "Anxiety",
          "Boredom",
          "Happiness",
          "Anger",
          "Sadness",
          "Neutral",
          "Happiness",
          "Anxiety",
          "Sadness",
          "Boredom",
          "Happiness",
          "Anger",
          "Neutral",
          "Anxiety",
          "Sadness",
          "Neutral",
          "Happiness",
          "Anxiety",
          "Anger",
          "Boredom",
          "Happiness",
          "Sadness",
          "Neutral",
          "Anxiety",
          "Happiness",
          "Anger",
          "Sadness",
          "Boredom",
          "Happiness",
          "Neutral",
          "Sadness",
          "Anxiety",
          "Boredom",
          "Happiness",
          "Anger",
          "Neutral",
          "Anxiety",
          "Sadness",
          "Happiness",
          "Anger",
          "Neutral",
          "Boredom",
          "Happiness",
          "Sadness",
          "Anxiety",
          "Neutral",
          "Boredom",
          "Happiness",
          "Anger",
          "Neutral",
          "Sadness",
          "Anxiety",
          "Anxiety",
          "Boredom",
          "Sadness",
          "Happiness",
          "Boredom",
          "Happiness",
          "Anger",
          "Neutral",
          "Anxiety",
          "Sadness",
          "Boredom",
          "Happiness",
          "Neutral",
          "Anxiety",
          "Sadness",
          "Happiness",
          "Boredom",
          "Neutral",
          "Anger",
          "Neutral",
          "Anxiety",
          "Happiness",
          "Sadness",
          "Anxiety",
          "Neutral",
          "Sadness",
          "Happiness",
          "Anger",
          "Neutral",
          "Boredom",
          "Anxiety",
          "Sadness",
          "Neutral",
          "Happiness",
          "Anxiety",
          "Boredom",
          "Anger",
          "Neutral",
          "Sadness",
          "Anxiety",
          "Boredom",
          "Neutral",
          "Happiness",
          "Anger",
          "Neutral",
          "Happiness",
          "Anger",
          "Neutral",
          "Anxiety",
          "Boredom",
          "Happiness",
          "Anger",
          "Sadness",
          "Neutral",
          "Happiness",
          "Anxiety",
          "Sadness",
          "Boredom",
          "Happiness",
          "Anger",
          "Neutral",
          "Anxiety",
          "Sadness",
          "Neutral",
          "Happiness",
          "Anxiety",
          "Anger",
          "Boredom",
          "Happiness",
          "Sadness",
          "Neutral",
          "Anxiety",
          "Happiness",
          "Anger",
          "Sadness",
          "Boredom",
          "Happiness",
          "Neutral",
          "Sadness",
          "Anxiety",
          "Boredom",
          "Happiness",
          "Anger",
          "Neutral",
          "Anxiety",
          "Sadness",
          "Happiness",
          "Anger",
          "Neutral",
          "Boredom",
          "Happiness",
          "Sadness",
          "Anxiety",
          "Neutral",
          "Boredom",
          "Happiness",
          "Anger",
          "Neutral",
          "Sadness",
          "Anxiety",
          "Anxiety",
          "Boredom",
          "Sadness",
          "Happiness",
          "Boredom",
          "Happiness",
          "Anger",
          "Neutral",
          "Anxiety",
          "Sadness",
          "Boredom",
          "Happiness",
          "Neutral",
          "Anxiety",
          "Sadness",
          "Happiness",
          "Boredom",
          "Neutral",
          "Anger",
          "Neutral",
          "Anxiety",
          "Happiness",
          "Sadness",
          "Anxiety",
          "Neutral",
          "Sadness",
          "Happiness",
          "Anger",
          "Neutral",
          "Boredom",
          "Anxiety",
          "Sadness",
          "Neutral",
          "Happiness",
          "Anxiety",
          "Boredom",
          "Anger",
          "Neutral",
          "Sadness",
          "Anxiety",
          "Boredom",
          "Neutral",
          "Happiness",
          "Anger",
          "Neutral",
          "Happiness",
          "Anger",
          "Neutral",
          "Anxiety",
          "Boredom",
          "Happiness",
          "Anger",
          "Sadness",
          "Neutral",
          "Happiness",
          "Anxiety",
          "Sadness",
          "Boredom",
          "Happiness",
          "Anger",
          "Neutral",
          "Anxiety",
          "Sadness",
          "Neutral",
          "Happiness",
          "Anxiety",
          "Anger",
          "Boredom",
          "Happiness",
          "Sadness",
          "Neutral",
          "Anxiety",
          "Happiness",
          "Anger",
          "Sadness",
          "Boredom",
          "Happiness",
          "Neutral",
          "Sadness",
          "Anxiety",
          "Boredom",
          "Happiness",
          "Anger",
          "Neutral",
          "Anxiety",
          "Sadness",
          "Happiness",
          "Anger",
          "Neutral",
          "Boredom",
          "Happiness",
          "Sadness",
          "Anxiety",
          "Neutral",
          "Boredom",
          "Happiness",
          "Anger",
          "Neutral",
          "Sadness",
          "Anxiety",
          "Anxiety",
          "Boredom",
          "Sadness",
          "Happiness",
          "Boredom",
          "Happiness",
          "Anger",
          "Neutral",
          "Anxiety",
          "Sadness",
          "Boredom",
          "Happiness",
          "Neutral",
          "Anxiety",
          "Sadness",
          "Happiness",
          "Boredom",
          "Neutral",
          "Anger",
          "Neutral",
          "Anxiety",
          "Happiness",
          "Sadness",
          "Anxiety",
          "Neutral",
          "Sadness",
          "Happiness",
          "Anger",
          "Neutral",
          "Boredom",
          "Anxiety",
          "Sadness",
          "Neutral",
          "Happiness",
          "Anxiety",
          "Boredom",
          "Anger",
          "Neutral",
          "Sadness",
          "Anxiety",
          "Boredom",
          "Neutral",
          "Happiness",
          "Anger",
          "Neutral",
          "Happiness",
          "Anger",
          "Neutral",
          "Anxiety",
          "Boredom",
          "Happiness",
          "Anger",
          "Sadness",
          "Neutral",
          "Happiness",
          "Anxiety",
          "Sadness",
          "Boredom",
          "Happiness",
          "Anger",
          "Neutral",
          "Anxiety",
          "Sadness",
          "Neutral",
          "Happiness",
          "Anxiety",
          "Anger",
          "Boredom",
          "Happiness",
          "Sadness",
          "Neutral",
          "Anxiety",
          "Happiness",
          "Anger",
          "Sadness",
          "Boredom",
          "Happiness",
          "Neutral",
          "Sadness",
          "Anxiety",
          "Boredom",
          "Happiness",
          "Anger",
          "Neutral",
          "Anxiety",
          "Sadness",
          "Happiness",
          "Anger",
          "Neutral",
          "Boredom",
          "Happiness",
          "Sadness",
          "Anxiety",
          "Neutral",
          "Boredom",
          "Happiness",
          "Anger",
          "Neutral",
          "Sadness",
          "Anxiety",
          "Anxiety",
          "Boredom",
          "Sadness",
          "Happiness",
          "Boredom",
          "Happiness",
          "Anger",
          "Neutral",
          "Anxiety",
          "Sadness",
          "Boredom",
          "Happiness",
          "Neutral",
          "Anxiety",
          "Sadness",
          "Happiness",
          "Boredom",
          "Neutral",
          "Anger",
          "Neutral",
          "Anxiety",
          "Happiness",
          "Sadness",
          "Anxiety",
          "Neutral",
          "Sadness",
          "Happiness",
          "Anger",
          "Neutral",
          "Boredom",
          "Anxiety",
          "Sadness",
          "Neutral",
          "Happiness",
          "Anxiety",
          "Boredom",
          "Anger",
          "Neutral",
          "Sadness",
          "Anxiety",
          "Boredom",
          "Neutral",
          "Happiness",
          "Anger",
          "Neutral",
          "Happiness",
          "Anger",
          "Neutral",
          "Anxiety",
          "Boredom",
          "Happiness",
          "Anger",
          "Sadness",
          "Neutral",
          "Happiness",
          "Anxiety",
          "Sadness",
          "Boredom",
          "Happiness",
          "Anger",
          "Neutral",
          "Anxiety",
          "Sadness",
          "Neutral",
          "Happiness",
          "Anxiety",
          "Anger",
          "Boredom",
          "Happiness",
          "Sadness",
          "Neutral",
          "Anxiety",
          "Happiness",
          "Anger",
          "Sadness",
          "Boredom",
          "Happiness",
          "Neutral",
          "Sadness",
          "Anxiety",
          "Boredom",
          "Happiness",
          "Anger",
          "Neutral",
          "Anxiety",
          "Sadness",
          "Happiness",
          "Anger",
          "Neutral",
          "Boredom",
          "Happiness",
          "Sadness",
          "Anxiety",
          "Neutral",
          "Boredom",
          "Happiness",
          "Anger",
          "Neutral",
          "Sadness",
          "Anxiety",
          "Anxiety",
          "Boredom",
          "Sadness",
          "Happiness",
          "Boredom",
          "Happiness",
          "Anger",
          "Neutral",
          "Anxiety",
          "Sadness",
          "Boredom",
          "Happiness",
          "Neutral",
          "Anxiety",
          "Sadness",
          "Happiness",
          "Boredom",
          "Neutral",
          "Anger",
          "Neutral",
          "Anxiety",
          "Happiness",
          "Sadness",
          "Anxiety",
          "Neutral",
          "Sadness",
          "Happiness",
          "Anger",
          "Neutral",
          "Boredom",
          "Anxiety",
          "Sadness",
          "Neutral",
          "Happiness",
          "Anxiety",
          "Boredom",
          "Anger",
          "Neutral",
          "Sadness",
          "Anxiety",
          "Boredom",
          "Neutral",
          "Happiness",
          "Anger",
          "Neutral",
          "Happiness",
          "Anger",
          "Neutral",
          "Anxiety",
          "Boredom",
          "Happiness",
          "Anger",
          "Sadness",
          "Neutral",
          "Happiness",
          "Anxiety",
          "Sadness",
          "Boredom",
          "Happiness",
          "Anger",
          "Neutral",
          "Anxiety",
          "Sadness",
          "Neutral",
          "Happiness",
          "Anxiety",
          "Anger",
          "Boredom",
          "Happiness",
          "Sadness",
          "Neutral",
          "Anxiety",
          "Happiness",
          "Anger",
          "Sadness",
          "Boredom",
          "Happiness",
          "Neutral",
          "Sadness",
          "Anxiety",
          "Boredom",
          "Happiness",
          "Anger",
          "Neutral",
          "Anxiety",
          "Sadness",
          "Happiness",
          "Anger",
          "Neutral",
          "Boredom",
          "Happiness",
          "Sadness",
          "Anxiety",
          "Neutral",
          "Boredom",
          "Happiness",
          "Anger",
          "Neutral",
          "Sadness",
          "Anxiety",
          "Anxiety",
          "Boredom",
          "Sadness",
          "Happiness",
          "Boredom",
          "Happiness",
          "Anger",
          "Neutral",
          "Anxiety",
          "Sadness",
          "Boredom",
          "Happiness",
          "Neutral",
          "Anxiety",
          "Sadness",
          "Happiness",
          "Boredom",
          "Neutral",
          "Anger",
          "Neutral",
          "Anxiety",
          "Happiness",
          "Sadness",
          "Anxiety",
          "Neutral",
          "Sadness",
          "Happiness",
          "Anger",
          "Neutral",
          "Boredom",
          "Anxiety",
          "Sadness",
          "Neutral",
          "Happiness",
          "Anxiety",
          "Boredom",
          "Anger",
          "Neutral",
          "Sadness",
          "Anxiety",
          "Boredom",
          "Neutral",
          "Happiness",
          "Anger",
          "Neutral",
          "Happiness",
          "Anger",
          "Neutral",
          "Anxiety",
          "Boredom",
          "Happiness",
          "Anger",
          "Sadness",
          "Neutral",
          "Happiness",
          "Anxiety",
          "Sadness",
          "Boredom",
          "Happiness",
          "Anger",
          "Neutral",
          "Anxiety",
          "Sadness",
          "Neutral",
          "Happiness",
          "Anxiety",
          "Anger",
          "Boredom",
          "Happiness",
          "Sadness",
          "Neutral",
          "Anxiety",
          "Happiness",
          "Anger",
          "Sadness",
          "Boredom",
          "Happiness",
          "Neutral",
          "Sadness",
          "Anxiety",
          "Boredom",
          "Happiness",
          "Anger",
          "Neutral",
          "Anxiety",
          "Sadness",
          "Happiness",
          "Anger",
          "Neutral",
          "Boredom",
          "Happiness",
          "Sadness",
          "Anxiety",
          "Neutral",
          "Boredom",
          "Happiness",
          "Anger",
          "Neutral",
          "Sadness",
          "Anxiety",
          "Anxiety",
          "Boredom",
          "Sadness",
          "Happiness",
          "Boredom",
          "Happiness",
          "Anger",
          "Neutral",
          "Anxiety",
          "Sadness",
          "Boredom",
          "Happiness",
          "Neutral",
          "Anxiety",
          "Sadness",
          "Happiness",
          "Boredom",
          "Neutral",
          "Anger",
          "Neutral",
          "Anxiety",
          "Happiness",
          "Sadness",
          "Anxiety",
          "Neutral",
          "Sadness",
          "Happiness",
          "Anger",
          "Neutral",
          "Boredom",
          "Anxiety",
          "Sadness",
          "Neutral",
          "Happiness",
          "Anxiety",
          "Boredom",
          "Anger",
          "Neutral",
          "Sadness",
          "Anxiety",
          "Boredom",
          "Neutral",
          "Happiness",
          "Anger",
          "Neutral",
          "Happiness",
          "Anger",
          "Neutral",
          "Anxiety",
          "Boredom",
          "Happiness",
          "Anger",
          "Sadness",
          "Neutral",
          "Happiness",
          "Anxiety",
          "Sadness",
          "Boredom",
          "Happiness",
          "Anger",
          "Neutral",
          "Anxiety",
          "Sadness",
          "Neutral",
          "Happiness",
          "Anxiety",
          "Anger",
          "Boredom",
          "Happiness",
          "Sadness",
          "Neutral",
          "Anxiety",
          "Happiness",
          "Anger",
          "Sadness",
          "Boredom",
          "Happiness",
          "Neutral",
          "Sadness",
          "Anxiety",
          "Boredom",
          "Happiness",
          "Anger",
          "Neutral",
          "Anxiety",
          "Sadness",
          "Happiness",
          "Anger",
          "Neutral",
          "Boredom",
          "Happiness",
          "Sadness",
          "Anxiety",
          "Neutral",
          "Boredom",
          "Happiness",
          "Anger",
          "Neutral",
          "Sadness",
          "Anxiety",
          "Anxiety",
          "Boredom",
          "Sadness",
          "Happiness",
          "Boredom",
          "Happiness",
          "Anger",
          "Neutral",
          "Anxiety",
          "Sadness",
          "Boredom",
          "Happiness",
          "Neutral",
          "Anxiety",
          "Sadness",
          "Happiness",
          "Boredom",
          "Neutral",
          "Anger",
          "Neutral",
          "Anxiety",
          "Happiness",
          "Sadness",
          "Anxiety",
          "Neutral",
          "Sadness",
          "Happiness",
          "Anger",
          "Neutral",
          "Boredom",
          "Anxiety",
          "Sadness",
          "Neutral",
          "Happiness",
          "Anxiety",
          "Boredom",
          "Anger",
          "Neutral",
          "Sadness",
          "Anxiety",
          "Boredom",
          "Neutral",
          "Happiness",
          "Anger",
          "Neutral"
         ],
         "legendgroup": "",
         "name": "",
         "showlegend": true,
         "textinfo": "percent+label",
         "textposition": "inside",
         "type": "pie"
        }
       ],
       "layout": {
        "legend": {
         "tracegroupgap": 0
        },
        "template": {
         "data": {
          "bar": [
           {
            "error_x": {
             "color": "#2a3f5f"
            },
            "error_y": {
             "color": "#2a3f5f"
            },
            "marker": {
             "line": {
              "color": "#E5ECF6",
              "width": 0.5
             },
             "pattern": {
              "fillmode": "overlay",
              "size": 10,
              "solidity": 0.2
             }
            },
            "type": "bar"
           }
          ],
          "barpolar": [
           {
            "marker": {
             "line": {
              "color": "#E5ECF6",
              "width": 0.5
             },
             "pattern": {
              "fillmode": "overlay",
              "size": 10,
              "solidity": 0.2
             }
            },
            "type": "barpolar"
           }
          ],
          "carpet": [
           {
            "aaxis": {
             "endlinecolor": "#2a3f5f",
             "gridcolor": "white",
             "linecolor": "white",
             "minorgridcolor": "white",
             "startlinecolor": "#2a3f5f"
            },
            "baxis": {
             "endlinecolor": "#2a3f5f",
             "gridcolor": "white",
             "linecolor": "white",
             "minorgridcolor": "white",
             "startlinecolor": "#2a3f5f"
            },
            "type": "carpet"
           }
          ],
          "choropleth": [
           {
            "colorbar": {
             "outlinewidth": 0,
             "ticks": ""
            },
            "type": "choropleth"
           }
          ],
          "contour": [
           {
            "colorbar": {
             "outlinewidth": 0,
             "ticks": ""
            },
            "colorscale": [
             [
              0,
              "#0d0887"
             ],
             [
              0.1111111111111111,
              "#46039f"
             ],
             [
              0.2222222222222222,
              "#7201a8"
             ],
             [
              0.3333333333333333,
              "#9c179e"
             ],
             [
              0.4444444444444444,
              "#bd3786"
             ],
             [
              0.5555555555555556,
              "#d8576b"
             ],
             [
              0.6666666666666666,
              "#ed7953"
             ],
             [
              0.7777777777777778,
              "#fb9f3a"
             ],
             [
              0.8888888888888888,
              "#fdca26"
             ],
             [
              1,
              "#f0f921"
             ]
            ],
            "type": "contour"
           }
          ],
          "contourcarpet": [
           {
            "colorbar": {
             "outlinewidth": 0,
             "ticks": ""
            },
            "type": "contourcarpet"
           }
          ],
          "heatmap": [
           {
            "colorbar": {
             "outlinewidth": 0,
             "ticks": ""
            },
            "colorscale": [
             [
              0,
              "#0d0887"
             ],
             [
              0.1111111111111111,
              "#46039f"
             ],
             [
              0.2222222222222222,
              "#7201a8"
             ],
             [
              0.3333333333333333,
              "#9c179e"
             ],
             [
              0.4444444444444444,
              "#bd3786"
             ],
             [
              0.5555555555555556,
              "#d8576b"
             ],
             [
              0.6666666666666666,
              "#ed7953"
             ],
             [
              0.7777777777777778,
              "#fb9f3a"
             ],
             [
              0.8888888888888888,
              "#fdca26"
             ],
             [
              1,
              "#f0f921"
             ]
            ],
            "type": "heatmap"
           }
          ],
          "heatmapgl": [
           {
            "colorbar": {
             "outlinewidth": 0,
             "ticks": ""
            },
            "colorscale": [
             [
              0,
              "#0d0887"
             ],
             [
              0.1111111111111111,
              "#46039f"
             ],
             [
              0.2222222222222222,
              "#7201a8"
             ],
             [
              0.3333333333333333,
              "#9c179e"
             ],
             [
              0.4444444444444444,
              "#bd3786"
             ],
             [
              0.5555555555555556,
              "#d8576b"
             ],
             [
              0.6666666666666666,
              "#ed7953"
             ],
             [
              0.7777777777777778,
              "#fb9f3a"
             ],
             [
              0.8888888888888888,
              "#fdca26"
             ],
             [
              1,
              "#f0f921"
             ]
            ],
            "type": "heatmapgl"
           }
          ],
          "histogram": [
           {
            "marker": {
             "pattern": {
              "fillmode": "overlay",
              "size": 10,
              "solidity": 0.2
             }
            },
            "type": "histogram"
           }
          ],
          "histogram2d": [
           {
            "colorbar": {
             "outlinewidth": 0,
             "ticks": ""
            },
            "colorscale": [
             [
              0,
              "#0d0887"
             ],
             [
              0.1111111111111111,
              "#46039f"
             ],
             [
              0.2222222222222222,
              "#7201a8"
             ],
             [
              0.3333333333333333,
              "#9c179e"
             ],
             [
              0.4444444444444444,
              "#bd3786"
             ],
             [
              0.5555555555555556,
              "#d8576b"
             ],
             [
              0.6666666666666666,
              "#ed7953"
             ],
             [
              0.7777777777777778,
              "#fb9f3a"
             ],
             [
              0.8888888888888888,
              "#fdca26"
             ],
             [
              1,
              "#f0f921"
             ]
            ],
            "type": "histogram2d"
           }
          ],
          "histogram2dcontour": [
           {
            "colorbar": {
             "outlinewidth": 0,
             "ticks": ""
            },
            "colorscale": [
             [
              0,
              "#0d0887"
             ],
             [
              0.1111111111111111,
              "#46039f"
             ],
             [
              0.2222222222222222,
              "#7201a8"
             ],
             [
              0.3333333333333333,
              "#9c179e"
             ],
             [
              0.4444444444444444,
              "#bd3786"
             ],
             [
              0.5555555555555556,
              "#d8576b"
             ],
             [
              0.6666666666666666,
              "#ed7953"
             ],
             [
              0.7777777777777778,
              "#fb9f3a"
             ],
             [
              0.8888888888888888,
              "#fdca26"
             ],
             [
              1,
              "#f0f921"
             ]
            ],
            "type": "histogram2dcontour"
           }
          ],
          "mesh3d": [
           {
            "colorbar": {
             "outlinewidth": 0,
             "ticks": ""
            },
            "type": "mesh3d"
           }
          ],
          "parcoords": [
           {
            "line": {
             "colorbar": {
              "outlinewidth": 0,
              "ticks": ""
             }
            },
            "type": "parcoords"
           }
          ],
          "pie": [
           {
            "automargin": true,
            "type": "pie"
           }
          ],
          "scatter": [
           {
            "fillpattern": {
             "fillmode": "overlay",
             "size": 10,
             "solidity": 0.2
            },
            "type": "scatter"
           }
          ],
          "scatter3d": [
           {
            "line": {
             "colorbar": {
              "outlinewidth": 0,
              "ticks": ""
             }
            },
            "marker": {
             "colorbar": {
              "outlinewidth": 0,
              "ticks": ""
             }
            },
            "type": "scatter3d"
           }
          ],
          "scattercarpet": [
           {
            "marker": {
             "colorbar": {
              "outlinewidth": 0,
              "ticks": ""
             }
            },
            "type": "scattercarpet"
           }
          ],
          "scattergeo": [
           {
            "marker": {
             "colorbar": {
              "outlinewidth": 0,
              "ticks": ""
             }
            },
            "type": "scattergeo"
           }
          ],
          "scattergl": [
           {
            "marker": {
             "colorbar": {
              "outlinewidth": 0,
              "ticks": ""
             }
            },
            "type": "scattergl"
           }
          ],
          "scattermapbox": [
           {
            "marker": {
             "colorbar": {
              "outlinewidth": 0,
              "ticks": ""
             }
            },
            "type": "scattermapbox"
           }
          ],
          "scatterpolar": [
           {
            "marker": {
             "colorbar": {
              "outlinewidth": 0,
              "ticks": ""
             }
            },
            "type": "scatterpolar"
           }
          ],
          "scatterpolargl": [
           {
            "marker": {
             "colorbar": {
              "outlinewidth": 0,
              "ticks": ""
             }
            },
            "type": "scatterpolargl"
           }
          ],
          "scatterternary": [
           {
            "marker": {
             "colorbar": {
              "outlinewidth": 0,
              "ticks": ""
             }
            },
            "type": "scatterternary"
           }
          ],
          "surface": [
           {
            "colorbar": {
             "outlinewidth": 0,
             "ticks": ""
            },
            "colorscale": [
             [
              0,
              "#0d0887"
             ],
             [
              0.1111111111111111,
              "#46039f"
             ],
             [
              0.2222222222222222,
              "#7201a8"
             ],
             [
              0.3333333333333333,
              "#9c179e"
             ],
             [
              0.4444444444444444,
              "#bd3786"
             ],
             [
              0.5555555555555556,
              "#d8576b"
             ],
             [
              0.6666666666666666,
              "#ed7953"
             ],
             [
              0.7777777777777778,
              "#fb9f3a"
             ],
             [
              0.8888888888888888,
              "#fdca26"
             ],
             [
              1,
              "#f0f921"
             ]
            ],
            "type": "surface"
           }
          ],
          "table": [
           {
            "cells": {
             "fill": {
              "color": "#EBF0F8"
             },
             "line": {
              "color": "white"
             }
            },
            "header": {
             "fill": {
              "color": "#C8D4E3"
             },
             "line": {
              "color": "white"
             }
            },
            "type": "table"
           }
          ]
         },
         "layout": {
          "annotationdefaults": {
           "arrowcolor": "#2a3f5f",
           "arrowhead": 0,
           "arrowwidth": 1
          },
          "autotypenumbers": "strict",
          "coloraxis": {
           "colorbar": {
            "outlinewidth": 0,
            "ticks": ""
           }
          },
          "colorscale": {
           "diverging": [
            [
             0,
             "#8e0152"
            ],
            [
             0.1,
             "#c51b7d"
            ],
            [
             0.2,
             "#de77ae"
            ],
            [
             0.3,
             "#f1b6da"
            ],
            [
             0.4,
             "#fde0ef"
            ],
            [
             0.5,
             "#f7f7f7"
            ],
            [
             0.6,
             "#e6f5d0"
            ],
            [
             0.7,
             "#b8e186"
            ],
            [
             0.8,
             "#7fbc41"
            ],
            [
             0.9,
             "#4d9221"
            ],
            [
             1,
             "#276419"
            ]
           ],
           "sequential": [
            [
             0,
             "#0d0887"
            ],
            [
             0.1111111111111111,
             "#46039f"
            ],
            [
             0.2222222222222222,
             "#7201a8"
            ],
            [
             0.3333333333333333,
             "#9c179e"
            ],
            [
             0.4444444444444444,
             "#bd3786"
            ],
            [
             0.5555555555555556,
             "#d8576b"
            ],
            [
             0.6666666666666666,
             "#ed7953"
            ],
            [
             0.7777777777777778,
             "#fb9f3a"
            ],
            [
             0.8888888888888888,
             "#fdca26"
            ],
            [
             1,
             "#f0f921"
            ]
           ],
           "sequentialminus": [
            [
             0,
             "#0d0887"
            ],
            [
             0.1111111111111111,
             "#46039f"
            ],
            [
             0.2222222222222222,
             "#7201a8"
            ],
            [
             0.3333333333333333,
             "#9c179e"
            ],
            [
             0.4444444444444444,
             "#bd3786"
            ],
            [
             0.5555555555555556,
             "#d8576b"
            ],
            [
             0.6666666666666666,
             "#ed7953"
            ],
            [
             0.7777777777777778,
             "#fb9f3a"
            ],
            [
             0.8888888888888888,
             "#fdca26"
            ],
            [
             1,
             "#f0f921"
            ]
           ]
          },
          "colorway": [
           "#636efa",
           "#EF553B",
           "#00cc96",
           "#ab63fa",
           "#FFA15A",
           "#19d3f3",
           "#FF6692",
           "#B6E880",
           "#FF97FF",
           "#FECB52"
          ],
          "font": {
           "color": "#2a3f5f"
          },
          "geo": {
           "bgcolor": "white",
           "lakecolor": "white",
           "landcolor": "#E5ECF6",
           "showlakes": true,
           "showland": true,
           "subunitcolor": "white"
          },
          "hoverlabel": {
           "align": "left"
          },
          "hovermode": "closest",
          "mapbox": {
           "style": "light"
          },
          "paper_bgcolor": "white",
          "plot_bgcolor": "#E5ECF6",
          "polar": {
           "angularaxis": {
            "gridcolor": "white",
            "linecolor": "white",
            "ticks": ""
           },
           "bgcolor": "#E5ECF6",
           "radialaxis": {
            "gridcolor": "white",
            "linecolor": "white",
            "ticks": ""
           }
          },
          "scene": {
           "xaxis": {
            "backgroundcolor": "#E5ECF6",
            "gridcolor": "white",
            "gridwidth": 2,
            "linecolor": "white",
            "showbackground": true,
            "ticks": "",
            "zerolinecolor": "white"
           },
           "yaxis": {
            "backgroundcolor": "#E5ECF6",
            "gridcolor": "white",
            "gridwidth": 2,
            "linecolor": "white",
            "showbackground": true,
            "ticks": "",
            "zerolinecolor": "white"
           },
           "zaxis": {
            "backgroundcolor": "#E5ECF6",
            "gridcolor": "white",
            "gridwidth": 2,
            "linecolor": "white",
            "showbackground": true,
            "ticks": "",
            "zerolinecolor": "white"
           }
          },
          "shapedefaults": {
           "line": {
            "color": "#2a3f5f"
           }
          },
          "ternary": {
           "aaxis": {
            "gridcolor": "white",
            "linecolor": "white",
            "ticks": ""
           },
           "baxis": {
            "gridcolor": "white",
            "linecolor": "white",
            "ticks": ""
           },
           "bgcolor": "#E5ECF6",
           "caxis": {
            "gridcolor": "white",
            "linecolor": "white",
            "ticks": ""
           }
          },
          "title": {
           "x": 0.05
          },
          "xaxis": {
           "automargin": true,
           "gridcolor": "white",
           "linecolor": "white",
           "ticks": "",
           "title": {
            "standoff": 15
           },
           "zerolinecolor": "white",
           "zerolinewidth": 2
          },
          "yaxis": {
           "automargin": true,
           "gridcolor": "white",
           "linecolor": "white",
           "ticks": "",
           "title": {
            "standoff": 15
           },
           "zerolinecolor": "white",
           "zerolinewidth": 2
          }
         }
        },
        "title": {
         "text": "Dominant Emotion Distribution"
        }
       }
      }
     },
     "metadata": {},
     "output_type": "display_data"
    }
   ],
   "source": [
    "plt = px.pie(df, names='Dominant_Emotion', title='Dominant Emotion Distribution')\n",
    "# adding the values to the pie section\n",
    "plt.update_traces(textposition='inside', textinfo='percent+label')\n",
    "plt.show()"
   ]
  },
  {
   "cell_type": "markdown",
   "id": "59d85db6",
   "metadata": {},
   "source": [
    "# Model"
   ]
  },
  {
   "cell_type": "code",
   "execution_count": 126,
   "id": "34a90696",
   "metadata": {},
   "outputs": [
    {
     "data": {
      "text/plain": [
       "User_ID                       0\n",
       "Age                           0\n",
       "Gender                        0\n",
       "Platform                      0\n",
       "Daily_Usage_Time (minutes)    0\n",
       "Posts_Per_Day                 0\n",
       "Likes_Received_Per_Day        0\n",
       "Comments_Received_Per_Day     0\n",
       "Messages_Sent_Per_Day         0\n",
       "Dominant_Emotion              0\n",
       "dtype: int64"
      ]
     },
     "execution_count": 126,
     "metadata": {},
     "output_type": "execute_result"
    }
   ],
   "source": [
    "# Training Dataset\n",
    "df.isnull().sum()"
   ]
  },
  {
   "cell_type": "code",
   "execution_count": 127,
   "id": "6abb1427",
   "metadata": {},
   "outputs": [],
   "source": [
    "# Define features and target\n",
    "X_train = df.drop(columns=['Dominant_Emotion', 'User_ID']) # Features\n",
    "y_train = df['Dominant_Emotion'] # Target"
   ]
  },
  {
   "cell_type": "code",
   "execution_count": 128,
   "id": "6b9d3320",
   "metadata": {},
   "outputs": [
    {
     "data": {
      "text/plain": [
       "Index(['Age', 'Gender', 'Platform', 'Daily_Usage_Time (minutes)',\n",
       "       'Posts_Per_Day', 'Likes_Received_Per_Day', 'Comments_Received_Per_Day',\n",
       "       'Messages_Sent_Per_Day'],\n",
       "      dtype='object')"
      ]
     },
     "execution_count": 128,
     "metadata": {},
     "output_type": "execute_result"
    }
   ],
   "source": [
    "X_train.columns\n"
   ]
  },
  {
   "cell_type": "code",
   "execution_count": 129,
   "id": "be35e165",
   "metadata": {},
   "outputs": [],
   "source": [
    "# Define preprocessing steps. Seeperating the numerical and categorical features\n",
    "numeric_features = ['Daily_Usage_Time (minutes)', 'Age' ,'Posts_Per_Day', 'Likes_Received_Per_Day', 'Comments_Received_Per_Day', 'Messages_Sent_Per_Day']\n",
    "categorical_features = ['Gender', 'Platform']\n",
    "\n",
    "preprocessor = ColumnTransformer(\n",
    "    transformers=[\n",
    "        ('num', StandardScaler(), numeric_features),\n",
    "        ('cat', OneHotEncoder(), categorical_features)])"
   ]
  },
  {
   "cell_type": "code",
   "execution_count": 130,
   "id": "f54117b9",
   "metadata": {},
   "outputs": [],
   "source": [
    "X_test = test_df.drop(columns=['Dominant_Emotion', 'User_ID']) # Features\n",
    "y_test = test_df['Dominant_Emotion'] # Target"
   ]
  },
  {
   "cell_type": "markdown",
   "id": "b1cb081c",
   "metadata": {},
   "source": [
    "##### Random Forest"
   ]
  },
  {
   "cell_type": "code",
   "execution_count": 131,
   "id": "77e057a1",
   "metadata": {},
   "outputs": [
    {
     "name": "stdout",
     "output_type": "stream",
     "text": [
      "Random Forest Classifier Report:\n",
      "              precision    recall  f1-score   support\n",
      "\n",
      "       Anger       0.90      1.00      0.95         9\n",
      "     Anxiety       1.00      0.95      0.98        22\n",
      "     Boredom       0.94      0.94      0.94        16\n",
      "   Happiness       0.93      1.00      0.97        14\n",
      "     Neutral       1.00      0.96      0.98        28\n",
      "     Sadness       0.93      0.93      0.93        14\n",
      "\n",
      "    accuracy                           0.96       103\n",
      "   macro avg       0.95      0.96      0.96       103\n",
      "weighted avg       0.96      0.96      0.96       103\n",
      "\n"
     ]
    }
   ],
   "source": [
    "rf_pipeline = Pipeline(steps=[('preprocessor', preprocessor),\n",
    "                              ('classifier', RandomForestClassifier(random_state=42))])\n",
    "\n",
    "rf_pipeline.fit(X_train, y_train)\n",
    "y_pred_rf = rf_pipeline.predict(X_test)\n",
    "\n",
    "print(\"Random Forest Classifier Report:\")\n",
    "print(classification_report(y_test, y_pred_rf))"
   ]
  },
  {
   "cell_type": "code",
   "execution_count": 132,
   "id": "654f3f45",
   "metadata": {},
   "outputs": [
    {
     "data": {
      "text/plain": [
       "['rf_pipeline.pkl']"
      ]
     },
     "execution_count": 132,
     "metadata": {},
     "output_type": "execute_result"
    }
   ],
   "source": [
    "import joblib\n",
    "\n",
    "# Save the model\n",
    "joblib.dump(rf_pipeline, 'rf_pipeline.pkl')\n"
   ]
  },
  {
   "cell_type": "code",
   "execution_count": 133,
   "id": "3aa6d92c",
   "metadata": {},
   "outputs": [],
   "source": [
    "results_df = pd.DataFrame({\n",
    "    'Actual': y_test,\n",
    "    'Predicted': y_pred_rf\n",
    "})\n",
    "\n",
    "# Save to CSV\n",
    "results_df.to_csv('rf_predictions.csv', index=False)\n"
   ]
  },
  {
   "cell_type": "markdown",
   "id": "00e09999",
   "metadata": {},
   "source": [
    "##### XGBoost"
   ]
  },
  {
   "cell_type": "code",
   "execution_count": 101,
   "id": "8f0412c4",
   "metadata": {},
   "outputs": [],
   "source": [
    "X_train = df.drop(columns=['Dominant_Emotion', 'User_ID']) # Features\n",
    "y_train = df['Dominant_Emotion'] # Target\n",
    "X_test = test_df.drop(columns=['Dominant_Emotion', 'User_ID']) # Features\n",
    "y_test = test_df['Dominant_Emotion'] # Target"
   ]
  },
  {
   "cell_type": "code",
   "execution_count": 107,
   "id": "aa74f1c8",
   "metadata": {},
   "outputs": [],
   "source": [
    "label_encoder = LabelEncoder()\n",
    "y_encoded_train = label_encoder.fit_transform(y_train)\n",
    "y_encoded_test = label_encoder.fit_transform(y_test)"
   ]
  },
  {
   "cell_type": "code",
   "execution_count": 108,
   "id": "45f05d41",
   "metadata": {},
   "outputs": [],
   "source": [
    "\n",
    "# XGBoost Classifier\n",
    "xgb_pipeline = Pipeline(steps=[('preprocessor', preprocessor),\n",
    "                               ('classifier', XGBClassifier(random_state=42))])\n",
    "\n",
    "xgb_pipeline.fit(X_train, y_encoded_train)\n",
    "y_pred_xgb = xgb_pipeline.predict(X_test)"
   ]
  },
  {
   "cell_type": "code",
   "execution_count": 109,
   "id": "a87ca645",
   "metadata": {},
   "outputs": [
    {
     "name": "stdout",
     "output_type": "stream",
     "text": [
      "XGBoost Classifier Report:\n",
      "              precision    recall  f1-score   support\n",
      "\n",
      "       Anger       1.00      1.00      1.00         9\n",
      "     Anxiety       1.00      0.95      0.98        22\n",
      "     Boredom       0.94      0.94      0.94        16\n",
      "   Happiness       0.88      1.00      0.93        14\n",
      "     Neutral       1.00      0.96      0.98        28\n",
      "     Sadness       0.93      0.93      0.93        14\n",
      "\n",
      "    accuracy                           0.96       103\n",
      "   macro avg       0.96      0.96      0.96       103\n",
      "weighted avg       0.96      0.96      0.96       103\n",
      "\n"
     ]
    }
   ],
   "source": [
    "# Decode the predicted labels back to original string labels for the report\n",
    "y_test_decoded = label_encoder.inverse_transform(y_encoded_test)\n",
    "y_pred_xgb_decoded = label_encoder.inverse_transform(y_pred_xgb)\n",
    "\n",
    "print(\"XGBoost Classifier Report:\")\n",
    "print(classification_report(y_test_decoded, y_pred_xgb_decoded))"
   ]
  },
  {
   "cell_type": "code",
   "execution_count": 110,
   "id": "d7b9f520",
   "metadata": {},
   "outputs": [],
   "source": [
    "results_df = pd.DataFrame({\n",
    "    'Actual': y_test,\n",
    "    'Predicted': y_pred_xgb_decoded\n",
    "})\n",
    "\n",
    "# Save to CSV\n",
    "results_df.to_csv('xgb_predictions.csv', index=False)\n"
   ]
  },
  {
   "cell_type": "markdown",
   "id": "9e3ac4a2",
   "metadata": {},
   "source": [
    "##### Neural Network"
   ]
  },
  {
   "cell_type": "code",
   "execution_count": 112,
   "id": "3b482bdb",
   "metadata": {},
   "outputs": [],
   "source": [
    "# Define features and target\n",
    "X_train = df.drop(columns=['Dominant_Emotion', 'User_ID']) # Features\n",
    "y_train = df['Dominant_Emotion'] # Target\n",
    "X_test = test_df.drop(columns=['Dominant_Emotion', 'User_ID']) # Features\n",
    "y_test = test_df['Dominant_Emotion'] # Target"
   ]
  },
  {
   "cell_type": "code",
   "execution_count": 113,
   "id": "98c7121c",
   "metadata": {},
   "outputs": [],
   "source": [
    "label_encoder = LabelEncoder()\n",
    "\n",
    "y_encoded_train = label_encoder.fit_transform(y_train)\n",
    "y_onehot_train = to_categorical(y_encoded_train)\n",
    "\n",
    "y_encoded_test = label_encoder.fit_transform(y_test)\n",
    "y_onehot_test = to_categorical(y_encoded_test)"
   ]
  },
  {
   "cell_type": "code",
   "execution_count": 114,
   "id": "ba06cb90",
   "metadata": {},
   "outputs": [],
   "source": [
    "#  Define preprocessing steps for features\n",
    "numeric_features = ['Daily_Usage_Time (minutes)', 'Posts_Per_Day', 'Likes_Received_Per_Day', 'Comments_Received_Per_Day', 'Messages_Sent_Per_Day']\n",
    "categorical_features = ['Age', 'Gender', 'Platform']\n",
    "\n",
    "preprocessor = ColumnTransformer(\n",
    "    transformers=[\n",
    "        ('num', StandardScaler(), numeric_features),\n",
    "        ('cat', OneHotEncoder(), categorical_features)])\n",
    "\n",
    "# Preprocess the features\n",
    "X_train = preprocessor.fit_transform(X_train)\n",
    "X_test = preprocessor.transform(X_test)"
   ]
  },
  {
   "cell_type": "code",
   "execution_count": 118,
   "id": "f3b79c4a",
   "metadata": {},
   "outputs": [
    {
     "name": "stderr",
     "output_type": "stream",
     "text": [
      "c:\\Users\\Hend-PC\\anaconda3\\Lib\\site-packages\\keras\\src\\layers\\core\\dense.py:87: UserWarning:\n",
      "\n",
      "Do not pass an `input_shape`/`input_dim` argument to a layer. When using Sequential models, prefer using an `Input(shape)` object as the first layer in the model instead.\n",
      "\n"
     ]
    },
    {
     "name": "stdout",
     "output_type": "stream",
     "text": [
      "Epoch 1/50\n",
      "\u001b[1m29/29\u001b[0m \u001b[32m━━━━━━━━━━━━━━━━━━━━\u001b[0m\u001b[37m\u001b[0m \u001b[1m2s\u001b[0m 17ms/step - accuracy: 0.1872 - loss: 1.8303 - val_accuracy: 0.4200 - val_loss: 1.5211\n",
      "Epoch 2/50\n",
      "\u001b[1m29/29\u001b[0m \u001b[32m━━━━━━━━━━━━━━━━━━━━\u001b[0m\u001b[37m\u001b[0m \u001b[1m0s\u001b[0m 7ms/step - accuracy: 0.3694 - loss: 1.5458 - val_accuracy: 0.5000 - val_loss: 1.3894\n",
      "Epoch 3/50\n",
      "\u001b[1m29/29\u001b[0m \u001b[32m━━━━━━━━━━━━━━━━━━━━\u001b[0m\u001b[37m\u001b[0m \u001b[1m0s\u001b[0m 7ms/step - accuracy: 0.4054 - loss: 1.4721 - val_accuracy: 0.5400 - val_loss: 1.2942\n",
      "Epoch 4/50\n",
      "\u001b[1m29/29\u001b[0m \u001b[32m━━━━━━━━━━━━━━━━━━━━\u001b[0m\u001b[37m\u001b[0m \u001b[1m0s\u001b[0m 7ms/step - accuracy: 0.4493 - loss: 1.3708 - val_accuracy: 0.6100 - val_loss: 1.1972\n",
      "Epoch 5/50\n",
      "\u001b[1m29/29\u001b[0m \u001b[32m━━━━━━━━━━━━━━━━━━━━\u001b[0m\u001b[37m\u001b[0m \u001b[1m0s\u001b[0m 7ms/step - accuracy: 0.5116 - loss: 1.3095 - val_accuracy: 0.6600 - val_loss: 1.1108\n",
      "Epoch 6/50\n",
      "\u001b[1m29/29\u001b[0m \u001b[32m━━━━━━━━━━━━━━━━━━━━\u001b[0m\u001b[37m\u001b[0m \u001b[1m0s\u001b[0m 8ms/step - accuracy: 0.5488 - loss: 1.2226 - val_accuracy: 0.6700 - val_loss: 1.0273\n",
      "Epoch 7/50\n",
      "\u001b[1m29/29\u001b[0m \u001b[32m━━━━━━━━━━━━━━━━━━━━\u001b[0m\u001b[37m\u001b[0m \u001b[1m0s\u001b[0m 6ms/step - accuracy: 0.5761 - loss: 1.1600 - val_accuracy: 0.7400 - val_loss: 0.9461\n",
      "Epoch 8/50\n",
      "\u001b[1m29/29\u001b[0m \u001b[32m━━━━━━━━━━━━━━━━━━━━\u001b[0m\u001b[37m\u001b[0m \u001b[1m0s\u001b[0m 7ms/step - accuracy: 0.6121 - loss: 1.0523 - val_accuracy: 0.7500 - val_loss: 0.8638\n",
      "Epoch 9/50\n",
      "\u001b[1m29/29\u001b[0m \u001b[32m━━━━━━━━━━━━━━━━━━━━\u001b[0m\u001b[37m\u001b[0m \u001b[1m0s\u001b[0m 6ms/step - accuracy: 0.6046 - loss: 1.0536 - val_accuracy: 0.7700 - val_loss: 0.7998\n",
      "Epoch 10/50\n",
      "\u001b[1m29/29\u001b[0m \u001b[32m━━━━━━━━━━━━━━━━━━━━\u001b[0m\u001b[37m\u001b[0m \u001b[1m0s\u001b[0m 6ms/step - accuracy: 0.6297 - loss: 0.9909 - val_accuracy: 0.7900 - val_loss: 0.7251\n",
      "Epoch 11/50\n",
      "\u001b[1m29/29\u001b[0m \u001b[32m━━━━━━━━━━━━━━━━━━━━\u001b[0m\u001b[37m\u001b[0m \u001b[1m0s\u001b[0m 7ms/step - accuracy: 0.6793 - loss: 0.9119 - val_accuracy: 0.8000 - val_loss: 0.6569\n",
      "Epoch 12/50\n",
      "\u001b[1m29/29\u001b[0m \u001b[32m━━━━━━━━━━━━━━━━━━━━\u001b[0m\u001b[37m\u001b[0m \u001b[1m0s\u001b[0m 6ms/step - accuracy: 0.6598 - loss: 0.9277 - val_accuracy: 0.8800 - val_loss: 0.5849\n",
      "Epoch 13/50\n",
      "\u001b[1m29/29\u001b[0m \u001b[32m━━━━━━━━━━━━━━━━━━━━\u001b[0m\u001b[37m\u001b[0m \u001b[1m0s\u001b[0m 6ms/step - accuracy: 0.6685 - loss: 0.8528 - val_accuracy: 0.9000 - val_loss: 0.5357\n",
      "Epoch 14/50\n",
      "\u001b[1m29/29\u001b[0m \u001b[32m━━━━━━━━━━━━━━━━━━━━\u001b[0m\u001b[37m\u001b[0m \u001b[1m0s\u001b[0m 6ms/step - accuracy: 0.7476 - loss: 0.7541 - val_accuracy: 0.9200 - val_loss: 0.4748\n",
      "Epoch 15/50\n",
      "\u001b[1m29/29\u001b[0m \u001b[32m━━━━━━━━━━━━━━━━━━━━\u001b[0m\u001b[37m\u001b[0m \u001b[1m0s\u001b[0m 6ms/step - accuracy: 0.7488 - loss: 0.7177 - val_accuracy: 0.9200 - val_loss: 0.4268\n",
      "Epoch 16/50\n",
      "\u001b[1m29/29\u001b[0m \u001b[32m━━━━━━━━━━━━━━━━━━━━\u001b[0m\u001b[37m\u001b[0m \u001b[1m0s\u001b[0m 7ms/step - accuracy: 0.7515 - loss: 0.7141 - val_accuracy: 0.9500 - val_loss: 0.3834\n",
      "Epoch 17/50\n",
      "\u001b[1m29/29\u001b[0m \u001b[32m━━━━━━━━━━━━━━━━━━━━\u001b[0m\u001b[37m\u001b[0m \u001b[1m0s\u001b[0m 6ms/step - accuracy: 0.7848 - loss: 0.6373 - val_accuracy: 0.9300 - val_loss: 0.3424\n",
      "Epoch 18/50\n",
      "\u001b[1m29/29\u001b[0m \u001b[32m━━━━━━━━━━━━━━━━━━━━\u001b[0m\u001b[37m\u001b[0m \u001b[1m0s\u001b[0m 6ms/step - accuracy: 0.7892 - loss: 0.5811 - val_accuracy: 0.9300 - val_loss: 0.3070\n",
      "Epoch 19/50\n",
      "\u001b[1m29/29\u001b[0m \u001b[32m━━━━━━━━━━━━━━━━━━━━\u001b[0m\u001b[37m\u001b[0m \u001b[1m0s\u001b[0m 6ms/step - accuracy: 0.8071 - loss: 0.5579 - val_accuracy: 0.9500 - val_loss: 0.2821\n",
      "Epoch 20/50\n",
      "\u001b[1m29/29\u001b[0m \u001b[32m━━━━━━━━━━━━━━━━━━━━\u001b[0m\u001b[37m\u001b[0m \u001b[1m0s\u001b[0m 6ms/step - accuracy: 0.8308 - loss: 0.5136 - val_accuracy: 0.9600 - val_loss: 0.2455\n",
      "Epoch 21/50\n",
      "\u001b[1m29/29\u001b[0m \u001b[32m━━━━━━━━━━━━━━━━━━━━\u001b[0m\u001b[37m\u001b[0m \u001b[1m0s\u001b[0m 7ms/step - accuracy: 0.8413 - loss: 0.5119 - val_accuracy: 0.9900 - val_loss: 0.2266\n",
      "Epoch 22/50\n",
      "\u001b[1m29/29\u001b[0m \u001b[32m━━━━━━━━━━━━━━━━━━━━\u001b[0m\u001b[37m\u001b[0m \u001b[1m0s\u001b[0m 7ms/step - accuracy: 0.8622 - loss: 0.4477 - val_accuracy: 0.9900 - val_loss: 0.2008\n",
      "Epoch 23/50\n",
      "\u001b[1m29/29\u001b[0m \u001b[32m━━━━━━━━━━━━━━━━━━━━\u001b[0m\u001b[37m\u001b[0m \u001b[1m0s\u001b[0m 6ms/step - accuracy: 0.8580 - loss: 0.4447 - val_accuracy: 0.9900 - val_loss: 0.1820\n",
      "Epoch 24/50\n",
      "\u001b[1m29/29\u001b[0m \u001b[32m━━━━━━━━━━━━━━━━━━━━\u001b[0m\u001b[37m\u001b[0m \u001b[1m0s\u001b[0m 7ms/step - accuracy: 0.8811 - loss: 0.3957 - val_accuracy: 0.9800 - val_loss: 0.1663\n",
      "Epoch 25/50\n",
      "\u001b[1m29/29\u001b[0m \u001b[32m━━━━━━━━━━━━━━━━━━━━\u001b[0m\u001b[37m\u001b[0m \u001b[1m0s\u001b[0m 6ms/step - accuracy: 0.8746 - loss: 0.3774 - val_accuracy: 1.0000 - val_loss: 0.1471\n",
      "Epoch 26/50\n",
      "\u001b[1m29/29\u001b[0m \u001b[32m━━━━━━━━━━━━━━━━━━━━\u001b[0m\u001b[37m\u001b[0m \u001b[1m0s\u001b[0m 7ms/step - accuracy: 0.8688 - loss: 0.3793 - val_accuracy: 0.9700 - val_loss: 0.1364\n",
      "Epoch 27/50\n",
      "\u001b[1m29/29\u001b[0m \u001b[32m━━━━━━━━━━━━━━━━━━━━\u001b[0m\u001b[37m\u001b[0m \u001b[1m0s\u001b[0m 7ms/step - accuracy: 0.9032 - loss: 0.3488 - val_accuracy: 0.9900 - val_loss: 0.1206\n",
      "Epoch 28/50\n",
      "\u001b[1m29/29\u001b[0m \u001b[32m━━━━━━━━━━━━━━━━━━━━\u001b[0m\u001b[37m\u001b[0m \u001b[1m0s\u001b[0m 6ms/step - accuracy: 0.8809 - loss: 0.3638 - val_accuracy: 0.9900 - val_loss: 0.1133\n",
      "Epoch 29/50\n",
      "\u001b[1m29/29\u001b[0m \u001b[32m━━━━━━━━━━━━━━━━━━━━\u001b[0m\u001b[37m\u001b[0m \u001b[1m0s\u001b[0m 7ms/step - accuracy: 0.8980 - loss: 0.3491 - val_accuracy: 1.0000 - val_loss: 0.1033\n",
      "Epoch 30/50\n",
      "\u001b[1m29/29\u001b[0m \u001b[32m━━━━━━━━━━━━━━━━━━━━\u001b[0m\u001b[37m\u001b[0m \u001b[1m0s\u001b[0m 7ms/step - accuracy: 0.8972 - loss: 0.3176 - val_accuracy: 0.9900 - val_loss: 0.0941\n",
      "Epoch 31/50\n",
      "\u001b[1m29/29\u001b[0m \u001b[32m━━━━━━━━━━━━━━━━━━━━\u001b[0m\u001b[37m\u001b[0m \u001b[1m0s\u001b[0m 7ms/step - accuracy: 0.9146 - loss: 0.3042 - val_accuracy: 1.0000 - val_loss: 0.0891\n",
      "Epoch 32/50\n",
      "\u001b[1m29/29\u001b[0m \u001b[32m━━━━━━━━━━━━━━━━━━━━\u001b[0m\u001b[37m\u001b[0m \u001b[1m0s\u001b[0m 6ms/step - accuracy: 0.9160 - loss: 0.2808 - val_accuracy: 1.0000 - val_loss: 0.0825\n",
      "Epoch 33/50\n",
      "\u001b[1m29/29\u001b[0m \u001b[32m━━━━━━━━━━━━━━━━━━━━\u001b[0m\u001b[37m\u001b[0m \u001b[1m0s\u001b[0m 7ms/step - accuracy: 0.9114 - loss: 0.2659 - val_accuracy: 1.0000 - val_loss: 0.0751\n",
      "Epoch 34/50\n",
      "\u001b[1m29/29\u001b[0m \u001b[32m━━━━━━━━━━━━━━━━━━━━\u001b[0m\u001b[37m\u001b[0m \u001b[1m0s\u001b[0m 6ms/step - accuracy: 0.9031 - loss: 0.2798 - val_accuracy: 0.9900 - val_loss: 0.0689\n",
      "Epoch 35/50\n",
      "\u001b[1m29/29\u001b[0m \u001b[32m━━━━━━━━━━━━━━━━━━━━\u001b[0m\u001b[37m\u001b[0m \u001b[1m0s\u001b[0m 7ms/step - accuracy: 0.9305 - loss: 0.2346 - val_accuracy: 1.0000 - val_loss: 0.0633\n",
      "Epoch 36/50\n",
      "\u001b[1m29/29\u001b[0m \u001b[32m━━━━━━━━━━━━━━━━━━━━\u001b[0m\u001b[37m\u001b[0m \u001b[1m0s\u001b[0m 7ms/step - accuracy: 0.9268 - loss: 0.2454 - val_accuracy: 0.9900 - val_loss: 0.0615\n",
      "Epoch 37/50\n",
      "\u001b[1m29/29\u001b[0m \u001b[32m━━━━━━━━━━━━━━━━━━━━\u001b[0m\u001b[37m\u001b[0m \u001b[1m0s\u001b[0m 6ms/step - accuracy: 0.9357 - loss: 0.2368 - val_accuracy: 1.0000 - val_loss: 0.0540\n",
      "Epoch 38/50\n",
      "\u001b[1m29/29\u001b[0m \u001b[32m━━━━━━━━━━━━━━━━━━━━\u001b[0m\u001b[37m\u001b[0m \u001b[1m0s\u001b[0m 7ms/step - accuracy: 0.9275 - loss: 0.2198 - val_accuracy: 0.9900 - val_loss: 0.0521\n",
      "Epoch 39/50\n",
      "\u001b[1m29/29\u001b[0m \u001b[32m━━━━━━━━━━━━━━━━━━━━\u001b[0m\u001b[37m\u001b[0m \u001b[1m0s\u001b[0m 6ms/step - accuracy: 0.9266 - loss: 0.2481 - val_accuracy: 1.0000 - val_loss: 0.0468\n",
      "Epoch 40/50\n",
      "\u001b[1m29/29\u001b[0m \u001b[32m━━━━━━━━━━━━━━━━━━━━\u001b[0m\u001b[37m\u001b[0m \u001b[1m0s\u001b[0m 7ms/step - accuracy: 0.9345 - loss: 0.2332 - val_accuracy: 1.0000 - val_loss: 0.0432\n",
      "Epoch 41/50\n",
      "\u001b[1m29/29\u001b[0m \u001b[32m━━━━━━━━━━━━━━━━━━━━\u001b[0m\u001b[37m\u001b[0m \u001b[1m0s\u001b[0m 6ms/step - accuracy: 0.9497 - loss: 0.1805 - val_accuracy: 1.0000 - val_loss: 0.0418\n",
      "Epoch 42/50\n",
      "\u001b[1m29/29\u001b[0m \u001b[32m━━━━━━━━━━━━━━━━━━━━\u001b[0m\u001b[37m\u001b[0m \u001b[1m0s\u001b[0m 6ms/step - accuracy: 0.9389 - loss: 0.1972 - val_accuracy: 1.0000 - val_loss: 0.0378\n",
      "Epoch 43/50\n",
      "\u001b[1m29/29\u001b[0m \u001b[32m━━━━━━━━━━━━━━━━━━━━\u001b[0m\u001b[37m\u001b[0m \u001b[1m0s\u001b[0m 6ms/step - accuracy: 0.9632 - loss: 0.1696 - val_accuracy: 1.0000 - val_loss: 0.0367\n",
      "Epoch 44/50\n",
      "\u001b[1m29/29\u001b[0m \u001b[32m━━━━━━━━━━━━━━━━━━━━\u001b[0m\u001b[37m\u001b[0m \u001b[1m0s\u001b[0m 6ms/step - accuracy: 0.9474 - loss: 0.1715 - val_accuracy: 1.0000 - val_loss: 0.0357\n",
      "Epoch 45/50\n",
      "\u001b[1m29/29\u001b[0m \u001b[32m━━━━━━━━━━━━━━━━━━━━\u001b[0m\u001b[37m\u001b[0m \u001b[1m0s\u001b[0m 7ms/step - accuracy: 0.9382 - loss: 0.1819 - val_accuracy: 1.0000 - val_loss: 0.0336\n",
      "Epoch 46/50\n",
      "\u001b[1m29/29\u001b[0m \u001b[32m━━━━━━━━━━━━━━━━━━━━\u001b[0m\u001b[37m\u001b[0m \u001b[1m0s\u001b[0m 6ms/step - accuracy: 0.9647 - loss: 0.1471 - val_accuracy: 1.0000 - val_loss: 0.0301\n",
      "Epoch 47/50\n",
      "\u001b[1m29/29\u001b[0m \u001b[32m━━━━━━━━━━━━━━━━━━━━\u001b[0m\u001b[37m\u001b[0m \u001b[1m0s\u001b[0m 6ms/step - accuracy: 0.9346 - loss: 0.2010 - val_accuracy: 1.0000 - val_loss: 0.0297\n",
      "Epoch 48/50\n",
      "\u001b[1m29/29\u001b[0m \u001b[32m━━━━━━━━━━━━━━━━━━━━\u001b[0m\u001b[37m\u001b[0m \u001b[1m0s\u001b[0m 6ms/step - accuracy: 0.9567 - loss: 0.1575 - val_accuracy: 1.0000 - val_loss: 0.0282\n",
      "Epoch 49/50\n",
      "\u001b[1m29/29\u001b[0m \u001b[32m━━━━━━━━━━━━━━━━━━━━\u001b[0m\u001b[37m\u001b[0m \u001b[1m0s\u001b[0m 7ms/step - accuracy: 0.9632 - loss: 0.1419 - val_accuracy: 1.0000 - val_loss: 0.0264\n",
      "Epoch 50/50\n",
      "\u001b[1m29/29\u001b[0m \u001b[32m━━━━━━━━━━━━━━━━━━━━\u001b[0m\u001b[37m\u001b[0m \u001b[1m0s\u001b[0m 6ms/step - accuracy: 0.9526 - loss: 0.1480 - val_accuracy: 1.0000 - val_loss: 0.0262\n"
     ]
    },
    {
     "data": {
      "text/plain": [
       "<keras.src.callbacks.history.History at 0x1258ed33770>"
      ]
     },
     "execution_count": 118,
     "metadata": {},
     "output_type": "execute_result"
    }
   ],
   "source": [
    "# Build the neural network\n",
    "model = Sequential()\n",
    "model.add(Dense(128, input_dim=X_train.shape[1], activation='relu'))\n",
    "model.add(Dropout(0.5))\n",
    "model.add(Dense(64, activation='relu'))\n",
    "model.add(Dropout(0.5))\n",
    "model.add(Dense(y_onehot_train.shape[1], activation='softmax'))\n",
    "\n",
    "# Compile the model\n",
    "model.compile(optimizer='adam', loss='categorical_crossentropy', metrics=['accuracy'])\n",
    "\n",
    "# Train the model\n",
    "model.fit(X_train, y_onehot_train, epochs=50, batch_size=32, validation_split=0.1)"
   ]
  },
  {
   "cell_type": "code",
   "execution_count": 119,
   "id": "95a6ca3d",
   "metadata": {},
   "outputs": [
    {
     "name": "stdout",
     "output_type": "stream",
     "text": [
      "\u001b[1m4/4\u001b[0m \u001b[32m━━━━━━━━━━━━━━━━━━━━\u001b[0m\u001b[37m\u001b[0m \u001b[1m0s\u001b[0m 15ms/step - accuracy: 0.9790 - loss: 0.1498\n",
      "Accuracy: 0.97\n",
      "\u001b[1m4/4\u001b[0m \u001b[32m━━━━━━━━━━━━━━━━━━━━\u001b[0m\u001b[37m\u001b[0m \u001b[1m0s\u001b[0m 24ms/step\n"
     ]
    }
   ],
   "source": [
    "# Evaluate the model\n",
    "loss, accuracy = model.evaluate(X_test, y_onehot_test)\n",
    "print(f'Accuracy: {accuracy:.2f}')\n",
    "\n",
    "# Make predictions\n",
    "y_pred = model.predict(X_test)\n",
    "y_pred_classes = np.argmax(y_pred, axis=1)\n",
    "y_test_classes = np.argmax(y_onehot_test, axis=1)\n",
    "\n",
    "# Decode the predicted and true labels back to original string labels for the report\n",
    "y_pred_labels = label_encoder.inverse_transform(y_pred_classes)\n",
    "y_test_labels = label_encoder.inverse_transform(y_test_classes)"
   ]
  },
  {
   "cell_type": "code",
   "execution_count": 120,
   "id": "b2418320",
   "metadata": {},
   "outputs": [
    {
     "name": "stdout",
     "output_type": "stream",
     "text": [
      "Neural Network Classifier Report:\n",
      "              precision    recall  f1-score   support\n",
      "\n",
      "       Anger       0.90      1.00      0.95         9\n",
      "     Anxiety       1.00      0.95      0.98        22\n",
      "     Boredom       0.94      0.94      0.94        16\n",
      "   Happiness       1.00      1.00      1.00        14\n",
      "     Neutral       1.00      0.96      0.98        28\n",
      "     Sadness       0.93      1.00      0.97        14\n",
      "\n",
      "    accuracy                           0.97       103\n",
      "   macro avg       0.96      0.98      0.97       103\n",
      "weighted avg       0.97      0.97      0.97       103\n",
      "\n"
     ]
    }
   ],
   "source": [
    "# Print classification report\n",
    "print(\"Neural Network Classifier Report:\")\n",
    "print(classification_report(y_test_labels, y_pred_labels))"
   ]
  },
  {
   "cell_type": "code",
   "execution_count": 121,
   "id": "9edeac69",
   "metadata": {},
   "outputs": [],
   "source": [
    "pred_df = pd.DataFrame({\n",
    "    'Actual': y_test_labels,\n",
    "    'Predicted': y_pred_labels\n",
    "})\n",
    "\n",
    "# Save to CSV\n",
    "pred_df.to_csv('nn_predictions.csv', index=False)"
   ]
  },
  {
   "cell_type": "markdown",
   "id": "76fa069e",
   "metadata": {},
   "source": [
    "#### Models Comparison"
   ]
  },
  {
   "cell_type": "code",
   "execution_count": 30,
   "id": "3ea9fbbf",
   "metadata": {},
   "outputs": [],
   "source": [
    "rf_df = pd.read_csv('rf_predictions.csv')\n",
    "xgb_df = pd.read_csv('xgb_predictions.csv')\n",
    "nn_df = pd.read_csv('nn_predictions.csv')"
   ]
  },
  {
   "cell_type": "code",
   "execution_count": 31,
   "id": "0e9b3a4d",
   "metadata": {},
   "outputs": [],
   "source": [
    "def evaluate_model(df, model_name):\n",
    "    y_true = df['Actual']\n",
    "    y_pred = df['Predicted']\n",
    "    \n",
    "    print(f\"--- {model_name} ---\")\n",
    "    print(\"Accuracy:\", accuracy_score(y_true, y_pred))\n",
    "    print(\"Classification Report:\\n\", classification_report(y_true, y_pred))\n",
    "    print(\"\\n\")"
   ]
  },
  {
   "cell_type": "code",
   "execution_count": 32,
   "id": "18e2b863",
   "metadata": {},
   "outputs": [
    {
     "name": "stdout",
     "output_type": "stream",
     "text": [
      "--- Random Forest ---\n",
      "Accuracy: 0.970873786407767\n",
      "Classification Report:\n",
      "               precision    recall  f1-score   support\n",
      "\n",
      "       Anger       1.00      1.00      1.00         9\n",
      "     Anxiety       1.00      0.95      0.98        22\n",
      "     Boredom       0.94      0.94      0.94        16\n",
      "   Happiness       0.93      1.00      0.97        14\n",
      "     Neutral       1.00      0.96      0.98        28\n",
      "     Sadness       0.93      1.00      0.97        14\n",
      "\n",
      "    accuracy                           0.97       103\n",
      "   macro avg       0.97      0.98      0.97       103\n",
      "weighted avg       0.97      0.97      0.97       103\n",
      "\n",
      "\n",
      "\n",
      "--- XGBoost ---\n",
      "Accuracy: 0.9611650485436893\n",
      "Classification Report:\n",
      "               precision    recall  f1-score   support\n",
      "\n",
      "       Anger       1.00      1.00      1.00         9\n",
      "     Anxiety       1.00      0.95      0.98        22\n",
      "     Boredom       0.94      0.94      0.94        16\n",
      "   Happiness       0.88      1.00      0.93        14\n",
      "     Neutral       1.00      0.96      0.98        28\n",
      "     Sadness       0.93      0.93      0.93        14\n",
      "\n",
      "    accuracy                           0.96       103\n",
      "   macro avg       0.96      0.96      0.96       103\n",
      "weighted avg       0.96      0.96      0.96       103\n",
      "\n",
      "\n",
      "\n",
      "--- Neural Network ---\n",
      "Accuracy: 0.970873786407767\n",
      "Classification Report:\n",
      "               precision    recall  f1-score   support\n",
      "\n",
      "       Anger       0.90      1.00      0.95         9\n",
      "     Anxiety       1.00      0.95      0.98        22\n",
      "     Boredom       0.94      0.94      0.94        16\n",
      "   Happiness       1.00      1.00      1.00        14\n",
      "     Neutral       1.00      0.96      0.98        28\n",
      "     Sadness       0.93      1.00      0.97        14\n",
      "\n",
      "    accuracy                           0.97       103\n",
      "   macro avg       0.96      0.98      0.97       103\n",
      "weighted avg       0.97      0.97      0.97       103\n",
      "\n",
      "\n",
      "\n"
     ]
    }
   ],
   "source": [
    "evaluate_model(rf_df, \"Random Forest\")\n",
    "evaluate_model(xgb_df, \"XGBoost\")\n",
    "evaluate_model(nn_df, \"Neural Network\")\n"
   ]
  },
  {
   "cell_type": "markdown",
   "id": "8b82a504",
   "metadata": {},
   "source": [
    "**Therefore Random Boost Performed Better Than Neural Network and XGBoost**"
   ]
  },
  {
   "cell_type": "code",
   "execution_count": 33,
   "id": "c572cf70",
   "metadata": {},
   "outputs": [
    {
     "ename": "AttributeError",
     "evalue": "'Figure' object has no attribute 'figure'",
     "output_type": "error",
     "traceback": [
      "\u001b[1;31m---------------------------------------------------------------------------\u001b[0m",
      "\u001b[1;31mAttributeError\u001b[0m                            Traceback (most recent call last)",
      "Cell \u001b[1;32mIn[33], line 14\u001b[0m\n\u001b[0;32m     11\u001b[0m     plt\u001b[38;5;241m.\u001b[39mylabel(\u001b[38;5;124m\"\u001b[39m\u001b[38;5;124mActual\u001b[39m\u001b[38;5;124m\"\u001b[39m)\n\u001b[0;32m     12\u001b[0m     plt\u001b[38;5;241m.\u001b[39mshow()\n\u001b[1;32m---> 14\u001b[0m \u001b[43mplot_confusion_matrix\u001b[49m\u001b[43m(\u001b[49m\u001b[43mrf_df\u001b[49m\u001b[43m,\u001b[49m\u001b[43m \u001b[49m\u001b[38;5;124;43m\"\u001b[39;49m\u001b[38;5;124;43mRandom Forest\u001b[39;49m\u001b[38;5;124;43m\"\u001b[39;49m\u001b[43m)\u001b[49m\n\u001b[0;32m     15\u001b[0m plot_confusion_matrix(xgb_df, \u001b[38;5;124m\"\u001b[39m\u001b[38;5;124mXGBoost\u001b[39m\u001b[38;5;124m\"\u001b[39m)\n\u001b[0;32m     16\u001b[0m plot_confusion_matrix(nn_df, \u001b[38;5;124m\"\u001b[39m\u001b[38;5;124mNeural Network\u001b[39m\u001b[38;5;124m\"\u001b[39m)\n",
      "Cell \u001b[1;32mIn[33], line 7\u001b[0m, in \u001b[0;36mplot_confusion_matrix\u001b[1;34m(df, model_name)\u001b[0m\n\u001b[0;32m      4\u001b[0m cm \u001b[38;5;241m=\u001b[39m confusion_matrix(y_true, y_pred)\n\u001b[0;32m      5\u001b[0m labels \u001b[38;5;241m=\u001b[39m \u001b[38;5;28msorted\u001b[39m(df[\u001b[38;5;124m'\u001b[39m\u001b[38;5;124mActual\u001b[39m\u001b[38;5;124m'\u001b[39m]\u001b[38;5;241m.\u001b[39munique())\n\u001b[1;32m----> 7\u001b[0m \u001b[43mplt\u001b[49m\u001b[38;5;241;43m.\u001b[39;49m\u001b[43mfigure\u001b[49m(figsize\u001b[38;5;241m=\u001b[39m(\u001b[38;5;241m8\u001b[39m, \u001b[38;5;241m6\u001b[39m))\n\u001b[0;32m      8\u001b[0m sns\u001b[38;5;241m.\u001b[39mheatmap(cm, annot\u001b[38;5;241m=\u001b[39m\u001b[38;5;28;01mTrue\u001b[39;00m, fmt\u001b[38;5;241m=\u001b[39m\u001b[38;5;124m'\u001b[39m\u001b[38;5;124md\u001b[39m\u001b[38;5;124m'\u001b[39m, xticklabels\u001b[38;5;241m=\u001b[39mlabels, yticklabels\u001b[38;5;241m=\u001b[39mlabels, cmap\u001b[38;5;241m=\u001b[39m\u001b[38;5;124m\"\u001b[39m\u001b[38;5;124mBlues\u001b[39m\u001b[38;5;124m\"\u001b[39m)\n\u001b[0;32m      9\u001b[0m plt\u001b[38;5;241m.\u001b[39mtitle(\u001b[38;5;124mf\u001b[39m\u001b[38;5;124m\"\u001b[39m\u001b[38;5;124mConfusion Matrix - \u001b[39m\u001b[38;5;132;01m{\u001b[39;00mmodel_name\u001b[38;5;132;01m}\u001b[39;00m\u001b[38;5;124m\"\u001b[39m)\n",
      "\u001b[1;31mAttributeError\u001b[0m: 'Figure' object has no attribute 'figure'"
     ]
    }
   ],
   "source": [
    "def plot_confusion_matrix(df, model_name):\n",
    "    y_true = df['Actual']\n",
    "    y_pred = df['Predicted']\n",
    "    cm = confusion_matrix(y_true, y_pred)\n",
    "    labels = sorted(df['Actual'].unique())\n",
    "\n",
    "    plt.figure(figsize=(8, 6))\n",
    "    sns.heatmap(cm, annot=True, fmt='d', xticklabels=labels, yticklabels=labels, cmap=\"Blues\")\n",
    "    plt.title(f\"Confusion Matrix - {model_name}\")\n",
    "    plt.xlabel(\"Predicted\")\n",
    "    plt.ylabel(\"Actual\")\n",
    "    plt.show()\n",
    "\n",
    "plot_confusion_matrix(rf_df, \"Random Forest\")\n",
    "plot_confusion_matrix(xgb_df, \"XGBoost\")\n",
    "plot_confusion_matrix(nn_df, \"Neural Network\")\n"
   ]
  },
  {
   "cell_type": "markdown",
   "id": "7c716f8f",
   "metadata": {},
   "source": [
    "# Data Visualization"
   ]
  },
  {
   "cell_type": "markdown",
   "id": "916e0009",
   "metadata": {},
   "source": [
    "### Before Model"
   ]
  },
  {
   "cell_type": "markdown",
   "id": "0356b50f",
   "metadata": {},
   "source": [
    "**Plot 1**"
   ]
  },
  {
   "cell_type": "code",
   "execution_count": 34,
   "id": "70e55fb1",
   "metadata": {},
   "outputs": [
    {
     "data": {
      "application/vnd.plotly.v1+json": {
       "config": {
        "plotlyServerURL": "https://plot.ly"
       },
       "data": [
        {
         "showlegend": false,
         "type": "bar",
         "x": [
          "Neutral",
          "Anxiety",
          "Boredom"
         ],
         "xaxis": "x",
         "y": {
          "bdata": "RjIo",
          "dtype": "i1"
         },
         "yaxis": "y"
        },
        {
         "showlegend": false,
         "type": "bar",
         "x": [
          "Happiness",
          "Anxiety",
          "Neutral"
         ],
         "xaxis": "x2",
         "y": {
          "bdata": "qgAeABQA",
          "dtype": "i2"
         },
         "yaxis": "y2"
        },
        {
         "showlegend": false,
         "type": "bar",
         "x": [
          "Boredom",
          "Anxiety",
          "Neutral"
         ],
         "xaxis": "x3",
         "y": {
          "bdata": "RhQU",
          "dtype": "i1"
         },
         "yaxis": "y3"
        },
        {
         "showlegend": false,
         "type": "bar",
         "x": [
          "Sadness",
          "Anxiety",
          "Neutral"
         ],
         "xaxis": "x4",
         "y": {
          "bdata": "HhQU",
          "dtype": "i1"
         },
         "yaxis": "y4"
        },
        {
         "showlegend": false,
         "type": "bar",
         "x": [
          "Neutral",
          "Sadness",
          "Anger"
         ],
         "xaxis": "x5",
         "y": {
          "bdata": "HhQK",
          "dtype": "i1"
         },
         "yaxis": "y5"
        },
        {
         "showlegend": false,
         "type": "bar",
         "x": [
          "Anger",
          "Sadness",
          "Anxiety"
         ],
         "xaxis": "x6",
         "y": {
          "bdata": "UDIU",
          "dtype": "i1"
         },
         "yaxis": "y6"
        },
        {
         "showlegend": false,
         "type": "bar",
         "x": [
          "Anger",
          "Anxiety",
          "Neutral"
         ],
         "xaxis": "x7",
         "y": {
          "bdata": "HhQU",
          "dtype": "i1"
         },
         "yaxis": "y7"
        }
       ],
       "layout": {
        "annotations": [
         {
          "font": {
           "size": 16
          },
          "showarrow": false,
          "text": "Facebook",
          "x": 0.05918367346938775,
          "xanchor": "center",
          "xref": "paper",
          "y": 1,
          "yanchor": "bottom",
          "yref": "paper"
         },
         {
          "font": {
           "size": 16
          },
          "showarrow": false,
          "text": "Instagram",
          "x": 0.2061224489795918,
          "xanchor": "center",
          "xref": "paper",
          "y": 1,
          "yanchor": "bottom",
          "yref": "paper"
         },
         {
          "font": {
           "size": 16
          },
          "showarrow": false,
          "text": "LinkedIn",
          "x": 0.3530612244897959,
          "xanchor": "center",
          "xref": "paper",
          "y": 1,
          "yanchor": "bottom",
          "yref": "paper"
         },
         {
          "font": {
           "size": 16
          },
          "showarrow": false,
          "text": "Snapchat",
          "x": 0.49999999999999994,
          "xanchor": "center",
          "xref": "paper",
          "y": 1,
          "yanchor": "bottom",
          "yref": "paper"
         },
         {
          "font": {
           "size": 16
          },
          "showarrow": false,
          "text": "Telegram",
          "x": 0.6469387755102041,
          "xanchor": "center",
          "xref": "paper",
          "y": 1,
          "yanchor": "bottom",
          "yref": "paper"
         },
         {
          "font": {
           "size": 16
          },
          "showarrow": false,
          "text": "Twitter",
          "x": 0.7938775510204081,
          "xanchor": "center",
          "xref": "paper",
          "y": 1,
          "yanchor": "bottom",
          "yref": "paper"
         },
         {
          "font": {
           "size": 16
          },
          "showarrow": false,
          "text": "Whatsapp",
          "x": 0.9408163265306122,
          "xanchor": "center",
          "xref": "paper",
          "y": 1,
          "yanchor": "bottom",
          "yref": "paper"
         }
        ],
        "height": 500,
        "template": {
         "data": {
          "bar": [
           {
            "error_x": {
             "color": "#2a3f5f"
            },
            "error_y": {
             "color": "#2a3f5f"
            },
            "marker": {
             "line": {
              "color": "#E5ECF6",
              "width": 0.5
             },
             "pattern": {
              "fillmode": "overlay",
              "size": 10,
              "solidity": 0.2
             }
            },
            "type": "bar"
           }
          ],
          "barpolar": [
           {
            "marker": {
             "line": {
              "color": "#E5ECF6",
              "width": 0.5
             },
             "pattern": {
              "fillmode": "overlay",
              "size": 10,
              "solidity": 0.2
             }
            },
            "type": "barpolar"
           }
          ],
          "carpet": [
           {
            "aaxis": {
             "endlinecolor": "#2a3f5f",
             "gridcolor": "white",
             "linecolor": "white",
             "minorgridcolor": "white",
             "startlinecolor": "#2a3f5f"
            },
            "baxis": {
             "endlinecolor": "#2a3f5f",
             "gridcolor": "white",
             "linecolor": "white",
             "minorgridcolor": "white",
             "startlinecolor": "#2a3f5f"
            },
            "type": "carpet"
           }
          ],
          "choropleth": [
           {
            "colorbar": {
             "outlinewidth": 0,
             "ticks": ""
            },
            "type": "choropleth"
           }
          ],
          "contour": [
           {
            "colorbar": {
             "outlinewidth": 0,
             "ticks": ""
            },
            "colorscale": [
             [
              0,
              "#0d0887"
             ],
             [
              0.1111111111111111,
              "#46039f"
             ],
             [
              0.2222222222222222,
              "#7201a8"
             ],
             [
              0.3333333333333333,
              "#9c179e"
             ],
             [
              0.4444444444444444,
              "#bd3786"
             ],
             [
              0.5555555555555556,
              "#d8576b"
             ],
             [
              0.6666666666666666,
              "#ed7953"
             ],
             [
              0.7777777777777778,
              "#fb9f3a"
             ],
             [
              0.8888888888888888,
              "#fdca26"
             ],
             [
              1,
              "#f0f921"
             ]
            ],
            "type": "contour"
           }
          ],
          "contourcarpet": [
           {
            "colorbar": {
             "outlinewidth": 0,
             "ticks": ""
            },
            "type": "contourcarpet"
           }
          ],
          "heatmap": [
           {
            "colorbar": {
             "outlinewidth": 0,
             "ticks": ""
            },
            "colorscale": [
             [
              0,
              "#0d0887"
             ],
             [
              0.1111111111111111,
              "#46039f"
             ],
             [
              0.2222222222222222,
              "#7201a8"
             ],
             [
              0.3333333333333333,
              "#9c179e"
             ],
             [
              0.4444444444444444,
              "#bd3786"
             ],
             [
              0.5555555555555556,
              "#d8576b"
             ],
             [
              0.6666666666666666,
              "#ed7953"
             ],
             [
              0.7777777777777778,
              "#fb9f3a"
             ],
             [
              0.8888888888888888,
              "#fdca26"
             ],
             [
              1,
              "#f0f921"
             ]
            ],
            "type": "heatmap"
           }
          ],
          "histogram": [
           {
            "marker": {
             "pattern": {
              "fillmode": "overlay",
              "size": 10,
              "solidity": 0.2
             }
            },
            "type": "histogram"
           }
          ],
          "histogram2d": [
           {
            "colorbar": {
             "outlinewidth": 0,
             "ticks": ""
            },
            "colorscale": [
             [
              0,
              "#0d0887"
             ],
             [
              0.1111111111111111,
              "#46039f"
             ],
             [
              0.2222222222222222,
              "#7201a8"
             ],
             [
              0.3333333333333333,
              "#9c179e"
             ],
             [
              0.4444444444444444,
              "#bd3786"
             ],
             [
              0.5555555555555556,
              "#d8576b"
             ],
             [
              0.6666666666666666,
              "#ed7953"
             ],
             [
              0.7777777777777778,
              "#fb9f3a"
             ],
             [
              0.8888888888888888,
              "#fdca26"
             ],
             [
              1,
              "#f0f921"
             ]
            ],
            "type": "histogram2d"
           }
          ],
          "histogram2dcontour": [
           {
            "colorbar": {
             "outlinewidth": 0,
             "ticks": ""
            },
            "colorscale": [
             [
              0,
              "#0d0887"
             ],
             [
              0.1111111111111111,
              "#46039f"
             ],
             [
              0.2222222222222222,
              "#7201a8"
             ],
             [
              0.3333333333333333,
              "#9c179e"
             ],
             [
              0.4444444444444444,
              "#bd3786"
             ],
             [
              0.5555555555555556,
              "#d8576b"
             ],
             [
              0.6666666666666666,
              "#ed7953"
             ],
             [
              0.7777777777777778,
              "#fb9f3a"
             ],
             [
              0.8888888888888888,
              "#fdca26"
             ],
             [
              1,
              "#f0f921"
             ]
            ],
            "type": "histogram2dcontour"
           }
          ],
          "mesh3d": [
           {
            "colorbar": {
             "outlinewidth": 0,
             "ticks": ""
            },
            "type": "mesh3d"
           }
          ],
          "parcoords": [
           {
            "line": {
             "colorbar": {
              "outlinewidth": 0,
              "ticks": ""
             }
            },
            "type": "parcoords"
           }
          ],
          "pie": [
           {
            "automargin": true,
            "type": "pie"
           }
          ],
          "scatter": [
           {
            "fillpattern": {
             "fillmode": "overlay",
             "size": 10,
             "solidity": 0.2
            },
            "type": "scatter"
           }
          ],
          "scatter3d": [
           {
            "line": {
             "colorbar": {
              "outlinewidth": 0,
              "ticks": ""
             }
            },
            "marker": {
             "colorbar": {
              "outlinewidth": 0,
              "ticks": ""
             }
            },
            "type": "scatter3d"
           }
          ],
          "scattercarpet": [
           {
            "marker": {
             "colorbar": {
              "outlinewidth": 0,
              "ticks": ""
             }
            },
            "type": "scattercarpet"
           }
          ],
          "scattergeo": [
           {
            "marker": {
             "colorbar": {
              "outlinewidth": 0,
              "ticks": ""
             }
            },
            "type": "scattergeo"
           }
          ],
          "scattergl": [
           {
            "marker": {
             "colorbar": {
              "outlinewidth": 0,
              "ticks": ""
             }
            },
            "type": "scattergl"
           }
          ],
          "scattermap": [
           {
            "marker": {
             "colorbar": {
              "outlinewidth": 0,
              "ticks": ""
             }
            },
            "type": "scattermap"
           }
          ],
          "scattermapbox": [
           {
            "marker": {
             "colorbar": {
              "outlinewidth": 0,
              "ticks": ""
             }
            },
            "type": "scattermapbox"
           }
          ],
          "scatterpolar": [
           {
            "marker": {
             "colorbar": {
              "outlinewidth": 0,
              "ticks": ""
             }
            },
            "type": "scatterpolar"
           }
          ],
          "scatterpolargl": [
           {
            "marker": {
             "colorbar": {
              "outlinewidth": 0,
              "ticks": ""
             }
            },
            "type": "scatterpolargl"
           }
          ],
          "scatterternary": [
           {
            "marker": {
             "colorbar": {
              "outlinewidth": 0,
              "ticks": ""
             }
            },
            "type": "scatterternary"
           }
          ],
          "surface": [
           {
            "colorbar": {
             "outlinewidth": 0,
             "ticks": ""
            },
            "colorscale": [
             [
              0,
              "#0d0887"
             ],
             [
              0.1111111111111111,
              "#46039f"
             ],
             [
              0.2222222222222222,
              "#7201a8"
             ],
             [
              0.3333333333333333,
              "#9c179e"
             ],
             [
              0.4444444444444444,
              "#bd3786"
             ],
             [
              0.5555555555555556,
              "#d8576b"
             ],
             [
              0.6666666666666666,
              "#ed7953"
             ],
             [
              0.7777777777777778,
              "#fb9f3a"
             ],
             [
              0.8888888888888888,
              "#fdca26"
             ],
             [
              1,
              "#f0f921"
             ]
            ],
            "type": "surface"
           }
          ],
          "table": [
           {
            "cells": {
             "fill": {
              "color": "#EBF0F8"
             },
             "line": {
              "color": "white"
             }
            },
            "header": {
             "fill": {
              "color": "#C8D4E3"
             },
             "line": {
              "color": "white"
             }
            },
            "type": "table"
           }
          ]
         },
         "layout": {
          "annotationdefaults": {
           "arrowcolor": "#2a3f5f",
           "arrowhead": 0,
           "arrowwidth": 1
          },
          "autotypenumbers": "strict",
          "coloraxis": {
           "colorbar": {
            "outlinewidth": 0,
            "ticks": ""
           }
          },
          "colorscale": {
           "diverging": [
            [
             0,
             "#8e0152"
            ],
            [
             0.1,
             "#c51b7d"
            ],
            [
             0.2,
             "#de77ae"
            ],
            [
             0.3,
             "#f1b6da"
            ],
            [
             0.4,
             "#fde0ef"
            ],
            [
             0.5,
             "#f7f7f7"
            ],
            [
             0.6,
             "#e6f5d0"
            ],
            [
             0.7,
             "#b8e186"
            ],
            [
             0.8,
             "#7fbc41"
            ],
            [
             0.9,
             "#4d9221"
            ],
            [
             1,
             "#276419"
            ]
           ],
           "sequential": [
            [
             0,
             "#0d0887"
            ],
            [
             0.1111111111111111,
             "#46039f"
            ],
            [
             0.2222222222222222,
             "#7201a8"
            ],
            [
             0.3333333333333333,
             "#9c179e"
            ],
            [
             0.4444444444444444,
             "#bd3786"
            ],
            [
             0.5555555555555556,
             "#d8576b"
            ],
            [
             0.6666666666666666,
             "#ed7953"
            ],
            [
             0.7777777777777778,
             "#fb9f3a"
            ],
            [
             0.8888888888888888,
             "#fdca26"
            ],
            [
             1,
             "#f0f921"
            ]
           ],
           "sequentialminus": [
            [
             0,
             "#0d0887"
            ],
            [
             0.1111111111111111,
             "#46039f"
            ],
            [
             0.2222222222222222,
             "#7201a8"
            ],
            [
             0.3333333333333333,
             "#9c179e"
            ],
            [
             0.4444444444444444,
             "#bd3786"
            ],
            [
             0.5555555555555556,
             "#d8576b"
            ],
            [
             0.6666666666666666,
             "#ed7953"
            ],
            [
             0.7777777777777778,
             "#fb9f3a"
            ],
            [
             0.8888888888888888,
             "#fdca26"
            ],
            [
             1,
             "#f0f921"
            ]
           ]
          },
          "colorway": [
           "#636efa",
           "#EF553B",
           "#00cc96",
           "#ab63fa",
           "#FFA15A",
           "#19d3f3",
           "#FF6692",
           "#B6E880",
           "#FF97FF",
           "#FECB52"
          ],
          "font": {
           "color": "#2a3f5f"
          },
          "geo": {
           "bgcolor": "white",
           "lakecolor": "white",
           "landcolor": "#E5ECF6",
           "showlakes": true,
           "showland": true,
           "subunitcolor": "white"
          },
          "hoverlabel": {
           "align": "left"
          },
          "hovermode": "closest",
          "mapbox": {
           "style": "light"
          },
          "paper_bgcolor": "white",
          "plot_bgcolor": "#E5ECF6",
          "polar": {
           "angularaxis": {
            "gridcolor": "white",
            "linecolor": "white",
            "ticks": ""
           },
           "bgcolor": "#E5ECF6",
           "radialaxis": {
            "gridcolor": "white",
            "linecolor": "white",
            "ticks": ""
           }
          },
          "scene": {
           "xaxis": {
            "backgroundcolor": "#E5ECF6",
            "gridcolor": "white",
            "gridwidth": 2,
            "linecolor": "white",
            "showbackground": true,
            "ticks": "",
            "zerolinecolor": "white"
           },
           "yaxis": {
            "backgroundcolor": "#E5ECF6",
            "gridcolor": "white",
            "gridwidth": 2,
            "linecolor": "white",
            "showbackground": true,
            "ticks": "",
            "zerolinecolor": "white"
           },
           "zaxis": {
            "backgroundcolor": "#E5ECF6",
            "gridcolor": "white",
            "gridwidth": 2,
            "linecolor": "white",
            "showbackground": true,
            "ticks": "",
            "zerolinecolor": "white"
           }
          },
          "shapedefaults": {
           "line": {
            "color": "#2a3f5f"
           }
          },
          "ternary": {
           "aaxis": {
            "gridcolor": "white",
            "linecolor": "white",
            "ticks": ""
           },
           "baxis": {
            "gridcolor": "white",
            "linecolor": "white",
            "ticks": ""
           },
           "bgcolor": "#E5ECF6",
           "caxis": {
            "gridcolor": "white",
            "linecolor": "white",
            "ticks": ""
           }
          },
          "title": {
           "x": 0.05
          },
          "xaxis": {
           "automargin": true,
           "gridcolor": "white",
           "linecolor": "white",
           "ticks": "",
           "title": {
            "standoff": 15
           },
           "zerolinecolor": "white",
           "zerolinewidth": 2
          },
          "yaxis": {
           "automargin": true,
           "gridcolor": "white",
           "linecolor": "white",
           "ticks": "",
           "title": {
            "standoff": 15
           },
           "zerolinecolor": "white",
           "zerolinewidth": 2
          }
         }
        },
        "title": {
         "text": "Top 3 Dominant Emotions by Social Media Platform"
        },
        "width": 1600,
        "xaxis": {
         "anchor": "y",
         "domain": [
          0,
          0.1183673469387755
         ],
         "tickvals": [
          "Neutral",
          "Anxiety",
          "Boredom"
         ],
         "title": {
          "text": "Emotion"
         }
        },
        "xaxis2": {
         "anchor": "y2",
         "domain": [
          0.14693877551020407,
          0.26530612244897955
         ],
         "tickvals": [
          "Happiness",
          "Anxiety",
          "Neutral"
         ],
         "title": {
          "text": "Emotion"
         }
        },
        "xaxis3": {
         "anchor": "y3",
         "domain": [
          0.29387755102040813,
          0.4122448979591836
         ],
         "tickvals": [
          "Boredom",
          "Anxiety",
          "Neutral"
         ],
         "title": {
          "text": "Emotion"
         }
        },
        "xaxis4": {
         "anchor": "y4",
         "domain": [
          0.4408163265306122,
          0.5591836734693877
         ],
         "tickvals": [
          "Sadness",
          "Anxiety",
          "Neutral"
         ],
         "title": {
          "text": "Emotion"
         }
        },
        "xaxis5": {
         "anchor": "y5",
         "domain": [
          0.5877551020408163,
          0.7061224489795918
         ],
         "tickvals": [
          "Neutral",
          "Sadness",
          "Anger"
         ],
         "title": {
          "text": "Emotion"
         }
        },
        "xaxis6": {
         "anchor": "y6",
         "domain": [
          0.7346938775510204,
          0.8530612244897959
         ],
         "tickvals": [
          "Anger",
          "Sadness",
          "Anxiety"
         ],
         "title": {
          "text": "Emotion"
         }
        },
        "xaxis7": {
         "anchor": "y7",
         "domain": [
          0.8816326530612244,
          0.9999999999999999
         ],
         "tickvals": [
          "Anger",
          "Anxiety",
          "Neutral"
         ],
         "title": {
          "text": "Emotion"
         }
        },
        "yaxis": {
         "anchor": "x",
         "domain": [
          0,
          1
         ],
         "title": {
          "text": "Number of Users"
         }
        },
        "yaxis2": {
         "anchor": "x2",
         "domain": [
          0,
          1
         ]
        },
        "yaxis3": {
         "anchor": "x3",
         "domain": [
          0,
          1
         ]
        },
        "yaxis4": {
         "anchor": "x4",
         "domain": [
          0,
          1
         ]
        },
        "yaxis5": {
         "anchor": "x5",
         "domain": [
          0,
          1
         ]
        },
        "yaxis6": {
         "anchor": "x6",
         "domain": [
          0,
          1
         ]
        },
        "yaxis7": {
         "anchor": "x7",
         "domain": [
          0,
          1
         ]
        }
       }
      }
     },
     "metadata": {},
     "output_type": "display_data"
    }
   ],
   "source": [
    "# Group by Platform and Dominant_Emotion and count\n",
    "counts = df.groupby(['Platform', 'Dominant_Emotion']).size().reset_index(name='Count')\n",
    "\n",
    "# Get top 3 emotions per platform\n",
    "top_emotions_per_platform = (\n",
    "    counts.sort_values(['Platform', 'Count'], ascending=[True, False])\n",
    "    .groupby('Platform')\n",
    "    .head(3)\n",
    ")\n",
    "\n",
    "# Unique platforms\n",
    "platforms = top_emotions_per_platform['Platform'].unique()\n",
    "\n",
    "# Create subplots\n",
    "fig = make_subplots(rows=1, cols=len(platforms), subplot_titles=platforms)\n",
    "\n",
    "# Add bars for each platform\n",
    "for i, platform in enumerate(platforms):\n",
    "    platform_data = top_emotions_per_platform[top_emotions_per_platform['Platform'] == platform]\n",
    "    fig.add_trace(\n",
    "        go.Bar(\n",
    "            x=platform_data['Dominant_Emotion'],\n",
    "            y=platform_data['Count'],\n",
    "            showlegend=False\n",
    "        ),\n",
    "        row=1, col=i+1\n",
    "    )\n",
    "    fig.update_xaxes(title_text=\"Emotion\", tickvals=platform_data['Dominant_Emotion'], row=1, col=i+1)\n",
    "    fig.update_yaxes(title_text=\"Number of Users\", row=1, col=1)  # Only on first subplot\n",
    "\n",
    "# Set layout\n",
    "fig.update_layout(\n",
    "    title_text=\"Top 3 Dominant Emotions by Social Media Platform\",\n",
    "    height=500,\n",
    "    width=1600\n",
    ")\n",
    "\n",
    "fig.show()\n"
   ]
  },
  {
   "cell_type": "markdown",
   "id": "9840d4ce",
   "metadata": {},
   "source": [
    "**Plot 2**"
   ]
  },
  {
   "cell_type": "code",
   "execution_count": 35,
   "id": "96c1edc3",
   "metadata": {},
   "outputs": [
    {
     "name": "stderr",
     "output_type": "stream",
     "text": [
      "C:\\Users\\habib\\AppData\\Local\\Temp\\ipykernel_12312\\899240204.py:17: FutureWarning:\n",
      "\n",
      "The default of observed=False is deprecated and will be changed to True in a future version of pandas. Pass observed=False to retain current behavior or observed=True to adopt the future default and silence this warning.\n",
      "\n",
      "C:\\Users\\habib\\AppData\\Local\\Temp\\ipykernel_12312\\899240204.py:18: FutureWarning:\n",
      "\n",
      "The default of observed=False is deprecated and will be changed to True in a future version of pandas. Pass observed=False to retain current behavior or observed=True to adopt the future default and silence this warning.\n",
      "\n"
     ]
    },
    {
     "data": {
      "application/vnd.plotly.v1+json": {
       "config": {
        "plotlyServerURL": "https://plot.ly"
       },
       "data": [
        {
         "marker": {
          "color": [
           "#DC143C",
           "#FF7F50",
           "#C0C0C0",
           "#FFD700",
           "#A9A9A9",
           "#1E90FF"
          ]
         },
         "name": "0-30",
         "text": [
          "nan%",
          "nan%",
          "nan%",
          "nan%",
          "nan%",
          "nan%"
         ],
         "textposition": "auto",
         "type": "bar",
         "visible": true,
         "x": [
          "😠 Anger",
          "😰 Anxiety",
          "🥱 Boredom",
          "😊 Happiness",
          "😐 Neutral",
          "😢 Sadness"
         ],
         "y": {
          "bdata": "AAAAAAAA+P8AAAAAAAD4/wAAAAAAAPj/AAAAAAAA+P8AAAAAAAD4/wAAAAAAAPj/",
          "dtype": "f8"
         }
        },
        {
         "marker": {
          "color": [
           "#DC143C",
           "#FF7F50",
           "#C0C0C0",
           "#FFD700",
           "#A9A9A9",
           "#1E90FF"
          ]
         },
         "name": "30-60",
         "text": [
          "0.0%",
          "7.7%",
          "30.8%",
          "0.0%",
          "30.8%",
          "30.8%"
         ],
         "textposition": "auto",
         "type": "bar",
         "visible": false,
         "x": [
          "😠 Anger",
          "😰 Anxiety",
          "🥱 Boredom",
          "😊 Happiness",
          "😐 Neutral",
          "😢 Sadness"
         ],
         "y": {
          "bdata": "AAAAAAAAAABP7MRO7MQeQE/sxE7sxD5AAAAAAAAAAABP7MRO7MQ+QE/sxE7sxD5A",
          "dtype": "f8"
         }
        },
        {
         "marker": {
          "color": [
           "#DC143C",
           "#FF7F50",
           "#C0C0C0",
           "#FFD700",
           "#A9A9A9",
           "#1E90FF"
          ]
         },
         "name": "60-90",
         "text": [
          "13.2%",
          "21.1%",
          "23.7%",
          "2.6%",
          "28.9%",
          "10.5%"
         ],
         "textposition": "auto",
         "type": "bar",
         "visible": false,
         "x": [
          "😠 Anger",
          "😰 Anxiety",
          "🥱 Boredom",
          "😊 Happiness",
          "😐 Neutral",
          "😢 Sadness"
         ],
         "y": {
          "bdata": "DeU1lNdQKkDXUF5DeQ01QPIaymsorzdA11BeQ3kNBUApr6G8hvI8QNdQXkN5DSVA",
          "dtype": "f8"
         }
        },
        {
         "marker": {
          "color": [
           "#DC143C",
           "#FF7F50",
           "#C0C0C0",
           "#FFD700",
           "#A9A9A9",
           "#1E90FF"
          ]
         },
         "name": "90-120",
         "text": [
          "30.4%",
          "17.4%",
          "4.3%",
          "8.7%",
          "13.0%",
          "26.1%"
         ],
         "textposition": "auto",
         "type": "bar",
         "visible": false,
         "x": [
          "😠 Anger",
          "😰 Anxiety",
          "🥱 Boredom",
          "😊 Happiness",
          "😐 Neutral",
          "😢 Sadness"
         ],
         "y": {
          "bdata": "qDe96U1vPkAWspCFLGQxQBaykIUsZBFAFrKQhSxkIUAhC1nIQhYqQCELWchCFjpA",
          "dtype": "f8"
         }
        },
        {
         "marker": {
          "color": [
           "#DC143C",
           "#FF7F50",
           "#C0C0C0",
           "#FFD700",
           "#A9A9A9",
           "#1E90FF"
          ]
         },
         "name": "120-150",
         "text": [
          "9.1%",
          "18.2%",
          "0.0%",
          "36.4%",
          "18.2%",
          "18.2%"
         ],
         "textposition": "auto",
         "type": "bar",
         "visible": false,
         "x": [
          "😠 Anger",
          "😰 Anxiety",
          "🥱 Boredom",
          "😊 Happiness",
          "😐 Neutral",
          "😢 Sadness"
         ],
         "y": {
          "bdata": "L7rooosuIkAvuuiiiy4yQAAAAAAAAAAAL7rooosuQkAvuuiiiy4yQC+66KKLLjJA",
          "dtype": "f8"
         }
        },
        {
         "marker": {
          "color": [
           "#DC143C",
           "#FF7F50",
           "#C0C0C0",
           "#FFD700",
           "#A9A9A9",
           "#1E90FF"
          ]
         },
         "name": "150-180",
         "text": [
          "0.0%",
          "8.3%",
          "0.0%",
          "91.7%",
          "0.0%",
          "0.0%"
         ],
         "textposition": "auto",
         "type": "bar",
         "visible": false,
         "x": [
          "😠 Anger",
          "😰 Anxiety",
          "🥱 Boredom",
          "😊 Happiness",
          "😐 Neutral",
          "😢 Sadness"
         ],
         "y": {
          "bdata": "AAAAAAAAAACqqqqqqqogQAAAAAAAAAAAqqqqqqrqVkAAAAAAAAAAAAAAAAAAAAAA",
          "dtype": "f8"
         }
        },
        {
         "marker": {
          "color": [
           "#DC143C",
           "#FF7F50",
           "#C0C0C0",
           "#FFD700",
           "#A9A9A9",
           "#1E90FF"
          ]
         },
         "name": "180+",
         "text": [
          "0.0%",
          "0.0%",
          "0.0%",
          "100.0%",
          "0.0%",
          "0.0%"
         ],
         "textposition": "auto",
         "type": "bar",
         "visible": false,
         "x": [
          "😠 Anger",
          "😰 Anxiety",
          "🥱 Boredom",
          "😊 Happiness",
          "😐 Neutral",
          "😢 Sadness"
         ],
         "y": {
          "bdata": "AAAAAAAAAAAAAAAAAAAAAAAAAAAAAAAAAAAAAAAAWUAAAAAAAAAAAAAAAAAAAAAA",
          "dtype": "f8"
         }
        }
       ],
       "layout": {
        "plot_bgcolor": "white",
        "template": {
         "data": {
          "bar": [
           {
            "error_x": {
             "color": "#2a3f5f"
            },
            "error_y": {
             "color": "#2a3f5f"
            },
            "marker": {
             "line": {
              "color": "#E5ECF6",
              "width": 0.5
             },
             "pattern": {
              "fillmode": "overlay",
              "size": 10,
              "solidity": 0.2
             }
            },
            "type": "bar"
           }
          ],
          "barpolar": [
           {
            "marker": {
             "line": {
              "color": "#E5ECF6",
              "width": 0.5
             },
             "pattern": {
              "fillmode": "overlay",
              "size": 10,
              "solidity": 0.2
             }
            },
            "type": "barpolar"
           }
          ],
          "carpet": [
           {
            "aaxis": {
             "endlinecolor": "#2a3f5f",
             "gridcolor": "white",
             "linecolor": "white",
             "minorgridcolor": "white",
             "startlinecolor": "#2a3f5f"
            },
            "baxis": {
             "endlinecolor": "#2a3f5f",
             "gridcolor": "white",
             "linecolor": "white",
             "minorgridcolor": "white",
             "startlinecolor": "#2a3f5f"
            },
            "type": "carpet"
           }
          ],
          "choropleth": [
           {
            "colorbar": {
             "outlinewidth": 0,
             "ticks": ""
            },
            "type": "choropleth"
           }
          ],
          "contour": [
           {
            "colorbar": {
             "outlinewidth": 0,
             "ticks": ""
            },
            "colorscale": [
             [
              0,
              "#0d0887"
             ],
             [
              0.1111111111111111,
              "#46039f"
             ],
             [
              0.2222222222222222,
              "#7201a8"
             ],
             [
              0.3333333333333333,
              "#9c179e"
             ],
             [
              0.4444444444444444,
              "#bd3786"
             ],
             [
              0.5555555555555556,
              "#d8576b"
             ],
             [
              0.6666666666666666,
              "#ed7953"
             ],
             [
              0.7777777777777778,
              "#fb9f3a"
             ],
             [
              0.8888888888888888,
              "#fdca26"
             ],
             [
              1,
              "#f0f921"
             ]
            ],
            "type": "contour"
           }
          ],
          "contourcarpet": [
           {
            "colorbar": {
             "outlinewidth": 0,
             "ticks": ""
            },
            "type": "contourcarpet"
           }
          ],
          "heatmap": [
           {
            "colorbar": {
             "outlinewidth": 0,
             "ticks": ""
            },
            "colorscale": [
             [
              0,
              "#0d0887"
             ],
             [
              0.1111111111111111,
              "#46039f"
             ],
             [
              0.2222222222222222,
              "#7201a8"
             ],
             [
              0.3333333333333333,
              "#9c179e"
             ],
             [
              0.4444444444444444,
              "#bd3786"
             ],
             [
              0.5555555555555556,
              "#d8576b"
             ],
             [
              0.6666666666666666,
              "#ed7953"
             ],
             [
              0.7777777777777778,
              "#fb9f3a"
             ],
             [
              0.8888888888888888,
              "#fdca26"
             ],
             [
              1,
              "#f0f921"
             ]
            ],
            "type": "heatmap"
           }
          ],
          "histogram": [
           {
            "marker": {
             "pattern": {
              "fillmode": "overlay",
              "size": 10,
              "solidity": 0.2
             }
            },
            "type": "histogram"
           }
          ],
          "histogram2d": [
           {
            "colorbar": {
             "outlinewidth": 0,
             "ticks": ""
            },
            "colorscale": [
             [
              0,
              "#0d0887"
             ],
             [
              0.1111111111111111,
              "#46039f"
             ],
             [
              0.2222222222222222,
              "#7201a8"
             ],
             [
              0.3333333333333333,
              "#9c179e"
             ],
             [
              0.4444444444444444,
              "#bd3786"
             ],
             [
              0.5555555555555556,
              "#d8576b"
             ],
             [
              0.6666666666666666,
              "#ed7953"
             ],
             [
              0.7777777777777778,
              "#fb9f3a"
             ],
             [
              0.8888888888888888,
              "#fdca26"
             ],
             [
              1,
              "#f0f921"
             ]
            ],
            "type": "histogram2d"
           }
          ],
          "histogram2dcontour": [
           {
            "colorbar": {
             "outlinewidth": 0,
             "ticks": ""
            },
            "colorscale": [
             [
              0,
              "#0d0887"
             ],
             [
              0.1111111111111111,
              "#46039f"
             ],
             [
              0.2222222222222222,
              "#7201a8"
             ],
             [
              0.3333333333333333,
              "#9c179e"
             ],
             [
              0.4444444444444444,
              "#bd3786"
             ],
             [
              0.5555555555555556,
              "#d8576b"
             ],
             [
              0.6666666666666666,
              "#ed7953"
             ],
             [
              0.7777777777777778,
              "#fb9f3a"
             ],
             [
              0.8888888888888888,
              "#fdca26"
             ],
             [
              1,
              "#f0f921"
             ]
            ],
            "type": "histogram2dcontour"
           }
          ],
          "mesh3d": [
           {
            "colorbar": {
             "outlinewidth": 0,
             "ticks": ""
            },
            "type": "mesh3d"
           }
          ],
          "parcoords": [
           {
            "line": {
             "colorbar": {
              "outlinewidth": 0,
              "ticks": ""
             }
            },
            "type": "parcoords"
           }
          ],
          "pie": [
           {
            "automargin": true,
            "type": "pie"
           }
          ],
          "scatter": [
           {
            "fillpattern": {
             "fillmode": "overlay",
             "size": 10,
             "solidity": 0.2
            },
            "type": "scatter"
           }
          ],
          "scatter3d": [
           {
            "line": {
             "colorbar": {
              "outlinewidth": 0,
              "ticks": ""
             }
            },
            "marker": {
             "colorbar": {
              "outlinewidth": 0,
              "ticks": ""
             }
            },
            "type": "scatter3d"
           }
          ],
          "scattercarpet": [
           {
            "marker": {
             "colorbar": {
              "outlinewidth": 0,
              "ticks": ""
             }
            },
            "type": "scattercarpet"
           }
          ],
          "scattergeo": [
           {
            "marker": {
             "colorbar": {
              "outlinewidth": 0,
              "ticks": ""
             }
            },
            "type": "scattergeo"
           }
          ],
          "scattergl": [
           {
            "marker": {
             "colorbar": {
              "outlinewidth": 0,
              "ticks": ""
             }
            },
            "type": "scattergl"
           }
          ],
          "scattermap": [
           {
            "marker": {
             "colorbar": {
              "outlinewidth": 0,
              "ticks": ""
             }
            },
            "type": "scattermap"
           }
          ],
          "scattermapbox": [
           {
            "marker": {
             "colorbar": {
              "outlinewidth": 0,
              "ticks": ""
             }
            },
            "type": "scattermapbox"
           }
          ],
          "scatterpolar": [
           {
            "marker": {
             "colorbar": {
              "outlinewidth": 0,
              "ticks": ""
             }
            },
            "type": "scatterpolar"
           }
          ],
          "scatterpolargl": [
           {
            "marker": {
             "colorbar": {
              "outlinewidth": 0,
              "ticks": ""
             }
            },
            "type": "scatterpolargl"
           }
          ],
          "scatterternary": [
           {
            "marker": {
             "colorbar": {
              "outlinewidth": 0,
              "ticks": ""
             }
            },
            "type": "scatterternary"
           }
          ],
          "surface": [
           {
            "colorbar": {
             "outlinewidth": 0,
             "ticks": ""
            },
            "colorscale": [
             [
              0,
              "#0d0887"
             ],
             [
              0.1111111111111111,
              "#46039f"
             ],
             [
              0.2222222222222222,
              "#7201a8"
             ],
             [
              0.3333333333333333,
              "#9c179e"
             ],
             [
              0.4444444444444444,
              "#bd3786"
             ],
             [
              0.5555555555555556,
              "#d8576b"
             ],
             [
              0.6666666666666666,
              "#ed7953"
             ],
             [
              0.7777777777777778,
              "#fb9f3a"
             ],
             [
              0.8888888888888888,
              "#fdca26"
             ],
             [
              1,
              "#f0f921"
             ]
            ],
            "type": "surface"
           }
          ],
          "table": [
           {
            "cells": {
             "fill": {
              "color": "#EBF0F8"
             },
             "line": {
              "color": "white"
             }
            },
            "header": {
             "fill": {
              "color": "#C8D4E3"
             },
             "line": {
              "color": "white"
             }
            },
            "type": "table"
           }
          ]
         },
         "layout": {
          "annotationdefaults": {
           "arrowcolor": "#2a3f5f",
           "arrowhead": 0,
           "arrowwidth": 1
          },
          "autotypenumbers": "strict",
          "coloraxis": {
           "colorbar": {
            "outlinewidth": 0,
            "ticks": ""
           }
          },
          "colorscale": {
           "diverging": [
            [
             0,
             "#8e0152"
            ],
            [
             0.1,
             "#c51b7d"
            ],
            [
             0.2,
             "#de77ae"
            ],
            [
             0.3,
             "#f1b6da"
            ],
            [
             0.4,
             "#fde0ef"
            ],
            [
             0.5,
             "#f7f7f7"
            ],
            [
             0.6,
             "#e6f5d0"
            ],
            [
             0.7,
             "#b8e186"
            ],
            [
             0.8,
             "#7fbc41"
            ],
            [
             0.9,
             "#4d9221"
            ],
            [
             1,
             "#276419"
            ]
           ],
           "sequential": [
            [
             0,
             "#0d0887"
            ],
            [
             0.1111111111111111,
             "#46039f"
            ],
            [
             0.2222222222222222,
             "#7201a8"
            ],
            [
             0.3333333333333333,
             "#9c179e"
            ],
            [
             0.4444444444444444,
             "#bd3786"
            ],
            [
             0.5555555555555556,
             "#d8576b"
            ],
            [
             0.6666666666666666,
             "#ed7953"
            ],
            [
             0.7777777777777778,
             "#fb9f3a"
            ],
            [
             0.8888888888888888,
             "#fdca26"
            ],
            [
             1,
             "#f0f921"
            ]
           ],
           "sequentialminus": [
            [
             0,
             "#0d0887"
            ],
            [
             0.1111111111111111,
             "#46039f"
            ],
            [
             0.2222222222222222,
             "#7201a8"
            ],
            [
             0.3333333333333333,
             "#9c179e"
            ],
            [
             0.4444444444444444,
             "#bd3786"
            ],
            [
             0.5555555555555556,
             "#d8576b"
            ],
            [
             0.6666666666666666,
             "#ed7953"
            ],
            [
             0.7777777777777778,
             "#fb9f3a"
            ],
            [
             0.8888888888888888,
             "#fdca26"
            ],
            [
             1,
             "#f0f921"
            ]
           ]
          },
          "colorway": [
           "#636efa",
           "#EF553B",
           "#00cc96",
           "#ab63fa",
           "#FFA15A",
           "#19d3f3",
           "#FF6692",
           "#B6E880",
           "#FF97FF",
           "#FECB52"
          ],
          "font": {
           "color": "#2a3f5f"
          },
          "geo": {
           "bgcolor": "white",
           "lakecolor": "white",
           "landcolor": "#E5ECF6",
           "showlakes": true,
           "showland": true,
           "subunitcolor": "white"
          },
          "hoverlabel": {
           "align": "left"
          },
          "hovermode": "closest",
          "mapbox": {
           "style": "light"
          },
          "paper_bgcolor": "white",
          "plot_bgcolor": "#E5ECF6",
          "polar": {
           "angularaxis": {
            "gridcolor": "white",
            "linecolor": "white",
            "ticks": ""
           },
           "bgcolor": "#E5ECF6",
           "radialaxis": {
            "gridcolor": "white",
            "linecolor": "white",
            "ticks": ""
           }
          },
          "scene": {
           "xaxis": {
            "backgroundcolor": "#E5ECF6",
            "gridcolor": "white",
            "gridwidth": 2,
            "linecolor": "white",
            "showbackground": true,
            "ticks": "",
            "zerolinecolor": "white"
           },
           "yaxis": {
            "backgroundcolor": "#E5ECF6",
            "gridcolor": "white",
            "gridwidth": 2,
            "linecolor": "white",
            "showbackground": true,
            "ticks": "",
            "zerolinecolor": "white"
           },
           "zaxis": {
            "backgroundcolor": "#E5ECF6",
            "gridcolor": "white",
            "gridwidth": 2,
            "linecolor": "white",
            "showbackground": true,
            "ticks": "",
            "zerolinecolor": "white"
           }
          },
          "shapedefaults": {
           "line": {
            "color": "#2a3f5f"
           }
          },
          "ternary": {
           "aaxis": {
            "gridcolor": "white",
            "linecolor": "white",
            "ticks": ""
           },
           "baxis": {
            "gridcolor": "white",
            "linecolor": "white",
            "ticks": ""
           },
           "bgcolor": "#E5ECF6",
           "caxis": {
            "gridcolor": "white",
            "linecolor": "white",
            "ticks": ""
           }
          },
          "title": {
           "x": 0.05
          },
          "xaxis": {
           "automargin": true,
           "gridcolor": "white",
           "linecolor": "white",
           "ticks": "",
           "title": {
            "standoff": 15
           },
           "zerolinecolor": "white",
           "zerolinewidth": 2
          },
          "yaxis": {
           "automargin": true,
           "gridcolor": "white",
           "linecolor": "white",
           "ticks": "",
           "title": {
            "standoff": 15
           },
           "zerolinecolor": "white",
           "zerolinewidth": 2
          }
         }
        },
        "title": {
         "text": "Dominant Emotions for Time Spent: 0-30"
        },
        "updatemenus": [
         {
          "active": 0,
          "buttons": [
           {
            "args": [
             {
              "visible": [
               true,
               false,
               false,
               false,
               false,
               false,
               false
              ]
             },
             {
              "title": "Dominant Emotions for Time Spent: 0-30"
             }
            ],
            "label": "0-30",
            "method": "update"
           },
           {
            "args": [
             {
              "visible": [
               false,
               true,
               false,
               false,
               false,
               false,
               false
              ]
             },
             {
              "title": "Dominant Emotions for Time Spent: 30-60"
             }
            ],
            "label": "30-60",
            "method": "update"
           },
           {
            "args": [
             {
              "visible": [
               false,
               false,
               true,
               false,
               false,
               false,
               false
              ]
             },
             {
              "title": "Dominant Emotions for Time Spent: 60-90"
             }
            ],
            "label": "60-90",
            "method": "update"
           },
           {
            "args": [
             {
              "visible": [
               false,
               false,
               false,
               true,
               false,
               false,
               false
              ]
             },
             {
              "title": "Dominant Emotions for Time Spent: 90-120"
             }
            ],
            "label": "90-120",
            "method": "update"
           },
           {
            "args": [
             {
              "visible": [
               false,
               false,
               false,
               false,
               true,
               false,
               false
              ]
             },
             {
              "title": "Dominant Emotions for Time Spent: 120-150"
             }
            ],
            "label": "120-150",
            "method": "update"
           },
           {
            "args": [
             {
              "visible": [
               false,
               false,
               false,
               false,
               false,
               true,
               false
              ]
             },
             {
              "title": "Dominant Emotions for Time Spent: 150-180"
             }
            ],
            "label": "150-180",
            "method": "update"
           },
           {
            "args": [
             {
              "visible": [
               false,
               false,
               false,
               false,
               false,
               false,
               true
              ]
             },
             {
              "title": "Dominant Emotions for Time Spent: 180+"
             }
            ],
            "label": "180+",
            "method": "update"
           }
          ],
          "x": 0.5,
          "xanchor": "center",
          "y": 1.15,
          "yanchor": "top"
         }
        ],
        "xaxis": {
         "title": {
          "text": "Dominant Emotion"
         }
        },
        "yaxis": {
         "title": {
          "text": "Percentage of Users"
         }
        }
       }
      }
     },
     "metadata": {},
     "output_type": "display_data"
    }
   ],
   "source": [
    "# Step 1: Define emojis and colors for emotions\n",
    "emotion_info = {\n",
    "    'Happiness': {'emoji': '😊', 'color': '#FFD700'},  # Gold\n",
    "    'Neutral': {'emoji': '😐', 'color': '#A9A9A9'},    # Gray\n",
    "    'Anxiety': {'emoji': '😰', 'color': '#FF7F50'},    # Coral\n",
    "    'Sadness': {'emoji': '😢', 'color': '#1E90FF'},    # DodgerBlue\n",
    "    'Boredom': {'emoji': '🥱', 'color': '#C0C0C0'},    # Silver\n",
    "    'Anger': {'emoji': '😠', 'color': '#DC143C'}       # Crimson\n",
    "}\n",
    "\n",
    "# Step 2: Create time bins\n",
    "bins = [0, 30, 60, 90, 120, 150, 180, df['Daily_Usage_Time (minutes)'].max()]\n",
    "labels = ['0-30', '30-60', '60-90', '90-120', '120-150', '150-180', '180+']\n",
    "df['Time_Range'] = pd.cut(df['Daily_Usage_Time (minutes)'], bins=bins, labels=labels, right=False)\n",
    "\n",
    "# Step 3: Group and calculate percentages\n",
    "grouped = df.groupby(['Time_Range', 'Dominant_Emotion']).size().reset_index(name='Count')\n",
    "total_per_range = grouped.groupby('Time_Range')['Count'].transform('sum')\n",
    "grouped['Percentage'] = (grouped['Count'] / total_per_range) * 100\n",
    "\n",
    "# Step 4: Add emojis to emotion labels\n",
    "grouped['Labeled_Emotion'] = grouped['Dominant_Emotion'].apply(lambda emo: f\"{emotion_info[emo]['emoji']} {emo}\")\n",
    "grouped['Color'] = grouped['Dominant_Emotion'].apply(lambda emo: emotion_info[emo]['color'])\n",
    "\n",
    "# Step 5: Build plot with dropdown\n",
    "fig = go.Figure()\n",
    "time_ranges = grouped['Time_Range'].unique().tolist()\n",
    "\n",
    "for time_range in time_ranges:\n",
    "    df_range = grouped[grouped['Time_Range'] == time_range]\n",
    "    fig.add_trace(go.Bar(\n",
    "        x=df_range['Labeled_Emotion'],\n",
    "        y=df_range['Percentage'],\n",
    "        name=str(time_range),\n",
    "        visible=(time_range == time_ranges[0]),\n",
    "        text=df_range['Percentage'].round(1).astype(str) + '%',\n",
    "        textposition='auto',\n",
    "        marker_color=df_range['Color']\n",
    "    ))\n",
    "\n",
    "# Step 6: Add dropdown menu\n",
    "dropdown_buttons = [\n",
    "    dict(label=str(r),\n",
    "         method='update',\n",
    "         args=[{'visible': [r == tr for tr in time_ranges]},\n",
    "               {'title': f\"Dominant Emotions for Time Spent: {r}\"}])\n",
    "    for r in time_ranges\n",
    "]\n",
    "\n",
    "fig.update_layout(\n",
    "    title=f\"Dominant Emotions for Time Spent: {time_ranges[0]}\",\n",
    "    xaxis_title=\"Dominant Emotion\",\n",
    "    yaxis_title=\"Percentage of Users\",\n",
    "    updatemenus=[dict(\n",
    "        active=0,\n",
    "        buttons=dropdown_buttons,\n",
    "        x=0.5,\n",
    "        xanchor=\"center\",\n",
    "        y=1.15,\n",
    "        yanchor=\"top\"\n",
    "    )],\n",
    "    plot_bgcolor='white'\n",
    ")\n",
    "\n",
    "fig.show()\n"
   ]
  },
  {
   "cell_type": "markdown",
   "id": "fb601877",
   "metadata": {},
   "source": [
    "**Plot 3**"
   ]
  },
  {
   "cell_type": "code",
   "execution_count": 36,
   "id": "65ac808b",
   "metadata": {},
   "outputs": [
    {
     "data": {
      "application/vnd.plotly.v1+json": {
       "config": {
        "plotlyServerURL": "https://plot.ly"
       },
       "data": [
        {
         "marker": {
          "color": "mediumvioletred"
         },
         "name": "Female",
         "text": {
          "bdata": "AAAAAAAA8D+kcD0K16MWQAAAAAAAAPg/pHA9CtejCkBxPQrXo3ALQAAAAAAAAAhA",
          "dtype": "f8"
         },
         "textfont": {
          "color": "black",
          "family": "Arial Black",
          "size": 12
         },
         "textposition": "outside",
         "type": "bar",
         "visible": false,
         "x": [
          "Facebook",
          "Instagram",
          "LinkedIn",
          "Snapchat",
          "Twitter",
          "Whatsapp"
         ],
         "y": {
          "bdata": "AAAAAAAA8D8AAAAAAKAWQAAAAAAAAPg/q6qqqqqqCkDbtm3btm0LQAAAAAAAAAhA",
          "dtype": "f8"
         }
        },
        {
         "marker": {
          "color": "steelblue"
         },
         "name": "Male",
         "text": {
          "bdata": "AAAAAAAA/D89CtejcD0XQDMzMzMzM/M/AAAAAAAACED2KFyPwvUKQAAAAAAAAAhA",
          "dtype": "f8"
         },
         "textfont": {
          "color": "black",
          "family": "Arial Black",
          "size": 12
         },
         "textposition": "outside",
         "type": "bar",
         "visible": true,
         "x": [
          "Facebook",
          "Instagram",
          "LinkedIn",
          "Telegram",
          "Twitter",
          "Whatsapp"
         ],
         "y": {
          "bdata": "AAAAAAAA/D8AAAAAAEAXQDMzMzMzM/M/AAAAAAAACED7hrVvWPsKQAAAAAAAAAhA",
          "dtype": "f8"
         }
        },
        {
         "marker": {
          "color": "gray"
         },
         "name": "Non-binary",
         "text": {
          "bdata": "j8L1KFyPAEAAAAAAAAAgQAAAAAAAAPA/mpmZmZmZAUAAAAAAAAAAQAAAAAAAAAxA",
          "dtype": "f8"
         },
         "textfont": {
          "color": "black",
          "family": "Arial Black",
          "size": 12
         },
         "textposition": "outside",
         "type": "bar",
         "visible": false,
         "x": [
          "Facebook",
          "Instagram",
          "LinkedIn",
          "Snapchat",
          "Telegram",
          "Twitter"
         ],
         "y": {
          "bdata": "JUmSJEmSAEAAAAAAAAAgQAAAAAAAAPA/mpmZmZmZAUAAAAAAAAAAQAAAAAAAAAxA",
          "dtype": "f8"
         }
        }
       ],
       "layout": {
        "height": 500,
        "template": {
         "data": {
          "bar": [
           {
            "error_x": {
             "color": "#2a3f5f"
            },
            "error_y": {
             "color": "#2a3f5f"
            },
            "marker": {
             "line": {
              "color": "#E5ECF6",
              "width": 0.5
             },
             "pattern": {
              "fillmode": "overlay",
              "size": 10,
              "solidity": 0.2
             }
            },
            "type": "bar"
           }
          ],
          "barpolar": [
           {
            "marker": {
             "line": {
              "color": "#E5ECF6",
              "width": 0.5
             },
             "pattern": {
              "fillmode": "overlay",
              "size": 10,
              "solidity": 0.2
             }
            },
            "type": "barpolar"
           }
          ],
          "carpet": [
           {
            "aaxis": {
             "endlinecolor": "#2a3f5f",
             "gridcolor": "white",
             "linecolor": "white",
             "minorgridcolor": "white",
             "startlinecolor": "#2a3f5f"
            },
            "baxis": {
             "endlinecolor": "#2a3f5f",
             "gridcolor": "white",
             "linecolor": "white",
             "minorgridcolor": "white",
             "startlinecolor": "#2a3f5f"
            },
            "type": "carpet"
           }
          ],
          "choropleth": [
           {
            "colorbar": {
             "outlinewidth": 0,
             "ticks": ""
            },
            "type": "choropleth"
           }
          ],
          "contour": [
           {
            "colorbar": {
             "outlinewidth": 0,
             "ticks": ""
            },
            "colorscale": [
             [
              0,
              "#0d0887"
             ],
             [
              0.1111111111111111,
              "#46039f"
             ],
             [
              0.2222222222222222,
              "#7201a8"
             ],
             [
              0.3333333333333333,
              "#9c179e"
             ],
             [
              0.4444444444444444,
              "#bd3786"
             ],
             [
              0.5555555555555556,
              "#d8576b"
             ],
             [
              0.6666666666666666,
              "#ed7953"
             ],
             [
              0.7777777777777778,
              "#fb9f3a"
             ],
             [
              0.8888888888888888,
              "#fdca26"
             ],
             [
              1,
              "#f0f921"
             ]
            ],
            "type": "contour"
           }
          ],
          "contourcarpet": [
           {
            "colorbar": {
             "outlinewidth": 0,
             "ticks": ""
            },
            "type": "contourcarpet"
           }
          ],
          "heatmap": [
           {
            "colorbar": {
             "outlinewidth": 0,
             "ticks": ""
            },
            "colorscale": [
             [
              0,
              "#0d0887"
             ],
             [
              0.1111111111111111,
              "#46039f"
             ],
             [
              0.2222222222222222,
              "#7201a8"
             ],
             [
              0.3333333333333333,
              "#9c179e"
             ],
             [
              0.4444444444444444,
              "#bd3786"
             ],
             [
              0.5555555555555556,
              "#d8576b"
             ],
             [
              0.6666666666666666,
              "#ed7953"
             ],
             [
              0.7777777777777778,
              "#fb9f3a"
             ],
             [
              0.8888888888888888,
              "#fdca26"
             ],
             [
              1,
              "#f0f921"
             ]
            ],
            "type": "heatmap"
           }
          ],
          "histogram": [
           {
            "marker": {
             "pattern": {
              "fillmode": "overlay",
              "size": 10,
              "solidity": 0.2
             }
            },
            "type": "histogram"
           }
          ],
          "histogram2d": [
           {
            "colorbar": {
             "outlinewidth": 0,
             "ticks": ""
            },
            "colorscale": [
             [
              0,
              "#0d0887"
             ],
             [
              0.1111111111111111,
              "#46039f"
             ],
             [
              0.2222222222222222,
              "#7201a8"
             ],
             [
              0.3333333333333333,
              "#9c179e"
             ],
             [
              0.4444444444444444,
              "#bd3786"
             ],
             [
              0.5555555555555556,
              "#d8576b"
             ],
             [
              0.6666666666666666,
              "#ed7953"
             ],
             [
              0.7777777777777778,
              "#fb9f3a"
             ],
             [
              0.8888888888888888,
              "#fdca26"
             ],
             [
              1,
              "#f0f921"
             ]
            ],
            "type": "histogram2d"
           }
          ],
          "histogram2dcontour": [
           {
            "colorbar": {
             "outlinewidth": 0,
             "ticks": ""
            },
            "colorscale": [
             [
              0,
              "#0d0887"
             ],
             [
              0.1111111111111111,
              "#46039f"
             ],
             [
              0.2222222222222222,
              "#7201a8"
             ],
             [
              0.3333333333333333,
              "#9c179e"
             ],
             [
              0.4444444444444444,
              "#bd3786"
             ],
             [
              0.5555555555555556,
              "#d8576b"
             ],
             [
              0.6666666666666666,
              "#ed7953"
             ],
             [
              0.7777777777777778,
              "#fb9f3a"
             ],
             [
              0.8888888888888888,
              "#fdca26"
             ],
             [
              1,
              "#f0f921"
             ]
            ],
            "type": "histogram2dcontour"
           }
          ],
          "mesh3d": [
           {
            "colorbar": {
             "outlinewidth": 0,
             "ticks": ""
            },
            "type": "mesh3d"
           }
          ],
          "parcoords": [
           {
            "line": {
             "colorbar": {
              "outlinewidth": 0,
              "ticks": ""
             }
            },
            "type": "parcoords"
           }
          ],
          "pie": [
           {
            "automargin": true,
            "type": "pie"
           }
          ],
          "scatter": [
           {
            "fillpattern": {
             "fillmode": "overlay",
             "size": 10,
             "solidity": 0.2
            },
            "type": "scatter"
           }
          ],
          "scatter3d": [
           {
            "line": {
             "colorbar": {
              "outlinewidth": 0,
              "ticks": ""
             }
            },
            "marker": {
             "colorbar": {
              "outlinewidth": 0,
              "ticks": ""
             }
            },
            "type": "scatter3d"
           }
          ],
          "scattercarpet": [
           {
            "marker": {
             "colorbar": {
              "outlinewidth": 0,
              "ticks": ""
             }
            },
            "type": "scattercarpet"
           }
          ],
          "scattergeo": [
           {
            "marker": {
             "colorbar": {
              "outlinewidth": 0,
              "ticks": ""
             }
            },
            "type": "scattergeo"
           }
          ],
          "scattergl": [
           {
            "marker": {
             "colorbar": {
              "outlinewidth": 0,
              "ticks": ""
             }
            },
            "type": "scattergl"
           }
          ],
          "scattermap": [
           {
            "marker": {
             "colorbar": {
              "outlinewidth": 0,
              "ticks": ""
             }
            },
            "type": "scattermap"
           }
          ],
          "scattermapbox": [
           {
            "marker": {
             "colorbar": {
              "outlinewidth": 0,
              "ticks": ""
             }
            },
            "type": "scattermapbox"
           }
          ],
          "scatterpolar": [
           {
            "marker": {
             "colorbar": {
              "outlinewidth": 0,
              "ticks": ""
             }
            },
            "type": "scatterpolar"
           }
          ],
          "scatterpolargl": [
           {
            "marker": {
             "colorbar": {
              "outlinewidth": 0,
              "ticks": ""
             }
            },
            "type": "scatterpolargl"
           }
          ],
          "scatterternary": [
           {
            "marker": {
             "colorbar": {
              "outlinewidth": 0,
              "ticks": ""
             }
            },
            "type": "scatterternary"
           }
          ],
          "surface": [
           {
            "colorbar": {
             "outlinewidth": 0,
             "ticks": ""
            },
            "colorscale": [
             [
              0,
              "#0d0887"
             ],
             [
              0.1111111111111111,
              "#46039f"
             ],
             [
              0.2222222222222222,
              "#7201a8"
             ],
             [
              0.3333333333333333,
              "#9c179e"
             ],
             [
              0.4444444444444444,
              "#bd3786"
             ],
             [
              0.5555555555555556,
              "#d8576b"
             ],
             [
              0.6666666666666666,
              "#ed7953"
             ],
             [
              0.7777777777777778,
              "#fb9f3a"
             ],
             [
              0.8888888888888888,
              "#fdca26"
             ],
             [
              1,
              "#f0f921"
             ]
            ],
            "type": "surface"
           }
          ],
          "table": [
           {
            "cells": {
             "fill": {
              "color": "#EBF0F8"
             },
             "line": {
              "color": "white"
             }
            },
            "header": {
             "fill": {
              "color": "#C8D4E3"
             },
             "line": {
              "color": "white"
             }
            },
            "type": "table"
           }
          ]
         },
         "layout": {
          "annotationdefaults": {
           "arrowcolor": "#2a3f5f",
           "arrowhead": 0,
           "arrowwidth": 1
          },
          "autotypenumbers": "strict",
          "coloraxis": {
           "colorbar": {
            "outlinewidth": 0,
            "ticks": ""
           }
          },
          "colorscale": {
           "diverging": [
            [
             0,
             "#8e0152"
            ],
            [
             0.1,
             "#c51b7d"
            ],
            [
             0.2,
             "#de77ae"
            ],
            [
             0.3,
             "#f1b6da"
            ],
            [
             0.4,
             "#fde0ef"
            ],
            [
             0.5,
             "#f7f7f7"
            ],
            [
             0.6,
             "#e6f5d0"
            ],
            [
             0.7,
             "#b8e186"
            ],
            [
             0.8,
             "#7fbc41"
            ],
            [
             0.9,
             "#4d9221"
            ],
            [
             1,
             "#276419"
            ]
           ],
           "sequential": [
            [
             0,
             "#0d0887"
            ],
            [
             0.1111111111111111,
             "#46039f"
            ],
            [
             0.2222222222222222,
             "#7201a8"
            ],
            [
             0.3333333333333333,
             "#9c179e"
            ],
            [
             0.4444444444444444,
             "#bd3786"
            ],
            [
             0.5555555555555556,
             "#d8576b"
            ],
            [
             0.6666666666666666,
             "#ed7953"
            ],
            [
             0.7777777777777778,
             "#fb9f3a"
            ],
            [
             0.8888888888888888,
             "#fdca26"
            ],
            [
             1,
             "#f0f921"
            ]
           ],
           "sequentialminus": [
            [
             0,
             "#0d0887"
            ],
            [
             0.1111111111111111,
             "#46039f"
            ],
            [
             0.2222222222222222,
             "#7201a8"
            ],
            [
             0.3333333333333333,
             "#9c179e"
            ],
            [
             0.4444444444444444,
             "#bd3786"
            ],
            [
             0.5555555555555556,
             "#d8576b"
            ],
            [
             0.6666666666666666,
             "#ed7953"
            ],
            [
             0.7777777777777778,
             "#fb9f3a"
            ],
            [
             0.8888888888888888,
             "#fdca26"
            ],
            [
             1,
             "#f0f921"
            ]
           ]
          },
          "colorway": [
           "#636efa",
           "#EF553B",
           "#00cc96",
           "#ab63fa",
           "#FFA15A",
           "#19d3f3",
           "#FF6692",
           "#B6E880",
           "#FF97FF",
           "#FECB52"
          ],
          "font": {
           "color": "#2a3f5f"
          },
          "geo": {
           "bgcolor": "white",
           "lakecolor": "white",
           "landcolor": "#E5ECF6",
           "showlakes": true,
           "showland": true,
           "subunitcolor": "white"
          },
          "hoverlabel": {
           "align": "left"
          },
          "hovermode": "closest",
          "mapbox": {
           "style": "light"
          },
          "paper_bgcolor": "white",
          "plot_bgcolor": "#E5ECF6",
          "polar": {
           "angularaxis": {
            "gridcolor": "white",
            "linecolor": "white",
            "ticks": ""
           },
           "bgcolor": "#E5ECF6",
           "radialaxis": {
            "gridcolor": "white",
            "linecolor": "white",
            "ticks": ""
           }
          },
          "scene": {
           "xaxis": {
            "backgroundcolor": "#E5ECF6",
            "gridcolor": "white",
            "gridwidth": 2,
            "linecolor": "white",
            "showbackground": true,
            "ticks": "",
            "zerolinecolor": "white"
           },
           "yaxis": {
            "backgroundcolor": "#E5ECF6",
            "gridcolor": "white",
            "gridwidth": 2,
            "linecolor": "white",
            "showbackground": true,
            "ticks": "",
            "zerolinecolor": "white"
           },
           "zaxis": {
            "backgroundcolor": "#E5ECF6",
            "gridcolor": "white",
            "gridwidth": 2,
            "linecolor": "white",
            "showbackground": true,
            "ticks": "",
            "zerolinecolor": "white"
           }
          },
          "shapedefaults": {
           "line": {
            "color": "#2a3f5f"
           }
          },
          "ternary": {
           "aaxis": {
            "gridcolor": "white",
            "linecolor": "white",
            "ticks": ""
           },
           "baxis": {
            "gridcolor": "white",
            "linecolor": "white",
            "ticks": ""
           },
           "bgcolor": "#E5ECF6",
           "caxis": {
            "gridcolor": "white",
            "linecolor": "white",
            "ticks": ""
           }
          },
          "title": {
           "x": 0.05
          },
          "xaxis": {
           "automargin": true,
           "gridcolor": "white",
           "linecolor": "white",
           "ticks": "",
           "title": {
            "standoff": 15
           },
           "zerolinecolor": "white",
           "zerolinewidth": 2
          },
          "yaxis": {
           "automargin": true,
           "gridcolor": "white",
           "linecolor": "white",
           "ticks": "",
           "title": {
            "standoff": 15
           },
           "zerolinecolor": "white",
           "zerolinewidth": 2
          }
         }
        },
        "title": {
         "text": "Average Posts Per Day by Platform - Male"
        },
        "uniformtext": {
         "minsize": 8,
         "mode": "hide"
        },
        "updatemenus": [
         {
          "active": 0,
          "buttons": [
           {
            "args": [
             {
              "visible": [
               true,
               false,
               false
              ]
             },
             {
              "title": "Average Posts Per Day by Platform - Female"
             }
            ],
            "label": "Female",
            "method": "update"
           },
           {
            "args": [
             {
              "visible": [
               false,
               true,
               false
              ]
             },
             {
              "title": "Average Posts Per Day by Platform - Male"
             }
            ],
            "label": "Male",
            "method": "update"
           },
           {
            "args": [
             {
              "visible": [
               false,
               false,
               true
              ]
             },
             {
              "title": "Average Posts Per Day by Platform - Non-binary"
             }
            ],
            "label": "Non-binary",
            "method": "update"
           }
          ],
          "x": 0.1,
          "xanchor": "left",
          "y": 1.15,
          "yanchor": "top"
         }
        ],
        "width": 800,
        "xaxis": {
         "tickfont": {
          "color": "black",
          "family": "Arial",
          "size": 14
         },
         "title": {
          "text": "Platform"
         }
        },
        "yaxis": {
         "tickfont": {
          "color": "black",
          "family": "Arial",
          "size": 12
         },
         "title": {
          "text": "Avg Posts Per Day"
         }
        }
       }
      }
     },
     "metadata": {},
     "output_type": "display_data"
    }
   ],
   "source": [
    "avg_posts = df.groupby(['Platform', 'Gender'])['Posts_Per_Day'].mean().reset_index()\n",
    "\n",
    "genders = avg_posts['Gender'].unique()\n",
    "platforms = avg_posts['Platform'].unique()\n",
    "\n",
    "gender_colors = {\n",
    "    'Male': 'steelblue',\n",
    "    'Female': 'mediumvioletred',\n",
    "    'Other': 'seagreen' \n",
    "}\n",
    "\n",
    "fig = go.Figure()\n",
    "\n",
    "for gender in genders:\n",
    "    gender_data = avg_posts[avg_posts['Gender'] == gender]\n",
    "    fig.add_trace(\n",
    "        go.Bar(\n",
    "            x=gender_data['Platform'],\n",
    "            y=gender_data['Posts_Per_Day'],\n",
    "            name=gender,\n",
    "            marker_color=gender_colors.get(gender, 'gray'),\n",
    "            text=gender_data['Posts_Per_Day'].round(2), \n",
    "            textposition='outside', \n",
    "            textfont=dict(color='black', size=12, family='Arial Black'),\n",
    "            visible=(gender == 'Male')\n",
    "        )\n",
    "    )\n",
    "\n",
    "buttons = []\n",
    "for i, gender in enumerate(genders):\n",
    "    visibility = [False] * len(genders)\n",
    "    visibility[i] = True\n",
    "    buttons.append(\n",
    "        dict(\n",
    "            label=gender,\n",
    "            method=\"update\",\n",
    "            args=[\n",
    "                {\"visible\": visibility},\n",
    "                {\"title\": f\"Average Posts Per Day by Platform - {gender}\"}\n",
    "            ]\n",
    "        )\n",
    "    )\n",
    "\n",
    "fig.update_layout(\n",
    "    title=\"Average Posts Per Day by Platform - Male\",\n",
    "    xaxis=dict(\n",
    "        title=\"Platform\",\n",
    "        tickfont=dict(family='Arial', size=14, color='black')  # Bold platform names\n",
    "    ),\n",
    "    yaxis=dict(\n",
    "        title=\"Avg Posts Per Day\",\n",
    "        tickfont=dict(family='Arial', size=12, color='black')\n",
    "    ),\n",
    "    width=800,\n",
    "    height=500,\n",
    "    updatemenus=[\n",
    "        dict(\n",
    "            active=0,\n",
    "            buttons=buttons,\n",
    "            x=0.1,\n",
    "            xanchor=\"left\",\n",
    "            y=1.15,\n",
    "            yanchor=\"top\"\n",
    "        )\n",
    "    ],\n",
    "    uniformtext_minsize=8,\n",
    "    uniformtext_mode='hide'\n",
    ")\n",
    "\n",
    "fig.show()"
   ]
  },
  {
   "cell_type": "markdown",
   "id": "e1886243",
   "metadata": {},
   "source": [
    "**Plot 4**"
   ]
  },
  {
   "cell_type": "code",
   "execution_count": 37,
   "id": "8bc833c2",
   "metadata": {},
   "outputs": [
    {
     "data": {
      "application/vnd.plotly.v1+json": {
       "config": {
        "plotlyServerURL": "https://plot.ly"
       },
       "data": [
        {
         "name": "Column Plot",
         "type": "bar",
         "visible": true,
         "x": [
          "Instagram",
          "Twitter",
          "Facebook",
          "LinkedIn",
          "Whatsapp",
          "Telegram",
          "Snapchat"
         ],
         "y": {
          "bdata": "+gDIAL4AeABQAFAAUAA=",
          "dtype": "i2"
         }
        },
        {
         "name": "Bar Plot",
         "orientation": "h",
         "type": "bar",
         "visible": false,
         "x": {
          "bdata": "+gDIAL4AeABQAFAAUAA=",
          "dtype": "i2"
         },
         "y": [
          "Instagram",
          "Twitter",
          "Facebook",
          "LinkedIn",
          "Whatsapp",
          "Telegram",
          "Snapchat"
         ]
        }
       ],
       "layout": {
        "template": {
         "data": {
          "bar": [
           {
            "error_x": {
             "color": "#2a3f5f"
            },
            "error_y": {
             "color": "#2a3f5f"
            },
            "marker": {
             "line": {
              "color": "#E5ECF6",
              "width": 0.5
             },
             "pattern": {
              "fillmode": "overlay",
              "size": 10,
              "solidity": 0.2
             }
            },
            "type": "bar"
           }
          ],
          "barpolar": [
           {
            "marker": {
             "line": {
              "color": "#E5ECF6",
              "width": 0.5
             },
             "pattern": {
              "fillmode": "overlay",
              "size": 10,
              "solidity": 0.2
             }
            },
            "type": "barpolar"
           }
          ],
          "carpet": [
           {
            "aaxis": {
             "endlinecolor": "#2a3f5f",
             "gridcolor": "white",
             "linecolor": "white",
             "minorgridcolor": "white",
             "startlinecolor": "#2a3f5f"
            },
            "baxis": {
             "endlinecolor": "#2a3f5f",
             "gridcolor": "white",
             "linecolor": "white",
             "minorgridcolor": "white",
             "startlinecolor": "#2a3f5f"
            },
            "type": "carpet"
           }
          ],
          "choropleth": [
           {
            "colorbar": {
             "outlinewidth": 0,
             "ticks": ""
            },
            "type": "choropleth"
           }
          ],
          "contour": [
           {
            "colorbar": {
             "outlinewidth": 0,
             "ticks": ""
            },
            "colorscale": [
             [
              0,
              "#0d0887"
             ],
             [
              0.1111111111111111,
              "#46039f"
             ],
             [
              0.2222222222222222,
              "#7201a8"
             ],
             [
              0.3333333333333333,
              "#9c179e"
             ],
             [
              0.4444444444444444,
              "#bd3786"
             ],
             [
              0.5555555555555556,
              "#d8576b"
             ],
             [
              0.6666666666666666,
              "#ed7953"
             ],
             [
              0.7777777777777778,
              "#fb9f3a"
             ],
             [
              0.8888888888888888,
              "#fdca26"
             ],
             [
              1,
              "#f0f921"
             ]
            ],
            "type": "contour"
           }
          ],
          "contourcarpet": [
           {
            "colorbar": {
             "outlinewidth": 0,
             "ticks": ""
            },
            "type": "contourcarpet"
           }
          ],
          "heatmap": [
           {
            "colorbar": {
             "outlinewidth": 0,
             "ticks": ""
            },
            "colorscale": [
             [
              0,
              "#0d0887"
             ],
             [
              0.1111111111111111,
              "#46039f"
             ],
             [
              0.2222222222222222,
              "#7201a8"
             ],
             [
              0.3333333333333333,
              "#9c179e"
             ],
             [
              0.4444444444444444,
              "#bd3786"
             ],
             [
              0.5555555555555556,
              "#d8576b"
             ],
             [
              0.6666666666666666,
              "#ed7953"
             ],
             [
              0.7777777777777778,
              "#fb9f3a"
             ],
             [
              0.8888888888888888,
              "#fdca26"
             ],
             [
              1,
              "#f0f921"
             ]
            ],
            "type": "heatmap"
           }
          ],
          "histogram": [
           {
            "marker": {
             "pattern": {
              "fillmode": "overlay",
              "size": 10,
              "solidity": 0.2
             }
            },
            "type": "histogram"
           }
          ],
          "histogram2d": [
           {
            "colorbar": {
             "outlinewidth": 0,
             "ticks": ""
            },
            "colorscale": [
             [
              0,
              "#0d0887"
             ],
             [
              0.1111111111111111,
              "#46039f"
             ],
             [
              0.2222222222222222,
              "#7201a8"
             ],
             [
              0.3333333333333333,
              "#9c179e"
             ],
             [
              0.4444444444444444,
              "#bd3786"
             ],
             [
              0.5555555555555556,
              "#d8576b"
             ],
             [
              0.6666666666666666,
              "#ed7953"
             ],
             [
              0.7777777777777778,
              "#fb9f3a"
             ],
             [
              0.8888888888888888,
              "#fdca26"
             ],
             [
              1,
              "#f0f921"
             ]
            ],
            "type": "histogram2d"
           }
          ],
          "histogram2dcontour": [
           {
            "colorbar": {
             "outlinewidth": 0,
             "ticks": ""
            },
            "colorscale": [
             [
              0,
              "#0d0887"
             ],
             [
              0.1111111111111111,
              "#46039f"
             ],
             [
              0.2222222222222222,
              "#7201a8"
             ],
             [
              0.3333333333333333,
              "#9c179e"
             ],
             [
              0.4444444444444444,
              "#bd3786"
             ],
             [
              0.5555555555555556,
              "#d8576b"
             ],
             [
              0.6666666666666666,
              "#ed7953"
             ],
             [
              0.7777777777777778,
              "#fb9f3a"
             ],
             [
              0.8888888888888888,
              "#fdca26"
             ],
             [
              1,
              "#f0f921"
             ]
            ],
            "type": "histogram2dcontour"
           }
          ],
          "mesh3d": [
           {
            "colorbar": {
             "outlinewidth": 0,
             "ticks": ""
            },
            "type": "mesh3d"
           }
          ],
          "parcoords": [
           {
            "line": {
             "colorbar": {
              "outlinewidth": 0,
              "ticks": ""
             }
            },
            "type": "parcoords"
           }
          ],
          "pie": [
           {
            "automargin": true,
            "type": "pie"
           }
          ],
          "scatter": [
           {
            "fillpattern": {
             "fillmode": "overlay",
             "size": 10,
             "solidity": 0.2
            },
            "type": "scatter"
           }
          ],
          "scatter3d": [
           {
            "line": {
             "colorbar": {
              "outlinewidth": 0,
              "ticks": ""
             }
            },
            "marker": {
             "colorbar": {
              "outlinewidth": 0,
              "ticks": ""
             }
            },
            "type": "scatter3d"
           }
          ],
          "scattercarpet": [
           {
            "marker": {
             "colorbar": {
              "outlinewidth": 0,
              "ticks": ""
             }
            },
            "type": "scattercarpet"
           }
          ],
          "scattergeo": [
           {
            "marker": {
             "colorbar": {
              "outlinewidth": 0,
              "ticks": ""
             }
            },
            "type": "scattergeo"
           }
          ],
          "scattergl": [
           {
            "marker": {
             "colorbar": {
              "outlinewidth": 0,
              "ticks": ""
             }
            },
            "type": "scattergl"
           }
          ],
          "scattermap": [
           {
            "marker": {
             "colorbar": {
              "outlinewidth": 0,
              "ticks": ""
             }
            },
            "type": "scattermap"
           }
          ],
          "scattermapbox": [
           {
            "marker": {
             "colorbar": {
              "outlinewidth": 0,
              "ticks": ""
             }
            },
            "type": "scattermapbox"
           }
          ],
          "scatterpolar": [
           {
            "marker": {
             "colorbar": {
              "outlinewidth": 0,
              "ticks": ""
             }
            },
            "type": "scatterpolar"
           }
          ],
          "scatterpolargl": [
           {
            "marker": {
             "colorbar": {
              "outlinewidth": 0,
              "ticks": ""
             }
            },
            "type": "scatterpolargl"
           }
          ],
          "scatterternary": [
           {
            "marker": {
             "colorbar": {
              "outlinewidth": 0,
              "ticks": ""
             }
            },
            "type": "scatterternary"
           }
          ],
          "surface": [
           {
            "colorbar": {
             "outlinewidth": 0,
             "ticks": ""
            },
            "colorscale": [
             [
              0,
              "#0d0887"
             ],
             [
              0.1111111111111111,
              "#46039f"
             ],
             [
              0.2222222222222222,
              "#7201a8"
             ],
             [
              0.3333333333333333,
              "#9c179e"
             ],
             [
              0.4444444444444444,
              "#bd3786"
             ],
             [
              0.5555555555555556,
              "#d8576b"
             ],
             [
              0.6666666666666666,
              "#ed7953"
             ],
             [
              0.7777777777777778,
              "#fb9f3a"
             ],
             [
              0.8888888888888888,
              "#fdca26"
             ],
             [
              1,
              "#f0f921"
             ]
            ],
            "type": "surface"
           }
          ],
          "table": [
           {
            "cells": {
             "fill": {
              "color": "#EBF0F8"
             },
             "line": {
              "color": "white"
             }
            },
            "header": {
             "fill": {
              "color": "#C8D4E3"
             },
             "line": {
              "color": "white"
             }
            },
            "type": "table"
           }
          ]
         },
         "layout": {
          "annotationdefaults": {
           "arrowcolor": "#2a3f5f",
           "arrowhead": 0,
           "arrowwidth": 1
          },
          "autotypenumbers": "strict",
          "coloraxis": {
           "colorbar": {
            "outlinewidth": 0,
            "ticks": ""
           }
          },
          "colorscale": {
           "diverging": [
            [
             0,
             "#8e0152"
            ],
            [
             0.1,
             "#c51b7d"
            ],
            [
             0.2,
             "#de77ae"
            ],
            [
             0.3,
             "#f1b6da"
            ],
            [
             0.4,
             "#fde0ef"
            ],
            [
             0.5,
             "#f7f7f7"
            ],
            [
             0.6,
             "#e6f5d0"
            ],
            [
             0.7,
             "#b8e186"
            ],
            [
             0.8,
             "#7fbc41"
            ],
            [
             0.9,
             "#4d9221"
            ],
            [
             1,
             "#276419"
            ]
           ],
           "sequential": [
            [
             0,
             "#0d0887"
            ],
            [
             0.1111111111111111,
             "#46039f"
            ],
            [
             0.2222222222222222,
             "#7201a8"
            ],
            [
             0.3333333333333333,
             "#9c179e"
            ],
            [
             0.4444444444444444,
             "#bd3786"
            ],
            [
             0.5555555555555556,
             "#d8576b"
            ],
            [
             0.6666666666666666,
             "#ed7953"
            ],
            [
             0.7777777777777778,
             "#fb9f3a"
            ],
            [
             0.8888888888888888,
             "#fdca26"
            ],
            [
             1,
             "#f0f921"
            ]
           ],
           "sequentialminus": [
            [
             0,
             "#0d0887"
            ],
            [
             0.1111111111111111,
             "#46039f"
            ],
            [
             0.2222222222222222,
             "#7201a8"
            ],
            [
             0.3333333333333333,
             "#9c179e"
            ],
            [
             0.4444444444444444,
             "#bd3786"
            ],
            [
             0.5555555555555556,
             "#d8576b"
            ],
            [
             0.6666666666666666,
             "#ed7953"
            ],
            [
             0.7777777777777778,
             "#fb9f3a"
            ],
            [
             0.8888888888888888,
             "#fdca26"
            ],
            [
             1,
             "#f0f921"
            ]
           ]
          },
          "colorway": [
           "#636efa",
           "#EF553B",
           "#00cc96",
           "#ab63fa",
           "#FFA15A",
           "#19d3f3",
           "#FF6692",
           "#B6E880",
           "#FF97FF",
           "#FECB52"
          ],
          "font": {
           "color": "#2a3f5f"
          },
          "geo": {
           "bgcolor": "white",
           "lakecolor": "white",
           "landcolor": "#E5ECF6",
           "showlakes": true,
           "showland": true,
           "subunitcolor": "white"
          },
          "hoverlabel": {
           "align": "left"
          },
          "hovermode": "closest",
          "mapbox": {
           "style": "light"
          },
          "paper_bgcolor": "white",
          "plot_bgcolor": "#E5ECF6",
          "polar": {
           "angularaxis": {
            "gridcolor": "white",
            "linecolor": "white",
            "ticks": ""
           },
           "bgcolor": "#E5ECF6",
           "radialaxis": {
            "gridcolor": "white",
            "linecolor": "white",
            "ticks": ""
           }
          },
          "scene": {
           "xaxis": {
            "backgroundcolor": "#E5ECF6",
            "gridcolor": "white",
            "gridwidth": 2,
            "linecolor": "white",
            "showbackground": true,
            "ticks": "",
            "zerolinecolor": "white"
           },
           "yaxis": {
            "backgroundcolor": "#E5ECF6",
            "gridcolor": "white",
            "gridwidth": 2,
            "linecolor": "white",
            "showbackground": true,
            "ticks": "",
            "zerolinecolor": "white"
           },
           "zaxis": {
            "backgroundcolor": "#E5ECF6",
            "gridcolor": "white",
            "gridwidth": 2,
            "linecolor": "white",
            "showbackground": true,
            "ticks": "",
            "zerolinecolor": "white"
           }
          },
          "shapedefaults": {
           "line": {
            "color": "#2a3f5f"
           }
          },
          "ternary": {
           "aaxis": {
            "gridcolor": "white",
            "linecolor": "white",
            "ticks": ""
           },
           "baxis": {
            "gridcolor": "white",
            "linecolor": "white",
            "ticks": ""
           },
           "bgcolor": "#E5ECF6",
           "caxis": {
            "gridcolor": "white",
            "linecolor": "white",
            "ticks": ""
           }
          },
          "title": {
           "x": 0.05
          },
          "xaxis": {
           "automargin": true,
           "gridcolor": "white",
           "linecolor": "white",
           "ticks": "",
           "title": {
            "standoff": 15
           },
           "zerolinecolor": "white",
           "zerolinewidth": 2
          },
          "yaxis": {
           "automargin": true,
           "gridcolor": "white",
           "linecolor": "white",
           "ticks": "",
           "title": {
            "standoff": 15
           },
           "zerolinecolor": "white",
           "zerolinewidth": 2
          }
         }
        },
        "title": {
         "text": "Most Popular Platforms (Column Chart)"
        },
        "updatemenus": [
         {
          "active": 0,
          "buttons": [
           {
            "args": [
             {
              "visible": [
               true,
               false
              ]
             },
             {
              "title": "Most Popular Platforms (Column Chart)",
              "xaxis": {
               "title": "Platform"
              },
              "yaxis": {
               "title": "Number of Users"
              }
             }
            ],
            "label": "Column Plot",
            "method": "update"
           },
           {
            "args": [
             {
              "visible": [
               false,
               true
              ]
             },
             {
              "title": "Most Popular Platforms (Bar Chart)",
              "xaxis": {
               "title": "Number of Users"
              },
              "yaxis": {
               "title": "Platform"
              }
             }
            ],
            "label": "Bar Plot",
            "method": "update"
           }
          ],
          "direction": "down"
         }
        ],
        "xaxis": {
         "title": {
          "text": "Platform"
         }
        },
        "yaxis": {
         "title": {
          "text": "Number of Users"
         }
        }
       }
      }
     },
     "metadata": {},
     "output_type": "display_data"
    }
   ],
   "source": [
    "# Count number of users per platform\n",
    "platform_counts = df['Platform'].value_counts().reset_index()\n",
    "platform_counts.columns = ['Platform', 'Number of Users']\n",
    "\n",
    "# Create initial figure (vertical bar chart)\n",
    "fig = go.Figure()\n",
    "\n",
    "# Vertical bar (column) trace\n",
    "fig.add_trace(\n",
    "    go.Bar(\n",
    "        x=platform_counts['Platform'],\n",
    "        y=platform_counts['Number of Users'],\n",
    "        name='Column Plot',\n",
    "        visible=True\n",
    "    )\n",
    ")\n",
    "\n",
    "# Horizontal bar trace\n",
    "fig.add_trace(\n",
    "    go.Bar(\n",
    "        x=platform_counts['Number of Users'],\n",
    "        y=platform_counts['Platform'],\n",
    "        orientation='h',\n",
    "        name='Bar Plot',\n",
    "        visible=False\n",
    "    )\n",
    ")\n",
    "\n",
    "# Add dropdown menu\n",
    "fig.update_layout(\n",
    "    updatemenus=[\n",
    "        dict(\n",
    "            active=0,\n",
    "            buttons=list([\n",
    "                dict(label=\"Column Plot\",\n",
    "                     method=\"update\",\n",
    "                     args=[{\"visible\": [True, False]},\n",
    "                           {\"title\": \"Most Popular Platforms (Column Chart)\",\n",
    "                            \"xaxis\": {\"title\": \"Platform\"},\n",
    "                            \"yaxis\": {\"title\": \"Number of Users\"}}]),\n",
    "                dict(label=\"Bar Plot\",\n",
    "                     method=\"update\",\n",
    "                     args=[{\"visible\": [False, True]},\n",
    "                           {\"title\": \"Most Popular Platforms (Bar Chart)\",\n",
    "                            \"xaxis\": {\"title\": \"Number of Users\"},\n",
    "                            \"yaxis\": {\"title\": \"Platform\"}}])\n",
    "            ]),\n",
    "            direction=\"down\"\n",
    "        )\n",
    "    ],\n",
    "    title=\"Most Popular Platforms (Column Chart)\",\n",
    "    xaxis_title=\"Platform\",\n",
    "    yaxis_title=\"Number of Users\"\n",
    ")\n",
    "\n",
    "fig.show()\n"
   ]
  },
  {
   "cell_type": "markdown",
   "id": "c5034f9b",
   "metadata": {},
   "source": [
    "**Plot 5**"
   ]
  },
  {
   "cell_type": "code",
   "execution_count": 38,
   "id": "6c10b2af",
   "metadata": {},
   "outputs": [
    {
     "name": "stderr",
     "output_type": "stream",
     "text": [
      "c:\\Users\\habib\\AppData\\Local\\Programs\\Python\\Python312\\Lib\\site-packages\\dash\\resources.py:96: UserWarning:\n",
      "\n",
      "You have set your config to `serve_locally=True` but A local version of https://codepen.io/chriddyp/pen/bWLwgP.css is not available.\n",
      "If you added this file with `app.scripts.append_script` or `app.css.append_css`, use `external_scripts` or `external_stylesheets` instead.\n",
      "See https://dash.plotly.com/external-resources\n",
      "\n"
     ]
    },
    {
     "data": {
      "text/html": [
       "\n",
       "        <iframe\n",
       "            width=\"100%\"\n",
       "            height=\"650\"\n",
       "            src=\"http://127.0.0.1:8050/\"\n",
       "            frameborder=\"0\"\n",
       "            allowfullscreen\n",
       "            \n",
       "        ></iframe>\n",
       "        "
      ],
      "text/plain": [
       "<IPython.lib.display.IFrame at 0x2693d451820>"
      ]
     },
     "metadata": {},
     "output_type": "display_data"
    }
   ],
   "source": [
    "# df = df.dropna(subset=['Dominant_Emotion', 'Likes_Received_Per_Day', 'Comments_Received_Per_Day'])\n",
    "\n",
    "# Use MINTY Bootstrap theme\n",
    "app = dash.Dash(__name__, external_stylesheets=[dbc.themes.MINTY])\n",
    "\n",
    "# Add custom CSS to hide the debug, error, and version bar at the bottom\n",
    "app.css.append_css({\n",
    "    'external_url': 'https://codepen.io/chriddyp/pen/bWLwgP.css'  # Bootstrap styles\n",
    "})\n",
    "\n",
    "app.layout = dbc.Container([\n",
    "    html.H3(\"Engagement vs Dominant Emotion\", className=\"text-center my-4\"),\n",
    "    # Engagement (Likes & Comments) vs Dominant Emotion\n",
    "    dcc.Dropdown(\n",
    "        id='metric-select',\n",
    "        options=[\n",
    "            {'label': 'Likes Received Per Day', 'value': 'Likes'},\n",
    "            {'label': 'Comments Received Per Day', 'value': 'Comments'},\n",
    "            {'label': 'Both (Stacked)', 'value': 'Both'}\n",
    "        ],\n",
    "        value='Likes',  # Default value\n",
    "        clearable=False,\n",
    "        className=\"mb-4\",\n",
    "        style={'width': '50%'}\n",
    "    ),\n",
    "    \n",
    "    dcc.Graph(id='emotion-engagement-plot')\n",
    "], fluid=True)\n",
    "\n",
    "\n",
    "# Callback to update graph\n",
    "@app.callback(\n",
    "    Output('emotion-engagement-plot', 'figure'),\n",
    "    Input('metric-select', 'value')\n",
    ")\n",
    "def update_graph(selected_metric):\n",
    "    if selected_metric == 'Likes':\n",
    "        grouped = df.groupby('Dominant_Emotion')['Likes_Received_Per_Day'].mean().reset_index()\n",
    "        fig = px.bar(\n",
    "            grouped,\n",
    "            x='Dominant_Emotion',\n",
    "            y='Likes_Received_Per_Day',\n",
    "            title=\"Average Likes Received per Emotion\",\n",
    "            labels={'Likes_Received_Per_Day': 'Average Likes'},\n",
    "            color='Dominant_Emotion',\n",
    "            color_discrete_sequence=px.colors.sequential.Mint\n",
    "        )\n",
    "    \n",
    "    elif selected_metric == 'Comments':\n",
    "        grouped = df.groupby('Dominant_Emotion')['Comments_Received_Per_Day'].mean().reset_index()\n",
    "        fig = px.bar(\n",
    "            grouped,\n",
    "            x='Dominant_Emotion',\n",
    "            y='Comments_Received_Per_Day',\n",
    "            title=\"Average Comments Received per Emotion\",\n",
    "            labels={'Comments_Received_Per_Day': 'Average Comments'},\n",
    "            color='Dominant_Emotion',\n",
    "            color_discrete_sequence=px.colors.sequential.Oranges\n",
    "        )\n",
    "    \n",
    "    else:  # Both (stacked)\n",
    "        likes = df.groupby('Dominant_Emotion')['Likes_Received_Per_Day'].mean()\n",
    "        comments = df.groupby('Dominant_Emotion')['Comments_Received_Per_Day'].mean()\n",
    "        emotions = likes.index\n",
    "\n",
    "        fig = go.Figure(data=[\n",
    "            go.Bar(name='Likes', x=emotions, y=likes, marker_color='#66c2a5'),    # Minty-like color\n",
    "            go.Bar(name='Comments', x=emotions, y=comments, marker_color='#fc8d62') # Complementary\n",
    "        ])\n",
    "        fig.update_layout(\n",
    "            barmode='stack',\n",
    "            title='Average Engagement per Emotion (Stacked)',\n",
    "            xaxis_title='Dominant Emotion',\n",
    "            yaxis_title='Average Engagement',\n",
    "            template='plotly_white'\n",
    "        )\n",
    "\n",
    "    return fig\n",
    "\n",
    "\n",
    "# Run the app without showing errors and server bar\n",
    "if __name__ == '__main__':\n",
    "    app.run(debug=False, suppress_callback_exceptions=True)\n"
   ]
  },
  {
   "cell_type": "markdown",
   "id": "343b05d4",
   "metadata": {},
   "source": [
    "**Plot 6**"
   ]
  },
  {
   "cell_type": "code",
   "execution_count": 39,
   "id": "6982b105",
   "metadata": {},
   "outputs": [
    {
     "name": "stderr",
     "output_type": "stream",
     "text": [
      "C:\\Users\\habib\\AppData\\Local\\Temp\\ipykernel_12312\\1797914549.py:9: FutureWarning:\n",
      "\n",
      "The default of observed=False is deprecated and will be changed to True in a future version of pandas. Pass observed=False to retain current behavior or observed=True to adopt the future default and silence this warning.\n",
      "\n"
     ]
    },
    {
     "data": {
      "application/vnd.plotly.v1+json": {
       "config": {
        "plotlyServerURL": "https://plot.ly"
       },
       "data": [
        {
         "hovertemplate": "Age Group=%{x}<br>Average Daily Usage Time (minutes)=%{y}<extra></extra>",
         "legendgroup": "21-24",
         "marker": {
          "color": "rgb(228, 241, 225)",
          "pattern": {
           "shape": ""
          }
         },
         "name": "21-24",
         "orientation": "v",
         "showlegend": true,
         "textposition": "auto",
         "type": "bar",
         "x": [
          "21-24"
         ],
         "xaxis": "x",
         "y": {
          "bdata": "AAAAAACQVUA=",
          "dtype": "f8"
         },
         "yaxis": "y"
        },
        {
         "hovertemplate": "Age Group=%{x}<br>Average Daily Usage Time (minutes)=%{y}<extra></extra>",
         "legendgroup": "25-29",
         "marker": {
          "color": "rgb(180, 217, 204)",
          "pattern": {
           "shape": ""
          }
         },
         "name": "25-29",
         "orientation": "v",
         "showlegend": true,
         "textposition": "auto",
         "type": "bar",
         "x": [
          "25-29"
         ],
         "xaxis": "x",
         "y": {
          "bdata": "jC666KI7WEA=",
          "dtype": "f8"
         },
         "yaxis": "y"
        },
        {
         "hovertemplate": "Age Group=%{x}<br>Average Daily Usage Time (minutes)=%{y}<extra></extra>",
         "legendgroup": "30-35",
         "marker": {
          "color": "rgb(137, 192, 182)",
          "pattern": {
           "shape": ""
          }
         },
         "name": "30-35",
         "orientation": "v",
         "showlegend": true,
         "textposition": "auto",
         "type": "bar",
         "x": [
          "30-35"
         ],
         "xaxis": "x",
         "y": {
          "bdata": "q6qqqqqqWUA=",
          "dtype": "f8"
         },
         "yaxis": "y"
        }
       ],
       "layout": {
        "barmode": "relative",
        "legend": {
         "title": {
          "text": "Age Group"
         },
         "tracegroupgap": 0
        },
        "template": {
         "data": {
          "bar": [
           {
            "error_x": {
             "color": "#2a3f5f"
            },
            "error_y": {
             "color": "#2a3f5f"
            },
            "marker": {
             "line": {
              "color": "#E5ECF6",
              "width": 0.5
             },
             "pattern": {
              "fillmode": "overlay",
              "size": 10,
              "solidity": 0.2
             }
            },
            "type": "bar"
           }
          ],
          "barpolar": [
           {
            "marker": {
             "line": {
              "color": "#E5ECF6",
              "width": 0.5
             },
             "pattern": {
              "fillmode": "overlay",
              "size": 10,
              "solidity": 0.2
             }
            },
            "type": "barpolar"
           }
          ],
          "carpet": [
           {
            "aaxis": {
             "endlinecolor": "#2a3f5f",
             "gridcolor": "white",
             "linecolor": "white",
             "minorgridcolor": "white",
             "startlinecolor": "#2a3f5f"
            },
            "baxis": {
             "endlinecolor": "#2a3f5f",
             "gridcolor": "white",
             "linecolor": "white",
             "minorgridcolor": "white",
             "startlinecolor": "#2a3f5f"
            },
            "type": "carpet"
           }
          ],
          "choropleth": [
           {
            "colorbar": {
             "outlinewidth": 0,
             "ticks": ""
            },
            "type": "choropleth"
           }
          ],
          "contour": [
           {
            "colorbar": {
             "outlinewidth": 0,
             "ticks": ""
            },
            "colorscale": [
             [
              0,
              "#0d0887"
             ],
             [
              0.1111111111111111,
              "#46039f"
             ],
             [
              0.2222222222222222,
              "#7201a8"
             ],
             [
              0.3333333333333333,
              "#9c179e"
             ],
             [
              0.4444444444444444,
              "#bd3786"
             ],
             [
              0.5555555555555556,
              "#d8576b"
             ],
             [
              0.6666666666666666,
              "#ed7953"
             ],
             [
              0.7777777777777778,
              "#fb9f3a"
             ],
             [
              0.8888888888888888,
              "#fdca26"
             ],
             [
              1,
              "#f0f921"
             ]
            ],
            "type": "contour"
           }
          ],
          "contourcarpet": [
           {
            "colorbar": {
             "outlinewidth": 0,
             "ticks": ""
            },
            "type": "contourcarpet"
           }
          ],
          "heatmap": [
           {
            "colorbar": {
             "outlinewidth": 0,
             "ticks": ""
            },
            "colorscale": [
             [
              0,
              "#0d0887"
             ],
             [
              0.1111111111111111,
              "#46039f"
             ],
             [
              0.2222222222222222,
              "#7201a8"
             ],
             [
              0.3333333333333333,
              "#9c179e"
             ],
             [
              0.4444444444444444,
              "#bd3786"
             ],
             [
              0.5555555555555556,
              "#d8576b"
             ],
             [
              0.6666666666666666,
              "#ed7953"
             ],
             [
              0.7777777777777778,
              "#fb9f3a"
             ],
             [
              0.8888888888888888,
              "#fdca26"
             ],
             [
              1,
              "#f0f921"
             ]
            ],
            "type": "heatmap"
           }
          ],
          "histogram": [
           {
            "marker": {
             "pattern": {
              "fillmode": "overlay",
              "size": 10,
              "solidity": 0.2
             }
            },
            "type": "histogram"
           }
          ],
          "histogram2d": [
           {
            "colorbar": {
             "outlinewidth": 0,
             "ticks": ""
            },
            "colorscale": [
             [
              0,
              "#0d0887"
             ],
             [
              0.1111111111111111,
              "#46039f"
             ],
             [
              0.2222222222222222,
              "#7201a8"
             ],
             [
              0.3333333333333333,
              "#9c179e"
             ],
             [
              0.4444444444444444,
              "#bd3786"
             ],
             [
              0.5555555555555556,
              "#d8576b"
             ],
             [
              0.6666666666666666,
              "#ed7953"
             ],
             [
              0.7777777777777778,
              "#fb9f3a"
             ],
             [
              0.8888888888888888,
              "#fdca26"
             ],
             [
              1,
              "#f0f921"
             ]
            ],
            "type": "histogram2d"
           }
          ],
          "histogram2dcontour": [
           {
            "colorbar": {
             "outlinewidth": 0,
             "ticks": ""
            },
            "colorscale": [
             [
              0,
              "#0d0887"
             ],
             [
              0.1111111111111111,
              "#46039f"
             ],
             [
              0.2222222222222222,
              "#7201a8"
             ],
             [
              0.3333333333333333,
              "#9c179e"
             ],
             [
              0.4444444444444444,
              "#bd3786"
             ],
             [
              0.5555555555555556,
              "#d8576b"
             ],
             [
              0.6666666666666666,
              "#ed7953"
             ],
             [
              0.7777777777777778,
              "#fb9f3a"
             ],
             [
              0.8888888888888888,
              "#fdca26"
             ],
             [
              1,
              "#f0f921"
             ]
            ],
            "type": "histogram2dcontour"
           }
          ],
          "mesh3d": [
           {
            "colorbar": {
             "outlinewidth": 0,
             "ticks": ""
            },
            "type": "mesh3d"
           }
          ],
          "parcoords": [
           {
            "line": {
             "colorbar": {
              "outlinewidth": 0,
              "ticks": ""
             }
            },
            "type": "parcoords"
           }
          ],
          "pie": [
           {
            "automargin": true,
            "type": "pie"
           }
          ],
          "scatter": [
           {
            "fillpattern": {
             "fillmode": "overlay",
             "size": 10,
             "solidity": 0.2
            },
            "type": "scatter"
           }
          ],
          "scatter3d": [
           {
            "line": {
             "colorbar": {
              "outlinewidth": 0,
              "ticks": ""
             }
            },
            "marker": {
             "colorbar": {
              "outlinewidth": 0,
              "ticks": ""
             }
            },
            "type": "scatter3d"
           }
          ],
          "scattercarpet": [
           {
            "marker": {
             "colorbar": {
              "outlinewidth": 0,
              "ticks": ""
             }
            },
            "type": "scattercarpet"
           }
          ],
          "scattergeo": [
           {
            "marker": {
             "colorbar": {
              "outlinewidth": 0,
              "ticks": ""
             }
            },
            "type": "scattergeo"
           }
          ],
          "scattergl": [
           {
            "marker": {
             "colorbar": {
              "outlinewidth": 0,
              "ticks": ""
             }
            },
            "type": "scattergl"
           }
          ],
          "scattermap": [
           {
            "marker": {
             "colorbar": {
              "outlinewidth": 0,
              "ticks": ""
             }
            },
            "type": "scattermap"
           }
          ],
          "scattermapbox": [
           {
            "marker": {
             "colorbar": {
              "outlinewidth": 0,
              "ticks": ""
             }
            },
            "type": "scattermapbox"
           }
          ],
          "scatterpolar": [
           {
            "marker": {
             "colorbar": {
              "outlinewidth": 0,
              "ticks": ""
             }
            },
            "type": "scatterpolar"
           }
          ],
          "scatterpolargl": [
           {
            "marker": {
             "colorbar": {
              "outlinewidth": 0,
              "ticks": ""
             }
            },
            "type": "scatterpolargl"
           }
          ],
          "scatterternary": [
           {
            "marker": {
             "colorbar": {
              "outlinewidth": 0,
              "ticks": ""
             }
            },
            "type": "scatterternary"
           }
          ],
          "surface": [
           {
            "colorbar": {
             "outlinewidth": 0,
             "ticks": ""
            },
            "colorscale": [
             [
              0,
              "#0d0887"
             ],
             [
              0.1111111111111111,
              "#46039f"
             ],
             [
              0.2222222222222222,
              "#7201a8"
             ],
             [
              0.3333333333333333,
              "#9c179e"
             ],
             [
              0.4444444444444444,
              "#bd3786"
             ],
             [
              0.5555555555555556,
              "#d8576b"
             ],
             [
              0.6666666666666666,
              "#ed7953"
             ],
             [
              0.7777777777777778,
              "#fb9f3a"
             ],
             [
              0.8888888888888888,
              "#fdca26"
             ],
             [
              1,
              "#f0f921"
             ]
            ],
            "type": "surface"
           }
          ],
          "table": [
           {
            "cells": {
             "fill": {
              "color": "#EBF0F8"
             },
             "line": {
              "color": "white"
             }
            },
            "header": {
             "fill": {
              "color": "#C8D4E3"
             },
             "line": {
              "color": "white"
             }
            },
            "type": "table"
           }
          ]
         },
         "layout": {
          "annotationdefaults": {
           "arrowcolor": "#2a3f5f",
           "arrowhead": 0,
           "arrowwidth": 1
          },
          "autotypenumbers": "strict",
          "coloraxis": {
           "colorbar": {
            "outlinewidth": 0,
            "ticks": ""
           }
          },
          "colorscale": {
           "diverging": [
            [
             0,
             "#8e0152"
            ],
            [
             0.1,
             "#c51b7d"
            ],
            [
             0.2,
             "#de77ae"
            ],
            [
             0.3,
             "#f1b6da"
            ],
            [
             0.4,
             "#fde0ef"
            ],
            [
             0.5,
             "#f7f7f7"
            ],
            [
             0.6,
             "#e6f5d0"
            ],
            [
             0.7,
             "#b8e186"
            ],
            [
             0.8,
             "#7fbc41"
            ],
            [
             0.9,
             "#4d9221"
            ],
            [
             1,
             "#276419"
            ]
           ],
           "sequential": [
            [
             0,
             "#0d0887"
            ],
            [
             0.1111111111111111,
             "#46039f"
            ],
            [
             0.2222222222222222,
             "#7201a8"
            ],
            [
             0.3333333333333333,
             "#9c179e"
            ],
            [
             0.4444444444444444,
             "#bd3786"
            ],
            [
             0.5555555555555556,
             "#d8576b"
            ],
            [
             0.6666666666666666,
             "#ed7953"
            ],
            [
             0.7777777777777778,
             "#fb9f3a"
            ],
            [
             0.8888888888888888,
             "#fdca26"
            ],
            [
             1,
             "#f0f921"
            ]
           ],
           "sequentialminus": [
            [
             0,
             "#0d0887"
            ],
            [
             0.1111111111111111,
             "#46039f"
            ],
            [
             0.2222222222222222,
             "#7201a8"
            ],
            [
             0.3333333333333333,
             "#9c179e"
            ],
            [
             0.4444444444444444,
             "#bd3786"
            ],
            [
             0.5555555555555556,
             "#d8576b"
            ],
            [
             0.6666666666666666,
             "#ed7953"
            ],
            [
             0.7777777777777778,
             "#fb9f3a"
            ],
            [
             0.8888888888888888,
             "#fdca26"
            ],
            [
             1,
             "#f0f921"
            ]
           ]
          },
          "colorway": [
           "#636efa",
           "#EF553B",
           "#00cc96",
           "#ab63fa",
           "#FFA15A",
           "#19d3f3",
           "#FF6692",
           "#B6E880",
           "#FF97FF",
           "#FECB52"
          ],
          "font": {
           "color": "#2a3f5f"
          },
          "geo": {
           "bgcolor": "white",
           "lakecolor": "white",
           "landcolor": "#E5ECF6",
           "showlakes": true,
           "showland": true,
           "subunitcolor": "white"
          },
          "hoverlabel": {
           "align": "left"
          },
          "hovermode": "closest",
          "mapbox": {
           "style": "light"
          },
          "paper_bgcolor": "white",
          "plot_bgcolor": "#E5ECF6",
          "polar": {
           "angularaxis": {
            "gridcolor": "white",
            "linecolor": "white",
            "ticks": ""
           },
           "bgcolor": "#E5ECF6",
           "radialaxis": {
            "gridcolor": "white",
            "linecolor": "white",
            "ticks": ""
           }
          },
          "scene": {
           "xaxis": {
            "backgroundcolor": "#E5ECF6",
            "gridcolor": "white",
            "gridwidth": 2,
            "linecolor": "white",
            "showbackground": true,
            "ticks": "",
            "zerolinecolor": "white"
           },
           "yaxis": {
            "backgroundcolor": "#E5ECF6",
            "gridcolor": "white",
            "gridwidth": 2,
            "linecolor": "white",
            "showbackground": true,
            "ticks": "",
            "zerolinecolor": "white"
           },
           "zaxis": {
            "backgroundcolor": "#E5ECF6",
            "gridcolor": "white",
            "gridwidth": 2,
            "linecolor": "white",
            "showbackground": true,
            "ticks": "",
            "zerolinecolor": "white"
           }
          },
          "shapedefaults": {
           "line": {
            "color": "#2a3f5f"
           }
          },
          "ternary": {
           "aaxis": {
            "gridcolor": "white",
            "linecolor": "white",
            "ticks": ""
           },
           "baxis": {
            "gridcolor": "white",
            "linecolor": "white",
            "ticks": ""
           },
           "bgcolor": "#E5ECF6",
           "caxis": {
            "gridcolor": "white",
            "linecolor": "white",
            "ticks": ""
           }
          },
          "title": {
           "x": 0.05
          },
          "xaxis": {
           "automargin": true,
           "gridcolor": "white",
           "linecolor": "white",
           "ticks": "",
           "title": {
            "standoff": 15
           },
           "zerolinecolor": "white",
           "zerolinewidth": 2
          },
          "yaxis": {
           "automargin": true,
           "gridcolor": "white",
           "linecolor": "white",
           "ticks": "",
           "title": {
            "standoff": 15
           },
           "zerolinecolor": "white",
           "zerolinewidth": 2
          }
         }
        },
        "title": {
         "text": "Average Daily Time Spent on Social Media by Age Group"
        },
        "xaxis": {
         "anchor": "y",
         "categoryarray": [
          "21-24",
          "25-29",
          "30-35"
         ],
         "categoryorder": "array",
         "domain": [
          0,
          1
         ],
         "title": {
          "text": "Age Group"
         }
        },
        "yaxis": {
         "anchor": "x",
         "domain": [
          0,
          1
         ],
         "title": {
          "text": "Average Daily Usage Time (minutes)"
         }
        }
       }
      }
     },
     "metadata": {},
     "output_type": "display_data"
    }
   ],
   "source": [
    "## Time spent (daily) over age groups (Multitasking habits: using social media while studying or working)\n",
    "\n",
    "# Create a new column for Age Groups\n",
    "age_bins = [21, 24, 29, 35]  # The bin edges for age groups\n",
    "age_labels = ['21-24', '25-29', '30-35']  # Labels for the age groups\n",
    "df['Age_Group'] = pd.cut(df['Age'], bins=age_bins, labels=age_labels, right=True)\n",
    "\n",
    "# Group by Age_Group and calculate average daily usage time\n",
    "age_grouped = df.groupby('Age_Group')['Daily_Usage_Time (minutes)'].mean().reset_index()\n",
    "\n",
    "# Create bar plot\n",
    "fig = px.bar(\n",
    "    age_grouped,\n",
    "    x='Age_Group',\n",
    "    y='Daily_Usage_Time (minutes)',\n",
    "    title=\"Average Daily Time Spent on Social Media by Age Group\",\n",
    "    labels={'Daily_Usage_Time (minutes)': 'Average Daily Usage Time (minutes)', 'Age_Group': 'Age Group'},\n",
    "    color='Age_Group',  # Color by age group for better visual distinction\n",
    "    color_discrete_sequence=px.colors.sequential.Mint  # Optional: change color scheme\n",
    ")\n",
    "\n",
    "\n",
    "\n",
    "fig.show()\n"
   ]
  },
  {
   "cell_type": "markdown",
   "id": "a24521fd",
   "metadata": {},
   "source": [
    "### After Model"
   ]
  },
  {
   "cell_type": "code",
   "execution_count": 40,
   "id": "c3e832bd",
   "metadata": {},
   "outputs": [],
   "source": [
    "df_test = pd.read_csv('test.csv')\n",
    "rf_preds = pd.read_csv('rf_predictions.csv')\n",
    "df_test['Predicted_Emotion'] = rf_preds['Predicted']"
   ]
  },
  {
   "cell_type": "markdown",
   "id": "c26993bc",
   "metadata": {},
   "source": [
    "**Plot 1**"
   ]
  },
  {
   "cell_type": "code",
   "execution_count": 41,
   "id": "8e3b5a2c",
   "metadata": {},
   "outputs": [
    {
     "name": "stdout",
     "output_type": "stream",
     "text": [
      "Platform\n",
      "Facebook     4\n",
      "Instagram    4\n",
      "LinkedIn     3\n",
      "Snapchat     4\n",
      "Telegram     4\n",
      "Twitter      6\n",
      "Whatsapp     2\n",
      "Name: Predicted_Emotion, dtype: int64\n"
     ]
    }
   ],
   "source": [
    "# Count unique predicted emotions per platform\n",
    "emotion_counts = df_test.groupby('Platform')['Predicted_Emotion'].nunique()\n",
    "print(emotion_counts)\n"
   ]
  },
  {
   "cell_type": "code",
   "execution_count": 42,
   "id": "584850b4",
   "metadata": {},
   "outputs": [
    {
     "data": {
      "application/vnd.plotly.v1+json": {
       "config": {
        "plotlyServerURL": "https://plot.ly"
       },
       "data": [
        {
         "marker": {
          "color": "orange"
         },
         "showlegend": false,
         "type": "bar",
         "x": [
          "Neutral",
          "Anxiety"
         ],
         "xaxis": "x",
         "y": {
          "bdata": "DAU=",
          "dtype": "i1"
         },
         "yaxis": "y"
        },
        {
         "marker": {
          "color": "orange"
         },
         "showlegend": false,
         "type": "bar",
         "x": [
          "Happiness",
          "Neutral"
         ],
         "xaxis": "x2",
         "y": {
          "bdata": "DAI=",
          "dtype": "i1"
         },
         "yaxis": "y2"
        },
        {
         "marker": {
          "color": "orange"
         },
         "showlegend": false,
         "type": "bar",
         "x": [
          "Boredom",
          "Anxiety"
         ],
         "xaxis": "x3",
         "y": {
          "bdata": "CAQ=",
          "dtype": "i1"
         },
         "yaxis": "y3"
        },
        {
         "marker": {
          "color": "orange"
         },
         "showlegend": false,
         "type": "bar",
         "x": [
          "Anxiety",
          "Neutral"
         ],
         "xaxis": "x4",
         "y": {
          "bdata": "BAQ=",
          "dtype": "i1"
         },
         "yaxis": "y4"
        },
        {
         "marker": {
          "color": "orange"
         },
         "showlegend": false,
         "type": "bar",
         "x": [
          "Neutral",
          "Sadness"
         ],
         "xaxis": "x5",
         "y": {
          "bdata": "BAQ=",
          "dtype": "i1"
         },
         "yaxis": "y5"
        },
        {
         "marker": {
          "color": "orange"
         },
         "showlegend": false,
         "type": "bar",
         "x": [
          "Anger",
          "Anxiety"
         ],
         "xaxis": "x6",
         "y": {
          "bdata": "BAQ=",
          "dtype": "i1"
         },
         "yaxis": "y6"
        },
        {
         "marker": {
          "color": "orange"
         },
         "showlegend": false,
         "type": "bar",
         "x": [
          "Anger",
          "Anxiety"
         ],
         "xaxis": "x7",
         "y": {
          "bdata": "AwE=",
          "dtype": "i1"
         },
         "yaxis": "y7"
        }
       ],
       "layout": {
        "annotations": [
         {
          "font": {
           "size": 16
          },
          "showarrow": false,
          "text": "Facebook",
          "x": 0.05918367346938775,
          "xanchor": "center",
          "xref": "paper",
          "y": 1,
          "yanchor": "bottom",
          "yref": "paper"
         },
         {
          "font": {
           "size": 16
          },
          "showarrow": false,
          "text": "Instagram",
          "x": 0.2061224489795918,
          "xanchor": "center",
          "xref": "paper",
          "y": 1,
          "yanchor": "bottom",
          "yref": "paper"
         },
         {
          "font": {
           "size": 16
          },
          "showarrow": false,
          "text": "LinkedIn",
          "x": 0.3530612244897959,
          "xanchor": "center",
          "xref": "paper",
          "y": 1,
          "yanchor": "bottom",
          "yref": "paper"
         },
         {
          "font": {
           "size": 16
          },
          "showarrow": false,
          "text": "Snapchat",
          "x": 0.49999999999999994,
          "xanchor": "center",
          "xref": "paper",
          "y": 1,
          "yanchor": "bottom",
          "yref": "paper"
         },
         {
          "font": {
           "size": 16
          },
          "showarrow": false,
          "text": "Telegram",
          "x": 0.6469387755102041,
          "xanchor": "center",
          "xref": "paper",
          "y": 1,
          "yanchor": "bottom",
          "yref": "paper"
         },
         {
          "font": {
           "size": 16
          },
          "showarrow": false,
          "text": "Twitter",
          "x": 0.7938775510204081,
          "xanchor": "center",
          "xref": "paper",
          "y": 1,
          "yanchor": "bottom",
          "yref": "paper"
         },
         {
          "font": {
           "size": 16
          },
          "showarrow": false,
          "text": "Whatsapp",
          "x": 0.9408163265306122,
          "xanchor": "center",
          "xref": "paper",
          "y": 1,
          "yanchor": "bottom",
          "yref": "paper"
         }
        ],
        "height": 500,
        "margin": {
         "t": 50
        },
        "template": {
         "data": {
          "bar": [
           {
            "error_x": {
             "color": "#2a3f5f"
            },
            "error_y": {
             "color": "#2a3f5f"
            },
            "marker": {
             "line": {
              "color": "#E5ECF6",
              "width": 0.5
             },
             "pattern": {
              "fillmode": "overlay",
              "size": 10,
              "solidity": 0.2
             }
            },
            "type": "bar"
           }
          ],
          "barpolar": [
           {
            "marker": {
             "line": {
              "color": "#E5ECF6",
              "width": 0.5
             },
             "pattern": {
              "fillmode": "overlay",
              "size": 10,
              "solidity": 0.2
             }
            },
            "type": "barpolar"
           }
          ],
          "carpet": [
           {
            "aaxis": {
             "endlinecolor": "#2a3f5f",
             "gridcolor": "white",
             "linecolor": "white",
             "minorgridcolor": "white",
             "startlinecolor": "#2a3f5f"
            },
            "baxis": {
             "endlinecolor": "#2a3f5f",
             "gridcolor": "white",
             "linecolor": "white",
             "minorgridcolor": "white",
             "startlinecolor": "#2a3f5f"
            },
            "type": "carpet"
           }
          ],
          "choropleth": [
           {
            "colorbar": {
             "outlinewidth": 0,
             "ticks": ""
            },
            "type": "choropleth"
           }
          ],
          "contour": [
           {
            "colorbar": {
             "outlinewidth": 0,
             "ticks": ""
            },
            "colorscale": [
             [
              0,
              "#0d0887"
             ],
             [
              0.1111111111111111,
              "#46039f"
             ],
             [
              0.2222222222222222,
              "#7201a8"
             ],
             [
              0.3333333333333333,
              "#9c179e"
             ],
             [
              0.4444444444444444,
              "#bd3786"
             ],
             [
              0.5555555555555556,
              "#d8576b"
             ],
             [
              0.6666666666666666,
              "#ed7953"
             ],
             [
              0.7777777777777778,
              "#fb9f3a"
             ],
             [
              0.8888888888888888,
              "#fdca26"
             ],
             [
              1,
              "#f0f921"
             ]
            ],
            "type": "contour"
           }
          ],
          "contourcarpet": [
           {
            "colorbar": {
             "outlinewidth": 0,
             "ticks": ""
            },
            "type": "contourcarpet"
           }
          ],
          "heatmap": [
           {
            "colorbar": {
             "outlinewidth": 0,
             "ticks": ""
            },
            "colorscale": [
             [
              0,
              "#0d0887"
             ],
             [
              0.1111111111111111,
              "#46039f"
             ],
             [
              0.2222222222222222,
              "#7201a8"
             ],
             [
              0.3333333333333333,
              "#9c179e"
             ],
             [
              0.4444444444444444,
              "#bd3786"
             ],
             [
              0.5555555555555556,
              "#d8576b"
             ],
             [
              0.6666666666666666,
              "#ed7953"
             ],
             [
              0.7777777777777778,
              "#fb9f3a"
             ],
             [
              0.8888888888888888,
              "#fdca26"
             ],
             [
              1,
              "#f0f921"
             ]
            ],
            "type": "heatmap"
           }
          ],
          "histogram": [
           {
            "marker": {
             "pattern": {
              "fillmode": "overlay",
              "size": 10,
              "solidity": 0.2
             }
            },
            "type": "histogram"
           }
          ],
          "histogram2d": [
           {
            "colorbar": {
             "outlinewidth": 0,
             "ticks": ""
            },
            "colorscale": [
             [
              0,
              "#0d0887"
             ],
             [
              0.1111111111111111,
              "#46039f"
             ],
             [
              0.2222222222222222,
              "#7201a8"
             ],
             [
              0.3333333333333333,
              "#9c179e"
             ],
             [
              0.4444444444444444,
              "#bd3786"
             ],
             [
              0.5555555555555556,
              "#d8576b"
             ],
             [
              0.6666666666666666,
              "#ed7953"
             ],
             [
              0.7777777777777778,
              "#fb9f3a"
             ],
             [
              0.8888888888888888,
              "#fdca26"
             ],
             [
              1,
              "#f0f921"
             ]
            ],
            "type": "histogram2d"
           }
          ],
          "histogram2dcontour": [
           {
            "colorbar": {
             "outlinewidth": 0,
             "ticks": ""
            },
            "colorscale": [
             [
              0,
              "#0d0887"
             ],
             [
              0.1111111111111111,
              "#46039f"
             ],
             [
              0.2222222222222222,
              "#7201a8"
             ],
             [
              0.3333333333333333,
              "#9c179e"
             ],
             [
              0.4444444444444444,
              "#bd3786"
             ],
             [
              0.5555555555555556,
              "#d8576b"
             ],
             [
              0.6666666666666666,
              "#ed7953"
             ],
             [
              0.7777777777777778,
              "#fb9f3a"
             ],
             [
              0.8888888888888888,
              "#fdca26"
             ],
             [
              1,
              "#f0f921"
             ]
            ],
            "type": "histogram2dcontour"
           }
          ],
          "mesh3d": [
           {
            "colorbar": {
             "outlinewidth": 0,
             "ticks": ""
            },
            "type": "mesh3d"
           }
          ],
          "parcoords": [
           {
            "line": {
             "colorbar": {
              "outlinewidth": 0,
              "ticks": ""
             }
            },
            "type": "parcoords"
           }
          ],
          "pie": [
           {
            "automargin": true,
            "type": "pie"
           }
          ],
          "scatter": [
           {
            "fillpattern": {
             "fillmode": "overlay",
             "size": 10,
             "solidity": 0.2
            },
            "type": "scatter"
           }
          ],
          "scatter3d": [
           {
            "line": {
             "colorbar": {
              "outlinewidth": 0,
              "ticks": ""
             }
            },
            "marker": {
             "colorbar": {
              "outlinewidth": 0,
              "ticks": ""
             }
            },
            "type": "scatter3d"
           }
          ],
          "scattercarpet": [
           {
            "marker": {
             "colorbar": {
              "outlinewidth": 0,
              "ticks": ""
             }
            },
            "type": "scattercarpet"
           }
          ],
          "scattergeo": [
           {
            "marker": {
             "colorbar": {
              "outlinewidth": 0,
              "ticks": ""
             }
            },
            "type": "scattergeo"
           }
          ],
          "scattergl": [
           {
            "marker": {
             "colorbar": {
              "outlinewidth": 0,
              "ticks": ""
             }
            },
            "type": "scattergl"
           }
          ],
          "scattermap": [
           {
            "marker": {
             "colorbar": {
              "outlinewidth": 0,
              "ticks": ""
             }
            },
            "type": "scattermap"
           }
          ],
          "scattermapbox": [
           {
            "marker": {
             "colorbar": {
              "outlinewidth": 0,
              "ticks": ""
             }
            },
            "type": "scattermapbox"
           }
          ],
          "scatterpolar": [
           {
            "marker": {
             "colorbar": {
              "outlinewidth": 0,
              "ticks": ""
             }
            },
            "type": "scatterpolar"
           }
          ],
          "scatterpolargl": [
           {
            "marker": {
             "colorbar": {
              "outlinewidth": 0,
              "ticks": ""
             }
            },
            "type": "scatterpolargl"
           }
          ],
          "scatterternary": [
           {
            "marker": {
             "colorbar": {
              "outlinewidth": 0,
              "ticks": ""
             }
            },
            "type": "scatterternary"
           }
          ],
          "surface": [
           {
            "colorbar": {
             "outlinewidth": 0,
             "ticks": ""
            },
            "colorscale": [
             [
              0,
              "#0d0887"
             ],
             [
              0.1111111111111111,
              "#46039f"
             ],
             [
              0.2222222222222222,
              "#7201a8"
             ],
             [
              0.3333333333333333,
              "#9c179e"
             ],
             [
              0.4444444444444444,
              "#bd3786"
             ],
             [
              0.5555555555555556,
              "#d8576b"
             ],
             [
              0.6666666666666666,
              "#ed7953"
             ],
             [
              0.7777777777777778,
              "#fb9f3a"
             ],
             [
              0.8888888888888888,
              "#fdca26"
             ],
             [
              1,
              "#f0f921"
             ]
            ],
            "type": "surface"
           }
          ],
          "table": [
           {
            "cells": {
             "fill": {
              "color": "#EBF0F8"
             },
             "line": {
              "color": "white"
             }
            },
            "header": {
             "fill": {
              "color": "#C8D4E3"
             },
             "line": {
              "color": "white"
             }
            },
            "type": "table"
           }
          ]
         },
         "layout": {
          "annotationdefaults": {
           "arrowcolor": "#2a3f5f",
           "arrowhead": 0,
           "arrowwidth": 1
          },
          "autotypenumbers": "strict",
          "coloraxis": {
           "colorbar": {
            "outlinewidth": 0,
            "ticks": ""
           }
          },
          "colorscale": {
           "diverging": [
            [
             0,
             "#8e0152"
            ],
            [
             0.1,
             "#c51b7d"
            ],
            [
             0.2,
             "#de77ae"
            ],
            [
             0.3,
             "#f1b6da"
            ],
            [
             0.4,
             "#fde0ef"
            ],
            [
             0.5,
             "#f7f7f7"
            ],
            [
             0.6,
             "#e6f5d0"
            ],
            [
             0.7,
             "#b8e186"
            ],
            [
             0.8,
             "#7fbc41"
            ],
            [
             0.9,
             "#4d9221"
            ],
            [
             1,
             "#276419"
            ]
           ],
           "sequential": [
            [
             0,
             "#0d0887"
            ],
            [
             0.1111111111111111,
             "#46039f"
            ],
            [
             0.2222222222222222,
             "#7201a8"
            ],
            [
             0.3333333333333333,
             "#9c179e"
            ],
            [
             0.4444444444444444,
             "#bd3786"
            ],
            [
             0.5555555555555556,
             "#d8576b"
            ],
            [
             0.6666666666666666,
             "#ed7953"
            ],
            [
             0.7777777777777778,
             "#fb9f3a"
            ],
            [
             0.8888888888888888,
             "#fdca26"
            ],
            [
             1,
             "#f0f921"
            ]
           ],
           "sequentialminus": [
            [
             0,
             "#0d0887"
            ],
            [
             0.1111111111111111,
             "#46039f"
            ],
            [
             0.2222222222222222,
             "#7201a8"
            ],
            [
             0.3333333333333333,
             "#9c179e"
            ],
            [
             0.4444444444444444,
             "#bd3786"
            ],
            [
             0.5555555555555556,
             "#d8576b"
            ],
            [
             0.6666666666666666,
             "#ed7953"
            ],
            [
             0.7777777777777778,
             "#fb9f3a"
            ],
            [
             0.8888888888888888,
             "#fdca26"
            ],
            [
             1,
             "#f0f921"
            ]
           ]
          },
          "colorway": [
           "#636efa",
           "#EF553B",
           "#00cc96",
           "#ab63fa",
           "#FFA15A",
           "#19d3f3",
           "#FF6692",
           "#B6E880",
           "#FF97FF",
           "#FECB52"
          ],
          "font": {
           "color": "#2a3f5f"
          },
          "geo": {
           "bgcolor": "white",
           "lakecolor": "white",
           "landcolor": "#E5ECF6",
           "showlakes": true,
           "showland": true,
           "subunitcolor": "white"
          },
          "hoverlabel": {
           "align": "left"
          },
          "hovermode": "closest",
          "mapbox": {
           "style": "light"
          },
          "paper_bgcolor": "white",
          "plot_bgcolor": "#E5ECF6",
          "polar": {
           "angularaxis": {
            "gridcolor": "white",
            "linecolor": "white",
            "ticks": ""
           },
           "bgcolor": "#E5ECF6",
           "radialaxis": {
            "gridcolor": "white",
            "linecolor": "white",
            "ticks": ""
           }
          },
          "scene": {
           "xaxis": {
            "backgroundcolor": "#E5ECF6",
            "gridcolor": "white",
            "gridwidth": 2,
            "linecolor": "white",
            "showbackground": true,
            "ticks": "",
            "zerolinecolor": "white"
           },
           "yaxis": {
            "backgroundcolor": "#E5ECF6",
            "gridcolor": "white",
            "gridwidth": 2,
            "linecolor": "white",
            "showbackground": true,
            "ticks": "",
            "zerolinecolor": "white"
           },
           "zaxis": {
            "backgroundcolor": "#E5ECF6",
            "gridcolor": "white",
            "gridwidth": 2,
            "linecolor": "white",
            "showbackground": true,
            "ticks": "",
            "zerolinecolor": "white"
           }
          },
          "shapedefaults": {
           "line": {
            "color": "#2a3f5f"
           }
          },
          "ternary": {
           "aaxis": {
            "gridcolor": "white",
            "linecolor": "white",
            "ticks": ""
           },
           "baxis": {
            "gridcolor": "white",
            "linecolor": "white",
            "ticks": ""
           },
           "bgcolor": "#E5ECF6",
           "caxis": {
            "gridcolor": "white",
            "linecolor": "white",
            "ticks": ""
           }
          },
          "title": {
           "x": 0.05
          },
          "xaxis": {
           "automargin": true,
           "gridcolor": "white",
           "linecolor": "white",
           "ticks": "",
           "title": {
            "standoff": 15
           },
           "zerolinecolor": "white",
           "zerolinewidth": 2
          },
          "yaxis": {
           "automargin": true,
           "gridcolor": "white",
           "linecolor": "white",
           "ticks": "",
           "title": {
            "standoff": 15
           },
           "zerolinecolor": "white",
           "zerolinewidth": 2
          }
         }
        },
        "title": {
         "text": "Top 3 Predicted Emotions by Social Media Platform (Random Forest)"
        },
        "width": 1400,
        "xaxis": {
         "anchor": "y",
         "domain": [
          0,
          0.1183673469387755
         ],
         "tickvals": [
          "Neutral",
          "Anxiety"
         ],
         "title": {
          "text": "Emotion"
         }
        },
        "xaxis2": {
         "anchor": "y2",
         "domain": [
          0.14693877551020407,
          0.26530612244897955
         ],
         "tickvals": [
          "Happiness",
          "Neutral"
         ],
         "title": {
          "text": "Emotion"
         }
        },
        "xaxis3": {
         "anchor": "y3",
         "domain": [
          0.29387755102040813,
          0.4122448979591836
         ],
         "tickvals": [
          "Boredom",
          "Anxiety"
         ],
         "title": {
          "text": "Emotion"
         }
        },
        "xaxis4": {
         "anchor": "y4",
         "domain": [
          0.4408163265306122,
          0.5591836734693877
         ],
         "tickvals": [
          "Anxiety",
          "Neutral"
         ],
         "title": {
          "text": "Emotion"
         }
        },
        "xaxis5": {
         "anchor": "y5",
         "domain": [
          0.5877551020408163,
          0.7061224489795918
         ],
         "tickvals": [
          "Neutral",
          "Sadness"
         ],
         "title": {
          "text": "Emotion"
         }
        },
        "xaxis6": {
         "anchor": "y6",
         "domain": [
          0.7346938775510204,
          0.8530612244897959
         ],
         "tickvals": [
          "Anger",
          "Anxiety"
         ],
         "title": {
          "text": "Emotion"
         }
        },
        "xaxis7": {
         "anchor": "y7",
         "domain": [
          0.8816326530612244,
          0.9999999999999999
         ],
         "tickvals": [
          "Anger",
          "Anxiety"
         ],
         "title": {
          "text": "Emotion"
         }
        },
        "yaxis": {
         "anchor": "x",
         "domain": [
          0,
          1
         ],
         "title": {
          "text": "Predicted Count"
         }
        },
        "yaxis2": {
         "anchor": "x2",
         "domain": [
          0,
          1
         ],
         "title": {
          "text": ""
         }
        },
        "yaxis3": {
         "anchor": "x3",
         "domain": [
          0,
          1
         ],
         "title": {
          "text": ""
         }
        },
        "yaxis4": {
         "anchor": "x4",
         "domain": [
          0,
          1
         ],
         "title": {
          "text": ""
         }
        },
        "yaxis5": {
         "anchor": "x5",
         "domain": [
          0,
          1
         ],
         "title": {
          "text": ""
         }
        },
        "yaxis6": {
         "anchor": "x6",
         "domain": [
          0,
          1
         ],
         "title": {
          "text": ""
         }
        },
        "yaxis7": {
         "anchor": "x7",
         "domain": [
          0,
          1
         ],
         "title": {
          "text": ""
         }
        }
       }
      }
     },
     "metadata": {},
     "output_type": "display_data"
    }
   ],
   "source": [
    "# Group by Platform and Predicted_Emotion\n",
    "pred_counts = (\n",
    "    df_test.groupby(['Platform', 'Predicted_Emotion'])\n",
    "    .size()\n",
    "    .reset_index(name='Count')\n",
    "    .rename(columns={'Predicted_Emotion': 'Emotion'})\n",
    ")\n",
    "\n",
    "# Get top 2 predicted emotions per platform\n",
    "top_preds_per_platform = (\n",
    "    pred_counts.sort_values(['Platform', 'Count'], ascending=[True, False])\n",
    "    .groupby('Platform')\n",
    "    .head(2)\n",
    ")\n",
    "\n",
    "# Get unique platforms\n",
    "platforms = top_preds_per_platform['Platform'].unique()\n",
    "\n",
    "# Create subplots\n",
    "fig = make_subplots(rows=1, cols=len(platforms), subplot_titles=platforms)\n",
    "\n",
    "# Add bars for each platform\n",
    "for i, platform in enumerate(platforms):\n",
    "    platform_data = top_preds_per_platform[top_preds_per_platform['Platform'] == platform]\n",
    "    fig.add_trace(\n",
    "        go.Bar(\n",
    "            x=platform_data['Emotion'],\n",
    "            y=platform_data['Count'],\n",
    "            marker_color='orange',\n",
    "            showlegend=False\n",
    "        ),\n",
    "        row=1, col=i+1\n",
    "    )\n",
    "    fig.update_xaxes(title_text=\"Emotion\", tickvals=platform_data['Emotion'], row=1, col=i+1)\n",
    "    fig.update_yaxes(title_text=\"Predicted Count\" if i == 0 else \"\", row=1, col=i+1)\n",
    "\n",
    "# Set layout\n",
    "fig.update_layout(\n",
    "    title_text=\"Top 3 Predicted Emotions by Social Media Platform (Random Forest)\",\n",
    "    height=500,\n",
    "    width=1400,\n",
    "    margin=dict(t=50)\n",
    ")\n",
    "\n",
    "fig.show()\n"
   ]
  },
  {
   "cell_type": "markdown",
   "id": "3c11f2e6",
   "metadata": {},
   "source": [
    "**Plot 2**"
   ]
  },
  {
   "cell_type": "code",
   "execution_count": 43,
   "id": "26b908ec",
   "metadata": {},
   "outputs": [
    {
     "name": "stderr",
     "output_type": "stream",
     "text": [
      "C:\\Users\\habib\\AppData\\Local\\Temp\\ipykernel_12312\\129241045.py:17: FutureWarning:\n",
      "\n",
      "The default of observed=False is deprecated and will be changed to True in a future version of pandas. Pass observed=False to retain current behavior or observed=True to adopt the future default and silence this warning.\n",
      "\n",
      "C:\\Users\\habib\\AppData\\Local\\Temp\\ipykernel_12312\\129241045.py:18: FutureWarning:\n",
      "\n",
      "The default of observed=False is deprecated and will be changed to True in a future version of pandas. Pass observed=False to retain current behavior or observed=True to adopt the future default and silence this warning.\n",
      "\n"
     ]
    },
    {
     "data": {
      "application/vnd.plotly.v1+json": {
       "config": {
        "plotlyServerURL": "https://plot.ly"
       },
       "data": [
        {
         "marker": {
          "color": [
           "#DC143C",
           "#FF7F50",
           "#C0C0C0",
           "#FFD700",
           "#A9A9A9",
           "#1E90FF"
          ]
         },
         "name": "0-30",
         "text": [
          "nan%",
          "nan%",
          "nan%",
          "nan%",
          "nan%",
          "nan%"
         ],
         "textposition": "auto",
         "type": "bar",
         "visible": true,
         "x": [
          "😠 Anger",
          "😰 Anxiety",
          "🥱 Boredom",
          "😊 Happiness",
          "😐 Neutral",
          "😢 Sadness"
         ],
         "y": {
          "bdata": "AAAAAAAA+P8AAAAAAAD4/wAAAAAAAPj/AAAAAAAA+P8AAAAAAAD4/wAAAAAAAPj/",
          "dtype": "f8"
         }
        },
        {
         "marker": {
          "color": [
           "#DC143C",
           "#FF7F50",
           "#C0C0C0",
           "#FFD700",
           "#A9A9A9",
           "#1E90FF"
          ]
         },
         "name": "30-60",
         "text": [
          "0.0%",
          "11.8%",
          "23.5%",
          "0.0%",
          "35.3%",
          "29.4%"
         ],
         "textposition": "auto",
         "type": "bar",
         "visible": false,
         "x": [
          "😠 Anger",
          "😰 Anxiety",
          "🥱 Boredom",
          "😊 Happiness",
          "😐 Neutral",
          "😢 Sadness"
         ],
         "y": {
          "bdata": "AAAAAAAAAACHh4eHh4cnQIeHh4eHhzdAAAAAAAAAAACmpaWlpaVBQGppaWlpaT1A",
          "dtype": "f8"
         }
        },
        {
         "marker": {
          "color": [
           "#DC143C",
           "#FF7F50",
           "#C0C0C0",
           "#FFD700",
           "#A9A9A9",
           "#1E90FF"
          ]
         },
         "name": "60-90",
         "text": [
          "8.9%",
          "24.4%",
          "26.7%",
          "2.2%",
          "28.9%",
          "8.9%"
         ],
         "textposition": "auto",
         "type": "bar",
         "visible": false,
         "x": [
          "😠 Anger",
          "😰 Anxiety",
          "🥱 Boredom",
          "😊 Happiness",
          "😐 Neutral",
          "😢 Sadness"
         ],
         "y": {
          "bdata": "chzHcRzHIUAcx3Ecx3E4QKuqqqqqqjpAchzHcRzHAUA4juM4juM8QHIcx3EcxyFA",
          "dtype": "f8"
         }
        },
        {
         "marker": {
          "color": [
           "#DC143C",
           "#FF7F50",
           "#C0C0C0",
           "#FFD700",
           "#A9A9A9",
           "#1E90FF"
          ]
         },
         "name": "90-120",
         "text": [
          "18.2%",
          "31.8%",
          "0.0%",
          "9.1%",
          "13.6%",
          "27.3%"
         ],
         "textposition": "auto",
         "type": "bar",
         "visible": false,
         "x": [
          "😠 Anger",
          "😰 Anxiety",
          "🥱 Boredom",
          "😊 Happiness",
          "😐 Neutral",
          "😢 Sadness"
         ],
         "y": {
          "bdata": "L7rooosuMkDRRRdddNE/QAAAAAAAAAAAL7rooosuIkBFF1100UUrQEUXXXTRRTtA",
          "dtype": "f8"
         }
        },
        {
         "marker": {
          "color": [
           "#DC143C",
           "#FF7F50",
           "#C0C0C0",
           "#FFD700",
           "#A9A9A9",
           "#1E90FF"
          ]
         },
         "name": "120-150",
         "text": [
          "8.3%",
          "0.0%",
          "0.0%",
          "50.0%",
          "41.7%",
          "0.0%"
         ],
         "textposition": "auto",
         "type": "bar",
         "visible": false,
         "x": [
          "😠 Anger",
          "😰 Anxiety",
          "🥱 Boredom",
          "😊 Happiness",
          "😐 Neutral",
          "😢 Sadness"
         ],
         "y": {
          "bdata": "qqqqqqqqIEAAAAAAAAAAAAAAAAAAAAAAAAAAAAAASUBWVVVVVdVEQAAAAAAAAAAA",
          "dtype": "f8"
         }
        },
        {
         "marker": {
          "color": [
           "#DC143C",
           "#FF7F50",
           "#C0C0C0",
           "#FFD700",
           "#A9A9A9",
           "#1E90FF"
          ]
         },
         "name": "150-180",
         "text": [
          "0.0%",
          "0.0%",
          "0.0%",
          "100.0%",
          "0.0%",
          "0.0%"
         ],
         "textposition": "auto",
         "type": "bar",
         "visible": false,
         "x": [
          "😠 Anger",
          "😰 Anxiety",
          "🥱 Boredom",
          "😊 Happiness",
          "😐 Neutral",
          "😢 Sadness"
         ],
         "y": {
          "bdata": "AAAAAAAAAAAAAAAAAAAAAAAAAAAAAAAAAAAAAAAAWUAAAAAAAAAAAAAAAAAAAAAA",
          "dtype": "f8"
         }
        },
        {
         "marker": {
          "color": [
           "#DC143C",
           "#FF7F50",
           "#C0C0C0",
           "#FFD700",
           "#A9A9A9",
           "#1E90FF"
          ]
         },
         "name": "180+",
         "text": [
          "nan%",
          "nan%",
          "nan%",
          "nan%",
          "nan%",
          "nan%"
         ],
         "textposition": "auto",
         "type": "bar",
         "visible": false,
         "x": [
          "😠 Anger",
          "😰 Anxiety",
          "🥱 Boredom",
          "😊 Happiness",
          "😐 Neutral",
          "😢 Sadness"
         ],
         "y": {
          "bdata": "AAAAAAAA+P8AAAAAAAD4/wAAAAAAAPj/AAAAAAAA+P8AAAAAAAD4/wAAAAAAAPj/",
          "dtype": "f8"
         }
        }
       ],
       "layout": {
        "plot_bgcolor": "white",
        "template": {
         "data": {
          "bar": [
           {
            "error_x": {
             "color": "#2a3f5f"
            },
            "error_y": {
             "color": "#2a3f5f"
            },
            "marker": {
             "line": {
              "color": "#E5ECF6",
              "width": 0.5
             },
             "pattern": {
              "fillmode": "overlay",
              "size": 10,
              "solidity": 0.2
             }
            },
            "type": "bar"
           }
          ],
          "barpolar": [
           {
            "marker": {
             "line": {
              "color": "#E5ECF6",
              "width": 0.5
             },
             "pattern": {
              "fillmode": "overlay",
              "size": 10,
              "solidity": 0.2
             }
            },
            "type": "barpolar"
           }
          ],
          "carpet": [
           {
            "aaxis": {
             "endlinecolor": "#2a3f5f",
             "gridcolor": "white",
             "linecolor": "white",
             "minorgridcolor": "white",
             "startlinecolor": "#2a3f5f"
            },
            "baxis": {
             "endlinecolor": "#2a3f5f",
             "gridcolor": "white",
             "linecolor": "white",
             "minorgridcolor": "white",
             "startlinecolor": "#2a3f5f"
            },
            "type": "carpet"
           }
          ],
          "choropleth": [
           {
            "colorbar": {
             "outlinewidth": 0,
             "ticks": ""
            },
            "type": "choropleth"
           }
          ],
          "contour": [
           {
            "colorbar": {
             "outlinewidth": 0,
             "ticks": ""
            },
            "colorscale": [
             [
              0,
              "#0d0887"
             ],
             [
              0.1111111111111111,
              "#46039f"
             ],
             [
              0.2222222222222222,
              "#7201a8"
             ],
             [
              0.3333333333333333,
              "#9c179e"
             ],
             [
              0.4444444444444444,
              "#bd3786"
             ],
             [
              0.5555555555555556,
              "#d8576b"
             ],
             [
              0.6666666666666666,
              "#ed7953"
             ],
             [
              0.7777777777777778,
              "#fb9f3a"
             ],
             [
              0.8888888888888888,
              "#fdca26"
             ],
             [
              1,
              "#f0f921"
             ]
            ],
            "type": "contour"
           }
          ],
          "contourcarpet": [
           {
            "colorbar": {
             "outlinewidth": 0,
             "ticks": ""
            },
            "type": "contourcarpet"
           }
          ],
          "heatmap": [
           {
            "colorbar": {
             "outlinewidth": 0,
             "ticks": ""
            },
            "colorscale": [
             [
              0,
              "#0d0887"
             ],
             [
              0.1111111111111111,
              "#46039f"
             ],
             [
              0.2222222222222222,
              "#7201a8"
             ],
             [
              0.3333333333333333,
              "#9c179e"
             ],
             [
              0.4444444444444444,
              "#bd3786"
             ],
             [
              0.5555555555555556,
              "#d8576b"
             ],
             [
              0.6666666666666666,
              "#ed7953"
             ],
             [
              0.7777777777777778,
              "#fb9f3a"
             ],
             [
              0.8888888888888888,
              "#fdca26"
             ],
             [
              1,
              "#f0f921"
             ]
            ],
            "type": "heatmap"
           }
          ],
          "histogram": [
           {
            "marker": {
             "pattern": {
              "fillmode": "overlay",
              "size": 10,
              "solidity": 0.2
             }
            },
            "type": "histogram"
           }
          ],
          "histogram2d": [
           {
            "colorbar": {
             "outlinewidth": 0,
             "ticks": ""
            },
            "colorscale": [
             [
              0,
              "#0d0887"
             ],
             [
              0.1111111111111111,
              "#46039f"
             ],
             [
              0.2222222222222222,
              "#7201a8"
             ],
             [
              0.3333333333333333,
              "#9c179e"
             ],
             [
              0.4444444444444444,
              "#bd3786"
             ],
             [
              0.5555555555555556,
              "#d8576b"
             ],
             [
              0.6666666666666666,
              "#ed7953"
             ],
             [
              0.7777777777777778,
              "#fb9f3a"
             ],
             [
              0.8888888888888888,
              "#fdca26"
             ],
             [
              1,
              "#f0f921"
             ]
            ],
            "type": "histogram2d"
           }
          ],
          "histogram2dcontour": [
           {
            "colorbar": {
             "outlinewidth": 0,
             "ticks": ""
            },
            "colorscale": [
             [
              0,
              "#0d0887"
             ],
             [
              0.1111111111111111,
              "#46039f"
             ],
             [
              0.2222222222222222,
              "#7201a8"
             ],
             [
              0.3333333333333333,
              "#9c179e"
             ],
             [
              0.4444444444444444,
              "#bd3786"
             ],
             [
              0.5555555555555556,
              "#d8576b"
             ],
             [
              0.6666666666666666,
              "#ed7953"
             ],
             [
              0.7777777777777778,
              "#fb9f3a"
             ],
             [
              0.8888888888888888,
              "#fdca26"
             ],
             [
              1,
              "#f0f921"
             ]
            ],
            "type": "histogram2dcontour"
           }
          ],
          "mesh3d": [
           {
            "colorbar": {
             "outlinewidth": 0,
             "ticks": ""
            },
            "type": "mesh3d"
           }
          ],
          "parcoords": [
           {
            "line": {
             "colorbar": {
              "outlinewidth": 0,
              "ticks": ""
             }
            },
            "type": "parcoords"
           }
          ],
          "pie": [
           {
            "automargin": true,
            "type": "pie"
           }
          ],
          "scatter": [
           {
            "fillpattern": {
             "fillmode": "overlay",
             "size": 10,
             "solidity": 0.2
            },
            "type": "scatter"
           }
          ],
          "scatter3d": [
           {
            "line": {
             "colorbar": {
              "outlinewidth": 0,
              "ticks": ""
             }
            },
            "marker": {
             "colorbar": {
              "outlinewidth": 0,
              "ticks": ""
             }
            },
            "type": "scatter3d"
           }
          ],
          "scattercarpet": [
           {
            "marker": {
             "colorbar": {
              "outlinewidth": 0,
              "ticks": ""
             }
            },
            "type": "scattercarpet"
           }
          ],
          "scattergeo": [
           {
            "marker": {
             "colorbar": {
              "outlinewidth": 0,
              "ticks": ""
             }
            },
            "type": "scattergeo"
           }
          ],
          "scattergl": [
           {
            "marker": {
             "colorbar": {
              "outlinewidth": 0,
              "ticks": ""
             }
            },
            "type": "scattergl"
           }
          ],
          "scattermap": [
           {
            "marker": {
             "colorbar": {
              "outlinewidth": 0,
              "ticks": ""
             }
            },
            "type": "scattermap"
           }
          ],
          "scattermapbox": [
           {
            "marker": {
             "colorbar": {
              "outlinewidth": 0,
              "ticks": ""
             }
            },
            "type": "scattermapbox"
           }
          ],
          "scatterpolar": [
           {
            "marker": {
             "colorbar": {
              "outlinewidth": 0,
              "ticks": ""
             }
            },
            "type": "scatterpolar"
           }
          ],
          "scatterpolargl": [
           {
            "marker": {
             "colorbar": {
              "outlinewidth": 0,
              "ticks": ""
             }
            },
            "type": "scatterpolargl"
           }
          ],
          "scatterternary": [
           {
            "marker": {
             "colorbar": {
              "outlinewidth": 0,
              "ticks": ""
             }
            },
            "type": "scatterternary"
           }
          ],
          "surface": [
           {
            "colorbar": {
             "outlinewidth": 0,
             "ticks": ""
            },
            "colorscale": [
             [
              0,
              "#0d0887"
             ],
             [
              0.1111111111111111,
              "#46039f"
             ],
             [
              0.2222222222222222,
              "#7201a8"
             ],
             [
              0.3333333333333333,
              "#9c179e"
             ],
             [
              0.4444444444444444,
              "#bd3786"
             ],
             [
              0.5555555555555556,
              "#d8576b"
             ],
             [
              0.6666666666666666,
              "#ed7953"
             ],
             [
              0.7777777777777778,
              "#fb9f3a"
             ],
             [
              0.8888888888888888,
              "#fdca26"
             ],
             [
              1,
              "#f0f921"
             ]
            ],
            "type": "surface"
           }
          ],
          "table": [
           {
            "cells": {
             "fill": {
              "color": "#EBF0F8"
             },
             "line": {
              "color": "white"
             }
            },
            "header": {
             "fill": {
              "color": "#C8D4E3"
             },
             "line": {
              "color": "white"
             }
            },
            "type": "table"
           }
          ]
         },
         "layout": {
          "annotationdefaults": {
           "arrowcolor": "#2a3f5f",
           "arrowhead": 0,
           "arrowwidth": 1
          },
          "autotypenumbers": "strict",
          "coloraxis": {
           "colorbar": {
            "outlinewidth": 0,
            "ticks": ""
           }
          },
          "colorscale": {
           "diverging": [
            [
             0,
             "#8e0152"
            ],
            [
             0.1,
             "#c51b7d"
            ],
            [
             0.2,
             "#de77ae"
            ],
            [
             0.3,
             "#f1b6da"
            ],
            [
             0.4,
             "#fde0ef"
            ],
            [
             0.5,
             "#f7f7f7"
            ],
            [
             0.6,
             "#e6f5d0"
            ],
            [
             0.7,
             "#b8e186"
            ],
            [
             0.8,
             "#7fbc41"
            ],
            [
             0.9,
             "#4d9221"
            ],
            [
             1,
             "#276419"
            ]
           ],
           "sequential": [
            [
             0,
             "#0d0887"
            ],
            [
             0.1111111111111111,
             "#46039f"
            ],
            [
             0.2222222222222222,
             "#7201a8"
            ],
            [
             0.3333333333333333,
             "#9c179e"
            ],
            [
             0.4444444444444444,
             "#bd3786"
            ],
            [
             0.5555555555555556,
             "#d8576b"
            ],
            [
             0.6666666666666666,
             "#ed7953"
            ],
            [
             0.7777777777777778,
             "#fb9f3a"
            ],
            [
             0.8888888888888888,
             "#fdca26"
            ],
            [
             1,
             "#f0f921"
            ]
           ],
           "sequentialminus": [
            [
             0,
             "#0d0887"
            ],
            [
             0.1111111111111111,
             "#46039f"
            ],
            [
             0.2222222222222222,
             "#7201a8"
            ],
            [
             0.3333333333333333,
             "#9c179e"
            ],
            [
             0.4444444444444444,
             "#bd3786"
            ],
            [
             0.5555555555555556,
             "#d8576b"
            ],
            [
             0.6666666666666666,
             "#ed7953"
            ],
            [
             0.7777777777777778,
             "#fb9f3a"
            ],
            [
             0.8888888888888888,
             "#fdca26"
            ],
            [
             1,
             "#f0f921"
            ]
           ]
          },
          "colorway": [
           "#636efa",
           "#EF553B",
           "#00cc96",
           "#ab63fa",
           "#FFA15A",
           "#19d3f3",
           "#FF6692",
           "#B6E880",
           "#FF97FF",
           "#FECB52"
          ],
          "font": {
           "color": "#2a3f5f"
          },
          "geo": {
           "bgcolor": "white",
           "lakecolor": "white",
           "landcolor": "#E5ECF6",
           "showlakes": true,
           "showland": true,
           "subunitcolor": "white"
          },
          "hoverlabel": {
           "align": "left"
          },
          "hovermode": "closest",
          "mapbox": {
           "style": "light"
          },
          "paper_bgcolor": "white",
          "plot_bgcolor": "#E5ECF6",
          "polar": {
           "angularaxis": {
            "gridcolor": "white",
            "linecolor": "white",
            "ticks": ""
           },
           "bgcolor": "#E5ECF6",
           "radialaxis": {
            "gridcolor": "white",
            "linecolor": "white",
            "ticks": ""
           }
          },
          "scene": {
           "xaxis": {
            "backgroundcolor": "#E5ECF6",
            "gridcolor": "white",
            "gridwidth": 2,
            "linecolor": "white",
            "showbackground": true,
            "ticks": "",
            "zerolinecolor": "white"
           },
           "yaxis": {
            "backgroundcolor": "#E5ECF6",
            "gridcolor": "white",
            "gridwidth": 2,
            "linecolor": "white",
            "showbackground": true,
            "ticks": "",
            "zerolinecolor": "white"
           },
           "zaxis": {
            "backgroundcolor": "#E5ECF6",
            "gridcolor": "white",
            "gridwidth": 2,
            "linecolor": "white",
            "showbackground": true,
            "ticks": "",
            "zerolinecolor": "white"
           }
          },
          "shapedefaults": {
           "line": {
            "color": "#2a3f5f"
           }
          },
          "ternary": {
           "aaxis": {
            "gridcolor": "white",
            "linecolor": "white",
            "ticks": ""
           },
           "baxis": {
            "gridcolor": "white",
            "linecolor": "white",
            "ticks": ""
           },
           "bgcolor": "#E5ECF6",
           "caxis": {
            "gridcolor": "white",
            "linecolor": "white",
            "ticks": ""
           }
          },
          "title": {
           "x": 0.05
          },
          "xaxis": {
           "automargin": true,
           "gridcolor": "white",
           "linecolor": "white",
           "ticks": "",
           "title": {
            "standoff": 15
           },
           "zerolinecolor": "white",
           "zerolinewidth": 2
          },
          "yaxis": {
           "automargin": true,
           "gridcolor": "white",
           "linecolor": "white",
           "ticks": "",
           "title": {
            "standoff": 15
           },
           "zerolinecolor": "white",
           "zerolinewidth": 2
          }
         }
        },
        "title": {
         "text": "Predicted Emotions for Time Spent: 0-30"
        },
        "updatemenus": [
         {
          "active": 0,
          "buttons": [
           {
            "args": [
             {
              "visible": [
               true,
               false,
               false,
               false,
               false,
               false,
               false
              ]
             },
             {
              "title": "Predicted Emotions for Time Spent: 0-30"
             }
            ],
            "label": "0-30",
            "method": "update"
           },
           {
            "args": [
             {
              "visible": [
               false,
               true,
               false,
               false,
               false,
               false,
               false
              ]
             },
             {
              "title": "Predicted Emotions for Time Spent: 30-60"
             }
            ],
            "label": "30-60",
            "method": "update"
           },
           {
            "args": [
             {
              "visible": [
               false,
               false,
               true,
               false,
               false,
               false,
               false
              ]
             },
             {
              "title": "Predicted Emotions for Time Spent: 60-90"
             }
            ],
            "label": "60-90",
            "method": "update"
           },
           {
            "args": [
             {
              "visible": [
               false,
               false,
               false,
               true,
               false,
               false,
               false
              ]
             },
             {
              "title": "Predicted Emotions for Time Spent: 90-120"
             }
            ],
            "label": "90-120",
            "method": "update"
           },
           {
            "args": [
             {
              "visible": [
               false,
               false,
               false,
               false,
               true,
               false,
               false
              ]
             },
             {
              "title": "Predicted Emotions for Time Spent: 120-150"
             }
            ],
            "label": "120-150",
            "method": "update"
           },
           {
            "args": [
             {
              "visible": [
               false,
               false,
               false,
               false,
               false,
               true,
               false
              ]
             },
             {
              "title": "Predicted Emotions for Time Spent: 150-180"
             }
            ],
            "label": "150-180",
            "method": "update"
           },
           {
            "args": [
             {
              "visible": [
               false,
               false,
               false,
               false,
               false,
               false,
               true
              ]
             },
             {
              "title": "Predicted Emotions for Time Spent: 180+"
             }
            ],
            "label": "180+",
            "method": "update"
           }
          ],
          "x": 0.5,
          "xanchor": "center",
          "y": 1.15,
          "yanchor": "top"
         }
        ],
        "xaxis": {
         "title": {
          "text": "Emotion"
         }
        },
        "yaxis": {
         "title": {
          "text": "Percentage of Users"
         }
        }
       }
      }
     },
     "metadata": {},
     "output_type": "display_data"
    }
   ],
   "source": [
    "# Define emojis and colors for emotions\n",
    "emotion_info = {\n",
    "    'Happiness': {'emoji': '😊', 'color': '#FFD700'},\n",
    "    'Neutral': {'emoji': '😐', 'color': '#A9A9A9'},\n",
    "    'Anxiety': {'emoji': '😰', 'color': '#FF7F50'},\n",
    "    'Sadness': {'emoji': '😢', 'color': '#1E90FF'},\n",
    "    'Boredom': {'emoji': '🥱', 'color': '#C0C0C0'},\n",
    "    'Anger': {'emoji': '😠', 'color': '#DC143C'}\n",
    "}\n",
    "\n",
    "# Create time bins\n",
    "bins = [0, 30, 60, 90, 120, 150, 180, df_test['Daily_Usage_Time (minutes)'].max()]\n",
    "labels = ['0-30', '30-60', '60-90', '90-120', '120-150', '150-180', '180+']\n",
    "df_test['Time_Range'] = pd.cut(df_test['Daily_Usage_Time (minutes)'], bins=bins, labels=labels, right=False)\n",
    "\n",
    "# Group by Time_Range and Predicted_Emotion\n",
    "grouped = df_test.groupby(['Time_Range', 'Predicted_Emotion']).size().reset_index(name='Count')\n",
    "total_per_range = grouped.groupby('Time_Range')['Count'].transform('sum')\n",
    "grouped['Percentage'] = (grouped['Count'] / total_per_range) * 100\n",
    "\n",
    "# Add emoji and color\n",
    "grouped['Labeled_Emotion'] = grouped['Predicted_Emotion'].apply(lambda emo: f\"{emotion_info[emo]['emoji']} {emo}\")\n",
    "grouped['Color'] = grouped['Predicted_Emotion'].apply(lambda emo: emotion_info[emo]['color'])\n",
    "\n",
    "# Create the plot\n",
    "fig = go.Figure()\n",
    "time_ranges = grouped['Time_Range'].unique().tolist()\n",
    "\n",
    "for time_range in time_ranges:\n",
    "    df_range = grouped[grouped['Time_Range'] == time_range]\n",
    "    fig.add_trace(go.Bar(\n",
    "        x=df_range['Labeled_Emotion'],\n",
    "        y=df_range['Percentage'],\n",
    "        name=str(time_range),\n",
    "        visible=(time_range == time_ranges[0]),\n",
    "        text=df_range['Percentage'].round(1).astype(str) + '%',\n",
    "        textposition='auto',\n",
    "        marker_color=df_range['Color']\n",
    "    ))\n",
    "\n",
    "# Dropdown menu\n",
    "dropdown_buttons = [\n",
    "    dict(label=str(r),\n",
    "         method='update',\n",
    "         args=[{'visible': [r == tr for tr in time_ranges]},\n",
    "               {'title': f\"Predicted Emotions for Time Spent: {r}\"}])\n",
    "    for r in time_ranges\n",
    "]\n",
    "\n",
    "fig.update_layout(\n",
    "    title=f\"Predicted Emotions for Time Spent: {time_ranges[0]}\",\n",
    "    xaxis_title=\"Emotion\",\n",
    "    yaxis_title=\"Percentage of Users\",\n",
    "    updatemenus=[dict(\n",
    "        active=0,\n",
    "        buttons=dropdown_buttons,\n",
    "        x=0.5,\n",
    "        xanchor=\"center\",\n",
    "        y=1.15,\n",
    "        yanchor=\"top\"\n",
    "    )],\n",
    "    plot_bgcolor='white'\n",
    ")\n",
    "\n",
    "fig.show()\n"
   ]
  },
  {
   "cell_type": "markdown",
   "id": "4030c7d2",
   "metadata": {},
   "source": [
    "**Plot 3**"
   ]
  },
  {
   "cell_type": "code",
   "execution_count": 44,
   "id": "d7a1a0a2",
   "metadata": {},
   "outputs": [
    {
     "data": {
      "application/vnd.plotly.v1+json": {
       "config": {
        "plotlyServerURL": "https://plot.ly"
       },
       "data": [
        {
         "marker": {
          "color": "steelblue"
         },
         "name": "Male",
         "text": {
          "bdata": "uB6F61G4+j9xPQrXo3AXQAAAAAAAAPg/MzMzMzMzB0Bcj8L1KFwDQAAAAAAAAAhA",
          "dtype": "f8"
         },
         "textfont": {
          "color": "black",
          "family": "Arial Black",
          "size": 12
         },
         "textposition": "outside",
         "type": "bar",
         "visible": true,
         "x": [
          "Facebook",
          "Instagram",
          "LinkedIn",
          "Telegram",
          "Twitter",
          "Whatsapp"
         ],
         "y": {
          "bdata": "q6qqqqqq+j/btm3btm0XQAAAAAAAAPg/MzMzMzMzB0BVVVVVVVUDQAAAAAAAAAhA",
          "dtype": "f8"
         }
        },
        {
         "marker": {
          "color": "mediumvioletred"
         },
         "name": "Female",
         "text": {
          "bdata": "AAAAAAAA8D+PwvUoXI8XQAAAAAAAAPA/MzMzMzMzC0Bcj8L1KFwNQAAAAAAAAAhA",
          "dtype": "f8"
         },
         "textfont": {
          "color": "black",
          "family": "Arial Black",
          "size": 12
         },
         "textposition": "outside",
         "type": "bar",
         "visible": false,
         "x": [
          "Facebook",
          "Instagram",
          "LinkedIn",
          "Snapchat",
          "Twitter",
          "Whatsapp"
         ],
         "y": {
          "bdata": "AAAAAAAA8D/kOI7jOI4XQAAAAAAAAPA/MzMzMzMzC0BVVVVVVVUNQAAAAAAAAAhA",
          "dtype": "f8"
         }
        },
        {
         "marker": {
          "color": "gray"
         },
         "name": "Non-binary",
         "text": {
          "bdata": "rkfhehSuAUAAAAAAAADwPwAAAAAAAARAAAAAAAAAAEAAAAAAAAAIQA==",
          "dtype": "f8"
         },
         "textfont": {
          "color": "black",
          "family": "Arial Black",
          "size": 12
         },
         "textposition": "outside",
         "type": "bar",
         "visible": false,
         "x": [
          "Facebook",
          "LinkedIn",
          "Snapchat",
          "Telegram",
          "Twitter"
         ],
         "y": {
          "bdata": "btu2bdu2AUAAAAAAAADwPwAAAAAAAARAAAAAAAAAAEAAAAAAAAAIQA==",
          "dtype": "f8"
         }
        }
       ],
       "layout": {
        "height": 500,
        "template": {
         "data": {
          "bar": [
           {
            "error_x": {
             "color": "#2a3f5f"
            },
            "error_y": {
             "color": "#2a3f5f"
            },
            "marker": {
             "line": {
              "color": "#E5ECF6",
              "width": 0.5
             },
             "pattern": {
              "fillmode": "overlay",
              "size": 10,
              "solidity": 0.2
             }
            },
            "type": "bar"
           }
          ],
          "barpolar": [
           {
            "marker": {
             "line": {
              "color": "#E5ECF6",
              "width": 0.5
             },
             "pattern": {
              "fillmode": "overlay",
              "size": 10,
              "solidity": 0.2
             }
            },
            "type": "barpolar"
           }
          ],
          "carpet": [
           {
            "aaxis": {
             "endlinecolor": "#2a3f5f",
             "gridcolor": "white",
             "linecolor": "white",
             "minorgridcolor": "white",
             "startlinecolor": "#2a3f5f"
            },
            "baxis": {
             "endlinecolor": "#2a3f5f",
             "gridcolor": "white",
             "linecolor": "white",
             "minorgridcolor": "white",
             "startlinecolor": "#2a3f5f"
            },
            "type": "carpet"
           }
          ],
          "choropleth": [
           {
            "colorbar": {
             "outlinewidth": 0,
             "ticks": ""
            },
            "type": "choropleth"
           }
          ],
          "contour": [
           {
            "colorbar": {
             "outlinewidth": 0,
             "ticks": ""
            },
            "colorscale": [
             [
              0,
              "#0d0887"
             ],
             [
              0.1111111111111111,
              "#46039f"
             ],
             [
              0.2222222222222222,
              "#7201a8"
             ],
             [
              0.3333333333333333,
              "#9c179e"
             ],
             [
              0.4444444444444444,
              "#bd3786"
             ],
             [
              0.5555555555555556,
              "#d8576b"
             ],
             [
              0.6666666666666666,
              "#ed7953"
             ],
             [
              0.7777777777777778,
              "#fb9f3a"
             ],
             [
              0.8888888888888888,
              "#fdca26"
             ],
             [
              1,
              "#f0f921"
             ]
            ],
            "type": "contour"
           }
          ],
          "contourcarpet": [
           {
            "colorbar": {
             "outlinewidth": 0,
             "ticks": ""
            },
            "type": "contourcarpet"
           }
          ],
          "heatmap": [
           {
            "colorbar": {
             "outlinewidth": 0,
             "ticks": ""
            },
            "colorscale": [
             [
              0,
              "#0d0887"
             ],
             [
              0.1111111111111111,
              "#46039f"
             ],
             [
              0.2222222222222222,
              "#7201a8"
             ],
             [
              0.3333333333333333,
              "#9c179e"
             ],
             [
              0.4444444444444444,
              "#bd3786"
             ],
             [
              0.5555555555555556,
              "#d8576b"
             ],
             [
              0.6666666666666666,
              "#ed7953"
             ],
             [
              0.7777777777777778,
              "#fb9f3a"
             ],
             [
              0.8888888888888888,
              "#fdca26"
             ],
             [
              1,
              "#f0f921"
             ]
            ],
            "type": "heatmap"
           }
          ],
          "histogram": [
           {
            "marker": {
             "pattern": {
              "fillmode": "overlay",
              "size": 10,
              "solidity": 0.2
             }
            },
            "type": "histogram"
           }
          ],
          "histogram2d": [
           {
            "colorbar": {
             "outlinewidth": 0,
             "ticks": ""
            },
            "colorscale": [
             [
              0,
              "#0d0887"
             ],
             [
              0.1111111111111111,
              "#46039f"
             ],
             [
              0.2222222222222222,
              "#7201a8"
             ],
             [
              0.3333333333333333,
              "#9c179e"
             ],
             [
              0.4444444444444444,
              "#bd3786"
             ],
             [
              0.5555555555555556,
              "#d8576b"
             ],
             [
              0.6666666666666666,
              "#ed7953"
             ],
             [
              0.7777777777777778,
              "#fb9f3a"
             ],
             [
              0.8888888888888888,
              "#fdca26"
             ],
             [
              1,
              "#f0f921"
             ]
            ],
            "type": "histogram2d"
           }
          ],
          "histogram2dcontour": [
           {
            "colorbar": {
             "outlinewidth": 0,
             "ticks": ""
            },
            "colorscale": [
             [
              0,
              "#0d0887"
             ],
             [
              0.1111111111111111,
              "#46039f"
             ],
             [
              0.2222222222222222,
              "#7201a8"
             ],
             [
              0.3333333333333333,
              "#9c179e"
             ],
             [
              0.4444444444444444,
              "#bd3786"
             ],
             [
              0.5555555555555556,
              "#d8576b"
             ],
             [
              0.6666666666666666,
              "#ed7953"
             ],
             [
              0.7777777777777778,
              "#fb9f3a"
             ],
             [
              0.8888888888888888,
              "#fdca26"
             ],
             [
              1,
              "#f0f921"
             ]
            ],
            "type": "histogram2dcontour"
           }
          ],
          "mesh3d": [
           {
            "colorbar": {
             "outlinewidth": 0,
             "ticks": ""
            },
            "type": "mesh3d"
           }
          ],
          "parcoords": [
           {
            "line": {
             "colorbar": {
              "outlinewidth": 0,
              "ticks": ""
             }
            },
            "type": "parcoords"
           }
          ],
          "pie": [
           {
            "automargin": true,
            "type": "pie"
           }
          ],
          "scatter": [
           {
            "fillpattern": {
             "fillmode": "overlay",
             "size": 10,
             "solidity": 0.2
            },
            "type": "scatter"
           }
          ],
          "scatter3d": [
           {
            "line": {
             "colorbar": {
              "outlinewidth": 0,
              "ticks": ""
             }
            },
            "marker": {
             "colorbar": {
              "outlinewidth": 0,
              "ticks": ""
             }
            },
            "type": "scatter3d"
           }
          ],
          "scattercarpet": [
           {
            "marker": {
             "colorbar": {
              "outlinewidth": 0,
              "ticks": ""
             }
            },
            "type": "scattercarpet"
           }
          ],
          "scattergeo": [
           {
            "marker": {
             "colorbar": {
              "outlinewidth": 0,
              "ticks": ""
             }
            },
            "type": "scattergeo"
           }
          ],
          "scattergl": [
           {
            "marker": {
             "colorbar": {
              "outlinewidth": 0,
              "ticks": ""
             }
            },
            "type": "scattergl"
           }
          ],
          "scattermap": [
           {
            "marker": {
             "colorbar": {
              "outlinewidth": 0,
              "ticks": ""
             }
            },
            "type": "scattermap"
           }
          ],
          "scattermapbox": [
           {
            "marker": {
             "colorbar": {
              "outlinewidth": 0,
              "ticks": ""
             }
            },
            "type": "scattermapbox"
           }
          ],
          "scatterpolar": [
           {
            "marker": {
             "colorbar": {
              "outlinewidth": 0,
              "ticks": ""
             }
            },
            "type": "scatterpolar"
           }
          ],
          "scatterpolargl": [
           {
            "marker": {
             "colorbar": {
              "outlinewidth": 0,
              "ticks": ""
             }
            },
            "type": "scatterpolargl"
           }
          ],
          "scatterternary": [
           {
            "marker": {
             "colorbar": {
              "outlinewidth": 0,
              "ticks": ""
             }
            },
            "type": "scatterternary"
           }
          ],
          "surface": [
           {
            "colorbar": {
             "outlinewidth": 0,
             "ticks": ""
            },
            "colorscale": [
             [
              0,
              "#0d0887"
             ],
             [
              0.1111111111111111,
              "#46039f"
             ],
             [
              0.2222222222222222,
              "#7201a8"
             ],
             [
              0.3333333333333333,
              "#9c179e"
             ],
             [
              0.4444444444444444,
              "#bd3786"
             ],
             [
              0.5555555555555556,
              "#d8576b"
             ],
             [
              0.6666666666666666,
              "#ed7953"
             ],
             [
              0.7777777777777778,
              "#fb9f3a"
             ],
             [
              0.8888888888888888,
              "#fdca26"
             ],
             [
              1,
              "#f0f921"
             ]
            ],
            "type": "surface"
           }
          ],
          "table": [
           {
            "cells": {
             "fill": {
              "color": "#EBF0F8"
             },
             "line": {
              "color": "white"
             }
            },
            "header": {
             "fill": {
              "color": "#C8D4E3"
             },
             "line": {
              "color": "white"
             }
            },
            "type": "table"
           }
          ]
         },
         "layout": {
          "annotationdefaults": {
           "arrowcolor": "#2a3f5f",
           "arrowhead": 0,
           "arrowwidth": 1
          },
          "autotypenumbers": "strict",
          "coloraxis": {
           "colorbar": {
            "outlinewidth": 0,
            "ticks": ""
           }
          },
          "colorscale": {
           "diverging": [
            [
             0,
             "#8e0152"
            ],
            [
             0.1,
             "#c51b7d"
            ],
            [
             0.2,
             "#de77ae"
            ],
            [
             0.3,
             "#f1b6da"
            ],
            [
             0.4,
             "#fde0ef"
            ],
            [
             0.5,
             "#f7f7f7"
            ],
            [
             0.6,
             "#e6f5d0"
            ],
            [
             0.7,
             "#b8e186"
            ],
            [
             0.8,
             "#7fbc41"
            ],
            [
             0.9,
             "#4d9221"
            ],
            [
             1,
             "#276419"
            ]
           ],
           "sequential": [
            [
             0,
             "#0d0887"
            ],
            [
             0.1111111111111111,
             "#46039f"
            ],
            [
             0.2222222222222222,
             "#7201a8"
            ],
            [
             0.3333333333333333,
             "#9c179e"
            ],
            [
             0.4444444444444444,
             "#bd3786"
            ],
            [
             0.5555555555555556,
             "#d8576b"
            ],
            [
             0.6666666666666666,
             "#ed7953"
            ],
            [
             0.7777777777777778,
             "#fb9f3a"
            ],
            [
             0.8888888888888888,
             "#fdca26"
            ],
            [
             1,
             "#f0f921"
            ]
           ],
           "sequentialminus": [
            [
             0,
             "#0d0887"
            ],
            [
             0.1111111111111111,
             "#46039f"
            ],
            [
             0.2222222222222222,
             "#7201a8"
            ],
            [
             0.3333333333333333,
             "#9c179e"
            ],
            [
             0.4444444444444444,
             "#bd3786"
            ],
            [
             0.5555555555555556,
             "#d8576b"
            ],
            [
             0.6666666666666666,
             "#ed7953"
            ],
            [
             0.7777777777777778,
             "#fb9f3a"
            ],
            [
             0.8888888888888888,
             "#fdca26"
            ],
            [
             1,
             "#f0f921"
            ]
           ]
          },
          "colorway": [
           "#636efa",
           "#EF553B",
           "#00cc96",
           "#ab63fa",
           "#FFA15A",
           "#19d3f3",
           "#FF6692",
           "#B6E880",
           "#FF97FF",
           "#FECB52"
          ],
          "font": {
           "color": "#2a3f5f"
          },
          "geo": {
           "bgcolor": "white",
           "lakecolor": "white",
           "landcolor": "#E5ECF6",
           "showlakes": true,
           "showland": true,
           "subunitcolor": "white"
          },
          "hoverlabel": {
           "align": "left"
          },
          "hovermode": "closest",
          "mapbox": {
           "style": "light"
          },
          "paper_bgcolor": "white",
          "plot_bgcolor": "#E5ECF6",
          "polar": {
           "angularaxis": {
            "gridcolor": "white",
            "linecolor": "white",
            "ticks": ""
           },
           "bgcolor": "#E5ECF6",
           "radialaxis": {
            "gridcolor": "white",
            "linecolor": "white",
            "ticks": ""
           }
          },
          "scene": {
           "xaxis": {
            "backgroundcolor": "#E5ECF6",
            "gridcolor": "white",
            "gridwidth": 2,
            "linecolor": "white",
            "showbackground": true,
            "ticks": "",
            "zerolinecolor": "white"
           },
           "yaxis": {
            "backgroundcolor": "#E5ECF6",
            "gridcolor": "white",
            "gridwidth": 2,
            "linecolor": "white",
            "showbackground": true,
            "ticks": "",
            "zerolinecolor": "white"
           },
           "zaxis": {
            "backgroundcolor": "#E5ECF6",
            "gridcolor": "white",
            "gridwidth": 2,
            "linecolor": "white",
            "showbackground": true,
            "ticks": "",
            "zerolinecolor": "white"
           }
          },
          "shapedefaults": {
           "line": {
            "color": "#2a3f5f"
           }
          },
          "ternary": {
           "aaxis": {
            "gridcolor": "white",
            "linecolor": "white",
            "ticks": ""
           },
           "baxis": {
            "gridcolor": "white",
            "linecolor": "white",
            "ticks": ""
           },
           "bgcolor": "#E5ECF6",
           "caxis": {
            "gridcolor": "white",
            "linecolor": "white",
            "ticks": ""
           }
          },
          "title": {
           "x": 0.05
          },
          "xaxis": {
           "automargin": true,
           "gridcolor": "white",
           "linecolor": "white",
           "ticks": "",
           "title": {
            "standoff": 15
           },
           "zerolinecolor": "white",
           "zerolinewidth": 2
          },
          "yaxis": {
           "automargin": true,
           "gridcolor": "white",
           "linecolor": "white",
           "ticks": "",
           "title": {
            "standoff": 15
           },
           "zerolinecolor": "white",
           "zerolinewidth": 2
          }
         }
        },
        "title": {
         "text": "Avg Posts Per Day by Platform (Predicted) - Male"
        },
        "uniformtext": {
         "minsize": 8,
         "mode": "hide"
        },
        "updatemenus": [
         {
          "active": 0,
          "buttons": [
           {
            "args": [
             {
              "visible": [
               true,
               false,
               false
              ]
             },
             {
              "title": "Avg Posts Per Day by Platform (Predicted) - Male"
             }
            ],
            "label": "Male",
            "method": "update"
           },
           {
            "args": [
             {
              "visible": [
               false,
               true,
               false
              ]
             },
             {
              "title": "Avg Posts Per Day by Platform (Predicted) - Female"
             }
            ],
            "label": "Female",
            "method": "update"
           },
           {
            "args": [
             {
              "visible": [
               false,
               false,
               true
              ]
             },
             {
              "title": "Avg Posts Per Day by Platform (Predicted) - Non-binary"
             }
            ],
            "label": "Non-binary",
            "method": "update"
           }
          ],
          "x": 0.1,
          "xanchor": "left",
          "y": 1.15,
          "yanchor": "top"
         }
        ],
        "width": 800,
        "xaxis": {
         "tickfont": {
          "color": "black",
          "family": "Arial",
          "size": 14
         },
         "title": {
          "text": "Platform"
         }
        },
        "yaxis": {
         "tickfont": {
          "color": "black",
          "family": "Arial",
          "size": 12
         },
         "title": {
          "text": "Avg Posts Per Day"
         }
        }
       }
      }
     },
     "metadata": {},
     "output_type": "display_data"
    }
   ],
   "source": [
    "# Now use df_test (filtered test data with predicted labels) for plotting\n",
    "avg_posts = df_test.groupby(['Platform', 'Gender'])['Posts_Per_Day'].mean().reset_index()\n",
    "\n",
    "platforms = avg_posts['Platform'].unique()\n",
    "\n",
    "ordered_genders = ['Male', 'Female', 'Non-binary']\n",
    "\n",
    "gender_colors = {\n",
    "    'Male': 'steelblue',\n",
    "    'Female': 'mediumvioletred',\n",
    "    'Other': 'seagreen'\n",
    "}\n",
    "\n",
    "fig = go.Figure()\n",
    "\n",
    "for gender in ordered_genders:\n",
    "    gender_data = avg_posts[avg_posts['Gender'] == gender]\n",
    "    fig.add_trace(\n",
    "        go.Bar(\n",
    "            x=gender_data['Platform'],\n",
    "            y=gender_data['Posts_Per_Day'],\n",
    "            name=gender,\n",
    "            marker_color=gender_colors.get(gender, 'gray'),\n",
    "            text=gender_data['Posts_Per_Day'].round(2),\n",
    "            textposition='outside',\n",
    "            textfont=dict(color='black', size=12, family='Arial Black'),\n",
    "            visible=(gender == 'Male')  # Default visibility\n",
    "        )\n",
    "    )\n",
    "\n",
    "# Create buttons for dropdown\n",
    "buttons = []\n",
    "for i, gender in enumerate(ordered_genders):\n",
    "    visibility = [False] * len(genders)\n",
    "    visibility[i] = True\n",
    "    buttons.append(\n",
    "        dict(\n",
    "            label=gender,\n",
    "            method=\"update\",\n",
    "            args=[\n",
    "                {\"visible\": visibility},\n",
    "                {\"title\": f\"Avg Posts Per Day by Platform (Predicted) - {gender}\"}\n",
    "            ]\n",
    "        )\n",
    "    )\n",
    "\n",
    "# Layout\n",
    "fig.update_layout(\n",
    "    title=\"Avg Posts Per Day by Platform (Predicted) - Male\",\n",
    "    xaxis=dict(\n",
    "        title=\"Platform\",\n",
    "        tickfont=dict(family='Arial', size=14, color='black')\n",
    "    ),\n",
    "    yaxis=dict(\n",
    "        title=\"Avg Posts Per Day\",\n",
    "        tickfont=dict(family='Arial', size=12, color='black')\n",
    "    ),\n",
    "    width=800,\n",
    "    height=500,\n",
    "    updatemenus=[\n",
    "        dict(\n",
    "            active=0,\n",
    "            buttons=buttons,\n",
    "            x=0.1,\n",
    "            xanchor=\"left\",\n",
    "            y=1.15,\n",
    "            yanchor=\"top\"\n",
    "        )\n",
    "    ],\n",
    "    uniformtext_minsize=8,\n",
    "    uniformtext_mode='hide'\n",
    ")\n",
    "\n",
    "fig.show()\n"
   ]
  },
  {
   "cell_type": "markdown",
   "id": "3ce380a7",
   "metadata": {},
   "source": [
    "**Plot 4**"
   ]
  },
  {
   "cell_type": "code",
   "execution_count": 45,
   "id": "8f520915",
   "metadata": {},
   "outputs": [
    {
     "data": {
      "application/vnd.plotly.v1+json": {
       "config": {
        "plotlyServerURL": "https://plot.ly"
       },
       "data": [
        {
         "name": "Column Plot",
         "type": "bar",
         "visible": true,
         "x": [
          "Facebook",
          "Twitter",
          "Instagram",
          "LinkedIn",
          "Snapchat",
          "Telegram",
          "Whatsapp"
         ],
         "y": {
          "bdata": "GRMQDw0LBA==",
          "dtype": "i1"
         }
        },
        {
         "name": "Bar Plot",
         "orientation": "h",
         "type": "bar",
         "visible": false,
         "x": {
          "bdata": "GRMQDw0LBA==",
          "dtype": "i1"
         },
         "y": [
          "Facebook",
          "Twitter",
          "Instagram",
          "LinkedIn",
          "Snapchat",
          "Telegram",
          "Whatsapp"
         ]
        }
       ],
       "layout": {
        "template": {
         "data": {
          "bar": [
           {
            "error_x": {
             "color": "#2a3f5f"
            },
            "error_y": {
             "color": "#2a3f5f"
            },
            "marker": {
             "line": {
              "color": "#E5ECF6",
              "width": 0.5
             },
             "pattern": {
              "fillmode": "overlay",
              "size": 10,
              "solidity": 0.2
             }
            },
            "type": "bar"
           }
          ],
          "barpolar": [
           {
            "marker": {
             "line": {
              "color": "#E5ECF6",
              "width": 0.5
             },
             "pattern": {
              "fillmode": "overlay",
              "size": 10,
              "solidity": 0.2
             }
            },
            "type": "barpolar"
           }
          ],
          "carpet": [
           {
            "aaxis": {
             "endlinecolor": "#2a3f5f",
             "gridcolor": "white",
             "linecolor": "white",
             "minorgridcolor": "white",
             "startlinecolor": "#2a3f5f"
            },
            "baxis": {
             "endlinecolor": "#2a3f5f",
             "gridcolor": "white",
             "linecolor": "white",
             "minorgridcolor": "white",
             "startlinecolor": "#2a3f5f"
            },
            "type": "carpet"
           }
          ],
          "choropleth": [
           {
            "colorbar": {
             "outlinewidth": 0,
             "ticks": ""
            },
            "type": "choropleth"
           }
          ],
          "contour": [
           {
            "colorbar": {
             "outlinewidth": 0,
             "ticks": ""
            },
            "colorscale": [
             [
              0,
              "#0d0887"
             ],
             [
              0.1111111111111111,
              "#46039f"
             ],
             [
              0.2222222222222222,
              "#7201a8"
             ],
             [
              0.3333333333333333,
              "#9c179e"
             ],
             [
              0.4444444444444444,
              "#bd3786"
             ],
             [
              0.5555555555555556,
              "#d8576b"
             ],
             [
              0.6666666666666666,
              "#ed7953"
             ],
             [
              0.7777777777777778,
              "#fb9f3a"
             ],
             [
              0.8888888888888888,
              "#fdca26"
             ],
             [
              1,
              "#f0f921"
             ]
            ],
            "type": "contour"
           }
          ],
          "contourcarpet": [
           {
            "colorbar": {
             "outlinewidth": 0,
             "ticks": ""
            },
            "type": "contourcarpet"
           }
          ],
          "heatmap": [
           {
            "colorbar": {
             "outlinewidth": 0,
             "ticks": ""
            },
            "colorscale": [
             [
              0,
              "#0d0887"
             ],
             [
              0.1111111111111111,
              "#46039f"
             ],
             [
              0.2222222222222222,
              "#7201a8"
             ],
             [
              0.3333333333333333,
              "#9c179e"
             ],
             [
              0.4444444444444444,
              "#bd3786"
             ],
             [
              0.5555555555555556,
              "#d8576b"
             ],
             [
              0.6666666666666666,
              "#ed7953"
             ],
             [
              0.7777777777777778,
              "#fb9f3a"
             ],
             [
              0.8888888888888888,
              "#fdca26"
             ],
             [
              1,
              "#f0f921"
             ]
            ],
            "type": "heatmap"
           }
          ],
          "histogram": [
           {
            "marker": {
             "pattern": {
              "fillmode": "overlay",
              "size": 10,
              "solidity": 0.2
             }
            },
            "type": "histogram"
           }
          ],
          "histogram2d": [
           {
            "colorbar": {
             "outlinewidth": 0,
             "ticks": ""
            },
            "colorscale": [
             [
              0,
              "#0d0887"
             ],
             [
              0.1111111111111111,
              "#46039f"
             ],
             [
              0.2222222222222222,
              "#7201a8"
             ],
             [
              0.3333333333333333,
              "#9c179e"
             ],
             [
              0.4444444444444444,
              "#bd3786"
             ],
             [
              0.5555555555555556,
              "#d8576b"
             ],
             [
              0.6666666666666666,
              "#ed7953"
             ],
             [
              0.7777777777777778,
              "#fb9f3a"
             ],
             [
              0.8888888888888888,
              "#fdca26"
             ],
             [
              1,
              "#f0f921"
             ]
            ],
            "type": "histogram2d"
           }
          ],
          "histogram2dcontour": [
           {
            "colorbar": {
             "outlinewidth": 0,
             "ticks": ""
            },
            "colorscale": [
             [
              0,
              "#0d0887"
             ],
             [
              0.1111111111111111,
              "#46039f"
             ],
             [
              0.2222222222222222,
              "#7201a8"
             ],
             [
              0.3333333333333333,
              "#9c179e"
             ],
             [
              0.4444444444444444,
              "#bd3786"
             ],
             [
              0.5555555555555556,
              "#d8576b"
             ],
             [
              0.6666666666666666,
              "#ed7953"
             ],
             [
              0.7777777777777778,
              "#fb9f3a"
             ],
             [
              0.8888888888888888,
              "#fdca26"
             ],
             [
              1,
              "#f0f921"
             ]
            ],
            "type": "histogram2dcontour"
           }
          ],
          "mesh3d": [
           {
            "colorbar": {
             "outlinewidth": 0,
             "ticks": ""
            },
            "type": "mesh3d"
           }
          ],
          "parcoords": [
           {
            "line": {
             "colorbar": {
              "outlinewidth": 0,
              "ticks": ""
             }
            },
            "type": "parcoords"
           }
          ],
          "pie": [
           {
            "automargin": true,
            "type": "pie"
           }
          ],
          "scatter": [
           {
            "fillpattern": {
             "fillmode": "overlay",
             "size": 10,
             "solidity": 0.2
            },
            "type": "scatter"
           }
          ],
          "scatter3d": [
           {
            "line": {
             "colorbar": {
              "outlinewidth": 0,
              "ticks": ""
             }
            },
            "marker": {
             "colorbar": {
              "outlinewidth": 0,
              "ticks": ""
             }
            },
            "type": "scatter3d"
           }
          ],
          "scattercarpet": [
           {
            "marker": {
             "colorbar": {
              "outlinewidth": 0,
              "ticks": ""
             }
            },
            "type": "scattercarpet"
           }
          ],
          "scattergeo": [
           {
            "marker": {
             "colorbar": {
              "outlinewidth": 0,
              "ticks": ""
             }
            },
            "type": "scattergeo"
           }
          ],
          "scattergl": [
           {
            "marker": {
             "colorbar": {
              "outlinewidth": 0,
              "ticks": ""
             }
            },
            "type": "scattergl"
           }
          ],
          "scattermap": [
           {
            "marker": {
             "colorbar": {
              "outlinewidth": 0,
              "ticks": ""
             }
            },
            "type": "scattermap"
           }
          ],
          "scattermapbox": [
           {
            "marker": {
             "colorbar": {
              "outlinewidth": 0,
              "ticks": ""
             }
            },
            "type": "scattermapbox"
           }
          ],
          "scatterpolar": [
           {
            "marker": {
             "colorbar": {
              "outlinewidth": 0,
              "ticks": ""
             }
            },
            "type": "scatterpolar"
           }
          ],
          "scatterpolargl": [
           {
            "marker": {
             "colorbar": {
              "outlinewidth": 0,
              "ticks": ""
             }
            },
            "type": "scatterpolargl"
           }
          ],
          "scatterternary": [
           {
            "marker": {
             "colorbar": {
              "outlinewidth": 0,
              "ticks": ""
             }
            },
            "type": "scatterternary"
           }
          ],
          "surface": [
           {
            "colorbar": {
             "outlinewidth": 0,
             "ticks": ""
            },
            "colorscale": [
             [
              0,
              "#0d0887"
             ],
             [
              0.1111111111111111,
              "#46039f"
             ],
             [
              0.2222222222222222,
              "#7201a8"
             ],
             [
              0.3333333333333333,
              "#9c179e"
             ],
             [
              0.4444444444444444,
              "#bd3786"
             ],
             [
              0.5555555555555556,
              "#d8576b"
             ],
             [
              0.6666666666666666,
              "#ed7953"
             ],
             [
              0.7777777777777778,
              "#fb9f3a"
             ],
             [
              0.8888888888888888,
              "#fdca26"
             ],
             [
              1,
              "#f0f921"
             ]
            ],
            "type": "surface"
           }
          ],
          "table": [
           {
            "cells": {
             "fill": {
              "color": "#EBF0F8"
             },
             "line": {
              "color": "white"
             }
            },
            "header": {
             "fill": {
              "color": "#C8D4E3"
             },
             "line": {
              "color": "white"
             }
            },
            "type": "table"
           }
          ]
         },
         "layout": {
          "annotationdefaults": {
           "arrowcolor": "#2a3f5f",
           "arrowhead": 0,
           "arrowwidth": 1
          },
          "autotypenumbers": "strict",
          "coloraxis": {
           "colorbar": {
            "outlinewidth": 0,
            "ticks": ""
           }
          },
          "colorscale": {
           "diverging": [
            [
             0,
             "#8e0152"
            ],
            [
             0.1,
             "#c51b7d"
            ],
            [
             0.2,
             "#de77ae"
            ],
            [
             0.3,
             "#f1b6da"
            ],
            [
             0.4,
             "#fde0ef"
            ],
            [
             0.5,
             "#f7f7f7"
            ],
            [
             0.6,
             "#e6f5d0"
            ],
            [
             0.7,
             "#b8e186"
            ],
            [
             0.8,
             "#7fbc41"
            ],
            [
             0.9,
             "#4d9221"
            ],
            [
             1,
             "#276419"
            ]
           ],
           "sequential": [
            [
             0,
             "#0d0887"
            ],
            [
             0.1111111111111111,
             "#46039f"
            ],
            [
             0.2222222222222222,
             "#7201a8"
            ],
            [
             0.3333333333333333,
             "#9c179e"
            ],
            [
             0.4444444444444444,
             "#bd3786"
            ],
            [
             0.5555555555555556,
             "#d8576b"
            ],
            [
             0.6666666666666666,
             "#ed7953"
            ],
            [
             0.7777777777777778,
             "#fb9f3a"
            ],
            [
             0.8888888888888888,
             "#fdca26"
            ],
            [
             1,
             "#f0f921"
            ]
           ],
           "sequentialminus": [
            [
             0,
             "#0d0887"
            ],
            [
             0.1111111111111111,
             "#46039f"
            ],
            [
             0.2222222222222222,
             "#7201a8"
            ],
            [
             0.3333333333333333,
             "#9c179e"
            ],
            [
             0.4444444444444444,
             "#bd3786"
            ],
            [
             0.5555555555555556,
             "#d8576b"
            ],
            [
             0.6666666666666666,
             "#ed7953"
            ],
            [
             0.7777777777777778,
             "#fb9f3a"
            ],
            [
             0.8888888888888888,
             "#fdca26"
            ],
            [
             1,
             "#f0f921"
            ]
           ]
          },
          "colorway": [
           "#636efa",
           "#EF553B",
           "#00cc96",
           "#ab63fa",
           "#FFA15A",
           "#19d3f3",
           "#FF6692",
           "#B6E880",
           "#FF97FF",
           "#FECB52"
          ],
          "font": {
           "color": "#2a3f5f"
          },
          "geo": {
           "bgcolor": "white",
           "lakecolor": "white",
           "landcolor": "#E5ECF6",
           "showlakes": true,
           "showland": true,
           "subunitcolor": "white"
          },
          "hoverlabel": {
           "align": "left"
          },
          "hovermode": "closest",
          "mapbox": {
           "style": "light"
          },
          "paper_bgcolor": "white",
          "plot_bgcolor": "#E5ECF6",
          "polar": {
           "angularaxis": {
            "gridcolor": "white",
            "linecolor": "white",
            "ticks": ""
           },
           "bgcolor": "#E5ECF6",
           "radialaxis": {
            "gridcolor": "white",
            "linecolor": "white",
            "ticks": ""
           }
          },
          "scene": {
           "xaxis": {
            "backgroundcolor": "#E5ECF6",
            "gridcolor": "white",
            "gridwidth": 2,
            "linecolor": "white",
            "showbackground": true,
            "ticks": "",
            "zerolinecolor": "white"
           },
           "yaxis": {
            "backgroundcolor": "#E5ECF6",
            "gridcolor": "white",
            "gridwidth": 2,
            "linecolor": "white",
            "showbackground": true,
            "ticks": "",
            "zerolinecolor": "white"
           },
           "zaxis": {
            "backgroundcolor": "#E5ECF6",
            "gridcolor": "white",
            "gridwidth": 2,
            "linecolor": "white",
            "showbackground": true,
            "ticks": "",
            "zerolinecolor": "white"
           }
          },
          "shapedefaults": {
           "line": {
            "color": "#2a3f5f"
           }
          },
          "ternary": {
           "aaxis": {
            "gridcolor": "white",
            "linecolor": "white",
            "ticks": ""
           },
           "baxis": {
            "gridcolor": "white",
            "linecolor": "white",
            "ticks": ""
           },
           "bgcolor": "#E5ECF6",
           "caxis": {
            "gridcolor": "white",
            "linecolor": "white",
            "ticks": ""
           }
          },
          "title": {
           "x": 0.05
          },
          "xaxis": {
           "automargin": true,
           "gridcolor": "white",
           "linecolor": "white",
           "ticks": "",
           "title": {
            "standoff": 15
           },
           "zerolinecolor": "white",
           "zerolinewidth": 2
          },
          "yaxis": {
           "automargin": true,
           "gridcolor": "white",
           "linecolor": "white",
           "ticks": "",
           "title": {
            "standoff": 15
           },
           "zerolinecolor": "white",
           "zerolinewidth": 2
          }
         }
        },
        "title": {
         "text": "Most Popular Platforms (Predicted) - Column Chart"
        },
        "updatemenus": [
         {
          "active": 0,
          "buttons": [
           {
            "args": [
             {
              "visible": [
               true,
               false
              ]
             },
             {
              "title": "Most Popular Platforms (Predicted) - Column Chart",
              "xaxis": {
               "title": "Platform"
              },
              "yaxis": {
               "title": "Number of Users"
              }
             }
            ],
            "label": "Column Plot",
            "method": "update"
           },
           {
            "args": [
             {
              "visible": [
               false,
               true
              ]
             },
             {
              "title": "Most Popular Platforms (Predicted) - Bar Chart",
              "xaxis": {
               "title": "Number of Users"
              },
              "yaxis": {
               "title": "Platform"
              }
             }
            ],
            "label": "Bar Plot",
            "method": "update"
           }
          ],
          "direction": "down",
          "x": 0.5,
          "xanchor": "center",
          "y": 1.15,
          "yanchor": "top"
         }
        ],
        "xaxis": {
         "title": {
          "text": "Platform"
         }
        },
        "yaxis": {
         "title": {
          "text": "Number of Users"
         }
        }
       }
      }
     },
     "metadata": {},
     "output_type": "display_data"
    }
   ],
   "source": [
    "# Count number of users per platform (based on test set)\n",
    "platform_counts = df_test['Platform'].value_counts().reset_index()\n",
    "platform_counts.columns = ['Platform', 'Number of Users']\n",
    "\n",
    "# Create figure with both vertical and horizontal bar chart options\n",
    "fig = go.Figure()\n",
    "\n",
    "# Vertical bar chart\n",
    "fig.add_trace(\n",
    "    go.Bar(\n",
    "        x=platform_counts['Platform'],\n",
    "        y=platform_counts['Number of Users'],\n",
    "        name='Column Plot',\n",
    "        visible=True\n",
    "    )\n",
    ")\n",
    "\n",
    "# Horizontal bar chart\n",
    "fig.add_trace(\n",
    "    go.Bar(\n",
    "        x=platform_counts['Number of Users'],\n",
    "        y=platform_counts['Platform'],\n",
    "        orientation='h',\n",
    "        name='Bar Plot',\n",
    "        visible=False\n",
    "    )\n",
    ")\n",
    "\n",
    "# Add dropdown menu for toggling\n",
    "fig.update_layout(\n",
    "    updatemenus=[\n",
    "        dict(\n",
    "            active=0,\n",
    "            buttons=[\n",
    "                dict(label=\"Column Plot\",\n",
    "                     method=\"update\",\n",
    "                     args=[{\"visible\": [True, False]},\n",
    "                           {\"title\": \"Most Popular Platforms (Predicted) - Column Chart\",\n",
    "                            \"xaxis\": {\"title\": \"Platform\"},\n",
    "                            \"yaxis\": {\"title\": \"Number of Users\"}}]),\n",
    "                dict(label=\"Bar Plot\",\n",
    "                     method=\"update\",\n",
    "                     args=[{\"visible\": [False, True]},\n",
    "                           {\"title\": \"Most Popular Platforms (Predicted) - Bar Chart\",\n",
    "                            \"xaxis\": {\"title\": \"Number of Users\"},\n",
    "                            \"yaxis\": {\"title\": \"Platform\"}}])\n",
    "            ],\n",
    "            direction=\"down\",\n",
    "            x=0.5,\n",
    "            xanchor=\"center\",\n",
    "            y=1.15,\n",
    "            yanchor=\"top\"\n",
    "        )\n",
    "    ],\n",
    "    title=\"Most Popular Platforms (Predicted) - Column Chart\",\n",
    "    xaxis_title=\"Platform\",\n",
    "    yaxis_title=\"Number of Users\"\n",
    ")\n",
    "\n",
    "fig.show()\n"
   ]
  },
  {
   "cell_type": "markdown",
   "id": "119d59b7",
   "metadata": {},
   "source": [
    "**Plot 5**"
   ]
  },
  {
   "cell_type": "code",
   "execution_count": 46,
   "id": "3ba11d39",
   "metadata": {},
   "outputs": [
    {
     "data": {
      "application/vnd.plotly.v1+json": {
       "config": {
        "plotlyServerURL": "https://plot.ly"
       },
       "data": [
        {
         "marker": {
          "color": "#66c2a5"
         },
         "name": "Likes",
         "type": "bar",
         "visible": true,
         "x": [
          "Anger",
          "Anxiety",
          "Boredom",
          "Happiness",
          "Neutral",
          "Sadness"
         ],
         "y": {
          "bdata": "VVVVVVXVQUB6nud5nmdBQAAAAAAAACtARERERETEUUDHcRzHcRw7QFVVVVVVVTlA",
          "dtype": "f8"
         }
        },
        {
         "marker": {
          "color": "#fc8d62"
         },
         "name": "Comments",
         "type": "bar",
         "visible": false,
         "x": [
          "Anger",
          "Anxiety",
          "Boredom",
          "Happiness",
          "Neutral",
          "Sadness"
         ],
         "y": {
          "bdata": "juM4juM4MUC3bdu2bdssQAAAAAAAgBlAiYiIiIiIOUC+hPYS2ksmQDMzMzMzMydA",
          "dtype": "f8"
         }
        },
        {
         "marker": {
          "color": "#66c2a5"
         },
         "name": "Likes (Stacked)",
         "type": "bar",
         "visible": false,
         "x": [
          "Anger",
          "Anxiety",
          "Boredom",
          "Happiness",
          "Neutral",
          "Sadness"
         ],
         "y": {
          "bdata": "VVVVVVXVQUB6nud5nmdBQAAAAAAAACtARERERETEUUDHcRzHcRw7QFVVVVVVVTlA",
          "dtype": "f8"
         }
        },
        {
         "marker": {
          "color": "#fc8d62"
         },
         "name": "Comments (Stacked)",
         "type": "bar",
         "visible": false,
         "x": [
          "Anger",
          "Anxiety",
          "Boredom",
          "Happiness",
          "Neutral",
          "Sadness"
         ],
         "y": {
          "bdata": "juM4juM4MUC3bdu2bdssQAAAAAAAgBlAiYiIiIiIOUC+hPYS2ksmQDMzMzMzMydA",
          "dtype": "f8"
         }
        }
       ],
       "layout": {
        "template": {
         "data": {
          "bar": [
           {
            "error_x": {
             "color": "#2a3f5f"
            },
            "error_y": {
             "color": "#2a3f5f"
            },
            "marker": {
             "line": {
              "color": "#E5ECF6",
              "width": 0.5
             },
             "pattern": {
              "fillmode": "overlay",
              "size": 10,
              "solidity": 0.2
             }
            },
            "type": "bar"
           }
          ],
          "barpolar": [
           {
            "marker": {
             "line": {
              "color": "#E5ECF6",
              "width": 0.5
             },
             "pattern": {
              "fillmode": "overlay",
              "size": 10,
              "solidity": 0.2
             }
            },
            "type": "barpolar"
           }
          ],
          "carpet": [
           {
            "aaxis": {
             "endlinecolor": "#2a3f5f",
             "gridcolor": "white",
             "linecolor": "white",
             "minorgridcolor": "white",
             "startlinecolor": "#2a3f5f"
            },
            "baxis": {
             "endlinecolor": "#2a3f5f",
             "gridcolor": "white",
             "linecolor": "white",
             "minorgridcolor": "white",
             "startlinecolor": "#2a3f5f"
            },
            "type": "carpet"
           }
          ],
          "choropleth": [
           {
            "colorbar": {
             "outlinewidth": 0,
             "ticks": ""
            },
            "type": "choropleth"
           }
          ],
          "contour": [
           {
            "colorbar": {
             "outlinewidth": 0,
             "ticks": ""
            },
            "colorscale": [
             [
              0,
              "#0d0887"
             ],
             [
              0.1111111111111111,
              "#46039f"
             ],
             [
              0.2222222222222222,
              "#7201a8"
             ],
             [
              0.3333333333333333,
              "#9c179e"
             ],
             [
              0.4444444444444444,
              "#bd3786"
             ],
             [
              0.5555555555555556,
              "#d8576b"
             ],
             [
              0.6666666666666666,
              "#ed7953"
             ],
             [
              0.7777777777777778,
              "#fb9f3a"
             ],
             [
              0.8888888888888888,
              "#fdca26"
             ],
             [
              1,
              "#f0f921"
             ]
            ],
            "type": "contour"
           }
          ],
          "contourcarpet": [
           {
            "colorbar": {
             "outlinewidth": 0,
             "ticks": ""
            },
            "type": "contourcarpet"
           }
          ],
          "heatmap": [
           {
            "colorbar": {
             "outlinewidth": 0,
             "ticks": ""
            },
            "colorscale": [
             [
              0,
              "#0d0887"
             ],
             [
              0.1111111111111111,
              "#46039f"
             ],
             [
              0.2222222222222222,
              "#7201a8"
             ],
             [
              0.3333333333333333,
              "#9c179e"
             ],
             [
              0.4444444444444444,
              "#bd3786"
             ],
             [
              0.5555555555555556,
              "#d8576b"
             ],
             [
              0.6666666666666666,
              "#ed7953"
             ],
             [
              0.7777777777777778,
              "#fb9f3a"
             ],
             [
              0.8888888888888888,
              "#fdca26"
             ],
             [
              1,
              "#f0f921"
             ]
            ],
            "type": "heatmap"
           }
          ],
          "histogram": [
           {
            "marker": {
             "pattern": {
              "fillmode": "overlay",
              "size": 10,
              "solidity": 0.2
             }
            },
            "type": "histogram"
           }
          ],
          "histogram2d": [
           {
            "colorbar": {
             "outlinewidth": 0,
             "ticks": ""
            },
            "colorscale": [
             [
              0,
              "#0d0887"
             ],
             [
              0.1111111111111111,
              "#46039f"
             ],
             [
              0.2222222222222222,
              "#7201a8"
             ],
             [
              0.3333333333333333,
              "#9c179e"
             ],
             [
              0.4444444444444444,
              "#bd3786"
             ],
             [
              0.5555555555555556,
              "#d8576b"
             ],
             [
              0.6666666666666666,
              "#ed7953"
             ],
             [
              0.7777777777777778,
              "#fb9f3a"
             ],
             [
              0.8888888888888888,
              "#fdca26"
             ],
             [
              1,
              "#f0f921"
             ]
            ],
            "type": "histogram2d"
           }
          ],
          "histogram2dcontour": [
           {
            "colorbar": {
             "outlinewidth": 0,
             "ticks": ""
            },
            "colorscale": [
             [
              0,
              "#0d0887"
             ],
             [
              0.1111111111111111,
              "#46039f"
             ],
             [
              0.2222222222222222,
              "#7201a8"
             ],
             [
              0.3333333333333333,
              "#9c179e"
             ],
             [
              0.4444444444444444,
              "#bd3786"
             ],
             [
              0.5555555555555556,
              "#d8576b"
             ],
             [
              0.6666666666666666,
              "#ed7953"
             ],
             [
              0.7777777777777778,
              "#fb9f3a"
             ],
             [
              0.8888888888888888,
              "#fdca26"
             ],
             [
              1,
              "#f0f921"
             ]
            ],
            "type": "histogram2dcontour"
           }
          ],
          "mesh3d": [
           {
            "colorbar": {
             "outlinewidth": 0,
             "ticks": ""
            },
            "type": "mesh3d"
           }
          ],
          "parcoords": [
           {
            "line": {
             "colorbar": {
              "outlinewidth": 0,
              "ticks": ""
             }
            },
            "type": "parcoords"
           }
          ],
          "pie": [
           {
            "automargin": true,
            "type": "pie"
           }
          ],
          "scatter": [
           {
            "fillpattern": {
             "fillmode": "overlay",
             "size": 10,
             "solidity": 0.2
            },
            "type": "scatter"
           }
          ],
          "scatter3d": [
           {
            "line": {
             "colorbar": {
              "outlinewidth": 0,
              "ticks": ""
             }
            },
            "marker": {
             "colorbar": {
              "outlinewidth": 0,
              "ticks": ""
             }
            },
            "type": "scatter3d"
           }
          ],
          "scattercarpet": [
           {
            "marker": {
             "colorbar": {
              "outlinewidth": 0,
              "ticks": ""
             }
            },
            "type": "scattercarpet"
           }
          ],
          "scattergeo": [
           {
            "marker": {
             "colorbar": {
              "outlinewidth": 0,
              "ticks": ""
             }
            },
            "type": "scattergeo"
           }
          ],
          "scattergl": [
           {
            "marker": {
             "colorbar": {
              "outlinewidth": 0,
              "ticks": ""
             }
            },
            "type": "scattergl"
           }
          ],
          "scattermap": [
           {
            "marker": {
             "colorbar": {
              "outlinewidth": 0,
              "ticks": ""
             }
            },
            "type": "scattermap"
           }
          ],
          "scattermapbox": [
           {
            "marker": {
             "colorbar": {
              "outlinewidth": 0,
              "ticks": ""
             }
            },
            "type": "scattermapbox"
           }
          ],
          "scatterpolar": [
           {
            "marker": {
             "colorbar": {
              "outlinewidth": 0,
              "ticks": ""
             }
            },
            "type": "scatterpolar"
           }
          ],
          "scatterpolargl": [
           {
            "marker": {
             "colorbar": {
              "outlinewidth": 0,
              "ticks": ""
             }
            },
            "type": "scatterpolargl"
           }
          ],
          "scatterternary": [
           {
            "marker": {
             "colorbar": {
              "outlinewidth": 0,
              "ticks": ""
             }
            },
            "type": "scatterternary"
           }
          ],
          "surface": [
           {
            "colorbar": {
             "outlinewidth": 0,
             "ticks": ""
            },
            "colorscale": [
             [
              0,
              "#0d0887"
             ],
             [
              0.1111111111111111,
              "#46039f"
             ],
             [
              0.2222222222222222,
              "#7201a8"
             ],
             [
              0.3333333333333333,
              "#9c179e"
             ],
             [
              0.4444444444444444,
              "#bd3786"
             ],
             [
              0.5555555555555556,
              "#d8576b"
             ],
             [
              0.6666666666666666,
              "#ed7953"
             ],
             [
              0.7777777777777778,
              "#fb9f3a"
             ],
             [
              0.8888888888888888,
              "#fdca26"
             ],
             [
              1,
              "#f0f921"
             ]
            ],
            "type": "surface"
           }
          ],
          "table": [
           {
            "cells": {
             "fill": {
              "color": "#EBF0F8"
             },
             "line": {
              "color": "white"
             }
            },
            "header": {
             "fill": {
              "color": "#C8D4E3"
             },
             "line": {
              "color": "white"
             }
            },
            "type": "table"
           }
          ]
         },
         "layout": {
          "annotationdefaults": {
           "arrowcolor": "#2a3f5f",
           "arrowhead": 0,
           "arrowwidth": 1
          },
          "autotypenumbers": "strict",
          "coloraxis": {
           "colorbar": {
            "outlinewidth": 0,
            "ticks": ""
           }
          },
          "colorscale": {
           "diverging": [
            [
             0,
             "#8e0152"
            ],
            [
             0.1,
             "#c51b7d"
            ],
            [
             0.2,
             "#de77ae"
            ],
            [
             0.3,
             "#f1b6da"
            ],
            [
             0.4,
             "#fde0ef"
            ],
            [
             0.5,
             "#f7f7f7"
            ],
            [
             0.6,
             "#e6f5d0"
            ],
            [
             0.7,
             "#b8e186"
            ],
            [
             0.8,
             "#7fbc41"
            ],
            [
             0.9,
             "#4d9221"
            ],
            [
             1,
             "#276419"
            ]
           ],
           "sequential": [
            [
             0,
             "#0d0887"
            ],
            [
             0.1111111111111111,
             "#46039f"
            ],
            [
             0.2222222222222222,
             "#7201a8"
            ],
            [
             0.3333333333333333,
             "#9c179e"
            ],
            [
             0.4444444444444444,
             "#bd3786"
            ],
            [
             0.5555555555555556,
             "#d8576b"
            ],
            [
             0.6666666666666666,
             "#ed7953"
            ],
            [
             0.7777777777777778,
             "#fb9f3a"
            ],
            [
             0.8888888888888888,
             "#fdca26"
            ],
            [
             1,
             "#f0f921"
            ]
           ],
           "sequentialminus": [
            [
             0,
             "#0d0887"
            ],
            [
             0.1111111111111111,
             "#46039f"
            ],
            [
             0.2222222222222222,
             "#7201a8"
            ],
            [
             0.3333333333333333,
             "#9c179e"
            ],
            [
             0.4444444444444444,
             "#bd3786"
            ],
            [
             0.5555555555555556,
             "#d8576b"
            ],
            [
             0.6666666666666666,
             "#ed7953"
            ],
            [
             0.7777777777777778,
             "#fb9f3a"
            ],
            [
             0.8888888888888888,
             "#fdca26"
            ],
            [
             1,
             "#f0f921"
            ]
           ]
          },
          "colorway": [
           "#636efa",
           "#EF553B",
           "#00cc96",
           "#ab63fa",
           "#FFA15A",
           "#19d3f3",
           "#FF6692",
           "#B6E880",
           "#FF97FF",
           "#FECB52"
          ],
          "font": {
           "color": "#2a3f5f"
          },
          "geo": {
           "bgcolor": "white",
           "lakecolor": "white",
           "landcolor": "#E5ECF6",
           "showlakes": true,
           "showland": true,
           "subunitcolor": "white"
          },
          "hoverlabel": {
           "align": "left"
          },
          "hovermode": "closest",
          "mapbox": {
           "style": "light"
          },
          "paper_bgcolor": "white",
          "plot_bgcolor": "#E5ECF6",
          "polar": {
           "angularaxis": {
            "gridcolor": "white",
            "linecolor": "white",
            "ticks": ""
           },
           "bgcolor": "#E5ECF6",
           "radialaxis": {
            "gridcolor": "white",
            "linecolor": "white",
            "ticks": ""
           }
          },
          "scene": {
           "xaxis": {
            "backgroundcolor": "#E5ECF6",
            "gridcolor": "white",
            "gridwidth": 2,
            "linecolor": "white",
            "showbackground": true,
            "ticks": "",
            "zerolinecolor": "white"
           },
           "yaxis": {
            "backgroundcolor": "#E5ECF6",
            "gridcolor": "white",
            "gridwidth": 2,
            "linecolor": "white",
            "showbackground": true,
            "ticks": "",
            "zerolinecolor": "white"
           },
           "zaxis": {
            "backgroundcolor": "#E5ECF6",
            "gridcolor": "white",
            "gridwidth": 2,
            "linecolor": "white",
            "showbackground": true,
            "ticks": "",
            "zerolinecolor": "white"
           }
          },
          "shapedefaults": {
           "line": {
            "color": "#2a3f5f"
           }
          },
          "ternary": {
           "aaxis": {
            "gridcolor": "white",
            "linecolor": "white",
            "ticks": ""
           },
           "baxis": {
            "gridcolor": "white",
            "linecolor": "white",
            "ticks": ""
           },
           "bgcolor": "#E5ECF6",
           "caxis": {
            "gridcolor": "white",
            "linecolor": "white",
            "ticks": ""
           }
          },
          "title": {
           "x": 0.05
          },
          "xaxis": {
           "automargin": true,
           "gridcolor": "white",
           "linecolor": "white",
           "ticks": "",
           "title": {
            "standoff": 15
           },
           "zerolinecolor": "white",
           "zerolinewidth": 2
          },
          "yaxis": {
           "automargin": true,
           "gridcolor": "white",
           "linecolor": "white",
           "ticks": "",
           "title": {
            "standoff": 15
           },
           "zerolinecolor": "white",
           "zerolinewidth": 2
          }
         }
        },
        "title": {
         "text": "Average Likes Received per Predicted Emotion"
        },
        "updatemenus": [
         {
          "active": 0,
          "buttons": [
           {
            "args": [
             {
              "visible": [
               true,
               false,
               false,
               false
              ]
             },
             {
              "barmode": "group",
              "title": "Average Likes Received per Predicted Emotion",
              "xaxis": {
               "title": "Predicted Emotion"
              },
              "yaxis": {
               "title": "Average Likes"
              }
             }
            ],
            "label": "Likes",
            "method": "update"
           },
           {
            "args": [
             {
              "visible": [
               false,
               true,
               false,
               false
              ]
             },
             {
              "barmode": "group",
              "title": "Average Comments Received per Predicted Emotion",
              "xaxis": {
               "title": "Predicted Emotion"
              },
              "yaxis": {
               "title": "Average Comments"
              }
             }
            ],
            "label": "Comments",
            "method": "update"
           },
           {
            "args": [
             {
              "visible": [
               false,
               false,
               true,
               true
              ]
             },
             {
              "barmode": "stack",
              "title": "Average Engagement per Predicted Emotion (Stacked)",
              "xaxis": {
               "title": "Predicted Emotion"
              },
              "yaxis": {
               "title": "Average Engagement"
              }
             }
            ],
            "label": "Both (Stacked)",
            "method": "update"
           }
          ],
          "direction": "down",
          "x": 0.5,
          "xanchor": "center",
          "y": 1.15,
          "yanchor": "top"
         }
        ],
        "xaxis": {
         "title": {
          "text": "Predicted Emotion"
         }
        },
        "yaxis": {
         "title": {
          "text": "Average Likes"
         }
        }
       }
      }
     },
     "metadata": {},
     "output_type": "display_data"
    }
   ],
   "source": [
    "likes_grouped = df_test.groupby('Predicted_Emotion')['Likes_Received_Per_Day'].mean()\n",
    "comments_grouped = df_test.groupby('Predicted_Emotion')['Comments_Received_Per_Day'].mean()\n",
    "emotions = likes_grouped.index\n",
    "\n",
    "# Create figure and add all traces (some hidden by default)\n",
    "fig = go.Figure()\n",
    "\n",
    "# Trace 0: Likes only\n",
    "fig.add_trace(\n",
    "    go.Bar(\n",
    "        x=emotions,\n",
    "        y=likes_grouped,\n",
    "        name='Likes',\n",
    "        marker_color='#66c2a5',\n",
    "        visible=True\n",
    "    )\n",
    ")\n",
    "\n",
    "# Trace 1: Comments only\n",
    "fig.add_trace(\n",
    "    go.Bar(\n",
    "        x=emotions,\n",
    "        y=comments_grouped,\n",
    "        name='Comments',\n",
    "        marker_color='#fc8d62',\n",
    "        visible=False\n",
    "    )\n",
    ")\n",
    "\n",
    "# Traces 2 and 3: Both (stacked)\n",
    "fig.add_trace(\n",
    "    go.Bar(\n",
    "        x=emotions,\n",
    "        y=likes_grouped,\n",
    "        name='Likes (Stacked)',\n",
    "        marker_color='#66c2a5',\n",
    "        visible=False\n",
    "    )\n",
    ")\n",
    "\n",
    "fig.add_trace(\n",
    "    go.Bar(\n",
    "        x=emotions,\n",
    "        y=comments_grouped,\n",
    "        name='Comments (Stacked)',\n",
    "        marker_color='#fc8d62',\n",
    "        visible=False\n",
    "    )\n",
    ")\n",
    "\n",
    "# Add dropdown menu\n",
    "fig.update_layout(\n",
    "    updatemenus=[\n",
    "        dict(\n",
    "            active=0,\n",
    "            buttons=[\n",
    "                dict(\n",
    "                    label=\"Likes\",\n",
    "                    method=\"update\",\n",
    "                    args=[{\"visible\": [True, False, False, False]},\n",
    "                          {\"title\": \"Average Likes Received per Predicted Emotion\",\n",
    "                           \"barmode\": \"group\",\n",
    "                           \"xaxis\": {\"title\": \"Predicted Emotion\"},\n",
    "                           \"yaxis\": {\"title\": \"Average Likes\"}}]\n",
    "                ),\n",
    "                dict(\n",
    "                    label=\"Comments\",\n",
    "                    method=\"update\",\n",
    "                    args=[{\"visible\": [False, True, False, False]},\n",
    "                          {\"title\": \"Average Comments Received per Predicted Emotion\",\n",
    "                           \"barmode\": \"group\",\n",
    "                           \"xaxis\": {\"title\": \"Predicted Emotion\"},\n",
    "                           \"yaxis\": {\"title\": \"Average Comments\"}}]\n",
    "                ),\n",
    "                dict(\n",
    "                    label=\"Both (Stacked)\",\n",
    "                    method=\"update\",\n",
    "                    args=[{\"visible\": [False, False, True, True]},\n",
    "                          {\"title\": \"Average Engagement per Predicted Emotion (Stacked)\",\n",
    "                           \"barmode\": \"stack\",\n",
    "                           \"xaxis\": {\"title\": \"Predicted Emotion\"},\n",
    "                           \"yaxis\": {\"title\": \"Average Engagement\"}}]\n",
    "                ),\n",
    "            ],\n",
    "            direction=\"down\",\n",
    "            x=0.5,\n",
    "            xanchor=\"center\",\n",
    "            y=1.15,\n",
    "            yanchor=\"top\"\n",
    "        )\n",
    "    ],\n",
    "    title=\"Average Likes Received per Predicted Emotion\",\n",
    "    xaxis_title=\"Predicted Emotion\",\n",
    "    yaxis_title=\"Average Likes\"\n",
    ")\n",
    "\n",
    "fig.show()\n"
   ]
  },
  {
   "cell_type": "markdown",
   "id": "93015941",
   "metadata": {},
   "source": [
    "**Plot 6**"
   ]
  },
  {
   "cell_type": "code",
   "execution_count": 47,
   "id": "409cc9ca",
   "metadata": {},
   "outputs": [
    {
     "name": "stderr",
     "output_type": "stream",
     "text": [
      "C:\\Users\\habib\\AppData\\Local\\Temp\\ipykernel_12312\\596776577.py:7: FutureWarning:\n",
      "\n",
      "The default of observed=False is deprecated and will be changed to True in a future version of pandas. Pass observed=False to retain current behavior or observed=True to adopt the future default and silence this warning.\n",
      "\n"
     ]
    },
    {
     "data": {
      "application/vnd.plotly.v1+json": {
       "config": {
        "plotlyServerURL": "https://plot.ly"
       },
       "data": [
        {
         "hovertemplate": "Predicted_Emotion=Anger<br>Age Group=%{x}<br>Average Daily Usage Time (minutes)=%{y}<extra></extra>",
         "legendgroup": "Anger",
         "marker": {
          "color": "rgb(228, 241, 225)",
          "pattern": {
           "shape": ""
          }
         },
         "name": "Anger",
         "orientation": "v",
         "showlegend": true,
         "textposition": "auto",
         "type": "bar",
         "x": [
          "21-24",
          "25-29",
          "30-35"
         ],
         "xaxis": "x",
         "y": {
          "bdata": "q6qqqqpqVEAAAAAAAIBVQAAAAAAAAF5A",
          "dtype": "f8"
         },
         "yaxis": "y"
        },
        {
         "hovertemplate": "Predicted_Emotion=Anxiety<br>Age Group=%{x}<br>Average Daily Usage Time (minutes)=%{y}<extra></extra>",
         "legendgroup": "Anxiety",
         "marker": {
          "color": "rgb(180, 217, 204)",
          "pattern": {
           "shape": ""
          }
         },
         "name": "Anxiety",
         "orientation": "v",
         "showlegend": true,
         "textposition": "auto",
         "type": "bar",
         "x": [
          "21-24",
          "25-29",
          "30-35"
         ],
         "xaxis": "x",
         "y": {
          "bdata": "AAAAAADAUkBVVVVVVRVYQAAAAAAAQFBA",
          "dtype": "f8"
         },
         "yaxis": "y"
        },
        {
         "hovertemplate": "Predicted_Emotion=Boredom<br>Age Group=%{x}<br>Average Daily Usage Time (minutes)=%{y}<extra></extra>",
         "legendgroup": "Boredom",
         "marker": {
          "color": "rgb(137, 192, 182)",
          "pattern": {
           "shape": ""
          }
         },
         "name": "Boredom",
         "orientation": "v",
         "showlegend": true,
         "textposition": "auto",
         "type": "bar",
         "x": [
          "21-24",
          "25-29",
          "30-35"
         ],
         "xaxis": "x",
         "y": {
          "bdata": "AAAAAACAS0BJkiRJkqRNQAAAAAAAGFBA",
          "dtype": "f8"
         },
         "yaxis": "y"
        },
        {
         "hovertemplate": "Predicted_Emotion=Happiness<br>Age Group=%{x}<br>Average Daily Usage Time (minutes)=%{y}<extra></extra>",
         "legendgroup": "Happiness",
         "marker": {
          "color": "rgb(99, 166, 160)",
          "pattern": {
           "shape": ""
          }
         },
         "name": "Happiness",
         "orientation": "v",
         "showlegend": true,
         "textposition": "auto",
         "type": "bar",
         "x": [
          "21-24",
          "25-29",
          "30-35"
         ],
         "xaxis": "x",
         "y": {
          "bdata": "AAAAAABAVUCO4ziO4zhhQAAAAAAAQGNA",
          "dtype": "f8"
         },
         "yaxis": "y"
        },
        {
         "hovertemplate": "Predicted_Emotion=Neutral<br>Age Group=%{x}<br>Average Daily Usage Time (minutes)=%{y}<extra></extra>",
         "legendgroup": "Neutral",
         "marker": {
          "color": "rgb(68, 140, 138)",
          "pattern": {
           "shape": ""
          }
         },
         "name": "Neutral",
         "orientation": "v",
         "showlegend": true,
         "textposition": "auto",
         "type": "bar",
         "x": [
          "21-24",
          "25-29",
          "30-35"
         ],
         "xaxis": "x",
         "y": {
          "bdata": "VVVVVVWlUkBVVVVVVTVZQAAAAAAAAFlA",
          "dtype": "f8"
         },
         "yaxis": "y"
        },
        {
         "hovertemplate": "Predicted_Emotion=Sadness<br>Age Group=%{x}<br>Average Daily Usage Time (minutes)=%{y}<extra></extra>",
         "legendgroup": "Sadness",
         "marker": {
          "color": "rgb(40, 114, 116)",
          "pattern": {
           "shape": ""
          }
         },
         "name": "Sadness",
         "orientation": "v",
         "showlegend": true,
         "textposition": "auto",
         "type": "bar",
         "x": [
          "21-24",
          "25-29",
          "30-35"
         ],
         "xaxis": "x",
         "y": {
          "bdata": "AAAAAAAgV0AAAAAAADhTQAAAAAAAYE1A",
          "dtype": "f8"
         },
         "yaxis": "y"
        }
       ],
       "layout": {
        "barmode": "relative",
        "legend": {
         "title": {
          "text": "Predicted_Emotion"
         },
         "tracegroupgap": 0
        },
        "template": {
         "data": {
          "bar": [
           {
            "error_x": {
             "color": "#2a3f5f"
            },
            "error_y": {
             "color": "#2a3f5f"
            },
            "marker": {
             "line": {
              "color": "#E5ECF6",
              "width": 0.5
             },
             "pattern": {
              "fillmode": "overlay",
              "size": 10,
              "solidity": 0.2
             }
            },
            "type": "bar"
           }
          ],
          "barpolar": [
           {
            "marker": {
             "line": {
              "color": "#E5ECF6",
              "width": 0.5
             },
             "pattern": {
              "fillmode": "overlay",
              "size": 10,
              "solidity": 0.2
             }
            },
            "type": "barpolar"
           }
          ],
          "carpet": [
           {
            "aaxis": {
             "endlinecolor": "#2a3f5f",
             "gridcolor": "white",
             "linecolor": "white",
             "minorgridcolor": "white",
             "startlinecolor": "#2a3f5f"
            },
            "baxis": {
             "endlinecolor": "#2a3f5f",
             "gridcolor": "white",
             "linecolor": "white",
             "minorgridcolor": "white",
             "startlinecolor": "#2a3f5f"
            },
            "type": "carpet"
           }
          ],
          "choropleth": [
           {
            "colorbar": {
             "outlinewidth": 0,
             "ticks": ""
            },
            "type": "choropleth"
           }
          ],
          "contour": [
           {
            "colorbar": {
             "outlinewidth": 0,
             "ticks": ""
            },
            "colorscale": [
             [
              0,
              "#0d0887"
             ],
             [
              0.1111111111111111,
              "#46039f"
             ],
             [
              0.2222222222222222,
              "#7201a8"
             ],
             [
              0.3333333333333333,
              "#9c179e"
             ],
             [
              0.4444444444444444,
              "#bd3786"
             ],
             [
              0.5555555555555556,
              "#d8576b"
             ],
             [
              0.6666666666666666,
              "#ed7953"
             ],
             [
              0.7777777777777778,
              "#fb9f3a"
             ],
             [
              0.8888888888888888,
              "#fdca26"
             ],
             [
              1,
              "#f0f921"
             ]
            ],
            "type": "contour"
           }
          ],
          "contourcarpet": [
           {
            "colorbar": {
             "outlinewidth": 0,
             "ticks": ""
            },
            "type": "contourcarpet"
           }
          ],
          "heatmap": [
           {
            "colorbar": {
             "outlinewidth": 0,
             "ticks": ""
            },
            "colorscale": [
             [
              0,
              "#0d0887"
             ],
             [
              0.1111111111111111,
              "#46039f"
             ],
             [
              0.2222222222222222,
              "#7201a8"
             ],
             [
              0.3333333333333333,
              "#9c179e"
             ],
             [
              0.4444444444444444,
              "#bd3786"
             ],
             [
              0.5555555555555556,
              "#d8576b"
             ],
             [
              0.6666666666666666,
              "#ed7953"
             ],
             [
              0.7777777777777778,
              "#fb9f3a"
             ],
             [
              0.8888888888888888,
              "#fdca26"
             ],
             [
              1,
              "#f0f921"
             ]
            ],
            "type": "heatmap"
           }
          ],
          "histogram": [
           {
            "marker": {
             "pattern": {
              "fillmode": "overlay",
              "size": 10,
              "solidity": 0.2
             }
            },
            "type": "histogram"
           }
          ],
          "histogram2d": [
           {
            "colorbar": {
             "outlinewidth": 0,
             "ticks": ""
            },
            "colorscale": [
             [
              0,
              "#0d0887"
             ],
             [
              0.1111111111111111,
              "#46039f"
             ],
             [
              0.2222222222222222,
              "#7201a8"
             ],
             [
              0.3333333333333333,
              "#9c179e"
             ],
             [
              0.4444444444444444,
              "#bd3786"
             ],
             [
              0.5555555555555556,
              "#d8576b"
             ],
             [
              0.6666666666666666,
              "#ed7953"
             ],
             [
              0.7777777777777778,
              "#fb9f3a"
             ],
             [
              0.8888888888888888,
              "#fdca26"
             ],
             [
              1,
              "#f0f921"
             ]
            ],
            "type": "histogram2d"
           }
          ],
          "histogram2dcontour": [
           {
            "colorbar": {
             "outlinewidth": 0,
             "ticks": ""
            },
            "colorscale": [
             [
              0,
              "#0d0887"
             ],
             [
              0.1111111111111111,
              "#46039f"
             ],
             [
              0.2222222222222222,
              "#7201a8"
             ],
             [
              0.3333333333333333,
              "#9c179e"
             ],
             [
              0.4444444444444444,
              "#bd3786"
             ],
             [
              0.5555555555555556,
              "#d8576b"
             ],
             [
              0.6666666666666666,
              "#ed7953"
             ],
             [
              0.7777777777777778,
              "#fb9f3a"
             ],
             [
              0.8888888888888888,
              "#fdca26"
             ],
             [
              1,
              "#f0f921"
             ]
            ],
            "type": "histogram2dcontour"
           }
          ],
          "mesh3d": [
           {
            "colorbar": {
             "outlinewidth": 0,
             "ticks": ""
            },
            "type": "mesh3d"
           }
          ],
          "parcoords": [
           {
            "line": {
             "colorbar": {
              "outlinewidth": 0,
              "ticks": ""
             }
            },
            "type": "parcoords"
           }
          ],
          "pie": [
           {
            "automargin": true,
            "type": "pie"
           }
          ],
          "scatter": [
           {
            "fillpattern": {
             "fillmode": "overlay",
             "size": 10,
             "solidity": 0.2
            },
            "type": "scatter"
           }
          ],
          "scatter3d": [
           {
            "line": {
             "colorbar": {
              "outlinewidth": 0,
              "ticks": ""
             }
            },
            "marker": {
             "colorbar": {
              "outlinewidth": 0,
              "ticks": ""
             }
            },
            "type": "scatter3d"
           }
          ],
          "scattercarpet": [
           {
            "marker": {
             "colorbar": {
              "outlinewidth": 0,
              "ticks": ""
             }
            },
            "type": "scattercarpet"
           }
          ],
          "scattergeo": [
           {
            "marker": {
             "colorbar": {
              "outlinewidth": 0,
              "ticks": ""
             }
            },
            "type": "scattergeo"
           }
          ],
          "scattergl": [
           {
            "marker": {
             "colorbar": {
              "outlinewidth": 0,
              "ticks": ""
             }
            },
            "type": "scattergl"
           }
          ],
          "scattermap": [
           {
            "marker": {
             "colorbar": {
              "outlinewidth": 0,
              "ticks": ""
             }
            },
            "type": "scattermap"
           }
          ],
          "scattermapbox": [
           {
            "marker": {
             "colorbar": {
              "outlinewidth": 0,
              "ticks": ""
             }
            },
            "type": "scattermapbox"
           }
          ],
          "scatterpolar": [
           {
            "marker": {
             "colorbar": {
              "outlinewidth": 0,
              "ticks": ""
             }
            },
            "type": "scatterpolar"
           }
          ],
          "scatterpolargl": [
           {
            "marker": {
             "colorbar": {
              "outlinewidth": 0,
              "ticks": ""
             }
            },
            "type": "scatterpolargl"
           }
          ],
          "scatterternary": [
           {
            "marker": {
             "colorbar": {
              "outlinewidth": 0,
              "ticks": ""
             }
            },
            "type": "scatterternary"
           }
          ],
          "surface": [
           {
            "colorbar": {
             "outlinewidth": 0,
             "ticks": ""
            },
            "colorscale": [
             [
              0,
              "#0d0887"
             ],
             [
              0.1111111111111111,
              "#46039f"
             ],
             [
              0.2222222222222222,
              "#7201a8"
             ],
             [
              0.3333333333333333,
              "#9c179e"
             ],
             [
              0.4444444444444444,
              "#bd3786"
             ],
             [
              0.5555555555555556,
              "#d8576b"
             ],
             [
              0.6666666666666666,
              "#ed7953"
             ],
             [
              0.7777777777777778,
              "#fb9f3a"
             ],
             [
              0.8888888888888888,
              "#fdca26"
             ],
             [
              1,
              "#f0f921"
             ]
            ],
            "type": "surface"
           }
          ],
          "table": [
           {
            "cells": {
             "fill": {
              "color": "#EBF0F8"
             },
             "line": {
              "color": "white"
             }
            },
            "header": {
             "fill": {
              "color": "#C8D4E3"
             },
             "line": {
              "color": "white"
             }
            },
            "type": "table"
           }
          ]
         },
         "layout": {
          "annotationdefaults": {
           "arrowcolor": "#2a3f5f",
           "arrowhead": 0,
           "arrowwidth": 1
          },
          "autotypenumbers": "strict",
          "coloraxis": {
           "colorbar": {
            "outlinewidth": 0,
            "ticks": ""
           }
          },
          "colorscale": {
           "diverging": [
            [
             0,
             "#8e0152"
            ],
            [
             0.1,
             "#c51b7d"
            ],
            [
             0.2,
             "#de77ae"
            ],
            [
             0.3,
             "#f1b6da"
            ],
            [
             0.4,
             "#fde0ef"
            ],
            [
             0.5,
             "#f7f7f7"
            ],
            [
             0.6,
             "#e6f5d0"
            ],
            [
             0.7,
             "#b8e186"
            ],
            [
             0.8,
             "#7fbc41"
            ],
            [
             0.9,
             "#4d9221"
            ],
            [
             1,
             "#276419"
            ]
           ],
           "sequential": [
            [
             0,
             "#0d0887"
            ],
            [
             0.1111111111111111,
             "#46039f"
            ],
            [
             0.2222222222222222,
             "#7201a8"
            ],
            [
             0.3333333333333333,
             "#9c179e"
            ],
            [
             0.4444444444444444,
             "#bd3786"
            ],
            [
             0.5555555555555556,
             "#d8576b"
            ],
            [
             0.6666666666666666,
             "#ed7953"
            ],
            [
             0.7777777777777778,
             "#fb9f3a"
            ],
            [
             0.8888888888888888,
             "#fdca26"
            ],
            [
             1,
             "#f0f921"
            ]
           ],
           "sequentialminus": [
            [
             0,
             "#0d0887"
            ],
            [
             0.1111111111111111,
             "#46039f"
            ],
            [
             0.2222222222222222,
             "#7201a8"
            ],
            [
             0.3333333333333333,
             "#9c179e"
            ],
            [
             0.4444444444444444,
             "#bd3786"
            ],
            [
             0.5555555555555556,
             "#d8576b"
            ],
            [
             0.6666666666666666,
             "#ed7953"
            ],
            [
             0.7777777777777778,
             "#fb9f3a"
            ],
            [
             0.8888888888888888,
             "#fdca26"
            ],
            [
             1,
             "#f0f921"
            ]
           ]
          },
          "colorway": [
           "#636efa",
           "#EF553B",
           "#00cc96",
           "#ab63fa",
           "#FFA15A",
           "#19d3f3",
           "#FF6692",
           "#B6E880",
           "#FF97FF",
           "#FECB52"
          ],
          "font": {
           "color": "#2a3f5f"
          },
          "geo": {
           "bgcolor": "white",
           "lakecolor": "white",
           "landcolor": "#E5ECF6",
           "showlakes": true,
           "showland": true,
           "subunitcolor": "white"
          },
          "hoverlabel": {
           "align": "left"
          },
          "hovermode": "closest",
          "mapbox": {
           "style": "light"
          },
          "paper_bgcolor": "white",
          "plot_bgcolor": "#E5ECF6",
          "polar": {
           "angularaxis": {
            "gridcolor": "white",
            "linecolor": "white",
            "ticks": ""
           },
           "bgcolor": "#E5ECF6",
           "radialaxis": {
            "gridcolor": "white",
            "linecolor": "white",
            "ticks": ""
           }
          },
          "scene": {
           "xaxis": {
            "backgroundcolor": "#E5ECF6",
            "gridcolor": "white",
            "gridwidth": 2,
            "linecolor": "white",
            "showbackground": true,
            "ticks": "",
            "zerolinecolor": "white"
           },
           "yaxis": {
            "backgroundcolor": "#E5ECF6",
            "gridcolor": "white",
            "gridwidth": 2,
            "linecolor": "white",
            "showbackground": true,
            "ticks": "",
            "zerolinecolor": "white"
           },
           "zaxis": {
            "backgroundcolor": "#E5ECF6",
            "gridcolor": "white",
            "gridwidth": 2,
            "linecolor": "white",
            "showbackground": true,
            "ticks": "",
            "zerolinecolor": "white"
           }
          },
          "shapedefaults": {
           "line": {
            "color": "#2a3f5f"
           }
          },
          "ternary": {
           "aaxis": {
            "gridcolor": "white",
            "linecolor": "white",
            "ticks": ""
           },
           "baxis": {
            "gridcolor": "white",
            "linecolor": "white",
            "ticks": ""
           },
           "bgcolor": "#E5ECF6",
           "caxis": {
            "gridcolor": "white",
            "linecolor": "white",
            "ticks": ""
           }
          },
          "title": {
           "x": 0.05
          },
          "xaxis": {
           "automargin": true,
           "gridcolor": "white",
           "linecolor": "white",
           "ticks": "",
           "title": {
            "standoff": 15
           },
           "zerolinecolor": "white",
           "zerolinewidth": 2
          },
          "yaxis": {
           "automargin": true,
           "gridcolor": "white",
           "linecolor": "white",
           "ticks": "",
           "title": {
            "standoff": 15
           },
           "zerolinecolor": "white",
           "zerolinewidth": 2
          }
         }
        },
        "title": {
         "text": "Average Daily Time Spent on Social Media by Age Group and Predicted Emotion"
        },
        "xaxis": {
         "anchor": "y",
         "domain": [
          0,
          1
         ],
         "title": {
          "text": "Age Group"
         }
        },
        "yaxis": {
         "anchor": "x",
         "domain": [
          0,
          1
         ],
         "title": {
          "text": "Average Daily Usage Time (minutes)"
         }
        }
       }
      }
     },
     "metadata": {},
     "output_type": "display_data"
    }
   ],
   "source": [
    "# Create a new column for Age Groups\n",
    "age_bins = [21, 24, 29, 35]  # The bin edges for age groups\n",
    "age_labels = ['21-24', '25-29', '30-35']  # Labels for the age groups\n",
    "df_test['Age_Group'] = pd.cut(df_test['Age'], bins=age_bins, labels=age_labels, right=True)\n",
    "\n",
    "# Group by Age_Group and Predicted_Emotion and calculate average daily usage time\n",
    "age_grouped = df_test.groupby(['Age_Group', 'Predicted_Emotion'])['Daily_Usage_Time (minutes)'].mean().reset_index()\n",
    "\n",
    "# Create bar plot\n",
    "fig = px.bar(\n",
    "    age_grouped,\n",
    "    x='Age_Group',\n",
    "    y='Daily_Usage_Time (minutes)',\n",
    "    color='Predicted_Emotion',  # Color by predicted emotion for better visual distinction\n",
    "    title=\"Average Daily Time Spent on Social Media by Age Group and Predicted Emotion\",\n",
    "    labels={'Daily_Usage_Time (minutes)': 'Average Daily Usage Time (minutes)', 'Age_Group': 'Age Group'},\n",
    "    color_discrete_sequence=px.colors.sequential.Mint  # Optional: change color scheme\n",
    ")\n",
    "\n",
    "fig.show()\n"
   ]
  },
  {
   "cell_type": "markdown",
   "id": "aec42887",
   "metadata": {},
   "source": [
    "# Dashboard"
   ]
  },
  {
   "cell_type": "markdown",
   "id": "ed339b54",
   "metadata": {},
   "source": [
    "**Plot 1**"
   ]
  },
  {
   "cell_type": "code",
   "execution_count": 51,
   "id": "c01f5abf",
   "metadata": {},
   "outputs": [
    {
     "data": {
      "application/vnd.plotly.v1+json": {
       "config": {
        "plotlyServerURL": "https://plot.ly"
       },
       "data": [
        {
         "showlegend": false,
         "type": "bar",
         "x": [
          "Neutral",
          "Anxiety",
          "Boredom"
         ],
         "xaxis": "x",
         "y": [
          70,
          50,
          40
         ],
         "yaxis": "y"
        },
        {
         "showlegend": false,
         "type": "bar",
         "x": [
          "Happiness",
          "Anxiety",
          "Neutral"
         ],
         "xaxis": "x2",
         "y": [
          170,
          30,
          20
         ],
         "yaxis": "y2"
        },
        {
         "showlegend": false,
         "type": "bar",
         "x": [
          "Boredom",
          "Anxiety",
          "Neutral"
         ],
         "xaxis": "x3",
         "y": [
          70,
          20,
          20
         ],
         "yaxis": "y3"
        },
        {
         "showlegend": false,
         "type": "bar",
         "x": [
          "Sadness",
          "Anxiety",
          "Neutral"
         ],
         "xaxis": "x4",
         "y": [
          30,
          20,
          20
         ],
         "yaxis": "y4"
        },
        {
         "showlegend": false,
         "type": "bar",
         "x": [
          "Neutral",
          "Sadness",
          "Anger"
         ],
         "xaxis": "x5",
         "y": [
          30,
          20,
          10
         ],
         "yaxis": "y5"
        },
        {
         "showlegend": false,
         "type": "bar",
         "x": [
          "Anger",
          "Sadness",
          "Anxiety"
         ],
         "xaxis": "x6",
         "y": [
          80,
          50,
          20
         ],
         "yaxis": "y6"
        },
        {
         "showlegend": false,
         "type": "bar",
         "x": [
          "Anger",
          "Anxiety",
          "Neutral"
         ],
         "xaxis": "x7",
         "y": [
          30,
          20,
          20
         ],
         "yaxis": "y7"
        }
       ],
       "layout": {
        "annotations": [
         {
          "font": {
           "size": 16
          },
          "showarrow": false,
          "text": "Facebook",
          "x": 0.05918367346938775,
          "xanchor": "center",
          "xref": "paper",
          "y": 1,
          "yanchor": "bottom",
          "yref": "paper"
         },
         {
          "font": {
           "size": 16
          },
          "showarrow": false,
          "text": "Instagram",
          "x": 0.2061224489795918,
          "xanchor": "center",
          "xref": "paper",
          "y": 1,
          "yanchor": "bottom",
          "yref": "paper"
         },
         {
          "font": {
           "size": 16
          },
          "showarrow": false,
          "text": "LinkedIn",
          "x": 0.3530612244897959,
          "xanchor": "center",
          "xref": "paper",
          "y": 1,
          "yanchor": "bottom",
          "yref": "paper"
         },
         {
          "font": {
           "size": 16
          },
          "showarrow": false,
          "text": "Snapchat",
          "x": 0.49999999999999994,
          "xanchor": "center",
          "xref": "paper",
          "y": 1,
          "yanchor": "bottom",
          "yref": "paper"
         },
         {
          "font": {
           "size": 16
          },
          "showarrow": false,
          "text": "Telegram",
          "x": 0.6469387755102041,
          "xanchor": "center",
          "xref": "paper",
          "y": 1,
          "yanchor": "bottom",
          "yref": "paper"
         },
         {
          "font": {
           "size": 16
          },
          "showarrow": false,
          "text": "Twitter",
          "x": 0.7938775510204081,
          "xanchor": "center",
          "xref": "paper",
          "y": 1,
          "yanchor": "bottom",
          "yref": "paper"
         },
         {
          "font": {
           "size": 16
          },
          "showarrow": false,
          "text": "Whatsapp",
          "x": 0.9408163265306122,
          "xanchor": "center",
          "xref": "paper",
          "y": 1,
          "yanchor": "bottom",
          "yref": "paper"
         }
        ],
        "height": 400,
        "margin": {
         "t": 80
        },
        "template": {
         "data": {
          "bar": [
           {
            "error_x": {
             "color": "#2a3f5f"
            },
            "error_y": {
             "color": "#2a3f5f"
            },
            "marker": {
             "line": {
              "color": "#E5ECF6",
              "width": 0.5
             },
             "pattern": {
              "fillmode": "overlay",
              "size": 10,
              "solidity": 0.2
             }
            },
            "type": "bar"
           }
          ],
          "barpolar": [
           {
            "marker": {
             "line": {
              "color": "#E5ECF6",
              "width": 0.5
             },
             "pattern": {
              "fillmode": "overlay",
              "size": 10,
              "solidity": 0.2
             }
            },
            "type": "barpolar"
           }
          ],
          "carpet": [
           {
            "aaxis": {
             "endlinecolor": "#2a3f5f",
             "gridcolor": "white",
             "linecolor": "white",
             "minorgridcolor": "white",
             "startlinecolor": "#2a3f5f"
            },
            "baxis": {
             "endlinecolor": "#2a3f5f",
             "gridcolor": "white",
             "linecolor": "white",
             "minorgridcolor": "white",
             "startlinecolor": "#2a3f5f"
            },
            "type": "carpet"
           }
          ],
          "choropleth": [
           {
            "colorbar": {
             "outlinewidth": 0,
             "ticks": ""
            },
            "type": "choropleth"
           }
          ],
          "contour": [
           {
            "colorbar": {
             "outlinewidth": 0,
             "ticks": ""
            },
            "colorscale": [
             [
              0,
              "#0d0887"
             ],
             [
              0.1111111111111111,
              "#46039f"
             ],
             [
              0.2222222222222222,
              "#7201a8"
             ],
             [
              0.3333333333333333,
              "#9c179e"
             ],
             [
              0.4444444444444444,
              "#bd3786"
             ],
             [
              0.5555555555555556,
              "#d8576b"
             ],
             [
              0.6666666666666666,
              "#ed7953"
             ],
             [
              0.7777777777777778,
              "#fb9f3a"
             ],
             [
              0.8888888888888888,
              "#fdca26"
             ],
             [
              1,
              "#f0f921"
             ]
            ],
            "type": "contour"
           }
          ],
          "contourcarpet": [
           {
            "colorbar": {
             "outlinewidth": 0,
             "ticks": ""
            },
            "type": "contourcarpet"
           }
          ],
          "heatmap": [
           {
            "colorbar": {
             "outlinewidth": 0,
             "ticks": ""
            },
            "colorscale": [
             [
              0,
              "#0d0887"
             ],
             [
              0.1111111111111111,
              "#46039f"
             ],
             [
              0.2222222222222222,
              "#7201a8"
             ],
             [
              0.3333333333333333,
              "#9c179e"
             ],
             [
              0.4444444444444444,
              "#bd3786"
             ],
             [
              0.5555555555555556,
              "#d8576b"
             ],
             [
              0.6666666666666666,
              "#ed7953"
             ],
             [
              0.7777777777777778,
              "#fb9f3a"
             ],
             [
              0.8888888888888888,
              "#fdca26"
             ],
             [
              1,
              "#f0f921"
             ]
            ],
            "type": "heatmap"
           }
          ],
          "heatmapgl": [
           {
            "colorbar": {
             "outlinewidth": 0,
             "ticks": ""
            },
            "colorscale": [
             [
              0,
              "#0d0887"
             ],
             [
              0.1111111111111111,
              "#46039f"
             ],
             [
              0.2222222222222222,
              "#7201a8"
             ],
             [
              0.3333333333333333,
              "#9c179e"
             ],
             [
              0.4444444444444444,
              "#bd3786"
             ],
             [
              0.5555555555555556,
              "#d8576b"
             ],
             [
              0.6666666666666666,
              "#ed7953"
             ],
             [
              0.7777777777777778,
              "#fb9f3a"
             ],
             [
              0.8888888888888888,
              "#fdca26"
             ],
             [
              1,
              "#f0f921"
             ]
            ],
            "type": "heatmapgl"
           }
          ],
          "histogram": [
           {
            "marker": {
             "pattern": {
              "fillmode": "overlay",
              "size": 10,
              "solidity": 0.2
             }
            },
            "type": "histogram"
           }
          ],
          "histogram2d": [
           {
            "colorbar": {
             "outlinewidth": 0,
             "ticks": ""
            },
            "colorscale": [
             [
              0,
              "#0d0887"
             ],
             [
              0.1111111111111111,
              "#46039f"
             ],
             [
              0.2222222222222222,
              "#7201a8"
             ],
             [
              0.3333333333333333,
              "#9c179e"
             ],
             [
              0.4444444444444444,
              "#bd3786"
             ],
             [
              0.5555555555555556,
              "#d8576b"
             ],
             [
              0.6666666666666666,
              "#ed7953"
             ],
             [
              0.7777777777777778,
              "#fb9f3a"
             ],
             [
              0.8888888888888888,
              "#fdca26"
             ],
             [
              1,
              "#f0f921"
             ]
            ],
            "type": "histogram2d"
           }
          ],
          "histogram2dcontour": [
           {
            "colorbar": {
             "outlinewidth": 0,
             "ticks": ""
            },
            "colorscale": [
             [
              0,
              "#0d0887"
             ],
             [
              0.1111111111111111,
              "#46039f"
             ],
             [
              0.2222222222222222,
              "#7201a8"
             ],
             [
              0.3333333333333333,
              "#9c179e"
             ],
             [
              0.4444444444444444,
              "#bd3786"
             ],
             [
              0.5555555555555556,
              "#d8576b"
             ],
             [
              0.6666666666666666,
              "#ed7953"
             ],
             [
              0.7777777777777778,
              "#fb9f3a"
             ],
             [
              0.8888888888888888,
              "#fdca26"
             ],
             [
              1,
              "#f0f921"
             ]
            ],
            "type": "histogram2dcontour"
           }
          ],
          "mesh3d": [
           {
            "colorbar": {
             "outlinewidth": 0,
             "ticks": ""
            },
            "type": "mesh3d"
           }
          ],
          "parcoords": [
           {
            "line": {
             "colorbar": {
              "outlinewidth": 0,
              "ticks": ""
             }
            },
            "type": "parcoords"
           }
          ],
          "pie": [
           {
            "automargin": true,
            "type": "pie"
           }
          ],
          "scatter": [
           {
            "fillpattern": {
             "fillmode": "overlay",
             "size": 10,
             "solidity": 0.2
            },
            "type": "scatter"
           }
          ],
          "scatter3d": [
           {
            "line": {
             "colorbar": {
              "outlinewidth": 0,
              "ticks": ""
             }
            },
            "marker": {
             "colorbar": {
              "outlinewidth": 0,
              "ticks": ""
             }
            },
            "type": "scatter3d"
           }
          ],
          "scattercarpet": [
           {
            "marker": {
             "colorbar": {
              "outlinewidth": 0,
              "ticks": ""
             }
            },
            "type": "scattercarpet"
           }
          ],
          "scattergeo": [
           {
            "marker": {
             "colorbar": {
              "outlinewidth": 0,
              "ticks": ""
             }
            },
            "type": "scattergeo"
           }
          ],
          "scattergl": [
           {
            "marker": {
             "colorbar": {
              "outlinewidth": 0,
              "ticks": ""
             }
            },
            "type": "scattergl"
           }
          ],
          "scattermapbox": [
           {
            "marker": {
             "colorbar": {
              "outlinewidth": 0,
              "ticks": ""
             }
            },
            "type": "scattermapbox"
           }
          ],
          "scatterpolar": [
           {
            "marker": {
             "colorbar": {
              "outlinewidth": 0,
              "ticks": ""
             }
            },
            "type": "scatterpolar"
           }
          ],
          "scatterpolargl": [
           {
            "marker": {
             "colorbar": {
              "outlinewidth": 0,
              "ticks": ""
             }
            },
            "type": "scatterpolargl"
           }
          ],
          "scatterternary": [
           {
            "marker": {
             "colorbar": {
              "outlinewidth": 0,
              "ticks": ""
             }
            },
            "type": "scatterternary"
           }
          ],
          "surface": [
           {
            "colorbar": {
             "outlinewidth": 0,
             "ticks": ""
            },
            "colorscale": [
             [
              0,
              "#0d0887"
             ],
             [
              0.1111111111111111,
              "#46039f"
             ],
             [
              0.2222222222222222,
              "#7201a8"
             ],
             [
              0.3333333333333333,
              "#9c179e"
             ],
             [
              0.4444444444444444,
              "#bd3786"
             ],
             [
              0.5555555555555556,
              "#d8576b"
             ],
             [
              0.6666666666666666,
              "#ed7953"
             ],
             [
              0.7777777777777778,
              "#fb9f3a"
             ],
             [
              0.8888888888888888,
              "#fdca26"
             ],
             [
              1,
              "#f0f921"
             ]
            ],
            "type": "surface"
           }
          ],
          "table": [
           {
            "cells": {
             "fill": {
              "color": "#EBF0F8"
             },
             "line": {
              "color": "white"
             }
            },
            "header": {
             "fill": {
              "color": "#C8D4E3"
             },
             "line": {
              "color": "white"
             }
            },
            "type": "table"
           }
          ]
         },
         "layout": {
          "annotationdefaults": {
           "arrowcolor": "#2a3f5f",
           "arrowhead": 0,
           "arrowwidth": 1
          },
          "autotypenumbers": "strict",
          "coloraxis": {
           "colorbar": {
            "outlinewidth": 0,
            "ticks": ""
           }
          },
          "colorscale": {
           "diverging": [
            [
             0,
             "#8e0152"
            ],
            [
             0.1,
             "#c51b7d"
            ],
            [
             0.2,
             "#de77ae"
            ],
            [
             0.3,
             "#f1b6da"
            ],
            [
             0.4,
             "#fde0ef"
            ],
            [
             0.5,
             "#f7f7f7"
            ],
            [
             0.6,
             "#e6f5d0"
            ],
            [
             0.7,
             "#b8e186"
            ],
            [
             0.8,
             "#7fbc41"
            ],
            [
             0.9,
             "#4d9221"
            ],
            [
             1,
             "#276419"
            ]
           ],
           "sequential": [
            [
             0,
             "#0d0887"
            ],
            [
             0.1111111111111111,
             "#46039f"
            ],
            [
             0.2222222222222222,
             "#7201a8"
            ],
            [
             0.3333333333333333,
             "#9c179e"
            ],
            [
             0.4444444444444444,
             "#bd3786"
            ],
            [
             0.5555555555555556,
             "#d8576b"
            ],
            [
             0.6666666666666666,
             "#ed7953"
            ],
            [
             0.7777777777777778,
             "#fb9f3a"
            ],
            [
             0.8888888888888888,
             "#fdca26"
            ],
            [
             1,
             "#f0f921"
            ]
           ],
           "sequentialminus": [
            [
             0,
             "#0d0887"
            ],
            [
             0.1111111111111111,
             "#46039f"
            ],
            [
             0.2222222222222222,
             "#7201a8"
            ],
            [
             0.3333333333333333,
             "#9c179e"
            ],
            [
             0.4444444444444444,
             "#bd3786"
            ],
            [
             0.5555555555555556,
             "#d8576b"
            ],
            [
             0.6666666666666666,
             "#ed7953"
            ],
            [
             0.7777777777777778,
             "#fb9f3a"
            ],
            [
             0.8888888888888888,
             "#fdca26"
            ],
            [
             1,
             "#f0f921"
            ]
           ]
          },
          "colorway": [
           "#636efa",
           "#EF553B",
           "#00cc96",
           "#ab63fa",
           "#FFA15A",
           "#19d3f3",
           "#FF6692",
           "#B6E880",
           "#FF97FF",
           "#FECB52"
          ],
          "font": {
           "color": "#2a3f5f"
          },
          "geo": {
           "bgcolor": "white",
           "lakecolor": "white",
           "landcolor": "#E5ECF6",
           "showlakes": true,
           "showland": true,
           "subunitcolor": "white"
          },
          "hoverlabel": {
           "align": "left"
          },
          "hovermode": "closest",
          "mapbox": {
           "style": "light"
          },
          "paper_bgcolor": "white",
          "plot_bgcolor": "#E5ECF6",
          "polar": {
           "angularaxis": {
            "gridcolor": "white",
            "linecolor": "white",
            "ticks": ""
           },
           "bgcolor": "#E5ECF6",
           "radialaxis": {
            "gridcolor": "white",
            "linecolor": "white",
            "ticks": ""
           }
          },
          "scene": {
           "xaxis": {
            "backgroundcolor": "#E5ECF6",
            "gridcolor": "white",
            "gridwidth": 2,
            "linecolor": "white",
            "showbackground": true,
            "ticks": "",
            "zerolinecolor": "white"
           },
           "yaxis": {
            "backgroundcolor": "#E5ECF6",
            "gridcolor": "white",
            "gridwidth": 2,
            "linecolor": "white",
            "showbackground": true,
            "ticks": "",
            "zerolinecolor": "white"
           },
           "zaxis": {
            "backgroundcolor": "#E5ECF6",
            "gridcolor": "white",
            "gridwidth": 2,
            "linecolor": "white",
            "showbackground": true,
            "ticks": "",
            "zerolinecolor": "white"
           }
          },
          "shapedefaults": {
           "line": {
            "color": "#2a3f5f"
           }
          },
          "ternary": {
           "aaxis": {
            "gridcolor": "white",
            "linecolor": "white",
            "ticks": ""
           },
           "baxis": {
            "gridcolor": "white",
            "linecolor": "white",
            "ticks": ""
           },
           "bgcolor": "#E5ECF6",
           "caxis": {
            "gridcolor": "white",
            "linecolor": "white",
            "ticks": ""
           }
          },
          "title": {
           "x": 0.05
          },
          "xaxis": {
           "automargin": true,
           "gridcolor": "white",
           "linecolor": "white",
           "ticks": "",
           "title": {
            "standoff": 15
           },
           "zerolinecolor": "white",
           "zerolinewidth": 2
          },
          "yaxis": {
           "automargin": true,
           "gridcolor": "white",
           "linecolor": "white",
           "ticks": "",
           "title": {
            "standoff": 15
           },
           "zerolinecolor": "white",
           "zerolinewidth": 2
          }
         }
        },
        "title": {
         "font": {
          "size": 24
         },
         "text": "<b>Top 3 Dominant Emotions by Social Media Platform</b>",
         "x": 0.5,
         "xanchor": "center"
        },
        "width": 1200,
        "xaxis": {
         "anchor": "y",
         "domain": [
          0,
          0.1183673469387755
         ],
         "tickvals": [
          "Neutral",
          "Anxiety",
          "Boredom"
         ],
         "title": {
          "text": "Emotion"
         }
        },
        "xaxis2": {
         "anchor": "y2",
         "domain": [
          0.14693877551020407,
          0.26530612244897955
         ],
         "tickvals": [
          "Happiness",
          "Anxiety",
          "Neutral"
         ],
         "title": {
          "text": "Emotion"
         }
        },
        "xaxis3": {
         "anchor": "y3",
         "domain": [
          0.29387755102040813,
          0.4122448979591836
         ],
         "tickvals": [
          "Boredom",
          "Anxiety",
          "Neutral"
         ],
         "title": {
          "text": "Emotion"
         }
        },
        "xaxis4": {
         "anchor": "y4",
         "domain": [
          0.4408163265306122,
          0.5591836734693877
         ],
         "tickvals": [
          "Sadness",
          "Anxiety",
          "Neutral"
         ],
         "title": {
          "text": "Emotion"
         }
        },
        "xaxis5": {
         "anchor": "y5",
         "domain": [
          0.5877551020408163,
          0.7061224489795918
         ],
         "tickvals": [
          "Neutral",
          "Sadness",
          "Anger"
         ],
         "title": {
          "text": "Emotion"
         }
        },
        "xaxis6": {
         "anchor": "y6",
         "domain": [
          0.7346938775510204,
          0.8530612244897959
         ],
         "tickvals": [
          "Anger",
          "Sadness",
          "Anxiety"
         ],
         "title": {
          "text": "Emotion"
         }
        },
        "xaxis7": {
         "anchor": "y7",
         "domain": [
          0.8816326530612244,
          0.9999999999999999
         ],
         "tickvals": [
          "Anger",
          "Anxiety",
          "Neutral"
         ],
         "title": {
          "text": "Emotion"
         }
        },
        "yaxis": {
         "anchor": "x",
         "domain": [
          0,
          1
         ],
         "title": {
          "text": "Number of Users"
         }
        },
        "yaxis2": {
         "anchor": "x2",
         "domain": [
          0,
          1
         ]
        },
        "yaxis3": {
         "anchor": "x3",
         "domain": [
          0,
          1
         ]
        },
        "yaxis4": {
         "anchor": "x4",
         "domain": [
          0,
          1
         ]
        },
        "yaxis5": {
         "anchor": "x5",
         "domain": [
          0,
          1
         ]
        },
        "yaxis6": {
         "anchor": "x6",
         "domain": [
          0,
          1
         ]
        },
        "yaxis7": {
         "anchor": "x7",
         "domain": [
          0,
          1
         ]
        }
       }
      }
     },
     "metadata": {},
     "output_type": "display_data"
    }
   ],
   "source": [
    "counts = df.groupby(['Platform', 'Dominant_Emotion']).size().reset_index(name='Count')\n",
    "\n",
    "# Get top 3 emotions per platform\n",
    "top_emotions_per_platform = (\n",
    "    counts.sort_values(['Platform', 'Count'], ascending=[True, False])\n",
    "    .groupby('Platform')\n",
    "    .head(3)\n",
    ")\n",
    "\n",
    "# Unique platforms\n",
    "platforms = top_emotions_per_platform['Platform'].unique()\n",
    "\n",
    "# Create subplots\n",
    "fig1 = make_subplots(rows=1, cols=len(platforms), subplot_titles=platforms)\n",
    "\n",
    "# Add bars for each platform\n",
    "for i, platform in enumerate(platforms):\n",
    "    platform_data = top_emotions_per_platform[top_emotions_per_platform['Platform'] == platform]\n",
    "    fig1.add_trace(\n",
    "        go.Bar(\n",
    "            x=platform_data['Dominant_Emotion'],\n",
    "            y=platform_data['Count'],\n",
    "            showlegend=False\n",
    "        ),\n",
    "        row=1, col=i+1\n",
    "    )\n",
    "    fig1.update_xaxes(title_text=\"Emotion\", tickvals=platform_data['Dominant_Emotion'], row=1, col=i+1)\n",
    "    fig1.update_yaxes(title_text=\"Number of Users\", row=1, col=1)  # Only on first subplot\n",
    "\n",
    "# Set layout\n",
    "fig1.update_layout(\n",
    "    title={\n",
    "        'text': \"<b>Top 3 Dominant Emotions by Social Media Platform</b>\",\n",
    "        'font': {'size': 24},\n",
    "        'x': 0.5,\n",
    "        'xanchor': 'center'\n",
    "    },\n",
    "    height=400,\n",
    "    width=1200,\n",
    "    margin=dict(t=80)\n",
    ")"
   ]
  },
  {
   "cell_type": "markdown",
   "id": "83a76f79",
   "metadata": {},
   "source": [
    "**Plot 2**"
   ]
  },
  {
   "cell_type": "code",
   "execution_count": 52,
   "id": "694f83f2",
   "metadata": {},
   "outputs": [
    {
     "name": "stderr",
     "output_type": "stream",
     "text": [
      "C:\\Users\\Hend-PC\\AppData\\Local\\Temp\\ipykernel_6824\\2091750928.py:17: FutureWarning:\n",
      "\n",
      "The default of observed=False is deprecated and will be changed to True in a future version of pandas. Pass observed=False to retain current behavior or observed=True to adopt the future default and silence this warning.\n",
      "\n",
      "C:\\Users\\Hend-PC\\AppData\\Local\\Temp\\ipykernel_6824\\2091750928.py:18: FutureWarning:\n",
      "\n",
      "The default of observed=False is deprecated and will be changed to True in a future version of pandas. Pass observed=False to retain current behavior or observed=True to adopt the future default and silence this warning.\n",
      "\n"
     ]
    },
    {
     "data": {
      "application/vnd.plotly.v1+json": {
       "config": {
        "plotlyServerURL": "https://plot.ly"
       },
       "data": [
        {
         "marker": {
          "color": [
           "#DC143C",
           "#FF7F50",
           "#C0C0C0",
           "#FFD700",
           "#A9A9A9",
           "#1E90FF"
          ]
         },
         "name": "0-30",
         "text": [
          "nan%",
          "nan%",
          "nan%",
          "nan%",
          "nan%",
          "nan%"
         ],
         "textposition": "auto",
         "type": "bar",
         "visible": false,
         "x": [
          "😠 Anger",
          "😰 Anxiety",
          "🥱 Boredom",
          "😊 Happiness",
          "😐 Neutral",
          "😢 Sadness"
         ],
         "y": [
          null,
          null,
          null,
          null,
          null,
          null
         ]
        },
        {
         "marker": {
          "color": [
           "#DC143C",
           "#FF7F50",
           "#C0C0C0",
           "#FFD700",
           "#A9A9A9",
           "#1E90FF"
          ]
         },
         "name": "30-60",
         "text": [
          "0.0%",
          "7.7%",
          "30.8%",
          "0.0%",
          "30.8%",
          "30.8%"
         ],
         "textposition": "auto",
         "type": "bar",
         "visible": true,
         "x": [
          "😠 Anger",
          "😰 Anxiety",
          "🥱 Boredom",
          "😊 Happiness",
          "😐 Neutral",
          "😢 Sadness"
         ],
         "y": [
          0,
          7.6923076923076925,
          30.76923076923077,
          0,
          30.76923076923077,
          30.76923076923077
         ]
        },
        {
         "marker": {
          "color": [
           "#DC143C",
           "#FF7F50",
           "#C0C0C0",
           "#FFD700",
           "#A9A9A9",
           "#1E90FF"
          ]
         },
         "name": "60-90",
         "text": [
          "13.2%",
          "21.1%",
          "23.7%",
          "2.6%",
          "28.9%",
          "10.5%"
         ],
         "textposition": "auto",
         "type": "bar",
         "visible": false,
         "x": [
          "😠 Anger",
          "😰 Anxiety",
          "🥱 Boredom",
          "😊 Happiness",
          "😐 Neutral",
          "😢 Sadness"
         ],
         "y": [
          13.157894736842104,
          21.052631578947366,
          23.684210526315788,
          2.631578947368421,
          28.947368421052634,
          10.526315789473683
         ]
        },
        {
         "marker": {
          "color": [
           "#DC143C",
           "#FF7F50",
           "#C0C0C0",
           "#FFD700",
           "#A9A9A9",
           "#1E90FF"
          ]
         },
         "name": "90-120",
         "text": [
          "30.4%",
          "17.4%",
          "4.3%",
          "8.7%",
          "13.0%",
          "26.1%"
         ],
         "textposition": "auto",
         "type": "bar",
         "visible": false,
         "x": [
          "😠 Anger",
          "😰 Anxiety",
          "🥱 Boredom",
          "😊 Happiness",
          "😐 Neutral",
          "😢 Sadness"
         ],
         "y": [
          30.434782608695656,
          17.391304347826086,
          4.3478260869565215,
          8.695652173913043,
          13.043478260869565,
          26.08695652173913
         ]
        },
        {
         "marker": {
          "color": [
           "#DC143C",
           "#FF7F50",
           "#C0C0C0",
           "#FFD700",
           "#A9A9A9",
           "#1E90FF"
          ]
         },
         "name": "120-150",
         "text": [
          "9.1%",
          "18.2%",
          "0.0%",
          "36.4%",
          "18.2%",
          "18.2%"
         ],
         "textposition": "auto",
         "type": "bar",
         "visible": false,
         "x": [
          "😠 Anger",
          "😰 Anxiety",
          "🥱 Boredom",
          "😊 Happiness",
          "😐 Neutral",
          "😢 Sadness"
         ],
         "y": [
          9.090909090909092,
          18.181818181818183,
          0,
          36.36363636363637,
          18.181818181818183,
          18.181818181818183
         ]
        },
        {
         "marker": {
          "color": [
           "#DC143C",
           "#FF7F50",
           "#C0C0C0",
           "#FFD700",
           "#A9A9A9",
           "#1E90FF"
          ]
         },
         "name": "150-180",
         "text": [
          "0.0%",
          "8.3%",
          "0.0%",
          "91.7%",
          "0.0%",
          "0.0%"
         ],
         "textposition": "auto",
         "type": "bar",
         "visible": false,
         "x": [
          "😠 Anger",
          "😰 Anxiety",
          "🥱 Boredom",
          "😊 Happiness",
          "😐 Neutral",
          "😢 Sadness"
         ],
         "y": [
          0,
          8.333333333333332,
          0,
          91.66666666666666,
          0,
          0
         ]
        },
        {
         "marker": {
          "color": [
           "#DC143C",
           "#FF7F50",
           "#C0C0C0",
           "#FFD700",
           "#A9A9A9",
           "#1E90FF"
          ]
         },
         "name": "180+",
         "text": [
          "0.0%",
          "0.0%",
          "0.0%",
          "100.0%",
          "0.0%",
          "0.0%"
         ],
         "textposition": "auto",
         "type": "bar",
         "visible": false,
         "x": [
          "😠 Anger",
          "😰 Anxiety",
          "🥱 Boredom",
          "😊 Happiness",
          "😐 Neutral",
          "😢 Sadness"
         ],
         "y": [
          0,
          0,
          0,
          100,
          0,
          0
         ]
        }
       ],
       "layout": {
        "height": 500,
        "plot_bgcolor": "white",
        "template": {
         "data": {
          "bar": [
           {
            "error_x": {
             "color": "#2a3f5f"
            },
            "error_y": {
             "color": "#2a3f5f"
            },
            "marker": {
             "line": {
              "color": "#E5ECF6",
              "width": 0.5
             },
             "pattern": {
              "fillmode": "overlay",
              "size": 10,
              "solidity": 0.2
             }
            },
            "type": "bar"
           }
          ],
          "barpolar": [
           {
            "marker": {
             "line": {
              "color": "#E5ECF6",
              "width": 0.5
             },
             "pattern": {
              "fillmode": "overlay",
              "size": 10,
              "solidity": 0.2
             }
            },
            "type": "barpolar"
           }
          ],
          "carpet": [
           {
            "aaxis": {
             "endlinecolor": "#2a3f5f",
             "gridcolor": "white",
             "linecolor": "white",
             "minorgridcolor": "white",
             "startlinecolor": "#2a3f5f"
            },
            "baxis": {
             "endlinecolor": "#2a3f5f",
             "gridcolor": "white",
             "linecolor": "white",
             "minorgridcolor": "white",
             "startlinecolor": "#2a3f5f"
            },
            "type": "carpet"
           }
          ],
          "choropleth": [
           {
            "colorbar": {
             "outlinewidth": 0,
             "ticks": ""
            },
            "type": "choropleth"
           }
          ],
          "contour": [
           {
            "colorbar": {
             "outlinewidth": 0,
             "ticks": ""
            },
            "colorscale": [
             [
              0,
              "#0d0887"
             ],
             [
              0.1111111111111111,
              "#46039f"
             ],
             [
              0.2222222222222222,
              "#7201a8"
             ],
             [
              0.3333333333333333,
              "#9c179e"
             ],
             [
              0.4444444444444444,
              "#bd3786"
             ],
             [
              0.5555555555555556,
              "#d8576b"
             ],
             [
              0.6666666666666666,
              "#ed7953"
             ],
             [
              0.7777777777777778,
              "#fb9f3a"
             ],
             [
              0.8888888888888888,
              "#fdca26"
             ],
             [
              1,
              "#f0f921"
             ]
            ],
            "type": "contour"
           }
          ],
          "contourcarpet": [
           {
            "colorbar": {
             "outlinewidth": 0,
             "ticks": ""
            },
            "type": "contourcarpet"
           }
          ],
          "heatmap": [
           {
            "colorbar": {
             "outlinewidth": 0,
             "ticks": ""
            },
            "colorscale": [
             [
              0,
              "#0d0887"
             ],
             [
              0.1111111111111111,
              "#46039f"
             ],
             [
              0.2222222222222222,
              "#7201a8"
             ],
             [
              0.3333333333333333,
              "#9c179e"
             ],
             [
              0.4444444444444444,
              "#bd3786"
             ],
             [
              0.5555555555555556,
              "#d8576b"
             ],
             [
              0.6666666666666666,
              "#ed7953"
             ],
             [
              0.7777777777777778,
              "#fb9f3a"
             ],
             [
              0.8888888888888888,
              "#fdca26"
             ],
             [
              1,
              "#f0f921"
             ]
            ],
            "type": "heatmap"
           }
          ],
          "heatmapgl": [
           {
            "colorbar": {
             "outlinewidth": 0,
             "ticks": ""
            },
            "colorscale": [
             [
              0,
              "#0d0887"
             ],
             [
              0.1111111111111111,
              "#46039f"
             ],
             [
              0.2222222222222222,
              "#7201a8"
             ],
             [
              0.3333333333333333,
              "#9c179e"
             ],
             [
              0.4444444444444444,
              "#bd3786"
             ],
             [
              0.5555555555555556,
              "#d8576b"
             ],
             [
              0.6666666666666666,
              "#ed7953"
             ],
             [
              0.7777777777777778,
              "#fb9f3a"
             ],
             [
              0.8888888888888888,
              "#fdca26"
             ],
             [
              1,
              "#f0f921"
             ]
            ],
            "type": "heatmapgl"
           }
          ],
          "histogram": [
           {
            "marker": {
             "pattern": {
              "fillmode": "overlay",
              "size": 10,
              "solidity": 0.2
             }
            },
            "type": "histogram"
           }
          ],
          "histogram2d": [
           {
            "colorbar": {
             "outlinewidth": 0,
             "ticks": ""
            },
            "colorscale": [
             [
              0,
              "#0d0887"
             ],
             [
              0.1111111111111111,
              "#46039f"
             ],
             [
              0.2222222222222222,
              "#7201a8"
             ],
             [
              0.3333333333333333,
              "#9c179e"
             ],
             [
              0.4444444444444444,
              "#bd3786"
             ],
             [
              0.5555555555555556,
              "#d8576b"
             ],
             [
              0.6666666666666666,
              "#ed7953"
             ],
             [
              0.7777777777777778,
              "#fb9f3a"
             ],
             [
              0.8888888888888888,
              "#fdca26"
             ],
             [
              1,
              "#f0f921"
             ]
            ],
            "type": "histogram2d"
           }
          ],
          "histogram2dcontour": [
           {
            "colorbar": {
             "outlinewidth": 0,
             "ticks": ""
            },
            "colorscale": [
             [
              0,
              "#0d0887"
             ],
             [
              0.1111111111111111,
              "#46039f"
             ],
             [
              0.2222222222222222,
              "#7201a8"
             ],
             [
              0.3333333333333333,
              "#9c179e"
             ],
             [
              0.4444444444444444,
              "#bd3786"
             ],
             [
              0.5555555555555556,
              "#d8576b"
             ],
             [
              0.6666666666666666,
              "#ed7953"
             ],
             [
              0.7777777777777778,
              "#fb9f3a"
             ],
             [
              0.8888888888888888,
              "#fdca26"
             ],
             [
              1,
              "#f0f921"
             ]
            ],
            "type": "histogram2dcontour"
           }
          ],
          "mesh3d": [
           {
            "colorbar": {
             "outlinewidth": 0,
             "ticks": ""
            },
            "type": "mesh3d"
           }
          ],
          "parcoords": [
           {
            "line": {
             "colorbar": {
              "outlinewidth": 0,
              "ticks": ""
             }
            },
            "type": "parcoords"
           }
          ],
          "pie": [
           {
            "automargin": true,
            "type": "pie"
           }
          ],
          "scatter": [
           {
            "fillpattern": {
             "fillmode": "overlay",
             "size": 10,
             "solidity": 0.2
            },
            "type": "scatter"
           }
          ],
          "scatter3d": [
           {
            "line": {
             "colorbar": {
              "outlinewidth": 0,
              "ticks": ""
             }
            },
            "marker": {
             "colorbar": {
              "outlinewidth": 0,
              "ticks": ""
             }
            },
            "type": "scatter3d"
           }
          ],
          "scattercarpet": [
           {
            "marker": {
             "colorbar": {
              "outlinewidth": 0,
              "ticks": ""
             }
            },
            "type": "scattercarpet"
           }
          ],
          "scattergeo": [
           {
            "marker": {
             "colorbar": {
              "outlinewidth": 0,
              "ticks": ""
             }
            },
            "type": "scattergeo"
           }
          ],
          "scattergl": [
           {
            "marker": {
             "colorbar": {
              "outlinewidth": 0,
              "ticks": ""
             }
            },
            "type": "scattergl"
           }
          ],
          "scattermapbox": [
           {
            "marker": {
             "colorbar": {
              "outlinewidth": 0,
              "ticks": ""
             }
            },
            "type": "scattermapbox"
           }
          ],
          "scatterpolar": [
           {
            "marker": {
             "colorbar": {
              "outlinewidth": 0,
              "ticks": ""
             }
            },
            "type": "scatterpolar"
           }
          ],
          "scatterpolargl": [
           {
            "marker": {
             "colorbar": {
              "outlinewidth": 0,
              "ticks": ""
             }
            },
            "type": "scatterpolargl"
           }
          ],
          "scatterternary": [
           {
            "marker": {
             "colorbar": {
              "outlinewidth": 0,
              "ticks": ""
             }
            },
            "type": "scatterternary"
           }
          ],
          "surface": [
           {
            "colorbar": {
             "outlinewidth": 0,
             "ticks": ""
            },
            "colorscale": [
             [
              0,
              "#0d0887"
             ],
             [
              0.1111111111111111,
              "#46039f"
             ],
             [
              0.2222222222222222,
              "#7201a8"
             ],
             [
              0.3333333333333333,
              "#9c179e"
             ],
             [
              0.4444444444444444,
              "#bd3786"
             ],
             [
              0.5555555555555556,
              "#d8576b"
             ],
             [
              0.6666666666666666,
              "#ed7953"
             ],
             [
              0.7777777777777778,
              "#fb9f3a"
             ],
             [
              0.8888888888888888,
              "#fdca26"
             ],
             [
              1,
              "#f0f921"
             ]
            ],
            "type": "surface"
           }
          ],
          "table": [
           {
            "cells": {
             "fill": {
              "color": "#EBF0F8"
             },
             "line": {
              "color": "white"
             }
            },
            "header": {
             "fill": {
              "color": "#C8D4E3"
             },
             "line": {
              "color": "white"
             }
            },
            "type": "table"
           }
          ]
         },
         "layout": {
          "annotationdefaults": {
           "arrowcolor": "#2a3f5f",
           "arrowhead": 0,
           "arrowwidth": 1
          },
          "autotypenumbers": "strict",
          "coloraxis": {
           "colorbar": {
            "outlinewidth": 0,
            "ticks": ""
           }
          },
          "colorscale": {
           "diverging": [
            [
             0,
             "#8e0152"
            ],
            [
             0.1,
             "#c51b7d"
            ],
            [
             0.2,
             "#de77ae"
            ],
            [
             0.3,
             "#f1b6da"
            ],
            [
             0.4,
             "#fde0ef"
            ],
            [
             0.5,
             "#f7f7f7"
            ],
            [
             0.6,
             "#e6f5d0"
            ],
            [
             0.7,
             "#b8e186"
            ],
            [
             0.8,
             "#7fbc41"
            ],
            [
             0.9,
             "#4d9221"
            ],
            [
             1,
             "#276419"
            ]
           ],
           "sequential": [
            [
             0,
             "#0d0887"
            ],
            [
             0.1111111111111111,
             "#46039f"
            ],
            [
             0.2222222222222222,
             "#7201a8"
            ],
            [
             0.3333333333333333,
             "#9c179e"
            ],
            [
             0.4444444444444444,
             "#bd3786"
            ],
            [
             0.5555555555555556,
             "#d8576b"
            ],
            [
             0.6666666666666666,
             "#ed7953"
            ],
            [
             0.7777777777777778,
             "#fb9f3a"
            ],
            [
             0.8888888888888888,
             "#fdca26"
            ],
            [
             1,
             "#f0f921"
            ]
           ],
           "sequentialminus": [
            [
             0,
             "#0d0887"
            ],
            [
             0.1111111111111111,
             "#46039f"
            ],
            [
             0.2222222222222222,
             "#7201a8"
            ],
            [
             0.3333333333333333,
             "#9c179e"
            ],
            [
             0.4444444444444444,
             "#bd3786"
            ],
            [
             0.5555555555555556,
             "#d8576b"
            ],
            [
             0.6666666666666666,
             "#ed7953"
            ],
            [
             0.7777777777777778,
             "#fb9f3a"
            ],
            [
             0.8888888888888888,
             "#fdca26"
            ],
            [
             1,
             "#f0f921"
            ]
           ]
          },
          "colorway": [
           "#636efa",
           "#EF553B",
           "#00cc96",
           "#ab63fa",
           "#FFA15A",
           "#19d3f3",
           "#FF6692",
           "#B6E880",
           "#FF97FF",
           "#FECB52"
          ],
          "font": {
           "color": "#2a3f5f"
          },
          "geo": {
           "bgcolor": "white",
           "lakecolor": "white",
           "landcolor": "#E5ECF6",
           "showlakes": true,
           "showland": true,
           "subunitcolor": "white"
          },
          "hoverlabel": {
           "align": "left"
          },
          "hovermode": "closest",
          "mapbox": {
           "style": "light"
          },
          "paper_bgcolor": "white",
          "plot_bgcolor": "#E5ECF6",
          "polar": {
           "angularaxis": {
            "gridcolor": "white",
            "linecolor": "white",
            "ticks": ""
           },
           "bgcolor": "#E5ECF6",
           "radialaxis": {
            "gridcolor": "white",
            "linecolor": "white",
            "ticks": ""
           }
          },
          "scene": {
           "xaxis": {
            "backgroundcolor": "#E5ECF6",
            "gridcolor": "white",
            "gridwidth": 2,
            "linecolor": "white",
            "showbackground": true,
            "ticks": "",
            "zerolinecolor": "white"
           },
           "yaxis": {
            "backgroundcolor": "#E5ECF6",
            "gridcolor": "white",
            "gridwidth": 2,
            "linecolor": "white",
            "showbackground": true,
            "ticks": "",
            "zerolinecolor": "white"
           },
           "zaxis": {
            "backgroundcolor": "#E5ECF6",
            "gridcolor": "white",
            "gridwidth": 2,
            "linecolor": "white",
            "showbackground": true,
            "ticks": "",
            "zerolinecolor": "white"
           }
          },
          "shapedefaults": {
           "line": {
            "color": "#2a3f5f"
           }
          },
          "ternary": {
           "aaxis": {
            "gridcolor": "white",
            "linecolor": "white",
            "ticks": ""
           },
           "baxis": {
            "gridcolor": "white",
            "linecolor": "white",
            "ticks": ""
           },
           "bgcolor": "#E5ECF6",
           "caxis": {
            "gridcolor": "white",
            "linecolor": "white",
            "ticks": ""
           }
          },
          "title": {
           "x": 0.05
          },
          "xaxis": {
           "automargin": true,
           "gridcolor": "white",
           "linecolor": "white",
           "ticks": "",
           "title": {
            "standoff": 15
           },
           "zerolinecolor": "white",
           "zerolinewidth": 2
          },
          "yaxis": {
           "automargin": true,
           "gridcolor": "white",
           "linecolor": "white",
           "ticks": "",
           "title": {
            "standoff": 15
           },
           "zerolinecolor": "white",
           "zerolinewidth": 2
          }
         }
        },
        "title": {
         "font": {
          "size": 24
         },
         "text": "<b>Dominant Emotions (30–60 min)</b>",
         "x": 0.5,
         "xanchor": "center"
        },
        "updatemenus": [
         {
          "active": 1,
          "buttons": [
           {
            "args": [
             {
              "visible": [
               true,
               false,
               false,
               false,
               false,
               false,
               false
              ]
             },
             {
              "title": {
               "font": {
                "size": 24
               },
               "text": "<b>Dominant Emotions (0-30)</b>",
               "x": 0.5,
               "xanchor": "center"
              }
             }
            ],
            "label": "0-30",
            "method": "update"
           },
           {
            "args": [
             {
              "visible": [
               false,
               true,
               false,
               false,
               false,
               false,
               false
              ]
             },
             {
              "title": {
               "font": {
                "size": 24
               },
               "text": "<b>Dominant Emotions (30-60)</b>",
               "x": 0.5,
               "xanchor": "center"
              }
             }
            ],
            "label": "30-60",
            "method": "update"
           },
           {
            "args": [
             {
              "visible": [
               false,
               false,
               true,
               false,
               false,
               false,
               false
              ]
             },
             {
              "title": {
               "font": {
                "size": 24
               },
               "text": "<b>Dominant Emotions (60-90)</b>",
               "x": 0.5,
               "xanchor": "center"
              }
             }
            ],
            "label": "60-90",
            "method": "update"
           },
           {
            "args": [
             {
              "visible": [
               false,
               false,
               false,
               true,
               false,
               false,
               false
              ]
             },
             {
              "title": {
               "font": {
                "size": 24
               },
               "text": "<b>Dominant Emotions (90-120)</b>",
               "x": 0.5,
               "xanchor": "center"
              }
             }
            ],
            "label": "90-120",
            "method": "update"
           },
           {
            "args": [
             {
              "visible": [
               false,
               false,
               false,
               false,
               true,
               false,
               false
              ]
             },
             {
              "title": {
               "font": {
                "size": 24
               },
               "text": "<b>Dominant Emotions (120-150)</b>",
               "x": 0.5,
               "xanchor": "center"
              }
             }
            ],
            "label": "120-150",
            "method": "update"
           },
           {
            "args": [
             {
              "visible": [
               false,
               false,
               false,
               false,
               false,
               true,
               false
              ]
             },
             {
              "title": {
               "font": {
                "size": 24
               },
               "text": "<b>Dominant Emotions (150-180)</b>",
               "x": 0.5,
               "xanchor": "center"
              }
             }
            ],
            "label": "150-180",
            "method": "update"
           },
           {
            "args": [
             {
              "visible": [
               false,
               false,
               false,
               false,
               false,
               false,
               true
              ]
             },
             {
              "title": {
               "font": {
                "size": 24
               },
               "text": "<b>Dominant Emotions (180+)</b>",
               "x": 0.5,
               "xanchor": "center"
              }
             }
            ],
            "label": "180+",
            "method": "update"
           }
          ],
          "x": 0.5,
          "xanchor": "center",
          "y": 1.15,
          "yanchor": "top"
         }
        ],
        "width": 800,
        "xaxis": {
         "title": {
          "text": "Dominant Emotion"
         }
        },
        "yaxis": {
         "title": {
          "text": "Percentage of Users"
         }
        }
       }
      }
     },
     "metadata": {},
     "output_type": "display_data"
    }
   ],
   "source": [
    "# Step 1: Define emojis and colors for emotions\n",
    "emotion_info = {\n",
    "    'Happiness': {'emoji': '😊', 'color': '#FFD700'},\n",
    "    'Neutral': {'emoji': '😐', 'color': '#A9A9A9'},\n",
    "    'Anxiety': {'emoji': '😰', 'color': '#FF7F50'},\n",
    "    'Sadness': {'emoji': '😢', 'color': '#1E90FF'},\n",
    "    'Boredom': {'emoji': '🥱', 'color': '#C0C0C0'},\n",
    "    'Anger': {'emoji': '😠', 'color': '#DC143C'}\n",
    "}\n",
    "\n",
    "# Step 2: Create time bins\n",
    "bins = [0, 30, 60, 90, 120, 150, 180, df['Daily_Usage_Time (minutes)'].max()]\n",
    "labels = ['0-30', '30-60', '60-90', '90-120', '120-150', '150-180', '180+']\n",
    "df['Time_Range'] = pd.cut(df['Daily_Usage_Time (minutes)'], bins=bins, labels=labels, right=False)\n",
    "\n",
    "# Step 3: Group and calculate percentages\n",
    "grouped = df.groupby(['Time_Range', 'Dominant_Emotion']).size().reset_index(name='Count')\n",
    "total_per_range = grouped.groupby('Time_Range')['Count'].transform('sum')\n",
    "grouped['Percentage'] = (grouped['Count'] / total_per_range) * 100\n",
    "\n",
    "# Step 4: Add emojis and colors\n",
    "grouped['Labeled_Emotion'] = grouped['Dominant_Emotion'].apply(lambda emo: f\"{emotion_info[emo]['emoji']} {emo}\")\n",
    "grouped['Color'] = grouped['Dominant_Emotion'].apply(lambda emo: emotion_info[emo]['color'])\n",
    "\n",
    "# Step 5: Build plot with dropdown\n",
    "fig2 = go.Figure()\n",
    "time_ranges = grouped['Time_Range'].unique().tolist()\n",
    "\n",
    "for time_range in time_ranges:\n",
    "    df_range = grouped[grouped['Time_Range'] == time_range]\n",
    "    fig2.add_trace(go.Bar(\n",
    "        x=df_range['Labeled_Emotion'],\n",
    "        y=df_range['Percentage'],\n",
    "        name=str(time_range),\n",
    "        visible=(time_range == '30-60'),\n",
    "        text=df_range['Percentage'].round(1).astype(str) + '%',\n",
    "        textposition='auto',\n",
    "        marker_color=df_range['Color']\n",
    "    ))\n",
    "\n",
    "# Step 6: Dropdown menu\n",
    "dropdown_buttons = [\n",
    "    dict(label=str(r),\n",
    "         method='update',\n",
    "         args=[{'visible': [r == tr for tr in time_ranges]},\n",
    "              {'title': {\n",
    "                'text': f\"<b>Dominant Emotions ({r})</b>\",\n",
    "                'font': {'size': 24},  \n",
    "                'x': 0.5,\n",
    "                'xanchor': 'center'\n",
    "            }}])\n",
    "    for r in time_ranges\n",
    "]\n",
    "\n",
    "fig2.update_layout(\n",
    "    title={\n",
    "        'text': \"<b>Dominant Emotions (30–60 min)</b>\",\n",
    "        'font': {'size': 24},\n",
    "        'x': 0.5,\n",
    "        'xanchor': 'center'\n",
    "    },\n",
    "    xaxis_title=\"Dominant Emotion\",\n",
    "    yaxis_title=\"Percentage of Users\",\n",
    "    updatemenus=[dict(\n",
    "        active=time_ranges.index('30-60'),\n",
    "        buttons=dropdown_buttons,\n",
    "        x=0.5,\n",
    "        xanchor=\"center\",\n",
    "        y=1.15,\n",
    "        yanchor=\"top\"\n",
    "    )],\n",
    "    plot_bgcolor='white',\n",
    "    height=500,\n",
    "    width=800\n",
    ")\n"
   ]
  },
  {
   "cell_type": "markdown",
   "id": "f15ae499",
   "metadata": {},
   "source": [
    "**Plot 3**"
   ]
  },
  {
   "cell_type": "code",
   "execution_count": 53,
   "id": "fa61be16",
   "metadata": {},
   "outputs": [
    {
     "data": {
      "application/vnd.plotly.v1+json": {
       "config": {
        "plotlyServerURL": "https://plot.ly"
       },
       "data": [
        {
         "marker": {
          "color": "steelblue"
         },
         "name": "Male",
         "text": [
          1.75,
          5.81,
          1.2,
          3,
          3.37,
          3
         ],
         "textfont": {
          "color": "black",
          "family": "Arial Black",
          "size": 12
         },
         "textposition": "outside",
         "type": "bar",
         "visible": true,
         "x": [
          "Facebook",
          "Instagram",
          "LinkedIn",
          "Telegram",
          "Twitter",
          "Whatsapp"
         ],
         "y": [
          1.75,
          5.8125,
          1.2,
          3,
          3.3727272727272726,
          3
         ]
        },
        {
         "marker": {
          "color": "mediumvioletred"
         },
         "name": "Female",
         "text": [
          1,
          5.66,
          1.5,
          3.33,
          3.43,
          3
         ],
         "textfont": {
          "color": "black",
          "family": "Arial Black",
          "size": 12
         },
         "textposition": "outside",
         "type": "bar",
         "visible": false,
         "x": [
          "Facebook",
          "Instagram",
          "LinkedIn",
          "Snapchat",
          "Twitter",
          "Whatsapp"
         ],
         "y": [
          1,
          5.65625,
          1.5,
          3.3333333333333335,
          3.4285714285714284,
          3
         ]
        },
        {
         "marker": {
          "color": "gray"
         },
         "name": "Non-binary",
         "text": [
          2.07,
          8,
          1,
          2.2,
          2,
          3.5
         ],
         "textfont": {
          "color": "black",
          "family": "Arial Black",
          "size": 12
         },
         "textposition": "outside",
         "type": "bar",
         "visible": false,
         "x": [
          "Facebook",
          "Instagram",
          "LinkedIn",
          "Snapchat",
          "Telegram",
          "Twitter"
         ],
         "y": [
          2.0714285714285716,
          8,
          1,
          2.2,
          2,
          3.5
         ]
        }
       ],
       "layout": {
        "height": 500,
        "plot_bgcolor": "white",
        "template": {
         "data": {
          "bar": [
           {
            "error_x": {
             "color": "#2a3f5f"
            },
            "error_y": {
             "color": "#2a3f5f"
            },
            "marker": {
             "line": {
              "color": "#E5ECF6",
              "width": 0.5
             },
             "pattern": {
              "fillmode": "overlay",
              "size": 10,
              "solidity": 0.2
             }
            },
            "type": "bar"
           }
          ],
          "barpolar": [
           {
            "marker": {
             "line": {
              "color": "#E5ECF6",
              "width": 0.5
             },
             "pattern": {
              "fillmode": "overlay",
              "size": 10,
              "solidity": 0.2
             }
            },
            "type": "barpolar"
           }
          ],
          "carpet": [
           {
            "aaxis": {
             "endlinecolor": "#2a3f5f",
             "gridcolor": "white",
             "linecolor": "white",
             "minorgridcolor": "white",
             "startlinecolor": "#2a3f5f"
            },
            "baxis": {
             "endlinecolor": "#2a3f5f",
             "gridcolor": "white",
             "linecolor": "white",
             "minorgridcolor": "white",
             "startlinecolor": "#2a3f5f"
            },
            "type": "carpet"
           }
          ],
          "choropleth": [
           {
            "colorbar": {
             "outlinewidth": 0,
             "ticks": ""
            },
            "type": "choropleth"
           }
          ],
          "contour": [
           {
            "colorbar": {
             "outlinewidth": 0,
             "ticks": ""
            },
            "colorscale": [
             [
              0,
              "#0d0887"
             ],
             [
              0.1111111111111111,
              "#46039f"
             ],
             [
              0.2222222222222222,
              "#7201a8"
             ],
             [
              0.3333333333333333,
              "#9c179e"
             ],
             [
              0.4444444444444444,
              "#bd3786"
             ],
             [
              0.5555555555555556,
              "#d8576b"
             ],
             [
              0.6666666666666666,
              "#ed7953"
             ],
             [
              0.7777777777777778,
              "#fb9f3a"
             ],
             [
              0.8888888888888888,
              "#fdca26"
             ],
             [
              1,
              "#f0f921"
             ]
            ],
            "type": "contour"
           }
          ],
          "contourcarpet": [
           {
            "colorbar": {
             "outlinewidth": 0,
             "ticks": ""
            },
            "type": "contourcarpet"
           }
          ],
          "heatmap": [
           {
            "colorbar": {
             "outlinewidth": 0,
             "ticks": ""
            },
            "colorscale": [
             [
              0,
              "#0d0887"
             ],
             [
              0.1111111111111111,
              "#46039f"
             ],
             [
              0.2222222222222222,
              "#7201a8"
             ],
             [
              0.3333333333333333,
              "#9c179e"
             ],
             [
              0.4444444444444444,
              "#bd3786"
             ],
             [
              0.5555555555555556,
              "#d8576b"
             ],
             [
              0.6666666666666666,
              "#ed7953"
             ],
             [
              0.7777777777777778,
              "#fb9f3a"
             ],
             [
              0.8888888888888888,
              "#fdca26"
             ],
             [
              1,
              "#f0f921"
             ]
            ],
            "type": "heatmap"
           }
          ],
          "heatmapgl": [
           {
            "colorbar": {
             "outlinewidth": 0,
             "ticks": ""
            },
            "colorscale": [
             [
              0,
              "#0d0887"
             ],
             [
              0.1111111111111111,
              "#46039f"
             ],
             [
              0.2222222222222222,
              "#7201a8"
             ],
             [
              0.3333333333333333,
              "#9c179e"
             ],
             [
              0.4444444444444444,
              "#bd3786"
             ],
             [
              0.5555555555555556,
              "#d8576b"
             ],
             [
              0.6666666666666666,
              "#ed7953"
             ],
             [
              0.7777777777777778,
              "#fb9f3a"
             ],
             [
              0.8888888888888888,
              "#fdca26"
             ],
             [
              1,
              "#f0f921"
             ]
            ],
            "type": "heatmapgl"
           }
          ],
          "histogram": [
           {
            "marker": {
             "pattern": {
              "fillmode": "overlay",
              "size": 10,
              "solidity": 0.2
             }
            },
            "type": "histogram"
           }
          ],
          "histogram2d": [
           {
            "colorbar": {
             "outlinewidth": 0,
             "ticks": ""
            },
            "colorscale": [
             [
              0,
              "#0d0887"
             ],
             [
              0.1111111111111111,
              "#46039f"
             ],
             [
              0.2222222222222222,
              "#7201a8"
             ],
             [
              0.3333333333333333,
              "#9c179e"
             ],
             [
              0.4444444444444444,
              "#bd3786"
             ],
             [
              0.5555555555555556,
              "#d8576b"
             ],
             [
              0.6666666666666666,
              "#ed7953"
             ],
             [
              0.7777777777777778,
              "#fb9f3a"
             ],
             [
              0.8888888888888888,
              "#fdca26"
             ],
             [
              1,
              "#f0f921"
             ]
            ],
            "type": "histogram2d"
           }
          ],
          "histogram2dcontour": [
           {
            "colorbar": {
             "outlinewidth": 0,
             "ticks": ""
            },
            "colorscale": [
             [
              0,
              "#0d0887"
             ],
             [
              0.1111111111111111,
              "#46039f"
             ],
             [
              0.2222222222222222,
              "#7201a8"
             ],
             [
              0.3333333333333333,
              "#9c179e"
             ],
             [
              0.4444444444444444,
              "#bd3786"
             ],
             [
              0.5555555555555556,
              "#d8576b"
             ],
             [
              0.6666666666666666,
              "#ed7953"
             ],
             [
              0.7777777777777778,
              "#fb9f3a"
             ],
             [
              0.8888888888888888,
              "#fdca26"
             ],
             [
              1,
              "#f0f921"
             ]
            ],
            "type": "histogram2dcontour"
           }
          ],
          "mesh3d": [
           {
            "colorbar": {
             "outlinewidth": 0,
             "ticks": ""
            },
            "type": "mesh3d"
           }
          ],
          "parcoords": [
           {
            "line": {
             "colorbar": {
              "outlinewidth": 0,
              "ticks": ""
             }
            },
            "type": "parcoords"
           }
          ],
          "pie": [
           {
            "automargin": true,
            "type": "pie"
           }
          ],
          "scatter": [
           {
            "fillpattern": {
             "fillmode": "overlay",
             "size": 10,
             "solidity": 0.2
            },
            "type": "scatter"
           }
          ],
          "scatter3d": [
           {
            "line": {
             "colorbar": {
              "outlinewidth": 0,
              "ticks": ""
             }
            },
            "marker": {
             "colorbar": {
              "outlinewidth": 0,
              "ticks": ""
             }
            },
            "type": "scatter3d"
           }
          ],
          "scattercarpet": [
           {
            "marker": {
             "colorbar": {
              "outlinewidth": 0,
              "ticks": ""
             }
            },
            "type": "scattercarpet"
           }
          ],
          "scattergeo": [
           {
            "marker": {
             "colorbar": {
              "outlinewidth": 0,
              "ticks": ""
             }
            },
            "type": "scattergeo"
           }
          ],
          "scattergl": [
           {
            "marker": {
             "colorbar": {
              "outlinewidth": 0,
              "ticks": ""
             }
            },
            "type": "scattergl"
           }
          ],
          "scattermapbox": [
           {
            "marker": {
             "colorbar": {
              "outlinewidth": 0,
              "ticks": ""
             }
            },
            "type": "scattermapbox"
           }
          ],
          "scatterpolar": [
           {
            "marker": {
             "colorbar": {
              "outlinewidth": 0,
              "ticks": ""
             }
            },
            "type": "scatterpolar"
           }
          ],
          "scatterpolargl": [
           {
            "marker": {
             "colorbar": {
              "outlinewidth": 0,
              "ticks": ""
             }
            },
            "type": "scatterpolargl"
           }
          ],
          "scatterternary": [
           {
            "marker": {
             "colorbar": {
              "outlinewidth": 0,
              "ticks": ""
             }
            },
            "type": "scatterternary"
           }
          ],
          "surface": [
           {
            "colorbar": {
             "outlinewidth": 0,
             "ticks": ""
            },
            "colorscale": [
             [
              0,
              "#0d0887"
             ],
             [
              0.1111111111111111,
              "#46039f"
             ],
             [
              0.2222222222222222,
              "#7201a8"
             ],
             [
              0.3333333333333333,
              "#9c179e"
             ],
             [
              0.4444444444444444,
              "#bd3786"
             ],
             [
              0.5555555555555556,
              "#d8576b"
             ],
             [
              0.6666666666666666,
              "#ed7953"
             ],
             [
              0.7777777777777778,
              "#fb9f3a"
             ],
             [
              0.8888888888888888,
              "#fdca26"
             ],
             [
              1,
              "#f0f921"
             ]
            ],
            "type": "surface"
           }
          ],
          "table": [
           {
            "cells": {
             "fill": {
              "color": "#EBF0F8"
             },
             "line": {
              "color": "white"
             }
            },
            "header": {
             "fill": {
              "color": "#C8D4E3"
             },
             "line": {
              "color": "white"
             }
            },
            "type": "table"
           }
          ]
         },
         "layout": {
          "annotationdefaults": {
           "arrowcolor": "#2a3f5f",
           "arrowhead": 0,
           "arrowwidth": 1
          },
          "autotypenumbers": "strict",
          "coloraxis": {
           "colorbar": {
            "outlinewidth": 0,
            "ticks": ""
           }
          },
          "colorscale": {
           "diverging": [
            [
             0,
             "#8e0152"
            ],
            [
             0.1,
             "#c51b7d"
            ],
            [
             0.2,
             "#de77ae"
            ],
            [
             0.3,
             "#f1b6da"
            ],
            [
             0.4,
             "#fde0ef"
            ],
            [
             0.5,
             "#f7f7f7"
            ],
            [
             0.6,
             "#e6f5d0"
            ],
            [
             0.7,
             "#b8e186"
            ],
            [
             0.8,
             "#7fbc41"
            ],
            [
             0.9,
             "#4d9221"
            ],
            [
             1,
             "#276419"
            ]
           ],
           "sequential": [
            [
             0,
             "#0d0887"
            ],
            [
             0.1111111111111111,
             "#46039f"
            ],
            [
             0.2222222222222222,
             "#7201a8"
            ],
            [
             0.3333333333333333,
             "#9c179e"
            ],
            [
             0.4444444444444444,
             "#bd3786"
            ],
            [
             0.5555555555555556,
             "#d8576b"
            ],
            [
             0.6666666666666666,
             "#ed7953"
            ],
            [
             0.7777777777777778,
             "#fb9f3a"
            ],
            [
             0.8888888888888888,
             "#fdca26"
            ],
            [
             1,
             "#f0f921"
            ]
           ],
           "sequentialminus": [
            [
             0,
             "#0d0887"
            ],
            [
             0.1111111111111111,
             "#46039f"
            ],
            [
             0.2222222222222222,
             "#7201a8"
            ],
            [
             0.3333333333333333,
             "#9c179e"
            ],
            [
             0.4444444444444444,
             "#bd3786"
            ],
            [
             0.5555555555555556,
             "#d8576b"
            ],
            [
             0.6666666666666666,
             "#ed7953"
            ],
            [
             0.7777777777777778,
             "#fb9f3a"
            ],
            [
             0.8888888888888888,
             "#fdca26"
            ],
            [
             1,
             "#f0f921"
            ]
           ]
          },
          "colorway": [
           "#636efa",
           "#EF553B",
           "#00cc96",
           "#ab63fa",
           "#FFA15A",
           "#19d3f3",
           "#FF6692",
           "#B6E880",
           "#FF97FF",
           "#FECB52"
          ],
          "font": {
           "color": "#2a3f5f"
          },
          "geo": {
           "bgcolor": "white",
           "lakecolor": "white",
           "landcolor": "#E5ECF6",
           "showlakes": true,
           "showland": true,
           "subunitcolor": "white"
          },
          "hoverlabel": {
           "align": "left"
          },
          "hovermode": "closest",
          "mapbox": {
           "style": "light"
          },
          "paper_bgcolor": "white",
          "plot_bgcolor": "#E5ECF6",
          "polar": {
           "angularaxis": {
            "gridcolor": "white",
            "linecolor": "white",
            "ticks": ""
           },
           "bgcolor": "#E5ECF6",
           "radialaxis": {
            "gridcolor": "white",
            "linecolor": "white",
            "ticks": ""
           }
          },
          "scene": {
           "xaxis": {
            "backgroundcolor": "#E5ECF6",
            "gridcolor": "white",
            "gridwidth": 2,
            "linecolor": "white",
            "showbackground": true,
            "ticks": "",
            "zerolinecolor": "white"
           },
           "yaxis": {
            "backgroundcolor": "#E5ECF6",
            "gridcolor": "white",
            "gridwidth": 2,
            "linecolor": "white",
            "showbackground": true,
            "ticks": "",
            "zerolinecolor": "white"
           },
           "zaxis": {
            "backgroundcolor": "#E5ECF6",
            "gridcolor": "white",
            "gridwidth": 2,
            "linecolor": "white",
            "showbackground": true,
            "ticks": "",
            "zerolinecolor": "white"
           }
          },
          "shapedefaults": {
           "line": {
            "color": "#2a3f5f"
           }
          },
          "ternary": {
           "aaxis": {
            "gridcolor": "white",
            "linecolor": "white",
            "ticks": ""
           },
           "baxis": {
            "gridcolor": "white",
            "linecolor": "white",
            "ticks": ""
           },
           "bgcolor": "#E5ECF6",
           "caxis": {
            "gridcolor": "white",
            "linecolor": "white",
            "ticks": ""
           }
          },
          "title": {
           "x": 0.05
          },
          "xaxis": {
           "automargin": true,
           "gridcolor": "white",
           "linecolor": "white",
           "ticks": "",
           "title": {
            "standoff": 15
           },
           "zerolinecolor": "white",
           "zerolinewidth": 2
          },
          "yaxis": {
           "automargin": true,
           "gridcolor": "white",
           "linecolor": "white",
           "ticks": "",
           "title": {
            "standoff": 15
           },
           "zerolinecolor": "white",
           "zerolinewidth": 2
          }
         }
        },
        "title": {
         "font": {
          "size": 24
         },
         "text": "<b>Average Daily Posts by Platform</b>",
         "x": 0.5,
         "xanchor": "center"
        },
        "uniformtext": {
         "minsize": 8,
         "mode": "hide"
        },
        "updatemenus": [
         {
          "active": 0,
          "buttons": [
           {
            "args": [
             {
              "visible": [
               true,
               false,
               false
              ]
             }
            ],
            "label": "Male",
            "method": "update"
           },
           {
            "args": [
             {
              "visible": [
               false,
               true,
               false
              ]
             }
            ],
            "label": "Female",
            "method": "update"
           },
           {
            "args": [
             {
              "visible": [
               false,
               false,
               true
              ]
             }
            ],
            "label": "Non-binary",
            "method": "update"
           }
          ],
          "x": 0.1,
          "xanchor": "left",
          "y": 1.15,
          "yanchor": "top"
         }
        ],
        "width": 500,
        "xaxis": {
         "tickfont": {
          "color": "black",
          "family": "Arial",
          "size": 14
         },
         "title": {
          "text": "Platform"
         }
        },
        "yaxis": {
         "tickfont": {
          "color": "black",
          "family": "Arial",
          "size": 12
         },
         "title": {
          "text": "Avg Posts Per Day"
         }
        }
       }
      }
     },
     "metadata": {},
     "output_type": "display_data"
    }
   ],
   "source": [
    "avg_posts = df.groupby(['Platform', 'Gender'])['Posts_Per_Day'].mean().reset_index()\n",
    "\n",
    "genders = ['Male'] + [g for g in avg_posts['Gender'].unique() if g != 'Male']\n",
    "platforms = avg_posts['Platform'].unique()\n",
    "\n",
    "gender_colors = {\n",
    "    'Male': 'steelblue',\n",
    "    'Female': 'mediumvioletred',\n",
    "    'Other': 'seagreen'\n",
    "}\n",
    "\n",
    "fig3 = go.Figure()\n",
    "\n",
    "# Add traces for each gender\n",
    "for gender in genders:\n",
    "    gender_data = avg_posts[avg_posts['Gender'] == gender]\n",
    "    fig3.add_trace(\n",
    "        go.Bar(\n",
    "            x=gender_data['Platform'],\n",
    "            y=gender_data['Posts_Per_Day'],\n",
    "            name=gender,\n",
    "            marker_color=gender_colors.get(gender, 'gray'),\n",
    "            text=gender_data['Posts_Per_Day'].round(2),\n",
    "            textposition='outside',\n",
    "            textfont=dict(color='black', size=12, family='Arial Black'),\n",
    "            visible=(gender == 'Male')  # Only 'Male' visible by default\n",
    "        )\n",
    "    )\n",
    "\n",
    "# Dropdown menu\n",
    "buttons = []\n",
    "for i, gender in enumerate(genders):\n",
    "    visibility = [False] * len(genders)\n",
    "    visibility[i] = True\n",
    "    buttons.append(\n",
    "        dict(\n",
    "            label=gender,\n",
    "            method=\"update\",\n",
    "            args=[\n",
    "                {\"visible\": visibility}\n",
    "            ]\n",
    "        )\n",
    "    )\n",
    "\n",
    "fig3.update_layout(\n",
    "    title={\n",
    "        'text': \"<b>Average Daily Posts by Platform</b>\",\n",
    "        'font': {'size': 24},\n",
    "        'x': 0.5,\n",
    "        'xanchor': 'center'\n",
    "    },\n",
    "    xaxis=dict(\n",
    "        title=\"Platform\",\n",
    "        tickfont=dict(family='Arial', size=14, color='black')\n",
    "    ),\n",
    "    yaxis=dict(\n",
    "        title=\"Avg Posts Per Day\",\n",
    "        tickfont=dict(family='Arial', size=12, color='black')\n",
    "    ),\n",
    "    width=500,\n",
    "    height=500,\n",
    "    updatemenus=[\n",
    "        dict(\n",
    "            active=0,\n",
    "            buttons=buttons,\n",
    "            x=0.1,\n",
    "            xanchor=\"left\",\n",
    "            y=1.15,\n",
    "            yanchor=\"top\"\n",
    "        )\n",
    "    ],\n",
    "    uniformtext_minsize=8,\n",
    "    uniformtext_mode='hide',\n",
    "    plot_bgcolor='white'\n",
    ")\n"
   ]
  },
  {
   "cell_type": "markdown",
   "id": "b584458d",
   "metadata": {},
   "source": [
    "**Plot 4**"
   ]
  },
  {
   "cell_type": "code",
   "execution_count": 54,
   "id": "04729bf3",
   "metadata": {},
   "outputs": [
    {
     "data": {
      "application/vnd.plotly.v1+json": {
       "config": {
        "plotlyServerURL": "https://plot.ly"
       },
       "data": [
        {
         "name": "Column Plot",
         "type": "bar",
         "visible": true,
         "x": [
          "Instagram",
          "Twitter",
          "Facebook",
          "LinkedIn",
          "Whatsapp",
          "Telegram",
          "Snapchat"
         ],
         "y": [
          250,
          200,
          190,
          120,
          80,
          80,
          80
         ]
        },
        {
         "name": "Bar Plot",
         "orientation": "h",
         "type": "bar",
         "visible": false,
         "x": [
          250,
          200,
          190,
          120,
          80,
          80,
          80
         ],
         "y": [
          "Instagram",
          "Twitter",
          "Facebook",
          "LinkedIn",
          "Whatsapp",
          "Telegram",
          "Snapchat"
         ]
        }
       ],
       "layout": {
        "height": 400,
        "plot_bgcolor": "white",
        "template": {
         "data": {
          "bar": [
           {
            "error_x": {
             "color": "#2a3f5f"
            },
            "error_y": {
             "color": "#2a3f5f"
            },
            "marker": {
             "line": {
              "color": "#E5ECF6",
              "width": 0.5
             },
             "pattern": {
              "fillmode": "overlay",
              "size": 10,
              "solidity": 0.2
             }
            },
            "type": "bar"
           }
          ],
          "barpolar": [
           {
            "marker": {
             "line": {
              "color": "#E5ECF6",
              "width": 0.5
             },
             "pattern": {
              "fillmode": "overlay",
              "size": 10,
              "solidity": 0.2
             }
            },
            "type": "barpolar"
           }
          ],
          "carpet": [
           {
            "aaxis": {
             "endlinecolor": "#2a3f5f",
             "gridcolor": "white",
             "linecolor": "white",
             "minorgridcolor": "white",
             "startlinecolor": "#2a3f5f"
            },
            "baxis": {
             "endlinecolor": "#2a3f5f",
             "gridcolor": "white",
             "linecolor": "white",
             "minorgridcolor": "white",
             "startlinecolor": "#2a3f5f"
            },
            "type": "carpet"
           }
          ],
          "choropleth": [
           {
            "colorbar": {
             "outlinewidth": 0,
             "ticks": ""
            },
            "type": "choropleth"
           }
          ],
          "contour": [
           {
            "colorbar": {
             "outlinewidth": 0,
             "ticks": ""
            },
            "colorscale": [
             [
              0,
              "#0d0887"
             ],
             [
              0.1111111111111111,
              "#46039f"
             ],
             [
              0.2222222222222222,
              "#7201a8"
             ],
             [
              0.3333333333333333,
              "#9c179e"
             ],
             [
              0.4444444444444444,
              "#bd3786"
             ],
             [
              0.5555555555555556,
              "#d8576b"
             ],
             [
              0.6666666666666666,
              "#ed7953"
             ],
             [
              0.7777777777777778,
              "#fb9f3a"
             ],
             [
              0.8888888888888888,
              "#fdca26"
             ],
             [
              1,
              "#f0f921"
             ]
            ],
            "type": "contour"
           }
          ],
          "contourcarpet": [
           {
            "colorbar": {
             "outlinewidth": 0,
             "ticks": ""
            },
            "type": "contourcarpet"
           }
          ],
          "heatmap": [
           {
            "colorbar": {
             "outlinewidth": 0,
             "ticks": ""
            },
            "colorscale": [
             [
              0,
              "#0d0887"
             ],
             [
              0.1111111111111111,
              "#46039f"
             ],
             [
              0.2222222222222222,
              "#7201a8"
             ],
             [
              0.3333333333333333,
              "#9c179e"
             ],
             [
              0.4444444444444444,
              "#bd3786"
             ],
             [
              0.5555555555555556,
              "#d8576b"
             ],
             [
              0.6666666666666666,
              "#ed7953"
             ],
             [
              0.7777777777777778,
              "#fb9f3a"
             ],
             [
              0.8888888888888888,
              "#fdca26"
             ],
             [
              1,
              "#f0f921"
             ]
            ],
            "type": "heatmap"
           }
          ],
          "heatmapgl": [
           {
            "colorbar": {
             "outlinewidth": 0,
             "ticks": ""
            },
            "colorscale": [
             [
              0,
              "#0d0887"
             ],
             [
              0.1111111111111111,
              "#46039f"
             ],
             [
              0.2222222222222222,
              "#7201a8"
             ],
             [
              0.3333333333333333,
              "#9c179e"
             ],
             [
              0.4444444444444444,
              "#bd3786"
             ],
             [
              0.5555555555555556,
              "#d8576b"
             ],
             [
              0.6666666666666666,
              "#ed7953"
             ],
             [
              0.7777777777777778,
              "#fb9f3a"
             ],
             [
              0.8888888888888888,
              "#fdca26"
             ],
             [
              1,
              "#f0f921"
             ]
            ],
            "type": "heatmapgl"
           }
          ],
          "histogram": [
           {
            "marker": {
             "pattern": {
              "fillmode": "overlay",
              "size": 10,
              "solidity": 0.2
             }
            },
            "type": "histogram"
           }
          ],
          "histogram2d": [
           {
            "colorbar": {
             "outlinewidth": 0,
             "ticks": ""
            },
            "colorscale": [
             [
              0,
              "#0d0887"
             ],
             [
              0.1111111111111111,
              "#46039f"
             ],
             [
              0.2222222222222222,
              "#7201a8"
             ],
             [
              0.3333333333333333,
              "#9c179e"
             ],
             [
              0.4444444444444444,
              "#bd3786"
             ],
             [
              0.5555555555555556,
              "#d8576b"
             ],
             [
              0.6666666666666666,
              "#ed7953"
             ],
             [
              0.7777777777777778,
              "#fb9f3a"
             ],
             [
              0.8888888888888888,
              "#fdca26"
             ],
             [
              1,
              "#f0f921"
             ]
            ],
            "type": "histogram2d"
           }
          ],
          "histogram2dcontour": [
           {
            "colorbar": {
             "outlinewidth": 0,
             "ticks": ""
            },
            "colorscale": [
             [
              0,
              "#0d0887"
             ],
             [
              0.1111111111111111,
              "#46039f"
             ],
             [
              0.2222222222222222,
              "#7201a8"
             ],
             [
              0.3333333333333333,
              "#9c179e"
             ],
             [
              0.4444444444444444,
              "#bd3786"
             ],
             [
              0.5555555555555556,
              "#d8576b"
             ],
             [
              0.6666666666666666,
              "#ed7953"
             ],
             [
              0.7777777777777778,
              "#fb9f3a"
             ],
             [
              0.8888888888888888,
              "#fdca26"
             ],
             [
              1,
              "#f0f921"
             ]
            ],
            "type": "histogram2dcontour"
           }
          ],
          "mesh3d": [
           {
            "colorbar": {
             "outlinewidth": 0,
             "ticks": ""
            },
            "type": "mesh3d"
           }
          ],
          "parcoords": [
           {
            "line": {
             "colorbar": {
              "outlinewidth": 0,
              "ticks": ""
             }
            },
            "type": "parcoords"
           }
          ],
          "pie": [
           {
            "automargin": true,
            "type": "pie"
           }
          ],
          "scatter": [
           {
            "fillpattern": {
             "fillmode": "overlay",
             "size": 10,
             "solidity": 0.2
            },
            "type": "scatter"
           }
          ],
          "scatter3d": [
           {
            "line": {
             "colorbar": {
              "outlinewidth": 0,
              "ticks": ""
             }
            },
            "marker": {
             "colorbar": {
              "outlinewidth": 0,
              "ticks": ""
             }
            },
            "type": "scatter3d"
           }
          ],
          "scattercarpet": [
           {
            "marker": {
             "colorbar": {
              "outlinewidth": 0,
              "ticks": ""
             }
            },
            "type": "scattercarpet"
           }
          ],
          "scattergeo": [
           {
            "marker": {
             "colorbar": {
              "outlinewidth": 0,
              "ticks": ""
             }
            },
            "type": "scattergeo"
           }
          ],
          "scattergl": [
           {
            "marker": {
             "colorbar": {
              "outlinewidth": 0,
              "ticks": ""
             }
            },
            "type": "scattergl"
           }
          ],
          "scattermapbox": [
           {
            "marker": {
             "colorbar": {
              "outlinewidth": 0,
              "ticks": ""
             }
            },
            "type": "scattermapbox"
           }
          ],
          "scatterpolar": [
           {
            "marker": {
             "colorbar": {
              "outlinewidth": 0,
              "ticks": ""
             }
            },
            "type": "scatterpolar"
           }
          ],
          "scatterpolargl": [
           {
            "marker": {
             "colorbar": {
              "outlinewidth": 0,
              "ticks": ""
             }
            },
            "type": "scatterpolargl"
           }
          ],
          "scatterternary": [
           {
            "marker": {
             "colorbar": {
              "outlinewidth": 0,
              "ticks": ""
             }
            },
            "type": "scatterternary"
           }
          ],
          "surface": [
           {
            "colorbar": {
             "outlinewidth": 0,
             "ticks": ""
            },
            "colorscale": [
             [
              0,
              "#0d0887"
             ],
             [
              0.1111111111111111,
              "#46039f"
             ],
             [
              0.2222222222222222,
              "#7201a8"
             ],
             [
              0.3333333333333333,
              "#9c179e"
             ],
             [
              0.4444444444444444,
              "#bd3786"
             ],
             [
              0.5555555555555556,
              "#d8576b"
             ],
             [
              0.6666666666666666,
              "#ed7953"
             ],
             [
              0.7777777777777778,
              "#fb9f3a"
             ],
             [
              0.8888888888888888,
              "#fdca26"
             ],
             [
              1,
              "#f0f921"
             ]
            ],
            "type": "surface"
           }
          ],
          "table": [
           {
            "cells": {
             "fill": {
              "color": "#EBF0F8"
             },
             "line": {
              "color": "white"
             }
            },
            "header": {
             "fill": {
              "color": "#C8D4E3"
             },
             "line": {
              "color": "white"
             }
            },
            "type": "table"
           }
          ]
         },
         "layout": {
          "annotationdefaults": {
           "arrowcolor": "#2a3f5f",
           "arrowhead": 0,
           "arrowwidth": 1
          },
          "autotypenumbers": "strict",
          "coloraxis": {
           "colorbar": {
            "outlinewidth": 0,
            "ticks": ""
           }
          },
          "colorscale": {
           "diverging": [
            [
             0,
             "#8e0152"
            ],
            [
             0.1,
             "#c51b7d"
            ],
            [
             0.2,
             "#de77ae"
            ],
            [
             0.3,
             "#f1b6da"
            ],
            [
             0.4,
             "#fde0ef"
            ],
            [
             0.5,
             "#f7f7f7"
            ],
            [
             0.6,
             "#e6f5d0"
            ],
            [
             0.7,
             "#b8e186"
            ],
            [
             0.8,
             "#7fbc41"
            ],
            [
             0.9,
             "#4d9221"
            ],
            [
             1,
             "#276419"
            ]
           ],
           "sequential": [
            [
             0,
             "#0d0887"
            ],
            [
             0.1111111111111111,
             "#46039f"
            ],
            [
             0.2222222222222222,
             "#7201a8"
            ],
            [
             0.3333333333333333,
             "#9c179e"
            ],
            [
             0.4444444444444444,
             "#bd3786"
            ],
            [
             0.5555555555555556,
             "#d8576b"
            ],
            [
             0.6666666666666666,
             "#ed7953"
            ],
            [
             0.7777777777777778,
             "#fb9f3a"
            ],
            [
             0.8888888888888888,
             "#fdca26"
            ],
            [
             1,
             "#f0f921"
            ]
           ],
           "sequentialminus": [
            [
             0,
             "#0d0887"
            ],
            [
             0.1111111111111111,
             "#46039f"
            ],
            [
             0.2222222222222222,
             "#7201a8"
            ],
            [
             0.3333333333333333,
             "#9c179e"
            ],
            [
             0.4444444444444444,
             "#bd3786"
            ],
            [
             0.5555555555555556,
             "#d8576b"
            ],
            [
             0.6666666666666666,
             "#ed7953"
            ],
            [
             0.7777777777777778,
             "#fb9f3a"
            ],
            [
             0.8888888888888888,
             "#fdca26"
            ],
            [
             1,
             "#f0f921"
            ]
           ]
          },
          "colorway": [
           "#636efa",
           "#EF553B",
           "#00cc96",
           "#ab63fa",
           "#FFA15A",
           "#19d3f3",
           "#FF6692",
           "#B6E880",
           "#FF97FF",
           "#FECB52"
          ],
          "font": {
           "color": "#2a3f5f"
          },
          "geo": {
           "bgcolor": "white",
           "lakecolor": "white",
           "landcolor": "#E5ECF6",
           "showlakes": true,
           "showland": true,
           "subunitcolor": "white"
          },
          "hoverlabel": {
           "align": "left"
          },
          "hovermode": "closest",
          "mapbox": {
           "style": "light"
          },
          "paper_bgcolor": "white",
          "plot_bgcolor": "#E5ECF6",
          "polar": {
           "angularaxis": {
            "gridcolor": "white",
            "linecolor": "white",
            "ticks": ""
           },
           "bgcolor": "#E5ECF6",
           "radialaxis": {
            "gridcolor": "white",
            "linecolor": "white",
            "ticks": ""
           }
          },
          "scene": {
           "xaxis": {
            "backgroundcolor": "#E5ECF6",
            "gridcolor": "white",
            "gridwidth": 2,
            "linecolor": "white",
            "showbackground": true,
            "ticks": "",
            "zerolinecolor": "white"
           },
           "yaxis": {
            "backgroundcolor": "#E5ECF6",
            "gridcolor": "white",
            "gridwidth": 2,
            "linecolor": "white",
            "showbackground": true,
            "ticks": "",
            "zerolinecolor": "white"
           },
           "zaxis": {
            "backgroundcolor": "#E5ECF6",
            "gridcolor": "white",
            "gridwidth": 2,
            "linecolor": "white",
            "showbackground": true,
            "ticks": "",
            "zerolinecolor": "white"
           }
          },
          "shapedefaults": {
           "line": {
            "color": "#2a3f5f"
           }
          },
          "ternary": {
           "aaxis": {
            "gridcolor": "white",
            "linecolor": "white",
            "ticks": ""
           },
           "baxis": {
            "gridcolor": "white",
            "linecolor": "white",
            "ticks": ""
           },
           "bgcolor": "#E5ECF6",
           "caxis": {
            "gridcolor": "white",
            "linecolor": "white",
            "ticks": ""
           }
          },
          "title": {
           "x": 0.05
          },
          "xaxis": {
           "automargin": true,
           "gridcolor": "white",
           "linecolor": "white",
           "ticks": "",
           "title": {
            "standoff": 15
           },
           "zerolinecolor": "white",
           "zerolinewidth": 2
          },
          "yaxis": {
           "automargin": true,
           "gridcolor": "white",
           "linecolor": "white",
           "ticks": "",
           "title": {
            "standoff": 15
           },
           "zerolinecolor": "white",
           "zerolinewidth": 2
          }
         }
        },
        "title": {
         "font": {
          "size": 24
         },
         "text": "<b>Most Popular Platforms</b>",
         "x": 0.5,
         "xanchor": "center"
        },
        "updatemenus": [
         {
          "active": 0,
          "buttons": [
           {
            "args": [
             {
              "visible": [
               true,
               false
              ]
             },
             {
              "xaxis": {
               "title": "Platform"
              },
              "yaxis": {
               "title": "Number of Users"
              }
             }
            ],
            "label": "Column Plot",
            "method": "update"
           },
           {
            "args": [
             {
              "visible": [
               false,
               true
              ]
             },
             {
              "xaxis": {
               "title": "Number of Users"
              },
              "yaxis": {
               "title": "Platform"
              }
             }
            ],
            "label": "Bar Plot",
            "method": "update"
           }
          ],
          "direction": "down",
          "x": 0.5,
          "xanchor": "center",
          "y": 1.15,
          "yanchor": "top"
         }
        ],
        "width": 800,
        "xaxis": {
         "title": {
          "text": "Platform"
         }
        },
        "yaxis": {
         "title": {
          "text": "Number of Users"
         }
        }
       }
      }
     },
     "metadata": {},
     "output_type": "display_data"
    }
   ],
   "source": [
    "# === Plot 4 Code ===\n",
    "\n",
    "# Count users per platform\n",
    "platform_counts = df['Platform'].value_counts().reset_index()\n",
    "platform_counts.columns = ['Platform', 'Number of Users']\n",
    "\n",
    "# Create figure with two bar orientations\n",
    "fig4 = go.Figure()\n",
    "\n",
    "# Column chart (vertical bars)\n",
    "fig4.add_trace(\n",
    "    go.Bar(\n",
    "        x=platform_counts['Platform'],\n",
    "        y=platform_counts['Number of Users'],\n",
    "        name='Column Plot',\n",
    "        visible=True\n",
    "    )\n",
    ")\n",
    "\n",
    "# Horizontal bar chart\n",
    "fig4.add_trace(\n",
    "    go.Bar(\n",
    "        x=platform_counts['Number of Users'],\n",
    "        y=platform_counts['Platform'],\n",
    "        orientation='h',\n",
    "        name='Bar Plot',\n",
    "        visible=False\n",
    "    )\n",
    ")\n",
    "\n",
    "# Dropdown toggle\n",
    "fig4.update_layout(\n",
    "    updatemenus=[\n",
    "        dict(\n",
    "            active=0,\n",
    "            buttons=list([\n",
    "                dict(label=\"Column Plot\",\n",
    "                     method=\"update\",\n",
    "                     args=[{\"visible\": [True, False]},\n",
    "                           {\"xaxis\": {\"title\": \"Platform\"},\n",
    "                            \"yaxis\": {\"title\": \"Number of Users\"}}]),\n",
    "                dict(label=\"Bar Plot\",\n",
    "                     method=\"update\",\n",
    "                     args=[{\"visible\": [False, True]},\n",
    "                           {\"xaxis\": {\"title\": \"Number of Users\"},\n",
    "                            \"yaxis\": {\"title\": \"Platform\"}}])\n",
    "            ]),\n",
    "            direction=\"down\",\n",
    "            x=0.5,\n",
    "            xanchor=\"center\",\n",
    "            y=1.15,\n",
    "            yanchor=\"top\"\n",
    "        )\n",
    "    ],\n",
    "    title={\n",
    "        'text': \"<b>Most Popular Platforms</b>\",\n",
    "        'font': {'size': 24},\n",
    "        'x': 0.5,\n",
    "        'xanchor': 'center'\n",
    "    },\n",
    "    xaxis_title=\"Platform\",\n",
    "    yaxis_title=\"Number of Users\",\n",
    "    plot_bgcolor='white',\n",
    "    height=400,\n",
    "    width=800\n",
    ")\n",
    "\n",
    "#\n"
   ]
  },
  {
   "cell_type": "markdown",
   "id": "73e574ea",
   "metadata": {},
   "source": [
    "**Plot 5**"
   ]
  },
  {
   "cell_type": "code",
   "execution_count": 55,
   "id": "2a9f4771",
   "metadata": {},
   "outputs": [
    {
     "data": {
      "application/vnd.plotly.v1+json": {
       "config": {
        "plotlyServerURL": "https://plot.ly"
       },
       "data": [
        {
         "marker": {
          "color": "#66c2a5"
         },
         "name": "Likes",
         "type": "bar",
         "visible": true,
         "x": [
          "Anger",
          "Anxiety",
          "Boredom",
          "Happiness",
          "Neutral",
          "Sadness"
         ],
         "y": [
          38.19230769230769,
          40.082352941176474,
          15.407142857142857,
          75.62,
          27.75,
          33.05
         ]
        },
        {
         "marker": {
          "color": "#fc8d62"
         },
         "name": "Comments",
         "type": "bar",
         "visible": false,
         "x": [
          "Anger",
          "Anxiety",
          "Boredom",
          "Happiness",
          "Neutral",
          "Sadness"
         ],
         "y": [
          18.49230769230769,
          15.288235294117648,
          7.0285714285714285,
          26.925,
          10.945,
          12.8125
         ]
        },
        {
         "marker": {
          "color": "#66c2a5"
         },
         "name": "Likes",
         "type": "bar",
         "visible": false,
         "x": [
          "Anger",
          "Anxiety",
          "Boredom",
          "Happiness",
          "Neutral",
          "Sadness"
         ],
         "y": [
          38.19230769230769,
          40.082352941176474,
          15.407142857142857,
          75.62,
          27.75,
          33.05
         ]
        },
        {
         "marker": {
          "color": "#fc8d62"
         },
         "name": "Comments",
         "type": "bar",
         "visible": false,
         "x": [
          "Anger",
          "Anxiety",
          "Boredom",
          "Happiness",
          "Neutral",
          "Sadness"
         ],
         "y": [
          18.49230769230769,
          15.288235294117648,
          7.0285714285714285,
          26.925,
          10.945,
          12.8125
         ]
        }
       ],
       "layout": {
        "height": 400,
        "template": {
         "data": {
          "bar": [
           {
            "error_x": {
             "color": "#2a3f5f"
            },
            "error_y": {
             "color": "#2a3f5f"
            },
            "marker": {
             "line": {
              "color": "white",
              "width": 0.5
             },
             "pattern": {
              "fillmode": "overlay",
              "size": 10,
              "solidity": 0.2
             }
            },
            "type": "bar"
           }
          ],
          "barpolar": [
           {
            "marker": {
             "line": {
              "color": "white",
              "width": 0.5
             },
             "pattern": {
              "fillmode": "overlay",
              "size": 10,
              "solidity": 0.2
             }
            },
            "type": "barpolar"
           }
          ],
          "carpet": [
           {
            "aaxis": {
             "endlinecolor": "#2a3f5f",
             "gridcolor": "#C8D4E3",
             "linecolor": "#C8D4E3",
             "minorgridcolor": "#C8D4E3",
             "startlinecolor": "#2a3f5f"
            },
            "baxis": {
             "endlinecolor": "#2a3f5f",
             "gridcolor": "#C8D4E3",
             "linecolor": "#C8D4E3",
             "minorgridcolor": "#C8D4E3",
             "startlinecolor": "#2a3f5f"
            },
            "type": "carpet"
           }
          ],
          "choropleth": [
           {
            "colorbar": {
             "outlinewidth": 0,
             "ticks": ""
            },
            "type": "choropleth"
           }
          ],
          "contour": [
           {
            "colorbar": {
             "outlinewidth": 0,
             "ticks": ""
            },
            "colorscale": [
             [
              0,
              "#0d0887"
             ],
             [
              0.1111111111111111,
              "#46039f"
             ],
             [
              0.2222222222222222,
              "#7201a8"
             ],
             [
              0.3333333333333333,
              "#9c179e"
             ],
             [
              0.4444444444444444,
              "#bd3786"
             ],
             [
              0.5555555555555556,
              "#d8576b"
             ],
             [
              0.6666666666666666,
              "#ed7953"
             ],
             [
              0.7777777777777778,
              "#fb9f3a"
             ],
             [
              0.8888888888888888,
              "#fdca26"
             ],
             [
              1,
              "#f0f921"
             ]
            ],
            "type": "contour"
           }
          ],
          "contourcarpet": [
           {
            "colorbar": {
             "outlinewidth": 0,
             "ticks": ""
            },
            "type": "contourcarpet"
           }
          ],
          "heatmap": [
           {
            "colorbar": {
             "outlinewidth": 0,
             "ticks": ""
            },
            "colorscale": [
             [
              0,
              "#0d0887"
             ],
             [
              0.1111111111111111,
              "#46039f"
             ],
             [
              0.2222222222222222,
              "#7201a8"
             ],
             [
              0.3333333333333333,
              "#9c179e"
             ],
             [
              0.4444444444444444,
              "#bd3786"
             ],
             [
              0.5555555555555556,
              "#d8576b"
             ],
             [
              0.6666666666666666,
              "#ed7953"
             ],
             [
              0.7777777777777778,
              "#fb9f3a"
             ],
             [
              0.8888888888888888,
              "#fdca26"
             ],
             [
              1,
              "#f0f921"
             ]
            ],
            "type": "heatmap"
           }
          ],
          "heatmapgl": [
           {
            "colorbar": {
             "outlinewidth": 0,
             "ticks": ""
            },
            "colorscale": [
             [
              0,
              "#0d0887"
             ],
             [
              0.1111111111111111,
              "#46039f"
             ],
             [
              0.2222222222222222,
              "#7201a8"
             ],
             [
              0.3333333333333333,
              "#9c179e"
             ],
             [
              0.4444444444444444,
              "#bd3786"
             ],
             [
              0.5555555555555556,
              "#d8576b"
             ],
             [
              0.6666666666666666,
              "#ed7953"
             ],
             [
              0.7777777777777778,
              "#fb9f3a"
             ],
             [
              0.8888888888888888,
              "#fdca26"
             ],
             [
              1,
              "#f0f921"
             ]
            ],
            "type": "heatmapgl"
           }
          ],
          "histogram": [
           {
            "marker": {
             "pattern": {
              "fillmode": "overlay",
              "size": 10,
              "solidity": 0.2
             }
            },
            "type": "histogram"
           }
          ],
          "histogram2d": [
           {
            "colorbar": {
             "outlinewidth": 0,
             "ticks": ""
            },
            "colorscale": [
             [
              0,
              "#0d0887"
             ],
             [
              0.1111111111111111,
              "#46039f"
             ],
             [
              0.2222222222222222,
              "#7201a8"
             ],
             [
              0.3333333333333333,
              "#9c179e"
             ],
             [
              0.4444444444444444,
              "#bd3786"
             ],
             [
              0.5555555555555556,
              "#d8576b"
             ],
             [
              0.6666666666666666,
              "#ed7953"
             ],
             [
              0.7777777777777778,
              "#fb9f3a"
             ],
             [
              0.8888888888888888,
              "#fdca26"
             ],
             [
              1,
              "#f0f921"
             ]
            ],
            "type": "histogram2d"
           }
          ],
          "histogram2dcontour": [
           {
            "colorbar": {
             "outlinewidth": 0,
             "ticks": ""
            },
            "colorscale": [
             [
              0,
              "#0d0887"
             ],
             [
              0.1111111111111111,
              "#46039f"
             ],
             [
              0.2222222222222222,
              "#7201a8"
             ],
             [
              0.3333333333333333,
              "#9c179e"
             ],
             [
              0.4444444444444444,
              "#bd3786"
             ],
             [
              0.5555555555555556,
              "#d8576b"
             ],
             [
              0.6666666666666666,
              "#ed7953"
             ],
             [
              0.7777777777777778,
              "#fb9f3a"
             ],
             [
              0.8888888888888888,
              "#fdca26"
             ],
             [
              1,
              "#f0f921"
             ]
            ],
            "type": "histogram2dcontour"
           }
          ],
          "mesh3d": [
           {
            "colorbar": {
             "outlinewidth": 0,
             "ticks": ""
            },
            "type": "mesh3d"
           }
          ],
          "parcoords": [
           {
            "line": {
             "colorbar": {
              "outlinewidth": 0,
              "ticks": ""
             }
            },
            "type": "parcoords"
           }
          ],
          "pie": [
           {
            "automargin": true,
            "type": "pie"
           }
          ],
          "scatter": [
           {
            "fillpattern": {
             "fillmode": "overlay",
             "size": 10,
             "solidity": 0.2
            },
            "type": "scatter"
           }
          ],
          "scatter3d": [
           {
            "line": {
             "colorbar": {
              "outlinewidth": 0,
              "ticks": ""
             }
            },
            "marker": {
             "colorbar": {
              "outlinewidth": 0,
              "ticks": ""
             }
            },
            "type": "scatter3d"
           }
          ],
          "scattercarpet": [
           {
            "marker": {
             "colorbar": {
              "outlinewidth": 0,
              "ticks": ""
             }
            },
            "type": "scattercarpet"
           }
          ],
          "scattergeo": [
           {
            "marker": {
             "colorbar": {
              "outlinewidth": 0,
              "ticks": ""
             }
            },
            "type": "scattergeo"
           }
          ],
          "scattergl": [
           {
            "marker": {
             "colorbar": {
              "outlinewidth": 0,
              "ticks": ""
             }
            },
            "type": "scattergl"
           }
          ],
          "scattermapbox": [
           {
            "marker": {
             "colorbar": {
              "outlinewidth": 0,
              "ticks": ""
             }
            },
            "type": "scattermapbox"
           }
          ],
          "scatterpolar": [
           {
            "marker": {
             "colorbar": {
              "outlinewidth": 0,
              "ticks": ""
             }
            },
            "type": "scatterpolar"
           }
          ],
          "scatterpolargl": [
           {
            "marker": {
             "colorbar": {
              "outlinewidth": 0,
              "ticks": ""
             }
            },
            "type": "scatterpolargl"
           }
          ],
          "scatterternary": [
           {
            "marker": {
             "colorbar": {
              "outlinewidth": 0,
              "ticks": ""
             }
            },
            "type": "scatterternary"
           }
          ],
          "surface": [
           {
            "colorbar": {
             "outlinewidth": 0,
             "ticks": ""
            },
            "colorscale": [
             [
              0,
              "#0d0887"
             ],
             [
              0.1111111111111111,
              "#46039f"
             ],
             [
              0.2222222222222222,
              "#7201a8"
             ],
             [
              0.3333333333333333,
              "#9c179e"
             ],
             [
              0.4444444444444444,
              "#bd3786"
             ],
             [
              0.5555555555555556,
              "#d8576b"
             ],
             [
              0.6666666666666666,
              "#ed7953"
             ],
             [
              0.7777777777777778,
              "#fb9f3a"
             ],
             [
              0.8888888888888888,
              "#fdca26"
             ],
             [
              1,
              "#f0f921"
             ]
            ],
            "type": "surface"
           }
          ],
          "table": [
           {
            "cells": {
             "fill": {
              "color": "#EBF0F8"
             },
             "line": {
              "color": "white"
             }
            },
            "header": {
             "fill": {
              "color": "#C8D4E3"
             },
             "line": {
              "color": "white"
             }
            },
            "type": "table"
           }
          ]
         },
         "layout": {
          "annotationdefaults": {
           "arrowcolor": "#2a3f5f",
           "arrowhead": 0,
           "arrowwidth": 1
          },
          "autotypenumbers": "strict",
          "coloraxis": {
           "colorbar": {
            "outlinewidth": 0,
            "ticks": ""
           }
          },
          "colorscale": {
           "diverging": [
            [
             0,
             "#8e0152"
            ],
            [
             0.1,
             "#c51b7d"
            ],
            [
             0.2,
             "#de77ae"
            ],
            [
             0.3,
             "#f1b6da"
            ],
            [
             0.4,
             "#fde0ef"
            ],
            [
             0.5,
             "#f7f7f7"
            ],
            [
             0.6,
             "#e6f5d0"
            ],
            [
             0.7,
             "#b8e186"
            ],
            [
             0.8,
             "#7fbc41"
            ],
            [
             0.9,
             "#4d9221"
            ],
            [
             1,
             "#276419"
            ]
           ],
           "sequential": [
            [
             0,
             "#0d0887"
            ],
            [
             0.1111111111111111,
             "#46039f"
            ],
            [
             0.2222222222222222,
             "#7201a8"
            ],
            [
             0.3333333333333333,
             "#9c179e"
            ],
            [
             0.4444444444444444,
             "#bd3786"
            ],
            [
             0.5555555555555556,
             "#d8576b"
            ],
            [
             0.6666666666666666,
             "#ed7953"
            ],
            [
             0.7777777777777778,
             "#fb9f3a"
            ],
            [
             0.8888888888888888,
             "#fdca26"
            ],
            [
             1,
             "#f0f921"
            ]
           ],
           "sequentialminus": [
            [
             0,
             "#0d0887"
            ],
            [
             0.1111111111111111,
             "#46039f"
            ],
            [
             0.2222222222222222,
             "#7201a8"
            ],
            [
             0.3333333333333333,
             "#9c179e"
            ],
            [
             0.4444444444444444,
             "#bd3786"
            ],
            [
             0.5555555555555556,
             "#d8576b"
            ],
            [
             0.6666666666666666,
             "#ed7953"
            ],
            [
             0.7777777777777778,
             "#fb9f3a"
            ],
            [
             0.8888888888888888,
             "#fdca26"
            ],
            [
             1,
             "#f0f921"
            ]
           ]
          },
          "colorway": [
           "#636efa",
           "#EF553B",
           "#00cc96",
           "#ab63fa",
           "#FFA15A",
           "#19d3f3",
           "#FF6692",
           "#B6E880",
           "#FF97FF",
           "#FECB52"
          ],
          "font": {
           "color": "#2a3f5f"
          },
          "geo": {
           "bgcolor": "white",
           "lakecolor": "white",
           "landcolor": "white",
           "showlakes": true,
           "showland": true,
           "subunitcolor": "#C8D4E3"
          },
          "hoverlabel": {
           "align": "left"
          },
          "hovermode": "closest",
          "mapbox": {
           "style": "light"
          },
          "paper_bgcolor": "white",
          "plot_bgcolor": "white",
          "polar": {
           "angularaxis": {
            "gridcolor": "#EBF0F8",
            "linecolor": "#EBF0F8",
            "ticks": ""
           },
           "bgcolor": "white",
           "radialaxis": {
            "gridcolor": "#EBF0F8",
            "linecolor": "#EBF0F8",
            "ticks": ""
           }
          },
          "scene": {
           "xaxis": {
            "backgroundcolor": "white",
            "gridcolor": "#DFE8F3",
            "gridwidth": 2,
            "linecolor": "#EBF0F8",
            "showbackground": true,
            "ticks": "",
            "zerolinecolor": "#EBF0F8"
           },
           "yaxis": {
            "backgroundcolor": "white",
            "gridcolor": "#DFE8F3",
            "gridwidth": 2,
            "linecolor": "#EBF0F8",
            "showbackground": true,
            "ticks": "",
            "zerolinecolor": "#EBF0F8"
           },
           "zaxis": {
            "backgroundcolor": "white",
            "gridcolor": "#DFE8F3",
            "gridwidth": 2,
            "linecolor": "#EBF0F8",
            "showbackground": true,
            "ticks": "",
            "zerolinecolor": "#EBF0F8"
           }
          },
          "shapedefaults": {
           "line": {
            "color": "#2a3f5f"
           }
          },
          "ternary": {
           "aaxis": {
            "gridcolor": "#DFE8F3",
            "linecolor": "#A2B1C6",
            "ticks": ""
           },
           "baxis": {
            "gridcolor": "#DFE8F3",
            "linecolor": "#A2B1C6",
            "ticks": ""
           },
           "bgcolor": "white",
           "caxis": {
            "gridcolor": "#DFE8F3",
            "linecolor": "#A2B1C6",
            "ticks": ""
           }
          },
          "title": {
           "x": 0.05
          },
          "xaxis": {
           "automargin": true,
           "gridcolor": "#EBF0F8",
           "linecolor": "#EBF0F8",
           "ticks": "",
           "title": {
            "standoff": 15
           },
           "zerolinecolor": "#EBF0F8",
           "zerolinewidth": 2
          },
          "yaxis": {
           "automargin": true,
           "gridcolor": "#EBF0F8",
           "linecolor": "#EBF0F8",
           "ticks": "",
           "title": {
            "standoff": 15
           },
           "zerolinecolor": "#EBF0F8",
           "zerolinewidth": 2
          }
         }
        },
        "title": {
         "font": {
          "size": 24
         },
         "text": "<b>Average Likes Received per Emotion</b>",
         "x": 0.5,
         "xanchor": "center"
        },
        "updatemenus": [
         {
          "active": 0,
          "buttons": [
           {
            "args": [
             {
              "visible": [
               true,
               false,
               false,
               false
              ]
             },
             {
              "barmode": "group",
              "title": "Average Likes Received per Emotion",
              "xaxis": {
               "title": "Dominant Emotion"
              },
              "yaxis": {
               "title": "Average Likes"
              }
             }
            ],
            "label": "Likes",
            "method": "update"
           },
           {
            "args": [
             {
              "visible": [
               false,
               true,
               false,
               false
              ]
             },
             {
              "barmode": "group",
              "title": "Average Comments Received per Emotion",
              "xaxis": {
               "title": "Dominant Emotion"
              },
              "yaxis": {
               "title": "Average Comments"
              }
             }
            ],
            "label": "Comments",
            "method": "update"
           },
           {
            "args": [
             {
              "visible": [
               false,
               false,
               true,
               true
              ]
             },
             {
              "barmode": "stack",
              "title": "Average Engagement per Emotion (Stacked)",
              "xaxis": {
               "title": "Dominant Emotion"
              },
              "yaxis": {
               "title": "Average Engagement"
              }
             }
            ],
            "label": "Both (Stacked)",
            "method": "update"
           }
          ],
          "x": 0.5,
          "xanchor": "center",
          "y": 1.15,
          "yanchor": "top"
         }
        ],
        "width": 1200
       }
      }
     },
     "metadata": {},
     "output_type": "display_data"
    }
   ],
   "source": [
    "import plotly.graph_objects as go\n",
    "\n",
    "# Prepare data for Plot 5 dropdown figure\n",
    "\n",
    "likes = df.groupby('Dominant_Emotion')['Likes_Received_Per_Day'].mean()\n",
    "comments = df.groupby('Dominant_Emotion')['Comments_Received_Per_Day'].mean()\n",
    "emotions = likes.index.tolist()\n",
    "\n",
    "# Create traces for Likes, Comments, and Both stacked (both bars together)\n",
    "\n",
    "trace_likes = go.Bar(\n",
    "    x=emotions,\n",
    "    y=likes,\n",
    "    name='Likes',\n",
    "    marker_color='#66c2a5',\n",
    "    visible=True\n",
    ")\n",
    "\n",
    "trace_comments = go.Bar(\n",
    "    x=emotions,\n",
    "    y=comments,\n",
    "    name='Comments',\n",
    "    marker_color='#fc8d62',\n",
    "    visible=False\n",
    ")\n",
    "\n",
    "# For \"Both\" stacked, we will add both Likes + Comments traces visible\n",
    "trace_both_likes = go.Bar(\n",
    "    x=emotions,\n",
    "    y=likes,\n",
    "    name='Likes',\n",
    "    marker_color='#66c2a5',\n",
    "    visible=False\n",
    ")\n",
    "\n",
    "trace_both_comments = go.Bar(\n",
    "    x=emotions,\n",
    "    y=comments,\n",
    "    name='Comments',\n",
    "    marker_color='#fc8d62',\n",
    "    visible=False\n",
    ")\n",
    "\n",
    "fig5 = go.Figure(data=[trace_likes, trace_comments, trace_both_likes, trace_both_comments])\n",
    "\n",
    "# Define buttons for dropdown\n",
    "buttons = [\n",
    "    dict(\n",
    "        label='Likes',\n",
    "        method='update',\n",
    "        args=[{'visible': [True, False, False, False]},\n",
    "              {'title': 'Average Likes Received per Emotion',\n",
    "               'barmode': 'group',\n",
    "               'yaxis': {'title': 'Average Likes'},\n",
    "               'xaxis': {'title': 'Dominant Emotion'}}]\n",
    "    ),\n",
    "    dict(\n",
    "        label='Comments',\n",
    "        method='update',\n",
    "        args=[{'visible': [False, True, False, False]},\n",
    "              {'title': 'Average Comments Received per Emotion',\n",
    "               'barmode': 'group',\n",
    "               'yaxis': {'title': 'Average Comments'},\n",
    "               'xaxis': {'title': 'Dominant Emotion'}}]\n",
    "    ),\n",
    "    dict(\n",
    "        label='Both (Stacked)',\n",
    "        method='update',\n",
    "        args=[{'visible': [False, False, True, True]},\n",
    "              {'title': 'Average Engagement per Emotion (Stacked)',\n",
    "               'barmode': 'stack',\n",
    "               'yaxis': {'title': 'Average Engagement'},\n",
    "               'xaxis': {'title': 'Dominant Emotion'}}]\n",
    "    ),\n",
    "]\n",
    "\n",
    "fig5.update_layout(\n",
    "    updatemenus=[\n",
    "        dict(\n",
    "            active=0,\n",
    "            buttons=buttons,\n",
    "            x=0.5,\n",
    "            xanchor='center',\n",
    "            y=1.15,\n",
    "            yanchor='top'\n",
    "        )\n",
    "    ],\n",
    "    template='plotly_white',\n",
    "    height=400,\n",
    "    width=1200,\n",
    "    title={\n",
    "        'text': \"<b>Average Likes Received per Emotion</b>\",\n",
    "        'font': {'size': 24},\n",
    "        'x': 0.5,\n",
    "        'xanchor': 'center'}\n",
    ")\n"
   ]
  },
  {
   "cell_type": "markdown",
   "id": "eeea2a1e",
   "metadata": {},
   "source": [
    "**Plot 6**"
   ]
  },
  {
   "cell_type": "code",
   "execution_count": 56,
   "id": "9487f88f",
   "metadata": {},
   "outputs": [
    {
     "name": "stderr",
     "output_type": "stream",
     "text": [
      "C:\\Users\\Hend-PC\\AppData\\Local\\Temp\\ipykernel_6824\\867796317.py:7: FutureWarning:\n",
      "\n",
      "The default of observed=False is deprecated and will be changed to True in a future version of pandas. Pass observed=False to retain current behavior or observed=True to adopt the future default and silence this warning.\n",
      "\n"
     ]
    },
    {
     "data": {
      "application/vnd.plotly.v1+json": {
       "config": {
        "plotlyServerURL": "https://plot.ly"
       },
       "data": [
        {
         "alignmentgroup": "True",
         "hovertemplate": "Age Group=%{x}<br>Average Daily Usage Time (minutes)=%{y}<extra></extra>",
         "legendgroup": "21-24",
         "marker": {
          "color": "rgb(228, 241, 225)",
          "pattern": {
           "shape": ""
          }
         },
         "name": "21-24",
         "offsetgroup": "21-24",
         "orientation": "v",
         "showlegend": true,
         "textposition": "auto",
         "type": "bar",
         "x": [
          "21-24"
         ],
         "xaxis": "x",
         "y": [
          86.25
         ],
         "yaxis": "y"
        },
        {
         "alignmentgroup": "True",
         "hovertemplate": "Age Group=%{x}<br>Average Daily Usage Time (minutes)=%{y}<extra></extra>",
         "legendgroup": "25-29",
         "marker": {
          "color": "rgb(180, 217, 204)",
          "pattern": {
           "shape": ""
          }
         },
         "name": "25-29",
         "offsetgroup": "25-29",
         "orientation": "v",
         "showlegend": true,
         "textposition": "auto",
         "type": "bar",
         "x": [
          "25-29"
         ],
         "xaxis": "x",
         "y": [
          96.93181818181819
         ],
         "yaxis": "y"
        },
        {
         "alignmentgroup": "True",
         "hovertemplate": "Age Group=%{x}<br>Average Daily Usage Time (minutes)=%{y}<extra></extra>",
         "legendgroup": "30-35",
         "marker": {
          "color": "rgb(137, 192, 182)",
          "pattern": {
           "shape": ""
          }
         },
         "name": "30-35",
         "offsetgroup": "30-35",
         "orientation": "v",
         "showlegend": true,
         "textposition": "auto",
         "type": "bar",
         "x": [
          "30-35"
         ],
         "xaxis": "x",
         "y": [
          102.66666666666667
         ],
         "yaxis": "y"
        }
       ],
       "layout": {
        "barmode": "relative",
        "height": 400,
        "legend": {
         "title": {
          "text": "Age Group"
         },
         "tracegroupgap": 0
        },
        "plot_bgcolor": "white",
        "template": {
         "data": {
          "bar": [
           {
            "error_x": {
             "color": "#2a3f5f"
            },
            "error_y": {
             "color": "#2a3f5f"
            },
            "marker": {
             "line": {
              "color": "#E5ECF6",
              "width": 0.5
             },
             "pattern": {
              "fillmode": "overlay",
              "size": 10,
              "solidity": 0.2
             }
            },
            "type": "bar"
           }
          ],
          "barpolar": [
           {
            "marker": {
             "line": {
              "color": "#E5ECF6",
              "width": 0.5
             },
             "pattern": {
              "fillmode": "overlay",
              "size": 10,
              "solidity": 0.2
             }
            },
            "type": "barpolar"
           }
          ],
          "carpet": [
           {
            "aaxis": {
             "endlinecolor": "#2a3f5f",
             "gridcolor": "white",
             "linecolor": "white",
             "minorgridcolor": "white",
             "startlinecolor": "#2a3f5f"
            },
            "baxis": {
             "endlinecolor": "#2a3f5f",
             "gridcolor": "white",
             "linecolor": "white",
             "minorgridcolor": "white",
             "startlinecolor": "#2a3f5f"
            },
            "type": "carpet"
           }
          ],
          "choropleth": [
           {
            "colorbar": {
             "outlinewidth": 0,
             "ticks": ""
            },
            "type": "choropleth"
           }
          ],
          "contour": [
           {
            "colorbar": {
             "outlinewidth": 0,
             "ticks": ""
            },
            "colorscale": [
             [
              0,
              "#0d0887"
             ],
             [
              0.1111111111111111,
              "#46039f"
             ],
             [
              0.2222222222222222,
              "#7201a8"
             ],
             [
              0.3333333333333333,
              "#9c179e"
             ],
             [
              0.4444444444444444,
              "#bd3786"
             ],
             [
              0.5555555555555556,
              "#d8576b"
             ],
             [
              0.6666666666666666,
              "#ed7953"
             ],
             [
              0.7777777777777778,
              "#fb9f3a"
             ],
             [
              0.8888888888888888,
              "#fdca26"
             ],
             [
              1,
              "#f0f921"
             ]
            ],
            "type": "contour"
           }
          ],
          "contourcarpet": [
           {
            "colorbar": {
             "outlinewidth": 0,
             "ticks": ""
            },
            "type": "contourcarpet"
           }
          ],
          "heatmap": [
           {
            "colorbar": {
             "outlinewidth": 0,
             "ticks": ""
            },
            "colorscale": [
             [
              0,
              "#0d0887"
             ],
             [
              0.1111111111111111,
              "#46039f"
             ],
             [
              0.2222222222222222,
              "#7201a8"
             ],
             [
              0.3333333333333333,
              "#9c179e"
             ],
             [
              0.4444444444444444,
              "#bd3786"
             ],
             [
              0.5555555555555556,
              "#d8576b"
             ],
             [
              0.6666666666666666,
              "#ed7953"
             ],
             [
              0.7777777777777778,
              "#fb9f3a"
             ],
             [
              0.8888888888888888,
              "#fdca26"
             ],
             [
              1,
              "#f0f921"
             ]
            ],
            "type": "heatmap"
           }
          ],
          "heatmapgl": [
           {
            "colorbar": {
             "outlinewidth": 0,
             "ticks": ""
            },
            "colorscale": [
             [
              0,
              "#0d0887"
             ],
             [
              0.1111111111111111,
              "#46039f"
             ],
             [
              0.2222222222222222,
              "#7201a8"
             ],
             [
              0.3333333333333333,
              "#9c179e"
             ],
             [
              0.4444444444444444,
              "#bd3786"
             ],
             [
              0.5555555555555556,
              "#d8576b"
             ],
             [
              0.6666666666666666,
              "#ed7953"
             ],
             [
              0.7777777777777778,
              "#fb9f3a"
             ],
             [
              0.8888888888888888,
              "#fdca26"
             ],
             [
              1,
              "#f0f921"
             ]
            ],
            "type": "heatmapgl"
           }
          ],
          "histogram": [
           {
            "marker": {
             "pattern": {
              "fillmode": "overlay",
              "size": 10,
              "solidity": 0.2
             }
            },
            "type": "histogram"
           }
          ],
          "histogram2d": [
           {
            "colorbar": {
             "outlinewidth": 0,
             "ticks": ""
            },
            "colorscale": [
             [
              0,
              "#0d0887"
             ],
             [
              0.1111111111111111,
              "#46039f"
             ],
             [
              0.2222222222222222,
              "#7201a8"
             ],
             [
              0.3333333333333333,
              "#9c179e"
             ],
             [
              0.4444444444444444,
              "#bd3786"
             ],
             [
              0.5555555555555556,
              "#d8576b"
             ],
             [
              0.6666666666666666,
              "#ed7953"
             ],
             [
              0.7777777777777778,
              "#fb9f3a"
             ],
             [
              0.8888888888888888,
              "#fdca26"
             ],
             [
              1,
              "#f0f921"
             ]
            ],
            "type": "histogram2d"
           }
          ],
          "histogram2dcontour": [
           {
            "colorbar": {
             "outlinewidth": 0,
             "ticks": ""
            },
            "colorscale": [
             [
              0,
              "#0d0887"
             ],
             [
              0.1111111111111111,
              "#46039f"
             ],
             [
              0.2222222222222222,
              "#7201a8"
             ],
             [
              0.3333333333333333,
              "#9c179e"
             ],
             [
              0.4444444444444444,
              "#bd3786"
             ],
             [
              0.5555555555555556,
              "#d8576b"
             ],
             [
              0.6666666666666666,
              "#ed7953"
             ],
             [
              0.7777777777777778,
              "#fb9f3a"
             ],
             [
              0.8888888888888888,
              "#fdca26"
             ],
             [
              1,
              "#f0f921"
             ]
            ],
            "type": "histogram2dcontour"
           }
          ],
          "mesh3d": [
           {
            "colorbar": {
             "outlinewidth": 0,
             "ticks": ""
            },
            "type": "mesh3d"
           }
          ],
          "parcoords": [
           {
            "line": {
             "colorbar": {
              "outlinewidth": 0,
              "ticks": ""
             }
            },
            "type": "parcoords"
           }
          ],
          "pie": [
           {
            "automargin": true,
            "type": "pie"
           }
          ],
          "scatter": [
           {
            "fillpattern": {
             "fillmode": "overlay",
             "size": 10,
             "solidity": 0.2
            },
            "type": "scatter"
           }
          ],
          "scatter3d": [
           {
            "line": {
             "colorbar": {
              "outlinewidth": 0,
              "ticks": ""
             }
            },
            "marker": {
             "colorbar": {
              "outlinewidth": 0,
              "ticks": ""
             }
            },
            "type": "scatter3d"
           }
          ],
          "scattercarpet": [
           {
            "marker": {
             "colorbar": {
              "outlinewidth": 0,
              "ticks": ""
             }
            },
            "type": "scattercarpet"
           }
          ],
          "scattergeo": [
           {
            "marker": {
             "colorbar": {
              "outlinewidth": 0,
              "ticks": ""
             }
            },
            "type": "scattergeo"
           }
          ],
          "scattergl": [
           {
            "marker": {
             "colorbar": {
              "outlinewidth": 0,
              "ticks": ""
             }
            },
            "type": "scattergl"
           }
          ],
          "scattermapbox": [
           {
            "marker": {
             "colorbar": {
              "outlinewidth": 0,
              "ticks": ""
             }
            },
            "type": "scattermapbox"
           }
          ],
          "scatterpolar": [
           {
            "marker": {
             "colorbar": {
              "outlinewidth": 0,
              "ticks": ""
             }
            },
            "type": "scatterpolar"
           }
          ],
          "scatterpolargl": [
           {
            "marker": {
             "colorbar": {
              "outlinewidth": 0,
              "ticks": ""
             }
            },
            "type": "scatterpolargl"
           }
          ],
          "scatterternary": [
           {
            "marker": {
             "colorbar": {
              "outlinewidth": 0,
              "ticks": ""
             }
            },
            "type": "scatterternary"
           }
          ],
          "surface": [
           {
            "colorbar": {
             "outlinewidth": 0,
             "ticks": ""
            },
            "colorscale": [
             [
              0,
              "#0d0887"
             ],
             [
              0.1111111111111111,
              "#46039f"
             ],
             [
              0.2222222222222222,
              "#7201a8"
             ],
             [
              0.3333333333333333,
              "#9c179e"
             ],
             [
              0.4444444444444444,
              "#bd3786"
             ],
             [
              0.5555555555555556,
              "#d8576b"
             ],
             [
              0.6666666666666666,
              "#ed7953"
             ],
             [
              0.7777777777777778,
              "#fb9f3a"
             ],
             [
              0.8888888888888888,
              "#fdca26"
             ],
             [
              1,
              "#f0f921"
             ]
            ],
            "type": "surface"
           }
          ],
          "table": [
           {
            "cells": {
             "fill": {
              "color": "#EBF0F8"
             },
             "line": {
              "color": "white"
             }
            },
            "header": {
             "fill": {
              "color": "#C8D4E3"
             },
             "line": {
              "color": "white"
             }
            },
            "type": "table"
           }
          ]
         },
         "layout": {
          "annotationdefaults": {
           "arrowcolor": "#2a3f5f",
           "arrowhead": 0,
           "arrowwidth": 1
          },
          "autotypenumbers": "strict",
          "coloraxis": {
           "colorbar": {
            "outlinewidth": 0,
            "ticks": ""
           }
          },
          "colorscale": {
           "diverging": [
            [
             0,
             "#8e0152"
            ],
            [
             0.1,
             "#c51b7d"
            ],
            [
             0.2,
             "#de77ae"
            ],
            [
             0.3,
             "#f1b6da"
            ],
            [
             0.4,
             "#fde0ef"
            ],
            [
             0.5,
             "#f7f7f7"
            ],
            [
             0.6,
             "#e6f5d0"
            ],
            [
             0.7,
             "#b8e186"
            ],
            [
             0.8,
             "#7fbc41"
            ],
            [
             0.9,
             "#4d9221"
            ],
            [
             1,
             "#276419"
            ]
           ],
           "sequential": [
            [
             0,
             "#0d0887"
            ],
            [
             0.1111111111111111,
             "#46039f"
            ],
            [
             0.2222222222222222,
             "#7201a8"
            ],
            [
             0.3333333333333333,
             "#9c179e"
            ],
            [
             0.4444444444444444,
             "#bd3786"
            ],
            [
             0.5555555555555556,
             "#d8576b"
            ],
            [
             0.6666666666666666,
             "#ed7953"
            ],
            [
             0.7777777777777778,
             "#fb9f3a"
            ],
            [
             0.8888888888888888,
             "#fdca26"
            ],
            [
             1,
             "#f0f921"
            ]
           ],
           "sequentialminus": [
            [
             0,
             "#0d0887"
            ],
            [
             0.1111111111111111,
             "#46039f"
            ],
            [
             0.2222222222222222,
             "#7201a8"
            ],
            [
             0.3333333333333333,
             "#9c179e"
            ],
            [
             0.4444444444444444,
             "#bd3786"
            ],
            [
             0.5555555555555556,
             "#d8576b"
            ],
            [
             0.6666666666666666,
             "#ed7953"
            ],
            [
             0.7777777777777778,
             "#fb9f3a"
            ],
            [
             0.8888888888888888,
             "#fdca26"
            ],
            [
             1,
             "#f0f921"
            ]
           ]
          },
          "colorway": [
           "#636efa",
           "#EF553B",
           "#00cc96",
           "#ab63fa",
           "#FFA15A",
           "#19d3f3",
           "#FF6692",
           "#B6E880",
           "#FF97FF",
           "#FECB52"
          ],
          "font": {
           "color": "#2a3f5f"
          },
          "geo": {
           "bgcolor": "white",
           "lakecolor": "white",
           "landcolor": "#E5ECF6",
           "showlakes": true,
           "showland": true,
           "subunitcolor": "white"
          },
          "hoverlabel": {
           "align": "left"
          },
          "hovermode": "closest",
          "mapbox": {
           "style": "light"
          },
          "paper_bgcolor": "white",
          "plot_bgcolor": "#E5ECF6",
          "polar": {
           "angularaxis": {
            "gridcolor": "white",
            "linecolor": "white",
            "ticks": ""
           },
           "bgcolor": "#E5ECF6",
           "radialaxis": {
            "gridcolor": "white",
            "linecolor": "white",
            "ticks": ""
           }
          },
          "scene": {
           "xaxis": {
            "backgroundcolor": "#E5ECF6",
            "gridcolor": "white",
            "gridwidth": 2,
            "linecolor": "white",
            "showbackground": true,
            "ticks": "",
            "zerolinecolor": "white"
           },
           "yaxis": {
            "backgroundcolor": "#E5ECF6",
            "gridcolor": "white",
            "gridwidth": 2,
            "linecolor": "white",
            "showbackground": true,
            "ticks": "",
            "zerolinecolor": "white"
           },
           "zaxis": {
            "backgroundcolor": "#E5ECF6",
            "gridcolor": "white",
            "gridwidth": 2,
            "linecolor": "white",
            "showbackground": true,
            "ticks": "",
            "zerolinecolor": "white"
           }
          },
          "shapedefaults": {
           "line": {
            "color": "#2a3f5f"
           }
          },
          "ternary": {
           "aaxis": {
            "gridcolor": "white",
            "linecolor": "white",
            "ticks": ""
           },
           "baxis": {
            "gridcolor": "white",
            "linecolor": "white",
            "ticks": ""
           },
           "bgcolor": "#E5ECF6",
           "caxis": {
            "gridcolor": "white",
            "linecolor": "white",
            "ticks": ""
           }
          },
          "title": {
           "x": 0.05
          },
          "xaxis": {
           "automargin": true,
           "gridcolor": "white",
           "linecolor": "white",
           "ticks": "",
           "title": {
            "standoff": 15
           },
           "zerolinecolor": "white",
           "zerolinewidth": 2
          },
          "yaxis": {
           "automargin": true,
           "gridcolor": "white",
           "linecolor": "white",
           "ticks": "",
           "title": {
            "standoff": 15
           },
           "zerolinecolor": "white",
           "zerolinewidth": 2
          }
         }
        },
        "title": {
         "font": {
          "size": 24
         },
         "text": "<b>Average Social Media Use by Age</b>",
         "x": 0.5,
         "xanchor": "center"
        },
        "width": 600,
        "xaxis": {
         "anchor": "y",
         "categoryarray": [
          "21-24",
          "25-29",
          "30-35"
         ],
         "categoryorder": "array",
         "domain": [
          0,
          1
         ],
         "title": {
          "text": "Age Group"
         }
        },
        "yaxis": {
         "anchor": "x",
         "domain": [
          0,
          1
         ],
         "title": {
          "text": "Average Daily Usage Time (minutes)"
         }
        }
       }
      }
     },
     "metadata": {},
     "output_type": "display_data"
    }
   ],
   "source": [
    "# Create Age_Group column with bins and labels\n",
    "age_bins = [21, 24, 29, 35]\n",
    "age_labels = ['21-24', '25-29', '30-35']\n",
    "df['Age_Group'] = pd.cut(df['Age'], bins=age_bins, labels=age_labels, right=True)\n",
    "\n",
    "# Group by Age_Group and calculate average daily usage time\n",
    "age_grouped = df.groupby('Age_Group')['Daily_Usage_Time (minutes)'].mean().reset_index()\n",
    "\n",
    "# Create bar plot figure\n",
    "fig6 = px.bar(\n",
    "    age_grouped,\n",
    "    x='Age_Group',\n",
    "    y='Daily_Usage_Time (minutes)',\n",
    "    title=\"Average Daily Time Spent on Social Media by Age Group\",\n",
    "    labels={\n",
    "        'Daily_Usage_Time (minutes)': 'Average Daily Usage Time (minutes)',\n",
    "        'Age_Group': 'Age Group'\n",
    "    },\n",
    "    color='Age_Group',\n",
    "    color_discrete_sequence=px.colors.sequential.Mint\n",
    ")\n",
    "\n",
    "fig6.update_layout(\n",
    "    height=400,\n",
    "    width=600,\n",
    "    plot_bgcolor='white',\n",
    "    title={\n",
    "        'text': \"<b>Average Social Media Use by Age</b>\",\n",
    "        'font': {'size': 24},\n",
    "        'x': 0.5,\n",
    "        'xanchor': 'center'\n",
    "    }\n",
    ")\n",
    "\n",
    "# To show the figure standalone (outside Dash)\n",
    "# fig6.show()\n"
   ]
  },
  {
   "cell_type": "code",
   "execution_count": 57,
   "id": "8cf3599a",
   "metadata": {},
   "outputs": [
    {
     "name": "stderr",
     "output_type": "stream",
     "text": [
      "c:\\Users\\Hend-PC\\anaconda3\\Lib\\site-packages\\dash\\dash.py:587: UserWarning:\n",
      "\n",
      "JupyterDash is deprecated, use Dash instead.\n",
      "See https://dash.plotly.com/dash-in-jupyter for more details.\n",
      "\n"
     ]
    }
   ],
   "source": [
    "app = JupyterDash(__name__, external_stylesheets=[dbc.themes.MINTY])\n",
    "\n",
    "age_group_items = [\n",
    "    dbc.DropdownMenuItem(\"All Ages\", id=\"age-all\", n_clicks=1),\n",
    "    dbc.DropdownMenuItem(\"From 21 to 24\", id=\"age-21-24\", n_clicks=0),\n",
    "    dbc.DropdownMenuItem(\"From 25 to 29\", id=\"age-25-29\", n_clicks=0),\n",
    "    dbc.DropdownMenuItem(\"From 30 to 35\", id=\"age-30-35\", n_clicks=0),\n",
    "]"
   ]
  },
  {
   "cell_type": "code",
   "execution_count": 58,
   "id": "77db6723",
   "metadata": {},
   "outputs": [],
   "source": [
    "navbar = dbc.Navbar(\n",
    "    html.Div(\n",
    "        [\n",
    "            html.Div(style={\"flex\": \"1\"}),  \n",
    "            dbc.NavbarBrand(\n",
    "                html.Span(\n",
    "                    \"Emotion Analysis Dashboard\",\n",
    "                    style={'fontWeight': 'bold', 'fontSize': '50px', 'color': 'white'}\n",
    "                ),\n",
    "                href=\"#\",\n",
    "                style={\"margin\": \"0\"}\n",
    "            ),\n",
    "            html.Div(\n",
    "                dbc.DropdownMenu(\n",
    "                    children=age_group_items,\n",
    "                    nav=True,\n",
    "                    in_navbar=True,\n",
    "                    label=\"Age Group\",\n",
    "                    id=\"age-dropdown\",\n",
    "                    style={\n",
    "                        \"color\": \"white\",\n",
    "                        \"fontWeight\": \"bold\", \n",
    "                        \"fontSize\": \"24px\"\n",
    "                    }\n",
    "                ),\n",
    "                style={\"flex\": \"1\", \"display\": \"flex\", \"justifyContent\": \"flex-end\"}\n",
    "            ),  \n",
    "        ],\n",
    "        style={\n",
    "            'width': '100%',\n",
    "            'display': 'flex',\n",
    "            'justifyContent': 'space-between',\n",
    "            'alignItems': 'center',\n",
    "            'paddingLeft': '20px',\n",
    "            'paddingRight': '20px',\n",
    "            'margin': '0 auto'\n",
    "        }\n",
    "    ),\n",
    "    color=\"primary\",\n",
    "    dark=True,\n",
    "    sticky=\"top\",\n",
    "    style={\n",
    "        \"width\": \"100%\", \n",
    "        \"maxWidth\": \"2680px\",  \n",
    "        \"margin\": \"0 auto\",  \n",
    "        \"padding\": \"0\"\n",
    "    }\n",
    ")"
   ]
  },
  {
   "cell_type": "code",
   "execution_count": 59,
   "id": "c1901889",
   "metadata": {},
   "outputs": [],
   "source": [
    "buttons = html.Div([\n",
    "    dbc.Button(\n",
    "        \"Home Page\",\n",
    "        id=\"home-page-btn\",\n",
    "        color=\"primary\",\n",
    "        size=\"lg\",\n",
    "        style={\n",
    "            \"marginRight\": \"20px\",\n",
    "            \"fontWeight\": \"bold\",\n",
    "            \"fontSize\": \"22px\",\n",
    "            \"padding\": \"12px 30px\"\n",
    "        }\n",
    "    ),\n",
    "    dbc.Button(\n",
    "        \"Test Your Emotion\",\n",
    "        id=\"test-emotion-btn\",\n",
    "        color=\"secondary\",\n",
    "        size=\"lg\",\n",
    "        style={\n",
    "            \"fontWeight\": \"bold\",\n",
    "            \"fontSize\": \"22px\",\n",
    "            \"padding\": \"12px 30px\"\n",
    "        }\n",
    "    )\n",
    "], style={\n",
    "    'display': 'flex',\n",
    "    'justifyContent': 'center',\n",
    "    'alignItems': 'center',\n",
    "    'marginTop': '30px',\n",
    "    'marginBottom': '30px'\n",
    "})"
   ]
  },
  {
   "cell_type": "code",
   "execution_count": 60,
   "id": "36161660",
   "metadata": {},
   "outputs": [],
   "source": [
    "def get_home_content(fig1, fig2, fig3, fig4, fig5, fig6):\n",
    "    return html.Div([\n",
    "        html.Div([\n",
    "            html.Div(dcc.Graph(id='emotions-by-usage-time', figure=fig2), \n",
    "                    style={'padding': '5px', 'border': '2px solid #ccc', 'borderRadius': '2px','boxShadow': '0 4px 8px rgba(0, 0, 0, 0.15)'}),\n",
    "            html.Div(dcc.Graph(id='top-emotions-platform', figure=fig1), \n",
    "                    style={'padding': '5px', 'border': '2px solid #ccc', 'borderRadius': '2px','boxShadow': '0 4px 8px rgba(0, 0, 0, 0.15)'}),\n",
    "            html.Div(dcc.Graph(id='avg-posts-platform-gender', figure=fig3), \n",
    "                    style={'padding': '5px', 'border': '2px solid #ccc', 'borderRadius': '2px','boxShadow': '0 4px 8px rgba(0, 0, 0, 0.15)'}),\n",
    "            html.Div(dcc.Graph(id='platform-popularity-toggle', figure=fig4), \n",
    "                    style={'padding': '5px', 'border': '2px solid #ccc', 'borderRadius': '2px','boxShadow': '0 4px 8px rgba(0, 0, 0, 0.15)'}),\n",
    "            html.Div(dcc.Graph(id='emotion-engagement-plot', figure=fig5), \n",
    "                    style={'padding': '5px', 'border': '2px solid #ccc', 'borderRadius': '2px','boxShadow': '0 4px 8px rgba(0, 0, 0, 0.15)'}),\n",
    "            html.Div(dcc.Graph(id='daily-usage-by-age', figure=fig6), \n",
    "                    style={'padding': '5px', 'border': '2px solid #ccc', 'borderRadius': '2px','boxShadow': '0 4px 8px rgba(0, 0, 0, 0.15)'}),\n",
    "        ], style={\n",
    "            'display': 'grid',\n",
    "            'gridTemplateColumns': 'repeat(3, 1fr)',\n",
    "            'gridGap': '10px',\n",
    "            'padding': '0 20px',\n",
    "            'justifyContent': 'center'\n",
    "        })\n",
    "    ])"
   ]
  },
  {
   "cell_type": "code",
   "execution_count": 61,
   "id": "d46e6bf1",
   "metadata": {},
   "outputs": [
    {
     "name": "stderr",
     "output_type": "stream",
     "text": [
      "c:\\Users\\Hend-PC\\anaconda3\\Lib\\site-packages\\sklearn\\base.py:380: InconsistentVersionWarning:\n",
      "\n",
      "Trying to unpickle estimator StandardScaler from version 1.4.2 when using version 1.6.1. This might lead to breaking code or invalid results. Use at your own risk. For more info please refer to:\n",
      "https://scikit-learn.org/stable/model_persistence.html#security-maintainability-limitations\n",
      "\n",
      "c:\\Users\\Hend-PC\\anaconda3\\Lib\\site-packages\\sklearn\\base.py:380: InconsistentVersionWarning:\n",
      "\n",
      "Trying to unpickle estimator OneHotEncoder from version 1.4.2 when using version 1.6.1. This might lead to breaking code or invalid results. Use at your own risk. For more info please refer to:\n",
      "https://scikit-learn.org/stable/model_persistence.html#security-maintainability-limitations\n",
      "\n",
      "c:\\Users\\Hend-PC\\anaconda3\\Lib\\site-packages\\sklearn\\base.py:380: InconsistentVersionWarning:\n",
      "\n",
      "Trying to unpickle estimator ColumnTransformer from version 1.4.2 when using version 1.6.1. This might lead to breaking code or invalid results. Use at your own risk. For more info please refer to:\n",
      "https://scikit-learn.org/stable/model_persistence.html#security-maintainability-limitations\n",
      "\n",
      "c:\\Users\\Hend-PC\\anaconda3\\Lib\\site-packages\\sklearn\\base.py:380: InconsistentVersionWarning:\n",
      "\n",
      "Trying to unpickle estimator DecisionTreeClassifier from version 1.4.2 when using version 1.6.1. This might lead to breaking code or invalid results. Use at your own risk. For more info please refer to:\n",
      "https://scikit-learn.org/stable/model_persistence.html#security-maintainability-limitations\n",
      "\n",
      "c:\\Users\\Hend-PC\\anaconda3\\Lib\\site-packages\\sklearn\\base.py:380: InconsistentVersionWarning:\n",
      "\n",
      "Trying to unpickle estimator RandomForestClassifier from version 1.4.2 when using version 1.6.1. This might lead to breaking code or invalid results. Use at your own risk. For more info please refer to:\n",
      "https://scikit-learn.org/stable/model_persistence.html#security-maintainability-limitations\n",
      "\n",
      "c:\\Users\\Hend-PC\\anaconda3\\Lib\\site-packages\\sklearn\\base.py:380: InconsistentVersionWarning:\n",
      "\n",
      "Trying to unpickle estimator Pipeline from version 1.4.2 when using version 1.6.1. This might lead to breaking code or invalid results. Use at your own risk. For more info please refer to:\n",
      "https://scikit-learn.org/stable/model_persistence.html#security-maintainability-limitations\n",
      "\n"
     ]
    }
   ],
   "source": [
    "rf_pipeline = joblib.load(\"rf_pipeline.pkl\")"
   ]
  },
  {
   "cell_type": "code",
   "execution_count": 62,
   "id": "fad156ea",
   "metadata": {},
   "outputs": [],
   "source": [
    "# Test emotion page content\n",
    "def get_test_emotion_content():\n",
    "    return html.Div([\n",
    "        html.H2(\n",
    "            \"🎯 Predict Your Dominant Emotion Based on Social Media Usage\",\n",
    "            style={\n",
    "                'textAlign': 'center',\n",
    "                'color': '#3AAFA9',\n",
    "                'marginBottom': '40px',\n",
    "                'fontWeight': 'bold'\n",
    "            }\n",
    "        ),\n",
    "\n",
    "        html.Div([\n",
    "            # Left Column\n",
    "            html.Div([\n",
    "                html.Label(\"Age\", style={'color': '#2B7A78', 'fontWeight': '600'}),\n",
    "                dcc.Input(id='age', type='number', min=10, max=100,\n",
    "                          style={'width': '100%', 'padding': '10px', 'borderRadius': '5px',\n",
    "                                 'border': '1px solid #95E1D3', 'marginBottom': '15px'}),\n",
    "\n",
    "                html.Label(\"Gender\", style={'color': '#2B7A78', 'fontWeight': '600'}),\n",
    "                dcc.Dropdown(id='gender', options=[\n",
    "                    {'label': 'Male', 'value': 'Male'},\n",
    "                    {'label': 'Female', 'value': 'Female'}\n",
    "                ], style={'borderRadius': '5px', 'marginBottom': '15px'}),\n",
    "\n",
    "                html.Label(\"Mostly Used Platform\", style={'color': '#2B7A78', 'fontWeight': '600'}),\n",
    "                dcc.Dropdown(id='platform', options=[\n",
    "                    {'label': 'Instagram', 'value': 'Instagram'},\n",
    "                    {'label': 'Facebook', 'value': 'Facebook'},\n",
    "                    {'label': 'Twitter', 'value': 'Twitter'},\n",
    "                    {'label': 'TikTok', 'value': 'TikTok'},\n",
    "                    {'label': 'YouTube', 'value': 'YouTube'},\n",
    "                    {'label': 'LinkedIn', 'value': 'LinkedIn'},\n",
    "                    {'label': 'Snapchat', 'value': 'Snapchat'}\n",
    "                ], style={'borderRadius': '5px', 'marginBottom': '15px'}),\n",
    "\n",
    "                html.Label(\"Daily Usage Time (minutes)\", style={'color': '#2B7A78', 'fontWeight': '600'}),\n",
    "                dcc.Input(id='daily', type='number',\n",
    "                          style={'width': '100%', 'padding': '10px', 'borderRadius': '5px',\n",
    "                                 'border': '1px solid #95E1D3', 'marginBottom': '15px'}),\n",
    "            ], style={\n",
    "                'width': '48%',\n",
    "                'display': 'inline-block',\n",
    "                'verticalAlign': 'top',\n",
    "                'paddingRight': '20px',\n",
    "                'boxSizing': 'border-box'\n",
    "            }),\n",
    "\n",
    "            # Right Column\n",
    "            html.Div([\n",
    "                html.Label(\"Posts Per Day\", style={'color': '#2B7A78', 'fontWeight': '600'}),\n",
    "                dcc.Input(id='posts', type='number',\n",
    "                          style={'width': '100%', 'padding': '10px', 'borderRadius': '5px',\n",
    "                                 'border': '1px solid #95E1D3', 'marginBottom': '15px'}),\n",
    "\n",
    "                html.Label(\"Likes Received Per Day\", style={'color': '#2B7A78', 'fontWeight': '600'}),\n",
    "                dcc.Input(id='likes', type='number',\n",
    "                          style={'width': '100%', 'padding': '10px', 'borderRadius': '5px',\n",
    "                                 'border': '1px solid #95E1D3', 'marginBottom': '15px'}),\n",
    "\n",
    "                html.Label(\"Comments Received Per Day\", style={'color': '#2B7A78', 'fontWeight': '600'}),\n",
    "                dcc.Input(id='comments', type='number',\n",
    "                          style={'width': '100%', 'padding': '10px', 'borderRadius': '5px',\n",
    "                                 'border': '1px solid #95E1D3', 'marginBottom': '15px'}),\n",
    "\n",
    "                html.Label(\"Messages Sent Per Day\", style={'color': '#2B7A78', 'fontWeight': '600'}),\n",
    "                dcc.Input(id='messages', type='number',\n",
    "                          style={'width': '100%', 'padding': '10px', 'borderRadius': '5px',\n",
    "                                 'border': '1px solid #95E1D3', 'marginBottom': '15px'}),\n",
    "            ], style={\n",
    "                'width': '48%',\n",
    "                'display': 'inline-block',\n",
    "                'verticalAlign': 'top'\n",
    "            }),\n",
    "        ], style={\n",
    "            'maxWidth': '1100px',\n",
    "            'margin': 'auto',\n",
    "            'backgroundColor': '#E6F7F6',\n",
    "            'padding': '30px',\n",
    "            'borderRadius': '12px',\n",
    "            'boxShadow': '0 4px 12px rgba(0,0,0,0.1)',\n",
    "            'marginBottom': '40px'\n",
    "        }),\n",
    "\n",
    "        html.Div([\n",
    "            html.Button(\"Predict Emotion\", id='predict-button', n_clicks=0,\n",
    "                        style={\n",
    "                            'backgroundColor': '#3AAFA9',\n",
    "                            'color': 'white',\n",
    "                            'border': 'none',\n",
    "                            'padding': '14px 34px',\n",
    "                            'borderRadius': '25px',\n",
    "                            'cursor': 'pointer',\n",
    "                            'fontSize': '16px',\n",
    "                            'fontWeight': '600',\n",
    "                            'display': 'block',\n",
    "                            'margin': '0 auto'\n",
    "                        }),\n",
    "        ], style={'marginBottom': '40px'}),\n",
    "\n",
    "        html.Div(id='prediction-output',\n",
    "                 style={'fontSize': 24, 'textAlign': 'center', 'color': '#17252A', 'fontWeight': 'bold', 'minHeight': '40px'}),\n",
    "\n",
    "        html.Div(id='emotion-image', style={'textAlign': 'center', 'marginTop': '20px'}),\n",
    "\n",
    "        html.Div(id='insight-plot',\n",
    "                 style={'maxWidth': '1100px', 'margin': 'auto', 'marginTop': '30px'})\n",
    "    ], style={\n",
    "        'fontFamily': 'Arial, sans-serif',\n",
    "        'backgroundColor': '#F0F9F8',\n",
    "        'padding': '50px 30px'\n",
    "    })\n"
   ]
  },
  {
   "cell_type": "code",
   "execution_count": null,
   "id": "7a4bac4e",
   "metadata": {},
   "outputs": [
    {
     "name": "stdout",
     "output_type": "stream",
     "text": [
      "👉 Your dashboard will open at: http://127.0.0.1:8050/\n"
     ]
    },
    {
     "data": {
      "text/html": [
       "\n",
       "        <iframe\n",
       "            width=\"100%\"\n",
       "            height=\"650\"\n",
       "            src=\"http://127.0.0.1:8050/\"\n",
       "            frameborder=\"0\"\n",
       "            allowfullscreen\n",
       "            \n",
       "        ></iframe>\n",
       "        "
      ],
      "text/plain": [
       "<IPython.lib.display.IFrame at 0x17bde7db920>"
      ]
     },
     "metadata": {},
     "output_type": "display_data"
    },
    {
     "name": "stdout",
     "output_type": "stream",
     "text": [
      "Neutral\n",
      "Boredom\n"
     ]
    }
   ],
   "source": [
    "# Main app layout\n",
    "app.layout = html.Div([\n",
    "    dcc.Location(id='url', refresh=False),\n",
    "    navbar,\n",
    "    html.Div(id='page-content'),\n",
    "    buttons\n",
    "], style={'maxWidth': '2680px', 'margin': 'auto'})\n",
    "\n",
    "# Callback to update page content based on URL\n",
    "@app.callback(\n",
    "    Output('page-content', 'children'),\n",
    "    Input('url', 'pathname')\n",
    ")\n",
    "def display_page(pathname):\n",
    "    if pathname == '/test-emotion':\n",
    "        return get_test_emotion_content()\n",
    "    else:  # Default to home page\n",
    "        return get_home_content(fig1, fig2, fig3, fig4, fig5, fig6)\n",
    "\n",
    "# Callback for Home Page button\n",
    "@app.callback(\n",
    "    Output('url', 'pathname', allow_duplicate=True),\n",
    "    Input('home-page-btn', 'n_clicks'),\n",
    "    prevent_initial_call=True\n",
    ")\n",
    "def go_to_home(n_clicks):\n",
    "    if n_clicks:\n",
    "        return '/'\n",
    "\n",
    "# Callback for Test Your Emotion button\n",
    "@app.callback(\n",
    "    Output('url', 'pathname', allow_duplicate=True),\n",
    "    Input('test-emotion-btn', 'n_clicks'),\n",
    "    prevent_initial_call=True\n",
    ")\n",
    "def go_to_test_emotion(n_clicks):\n",
    "    if n_clicks:\n",
    "        return '/test-emotion'\n",
    "    \n",
    "@app.callback(\n",
    "    Output('prediction-output', 'children'),\n",
    "    Output('insight-plot', 'children'),\n",
    "    Output('emotion-image', 'children'), \n",
    "    Input('predict-button', 'n_clicks'),\n",
    "    State('age', 'value'),\n",
    "    State('gender', 'value'),\n",
    "    State('platform', 'value'),\n",
    "    State('daily', 'value'),\n",
    "    State('posts', 'value'),\n",
    "    State('likes', 'value'),\n",
    "    State('comments', 'value'),\n",
    "    State('messages', 'value'),\n",
    "    prevent_initial_call=True\n",
    ")\n",
    "def predict_emotion(n_clicks, age, gender, platform, daily, posts, likes, comments, messages):\n",
    "    if n_clicks == 0:\n",
    "        return \"\", \"\", \"\"\n",
    "\n",
    "    # Validate inputs\n",
    "    if any(v is None for v in [age, gender, platform, daily, posts, likes, comments, messages]):\n",
    "        return \"Please fill in all fields\", \"\", \"\"\n",
    "\n",
    "    input_data = pd.DataFrame([{\n",
    "        'Age': age,\n",
    "        'Gender': gender,\n",
    "        'Platform': platform,\n",
    "        'Daily_Usage_Time (minutes)': daily,\n",
    "        'Posts_Per_Day': posts,\n",
    "        'Likes_Received_Per_Day': likes,\n",
    "        'Comments_Received_Per_Day': comments,\n",
    "        'Messages_Sent_Per_Day': messages\n",
    "    }])\n",
    "\n",
    "    prediction = rf_pipeline.predict(input_data)[0]\n",
    "    print(prediction)\n",
    "    \n",
    "    avg_values = df[df['Dominant_Emotion'] == prediction][[\n",
    "        'Daily_Usage_Time (minutes)', 'Posts_Per_Day', 'Likes_Received_Per_Day',\n",
    "        'Comments_Received_Per_Day', 'Messages_Sent_Per_Day'\n",
    "    ]].mean().reset_index()\n",
    "\n",
    "    avg_values.columns = ['Feature', 'Average']\n",
    "    avg_values['User Value'] = [daily, posts, likes, comments, messages]\n",
    "\n",
    "    fig = px.bar(avg_values, x='Feature', y=['Average', 'User Value'],\n",
    "                 barmode='group',\n",
    "                 title=f\"Your Usage vs Average for {prediction}\",\n",
    "                 color_discrete_sequence=['#2B7A78', '#99D98C'])\n",
    "\n",
    "    fig.update_layout(\n",
    "        plot_bgcolor='#E6F7F6',\n",
    "        paper_bgcolor='#E6F7F6',\n",
    "        font_color='#17252A'\n",
    "    )\n",
    "\n",
    "    # Image handling\n",
    "    image_filename = f\"{prediction}.png\"\n",
    "    \n",
    "    try:\n",
    "        # Check if image file exists\n",
    "        full_image_path = os.path.join('assets', image_filename)\n",
    "        if os.path.exists(full_image_path):\n",
    "            img_component = html.Img(src=f\"/assets/{prediction}.png\", style={\"height\": \"100px\"})\n",
    "        else:\n",
    "            # Fallback if image doesn't exist\n",
    "            img_component = html.Div([\n",
    "                html.P(f\"🎭 {prediction}\", \n",
    "                       style={'fontSize': '48px', 'margin': '0'}),\n",
    "                html.P(\"(Image not found)\", \n",
    "                       style={'fontSize': '12px', 'color': '#888'})\n",
    "            ])\n",
    "    except Exception as e:\n",
    "        # Fallback for any other errors\n",
    "        img_component = html.Div([\n",
    "            html.P(f\"🎭 {prediction}\", \n",
    "                   style={'fontSize': '48px', 'margin': '0'})\n",
    "        ])\n",
    "\n",
    "    return f\"🧠 Predicted Dominant Emotion: {prediction}\", dcc.Graph(figure=fig), img_component\n",
    "\n",
    "\n",
    "# Run the app\n",
    "port = 8050\n",
    "print(f\"👉 Your dashboard will open at: http://127.0.0.1:{port}/\")\n",
    "app.run(mode='external', port=port)"
   ]
  },
  {
   "cell_type": "markdown",
   "id": "fa3c53d4",
   "metadata": {},
   "source": [
    "# Dashboard (Model)"
   ]
  },
  {
   "cell_type": "code",
   "execution_count": null,
   "id": "915e1de3",
   "metadata": {},
   "outputs": [],
   "source": [
    "rf_pipeline = joblib.load(\"rf_pipeline.pkl\")"
   ]
  },
  {
   "cell_type": "code",
   "execution_count": 139,
   "id": "75bd5304",
   "metadata": {},
   "outputs": [
    {
     "data": {
      "text/html": [
       "\n",
       "        <iframe\n",
       "            width=\"100%\"\n",
       "            height=\"650\"\n",
       "            src=\"http://127.0.0.1:8050/\"\n",
       "            frameborder=\"0\"\n",
       "            allowfullscreen\n",
       "            \n",
       "        ></iframe>\n",
       "        "
      ],
      "text/plain": [
       "<IPython.lib.display.IFrame at 0x2734894d4f0>"
      ]
     },
     "metadata": {},
     "output_type": "display_data"
    },
    {
     "name": "stdout",
     "output_type": "stream",
     "text": [
      "Boredom\n",
      "Boredom\n",
      "Happiness\n"
     ]
    }
   ],
   "source": [
    "import dash\n",
    "from dash import dcc, html\n",
    "from dash.dependencies import Input, Output, State\n",
    "import plotly.express as px\n",
    "import pandas as pd\n",
    "import os\n",
    "\n",
    "app = dash.Dash(__name__)\n",
    "server = app.server  # Needed for deployment\n",
    "\n",
    "# Assume df and rf_pipeline are defined and loaded properly\n",
    "\n",
    "app.layout = html.Div([\n",
    "    html.H2(\n",
    "        \"🎯 Predict Your Dominant Emotion Based on Social Media Usage\",\n",
    "        style={\n",
    "            'textAlign': 'center',\n",
    "            'color': '#3AAFA9',\n",
    "            'marginBottom': '40px',\n",
    "            'fontWeight': 'bold'\n",
    "        }\n",
    "    ),\n",
    "\n",
    "    html.Div([\n",
    "        # Left Column\n",
    "        html.Div([\n",
    "            html.Label(\"Age\", style={'color': '#2B7A78', 'fontWeight': '600'}),\n",
    "            dcc.Input(id='age', type='number', min=10, max=100,\n",
    "                      style={'width': '100%', 'padding': '10px', 'borderRadius': '5px',\n",
    "                             'border': '1px solid #95E1D3', 'marginBottom': '15px'}),\n",
    "\n",
    "            html.Label(\"Gender\", style={'color': '#2B7A78', 'fontWeight': '600'}),\n",
    "            dcc.Dropdown(id='gender', options=[\n",
    "                {'label': 'Male', 'value': 'Male'},\n",
    "                {'label': 'Female', 'value': 'Female'}\n",
    "            ], style={'borderRadius': '5px', 'marginBottom': '15px'}),\n",
    "\n",
    "            html.Label(\"Mostly Used Platform\", style={'color': '#2B7A78', 'fontWeight': '600'}),\n",
    "            dcc.Dropdown(id='platform', options=[\n",
    "                {'label': p, 'value': p} for p in df['Platform'].unique()\n",
    "            ], style={'borderRadius': '5px', 'marginBottom': '15px'}),\n",
    "\n",
    "            html.Label(\"Daily Usage Time (minutes)\", style={'color': '#2B7A78', 'fontWeight': '600'}),\n",
    "            dcc.Input(id='daily', type='number',\n",
    "                      style={'width': '100%', 'padding': '10px', 'borderRadius': '5px',\n",
    "                             'border': '1px solid #95E1D3', 'marginBottom': '15px'}),\n",
    "        ], style={\n",
    "            'width': '48%',\n",
    "            'display': 'inline-block',\n",
    "            'verticalAlign': 'top',\n",
    "            'paddingRight': '20px',\n",
    "            'boxSizing': 'border-box'\n",
    "        }),\n",
    "\n",
    "        # Right Column\n",
    "        html.Div([\n",
    "            html.Label(\"Posts Per Day\", style={'color': '#2B7A78', 'fontWeight': '600'}),\n",
    "            dcc.Input(id='posts', type='number',\n",
    "                      style={'width': '100%', 'padding': '10px', 'borderRadius': '5px',\n",
    "                             'border': '1px solid #95E1D3', 'marginBottom': '15px'}),\n",
    "\n",
    "            html.Label(\"Likes Received Per Day\", style={'color': '#2B7A78', 'fontWeight': '600'}),\n",
    "            dcc.Input(id='likes', type='number',\n",
    "                      style={'width': '100%', 'padding': '10px', 'borderRadius': '5px',\n",
    "                             'border': '1px solid #95E1D3', 'marginBottom': '15px'}),\n",
    "\n",
    "            html.Label(\"Comments Received Per Day\", style={'color': '#2B7A78', 'fontWeight': '600'}),\n",
    "            dcc.Input(id='comments', type='number',\n",
    "                      style={'width': '100%', 'padding': '10px', 'borderRadius': '5px',\n",
    "                             'border': '1px solid #95E1D3', 'marginBottom': '15px'}),\n",
    "\n",
    "            html.Label(\"Messages Sent Per Day\", style={'color': '#2B7A78', 'fontWeight': '600'}),\n",
    "            dcc.Input(id='messages', type='number',\n",
    "                      style={'width': '100%', 'padding': '10px', 'borderRadius': '5px',\n",
    "                             'border': '1px solid #95E1D3', 'marginBottom': '15px'}),\n",
    "        ], style={\n",
    "            'width': '48%',\n",
    "            'display': 'inline-block',\n",
    "            'verticalAlign': 'top'\n",
    "        }),\n",
    "    ], style={\n",
    "        'maxWidth': '1100px',\n",
    "        'margin': 'auto',\n",
    "        'backgroundColor': '#E6F7F6',\n",
    "        'padding': '30px',\n",
    "        'borderRadius': '12px',\n",
    "        'boxShadow': '0 4px 12px rgba(0,0,0,0.1)',\n",
    "        'marginBottom': '40px'\n",
    "    }),\n",
    "\n",
    "    html.Div([\n",
    "        html.Button(\"Predict Emotion\", id='predict-button', n_clicks=0,\n",
    "                    style={\n",
    "                        'backgroundColor': '#3AAFA9',\n",
    "                        'color': 'white',\n",
    "                        'border': 'none',\n",
    "                        'padding': '14px 34px',\n",
    "                        'borderRadius': '25px',\n",
    "                        'cursor': 'pointer',\n",
    "                        'fontSize': '16px',\n",
    "                        'fontWeight': '600',\n",
    "                        'display': 'block',\n",
    "                        'margin': '0 auto'\n",
    "                    }),\n",
    "    ], style={'marginBottom': '40px'}),\n",
    "\n",
    "    html.Div(id='prediction-output',\n",
    "             style={'fontSize': 24, 'textAlign': 'center', 'color': '#17252A', 'fontWeight': 'bold', 'minHeight': '40px'}),\n",
    "\n",
    "    html.Div(id='emotion-image', style={'textAlign': 'center', 'marginTop': '20px'}),\n",
    "\n",
    "    html.Div(id='insight-plot',\n",
    "             style={'maxWidth': '1100px', 'margin': 'auto', 'marginTop': '30px'})\n",
    "],\n",
    "    style={\n",
    "        'fontFamily': 'Arial, sans-serif',\n",
    "        'backgroundColor': '#F0F9F8',\n",
    "        'padding': '50px 30px'\n",
    "    }\n",
    ")\n",
    "\n",
    "\n",
    "@app.callback(\n",
    "    Output('prediction-output', 'children'),\n",
    "    Output('insight-plot', 'children'),\n",
    "    Output('emotion-image', 'children'), \n",
    "    Input('predict-button', 'n_clicks'),\n",
    "    State('age', 'value'),\n",
    "    State('gender', 'value'),\n",
    "    State('platform', 'value'),\n",
    "    State('daily', 'value'),\n",
    "    State('posts', 'value'),\n",
    "    State('likes', 'value'),\n",
    "    State('comments', 'value'),\n",
    "    State('messages', 'value')\n",
    ")\n",
    "def predict_emotion(n_clicks, age, gender, platform, daily, posts, likes, comments, messages):\n",
    "    if n_clicks == 0:\n",
    "        return \"\", \"\", \"\"\n",
    "\n",
    "    # Validate inputs\n",
    "    if any(v is None for v in [age, gender, platform, daily, posts, likes, comments, messages]):\n",
    "        return \"Please fill in all fields\", \"\", \"\"\n",
    "\n",
    "    input_data = pd.DataFrame([{\n",
    "        'Age': age,\n",
    "        'Gender': gender,\n",
    "        'Platform': platform,\n",
    "        'Daily_Usage_Time (minutes)': daily,\n",
    "        'Posts_Per_Day': posts,\n",
    "        'Likes_Received_Per_Day': likes,\n",
    "        'Comments_Received_Per_Day': comments,\n",
    "        'Messages_Sent_Per_Day': messages\n",
    "    }])\n",
    "\n",
    "    prediction = rf_pipeline.predict(input_data)[0]\n",
    "    print(prediction)\n",
    "    \n",
    "\n",
    "    avg_values = df[df['Dominant_Emotion'] == prediction][[\n",
    "        'Daily_Usage_Time (minutes)', 'Posts_Per_Day', 'Likes_Received_Per_Day',\n",
    "        'Comments_Received_Per_Day', 'Messages_Sent_Per_Day'\n",
    "    ]].mean().reset_index()\n",
    "\n",
    "    avg_values.columns = ['Feature', 'Average']\n",
    "    avg_values['User Value'] = [daily, posts, likes, comments, messages]\n",
    "\n",
    "    fig = px.bar(avg_values, x='Feature', y=['Average', 'User Value'],\n",
    "                 barmode='group',\n",
    "                 title=f\"Your Usage vs Average for {prediction}\",\n",
    "                 color_discrete_sequence=['#2B7A78', '#99D98C'])\n",
    "\n",
    "    fig.update_layout(\n",
    "        plot_bgcolor='#E6F7F6',\n",
    "        paper_bgcolor='#E6F7F6',\n",
    "        font_color='#17252A'\n",
    "    )\n",
    "\n",
    "    # FIXED: Correct image path construction for Dash\n",
    "    # Remove the leading slash - Dash serves assets from 'assets/' not '/assets/'\n",
    "    image_filename = f\"{prediction}.png\"\n",
    "    image_path = f\"assets/{image_filename}\"  # Changed from \"/assets/\" to \"assets/\"\n",
    "    \n",
    "    # Additional error handling for image loading\n",
    "    try:\n",
    "        # Check if image file exists (optional)\n",
    "        full_image_path = os.path.join('assets', image_filename)\n",
    "        if os.path.exists(full_image_path):\n",
    "            img_component = html.Img(src=f\"/assets/{prediction}.png\", style={\"height\": \"100px\"})\n",
    "\n",
    "        else:\n",
    "            # Fallback if image doesn't exist\n",
    "            img_component = html.Div([\n",
    "                html.P(f\"🎭 {prediction}\", \n",
    "                       style={'fontSize': '48px', 'margin': '0'}),\n",
    "                html.P(\"(Image not found)\", \n",
    "                       style={'fontSize': '12px', 'color': '#888'})\n",
    "            ])\n",
    "    except Exception as e:\n",
    "        # Fallback for any other errors\n",
    "        img_component = html.Div([\n",
    "            html.P(f\"🎭 {prediction}\", \n",
    "                   style={'fontSize': '48px', 'margin': '0'})\n",
    "        ])\n",
    "\n",
    "    return f\"🧠 Predicted Dominant Emotion: {prediction}\", dcc.Graph(figure=fig), img_component\n",
    "\n",
    "\n",
    "if __name__ == '__main__':\n",
    "    app.run(debug=True)"
   ]
  },
  {
   "cell_type": "code",
   "execution_count": null,
   "id": "e7c7c7f0",
   "metadata": {},
   "outputs": [],
   "source": []
  }
 ],
 "metadata": {
  "kernelspec": {
   "display_name": "base",
   "language": "python",
   "name": "python3"
  },
  "language_info": {
   "codemirror_mode": {
    "name": "ipython",
    "version": 3
   },
   "file_extension": ".py",
   "mimetype": "text/x-python",
   "name": "python",
   "nbconvert_exporter": "python",
   "pygments_lexer": "ipython3",
   "version": "3.12.7"
  }
 },
 "nbformat": 4,
 "nbformat_minor": 5
}
